{
 "cells": [
  {
   "cell_type": "markdown",
   "metadata": {},
   "source": [
    "# Property Maintenance Fines \n",
    "\n",
    "**Predicting the probability that a set of blight tickets will be paid on time**\n",
    "\n",
    "**Supervised Learning. Classification**\n",
    "\n",
    "Source: [Applied Machine Learning in Python | Coursera](https://www.coursera.org/learn/python-machine-learning). Solved with classical machine learning classifiers [here](https://github.com/angelmtenor/applied-ML-coursera/blob/master/4_property_maintenance_fines.ipynb)\n",
    "\n",
    "Data provided by Michigan Data Science Team ([MDST](http://midas.umich.edu/mdst/)), the Michigan Student Symposium for Interdisciplinary Statistical Sciences ([MSSISS](https://sites.lsa.umich.edu/mssiss/)) and the City of Detroit [Detroit Open Data Portal](https://data.detroitmi.gov/).\n",
    " \n",
    "\n",
    "Each row of the dataset   corresponds to a single blight ticket, and includes information about when, why, and to whom each ticket was issued. The target variable is compliance, which is True if the ticket was paid early, on time, or within one month of the hearing data, False if the ticket was paid after the hearing date or not at all, and Null if the violator was found not responsible. \n",
    "\n",
    "**Features**\n",
    "    \n",
    "    ticket_id - unique identifier for tickets\n",
    "    agency_name - Agency that issued the ticket\n",
    "    inspector_name - Name of inspector that issued the ticket\n",
    "    violator_name - Name of the person/organization that the ticket was issued to\n",
    "    violation_street_number, violation_street_name, violation_zip_code - Address where the violation occurred\n",
    "    mailing_address_str_number, mailing_address_str_name, city, state, zip_code, non_us_str_code, country - Mailing address of the violator\n",
    "    ticket_issued_date - Date and time the ticket was issued\n",
    "    hearing_date - Date and time the violator's hearing was scheduled\n",
    "    violation_code, violation_description - Type of violation\n",
    "    disposition - Judgment and judgement type\n",
    "    fine_amount - Violation fine amount, excluding fees\n",
    "    admin_fee - $20 fee assigned to responsible judgments\n",
    "state_fee - $10 fee assigned to responsible judgments\n",
    "    late_fee - 10% fee assigned to responsible judgments\n",
    "    discount_amount - discount applied, if any\n",
    "    clean_up_cost - DPW clean-up or graffiti removal cost\n",
    "    judgment_amount - Sum of all fines and fees\n",
    "    grafitti_status - Flag for graffiti violations\n",
    "    \n",
    "** Labels **\n",
    "\n",
    "    payment_amount - Amount paid, if any\n",
    "    payment_date - Date payment was made, if it was received\n",
    "    payment_status - Current payment status as of Feb 1 2017\n",
    "    balance_due - Fines and fees still owed\n",
    "    collection_status - Flag for payments in collections\n",
    "    compliance [target variable for prediction]\n",
    "     Null = Not responsible\n",
    "     0 = Responsible, non-compliant\n",
    "     1 = Responsible, compliant\n",
    "    compliance_detail - More information on why each ticket was marked compliant or non-compliant"
   ]
  },
  {
   "cell_type": "code",
   "execution_count": 1,
   "metadata": {},
   "outputs": [
    {
     "name": "stderr",
     "output_type": "stream",
     "text": [
      "Using TensorFlow backend.\n"
     ]
    },
    {
     "name": "stdout",
     "output_type": "stream",
     "text": [
      "/device:GPU:0\n",
      "Keras\t\tv2.1.3\n",
      "TensorFlow\tv1.4.1\n"
     ]
    }
   ],
   "source": [
    "import os\n",
    "import numpy as np\n",
    "import pandas as pd\n",
    "import matplotlib.pyplot as plt\n",
    "import seaborn as sns\n",
    "import helper\n",
    "import keras\n",
    "\n",
    "helper.info_gpu()\n",
    "#sns.set_palette(\"GnBu_d\")\n",
    "#helper.reproducible(seed=0) # Setup reproducible results from run to run using Keras\n",
    "\n",
    "%matplotlib inline"
   ]
  },
  {
   "cell_type": "markdown",
   "metadata": {},
   "source": [
    "##  1. Data Processing"
   ]
  },
  {
   "cell_type": "code",
   "execution_count": 2,
   "metadata": {},
   "outputs": [
    {
     "name": "stdout",
     "output_type": "stream",
     "text": [
      "250306 rows \n",
      "34 columns \n",
      "target: ['compliance']\n"
     ]
    }
   ],
   "source": [
    "data_path = 'data/property_maintenance_fines_data.csv'\n",
    "target = ['compliance']\n",
    "\n",
    "df_original = pd.read_csv(data_path, encoding='iso-8859-1', dtype='unicode')\n",
    "print(\"{} rows \\n{} columns \\ntarget: {}\".format(*df_original.shape, target))"
   ]
  },
  {
   "cell_type": "markdown",
   "metadata": {},
   "source": [
    "### Explore and Clean the target"
   ]
  },
  {
   "cell_type": "code",
   "execution_count": 3,
   "metadata": {
    "scrolled": true
   },
   "outputs": [
    {
     "name": "stdout",
     "output_type": "stream",
     "text": [
      "0.0    148283\n",
      "NaN     90426\n",
      "1.0     11597\n",
      "Name: compliance, dtype: int64\n"
     ]
    }
   ],
   "source": [
    "print(df_original[target].squeeze().value_counts(dropna=False))"
   ]
  },
  {
   "cell_type": "code",
   "execution_count": 4,
   "metadata": {},
   "outputs": [
    {
     "name": "stdout",
     "output_type": "stream",
     "text": [
      "0.0    148283\n",
      "1.0     11597\n",
      "Name: compliance, dtype: int64\n",
      "(159880, 34)\n"
     ]
    }
   ],
   "source": [
    "# Remove rows with NULL targets\n",
    "\n",
    "df_original = df_original.dropna(subset=target)\n",
    "\n",
    "print(df_original[target].squeeze().value_counts())\n",
    "print(df_original.shape)"
   ]
  },
  {
   "cell_type": "markdown",
   "metadata": {},
   "source": [
    "** Imbalanced target: the evaluation metric used in this problem is the Area Under the ROC Curve **"
   ]
  },
  {
   "cell_type": "markdown",
   "metadata": {},
   "source": [
    "###  Split original data into training and validation test set"
   ]
  },
  {
   "cell_type": "code",
   "execution_count": 5,
   "metadata": {},
   "outputs": [],
   "source": [
    "from sklearn.model_selection import train_test_split\n",
    "\n",
    "df, df_test = train_test_split(\n",
    "    df_original, test_size=0.2, stratify=df_original[target], random_state=0)"
   ]
  },
  {
   "cell_type": "markdown",
   "metadata": {},
   "source": [
    "** To avoid data leakage, only the training dataframe, df, will be explored and processed here** "
   ]
  },
  {
   "cell_type": "markdown",
   "metadata": {},
   "source": [
    "### Show the training data"
   ]
  },
  {
   "cell_type": "code",
   "execution_count": 6,
   "metadata": {},
   "outputs": [
    {
     "data": {
      "text/html": [
       "<div>\n",
       "<style scoped>\n",
       "    .dataframe tbody tr th:only-of-type {\n",
       "        vertical-align: middle;\n",
       "    }\n",
       "\n",
       "    .dataframe tbody tr th {\n",
       "        vertical-align: top;\n",
       "    }\n",
       "\n",
       "    .dataframe thead th {\n",
       "        text-align: right;\n",
       "    }\n",
       "</style>\n",
       "<table border=\"1\" class=\"dataframe\">\n",
       "  <thead>\n",
       "    <tr style=\"text-align: right;\">\n",
       "      <th></th>\n",
       "      <th>ticket_id</th>\n",
       "      <th>agency_name</th>\n",
       "      <th>inspector_name</th>\n",
       "      <th>violator_name</th>\n",
       "      <th>violation_street_number</th>\n",
       "      <th>violation_street_name</th>\n",
       "      <th>violation_zip_code</th>\n",
       "      <th>mailing_address_str_number</th>\n",
       "      <th>mailing_address_str_name</th>\n",
       "      <th>city</th>\n",
       "      <th>...</th>\n",
       "      <th>clean_up_cost</th>\n",
       "      <th>judgment_amount</th>\n",
       "      <th>payment_amount</th>\n",
       "      <th>balance_due</th>\n",
       "      <th>payment_date</th>\n",
       "      <th>payment_status</th>\n",
       "      <th>collection_status</th>\n",
       "      <th>grafitti_status</th>\n",
       "      <th>compliance_detail</th>\n",
       "      <th>compliance</th>\n",
       "    </tr>\n",
       "  </thead>\n",
       "  <tbody>\n",
       "    <tr>\n",
       "      <th>131030</th>\n",
       "      <td>159232</td>\n",
       "      <td>Department of Public Works</td>\n",
       "      <td>Montgomery-Coit, Kimberlye</td>\n",
       "      <td>JOHNSON-GREENE, MARGUSIE F.</td>\n",
       "      <td>11645.0</td>\n",
       "      <td>LAKEPOINTE</td>\n",
       "      <td>NaN</td>\n",
       "      <td>11645</td>\n",
       "      <td>LAKEPOINTE</td>\n",
       "      <td>DETROIT</td>\n",
       "      <td>...</td>\n",
       "      <td>0.0</td>\n",
       "      <td>85.0</td>\n",
       "      <td>85.0</td>\n",
       "      <td>0.0</td>\n",
       "      <td>2008-09-12 00:00:00</td>\n",
       "      <td>PAID IN FULL</td>\n",
       "      <td>NaN</td>\n",
       "      <td>NaN</td>\n",
       "      <td>non-compliant by late payment more than 1 month</td>\n",
       "      <td>0.0</td>\n",
       "    </tr>\n",
       "    <tr>\n",
       "      <th>29573</th>\n",
       "      <td>49039</td>\n",
       "      <td>Buildings, Safety Engineering &amp; Env Department</td>\n",
       "      <td>Watson, Jerry</td>\n",
       "      <td>BAPT CHURCH, HOLY  TABERNACLE</td>\n",
       "      <td>3184.0</td>\n",
       "      <td>CANFIELD</td>\n",
       "      <td>NaN</td>\n",
       "      <td>3184</td>\n",
       "      <td>E. CANFIELD</td>\n",
       "      <td>DETROIT</td>\n",
       "      <td>...</td>\n",
       "      <td>0.0</td>\n",
       "      <td>305.0</td>\n",
       "      <td>305.0</td>\n",
       "      <td>0.0</td>\n",
       "      <td>2007-06-26 00:00:00</td>\n",
       "      <td>PAID IN FULL</td>\n",
       "      <td>NaN</td>\n",
       "      <td>NaN</td>\n",
       "      <td>non-compliant by late payment more than 1 month</td>\n",
       "      <td>0.0</td>\n",
       "    </tr>\n",
       "  </tbody>\n",
       "</table>\n",
       "<p>2 rows × 34 columns</p>\n",
       "</div>"
      ],
      "text/plain": [
       "       ticket_id                                     agency_name  \\\n",
       "131030    159232                      Department of Public Works   \n",
       "29573      49039  Buildings, Safety Engineering & Env Department   \n",
       "\n",
       "                    inspector_name                  violator_name  \\\n",
       "131030  Montgomery-Coit, Kimberlye    JOHNSON-GREENE, MARGUSIE F.   \n",
       "29573                Watson, Jerry  BAPT CHURCH, HOLY  TABERNACLE   \n",
       "\n",
       "       violation_street_number violation_street_name violation_zip_code  \\\n",
       "131030                 11645.0            LAKEPOINTE                NaN   \n",
       "29573                   3184.0              CANFIELD                NaN   \n",
       "\n",
       "       mailing_address_str_number mailing_address_str_name     city  \\\n",
       "131030                      11645               LAKEPOINTE  DETROIT   \n",
       "29573                        3184              E. CANFIELD  DETROIT   \n",
       "\n",
       "          ...     clean_up_cost judgment_amount payment_amount balance_due  \\\n",
       "131030    ...               0.0            85.0           85.0         0.0   \n",
       "29573     ...               0.0           305.0          305.0         0.0   \n",
       "\n",
       "               payment_date payment_status collection_status grafitti_status  \\\n",
       "131030  2008-09-12 00:00:00   PAID IN FULL               NaN             NaN   \n",
       "29573   2007-06-26 00:00:00   PAID IN FULL               NaN             NaN   \n",
       "\n",
       "                                      compliance_detail compliance  \n",
       "131030  non-compliant by late payment more than 1 month        0.0  \n",
       "29573   non-compliant by late payment more than 1 month        0.0  \n",
       "\n",
       "[2 rows x 34 columns]"
      ]
     },
     "execution_count": 6,
     "metadata": {},
     "output_type": "execute_result"
    }
   ],
   "source": [
    "df.head(2)"
   ]
  },
  {
   "cell_type": "markdown",
   "metadata": {},
   "source": [
    "#### Missing values"
   ]
  },
  {
   "cell_type": "code",
   "execution_count": 7,
   "metadata": {},
   "outputs": [
    {
     "data": {
      "image/png": "[encoded data removed]",
      "text/plain": [
       "<matplotlib.figure.Figure at 0x7f1af61d5b38>"
      ]
     },
     "metadata": {},
     "output_type": "display_data"
    }
   ],
   "source": [
    "helper.missing(df)"
   ]
  },
  {
   "cell_type": "markdown",
   "metadata": {},
   "source": [
    "### Transform Data"
   ]
  },
  {
   "cell_type": "markdown",
   "metadata": {},
   "source": [
    "#### Remove irrelevant features"
   ]
  },
  {
   "cell_type": "code",
   "execution_count": 8,
   "metadata": {},
   "outputs": [
    {
     "name": "stdout",
     "output_type": "stream",
     "text": [
      "(127904, 12)\n"
     ]
    }
   ],
   "source": [
    "def remove_features(df):\n",
    "\n",
    "    relevant_col = ['agency_name', 'violation_street_name', 'city', 'state', 'violator_name',\n",
    "        'violation_code', 'late_fee', 'discount_amount', 'judgment_amount', 'disposition',\n",
    "        'fine_amount', 'compliance']\n",
    "\n",
    "    df = df[relevant_col]\n",
    "\n",
    "    return df\n",
    "\n",
    "\n",
    "df = remove_features(df)\n",
    "\n",
    "print(df.shape)"
   ]
  },
  {
   "cell_type": "markdown",
   "metadata": {},
   "source": [
    "#### Classify variables"
   ]
  },
  {
   "cell_type": "code",
   "execution_count": 9,
   "metadata": {},
   "outputs": [
    {
     "name": "stdout",
     "output_type": "stream",
     "text": [
      "numerical features:   4\n",
      "categorical features: 7\n",
      "target 'compliance': category\n"
     ]
    },
    {
     "data": {
      "text/html": [
       "<div>\n",
       "<style scoped>\n",
       "    .dataframe tbody tr th:only-of-type {\n",
       "        vertical-align: middle;\n",
       "    }\n",
       "\n",
       "    .dataframe tbody tr th {\n",
       "        vertical-align: top;\n",
       "    }\n",
       "\n",
       "    .dataframe thead th {\n",
       "        text-align: right;\n",
       "    }\n",
       "</style>\n",
       "<table border=\"1\" class=\"dataframe\">\n",
       "  <thead>\n",
       "    <tr style=\"text-align: right;\">\n",
       "      <th></th>\n",
       "      <th>late_fee</th>\n",
       "      <th>discount_amount</th>\n",
       "      <th>judgment_amount</th>\n",
       "      <th>fine_amount</th>\n",
       "      <th>agency_name</th>\n",
       "      <th>violation_street_name</th>\n",
       "      <th>city</th>\n",
       "      <th>state</th>\n",
       "      <th>violator_name</th>\n",
       "      <th>violation_code</th>\n",
       "      <th>disposition</th>\n",
       "      <th>compliance</th>\n",
       "    </tr>\n",
       "  </thead>\n",
       "  <tbody>\n",
       "    <tr>\n",
       "      <th>Type</th>\n",
       "      <td>float32</td>\n",
       "      <td>float32</td>\n",
       "      <td>float32</td>\n",
       "      <td>float32</td>\n",
       "      <td>category</td>\n",
       "      <td>category</td>\n",
       "      <td>category</td>\n",
       "      <td>category</td>\n",
       "      <td>category</td>\n",
       "      <td>category</td>\n",
       "      <td>category</td>\n",
       "      <td>category</td>\n",
       "    </tr>\n",
       "  </tbody>\n",
       "</table>\n",
       "</div>"
      ],
      "text/plain": [
       "     late_fee discount_amount judgment_amount fine_amount agency_name  \\\n",
       "Type  float32         float32         float32     float32    category   \n",
       "\n",
       "     violation_street_name      city     state violator_name violation_code  \\\n",
       "Type              category  category  category      category       category   \n",
       "\n",
       "     disposition compliance  \n",
       "Type    category   category  "
      ]
     },
     "execution_count": 9,
     "metadata": {},
     "output_type": "execute_result"
    }
   ],
   "source": [
    "num = ['late_fee', 'discount_amount', 'judgment_amount', 'fine_amount']\n",
    "\n",
    "df = helper.classify_data(df, target, numerical=num)\n",
    "\n",
    "pd.DataFrame(dict(df.dtypes), index=[\"Type\"])[df.columns].head()  # show data types"
   ]
  },
  {
   "cell_type": "markdown",
   "metadata": {},
   "source": [
    "#### Remove low-frequency categorical values"
   ]
  },
  {
   "cell_type": "code",
   "execution_count": 10,
   "metadata": {
    "scrolled": false
   },
   "outputs": [],
   "source": [
    "df, dict_categories = helper.remove_categories(df, target=target, ratio=0.001, show=False)"
   ]
  },
  {
   "cell_type": "markdown",
   "metadata": {},
   "source": [
    "####  Fill missing values\n",
    "\n",
    "Missing categorical values filled by 'Other'\n",
    "There are no numerical missing values"
   ]
  },
  {
   "cell_type": "code",
   "execution_count": 11,
   "metadata": {},
   "outputs": [
    {
     "name": "stdout",
     "output_type": "stream",
     "text": [
      "Missing categorical filled with label: \"Other\"\n"
     ]
    }
   ],
   "source": [
    "df = helper.fill_simple(df, target, missing_categorical='Other') "
   ]
  },
  {
   "cell_type": "code",
   "execution_count": 12,
   "metadata": {
    "scrolled": true
   },
   "outputs": [
    {
     "name": "stdout",
     "output_type": "stream",
     "text": [
      "No missing values found\n"
     ]
    }
   ],
   "source": [
    "helper.missing(df);"
   ]
  },
  {
   "cell_type": "markdown",
   "metadata": {},
   "source": [
    "### Visualize the data"
   ]
  },
  {
   "cell_type": "markdown",
   "metadata": {},
   "source": [
    "#### Categorical features"
   ]
  },
  {
   "cell_type": "code",
   "execution_count": 13,
   "metadata": {},
   "outputs": [
    {
     "data": {
      "image/png": "[encoded data removed]",
      "text/plain": [
       "<matplotlib.figure.Figure at 0x7f1aca8c9160>"
      ]
     },
     "metadata": {},
     "output_type": "display_data"
    },
    {
     "data": {
      "image/png": "[encoded data removed]",
      "text/plain": [
       "<matplotlib.figure.Figure at 0x7f1acb646b00>"
      ]
     },
     "metadata": {},
     "output_type": "display_data"
    }
   ],
   "source": [
    "for i in ['state', 'disposition']:\n",
    "    helper.show_categorical(df[[i]])"
   ]
  },
  {
   "cell_type": "markdown",
   "metadata": {},
   "source": [
    "#### Target vs Categorical features"
   ]
  },
  {
   "cell_type": "code",
   "execution_count": 14,
   "metadata": {},
   "outputs": [
    {
     "data": {
      "image/png": "[encoded data removed]",
      "text/plain": [
       "<matplotlib.figure.Figure at 0x7f1acbf44e48>"
      ]
     },
     "metadata": {},
     "output_type": "display_data"
    },
    {
     "data": {
      "image/png": "[encoded data removed]",
      "text/plain": [
       "<matplotlib.figure.Figure at 0x7f1af57414a8>"
      ]
     },
     "metadata": {},
     "output_type": "display_data"
    }
   ],
   "source": [
    "for i in ['state', 'disposition']:\n",
    "    helper.show_target_vs_categorical(df[[i, target[0]]], target)"
   ]
  },
  {
   "cell_type": "markdown",
   "metadata": {},
   "source": [
    "#### Numerical features"
   ]
  },
  {
   "cell_type": "code",
   "execution_count": 15,
   "metadata": {},
   "outputs": [
    {
     "data": {
      "image/png": "[encoded data removed]",
      "text/plain": [
       "<matplotlib.figure.Figure at 0x7f1acaf857f0>"
      ]
     },
     "metadata": {},
     "output_type": "display_data"
    }
   ],
   "source": [
    "helper.show_numerical(df, kde=True)"
   ]
  },
  {
   "cell_type": "markdown",
   "metadata": {},
   "source": [
    "#### Target vs Numerical features"
   ]
  },
  {
   "cell_type": "code",
   "execution_count": 16,
   "metadata": {},
   "outputs": [
    {
     "data": {
      "text/plain": [
       "(-0.2, 1.2)"
      ]
     },
     "execution_count": 16,
     "metadata": {},
     "output_type": "execute_result"
    },
    {
     "data": {
      "image/png": "[encoded data removed]",
      "text/plain": [
       "<matplotlib.figure.Figure at 0x7f1acac9c668>"
      ]
     },
     "metadata": {},
     "output_type": "display_data"
    }
   ],
   "source": [
    "helper.show_target_vs_numerical(df, target, point_size=10 ,jitter=0.3, fit_reg=True)\n",
    "plt.ylim(ymin=-0.2, ymax=1.2)"
   ]
  },
  {
   "cell_type": "markdown",
   "metadata": {},
   "source": [
    "#### Correlation between numerical features and target"
   ]
  },
  {
   "cell_type": "code",
   "execution_count": 17,
   "metadata": {},
   "outputs": [
    {
     "data": {
      "image/png": "[encoded data removed]",
      "text/plain": [
       "<matplotlib.figure.Figure at 0x7f1acb6a6c18>"
      ]
     },
     "metadata": {},
     "output_type": "display_data"
    }
   ],
   "source": [
    "helper.show_correlation(df, target, figsize=(6,3))"
   ]
  },
  {
   "cell_type": "markdown",
   "metadata": {},
   "source": [
    "## 2. Neural Network Model"
   ]
  },
  {
   "cell_type": "markdown",
   "metadata": {},
   "source": [
    "### Select the features"
   ]
  },
  {
   "cell_type": "code",
   "execution_count": 18,
   "metadata": {},
   "outputs": [
    {
     "data": {
      "text/html": [
       "<div>\n",
       "<style scoped>\n",
       "    .dataframe tbody tr th:only-of-type {\n",
       "        vertical-align: middle;\n",
       "    }\n",
       "\n",
       "    .dataframe tbody tr th {\n",
       "        vertical-align: top;\n",
       "    }\n",
       "\n",
       "    .dataframe thead th {\n",
       "        text-align: right;\n",
       "    }\n",
       "</style>\n",
       "<table border=\"1\" class=\"dataframe\">\n",
       "  <thead>\n",
       "    <tr style=\"text-align: right;\">\n",
       "      <th></th>\n",
       "      <th>late_fee</th>\n",
       "      <th>discount_amount</th>\n",
       "      <th>judgment_amount</th>\n",
       "      <th>fine_amount</th>\n",
       "      <th>agency_name</th>\n",
       "      <th>violation_street_name</th>\n",
       "      <th>city</th>\n",
       "      <th>state</th>\n",
       "      <th>violator_name</th>\n",
       "      <th>violation_code</th>\n",
       "      <th>disposition</th>\n",
       "      <th>compliance</th>\n",
       "    </tr>\n",
       "  </thead>\n",
       "  <tbody>\n",
       "    <tr>\n",
       "      <th>131030</th>\n",
       "      <td>5.0</td>\n",
       "      <td>0.0</td>\n",
       "      <td>85.0</td>\n",
       "      <td>50.0</td>\n",
       "      <td>Department of Public Works</td>\n",
       "      <td>LAKEPOINTE</td>\n",
       "      <td>DETROIT</td>\n",
       "      <td>MI</td>\n",
       "      <td>Other</td>\n",
       "      <td>9-1-103(C)</td>\n",
       "      <td>Responsible by Determination</td>\n",
       "      <td>0.0</td>\n",
       "    </tr>\n",
       "    <tr>\n",
       "      <th>29573</th>\n",
       "      <td>25.0</td>\n",
       "      <td>0.0</td>\n",
       "      <td>305.0</td>\n",
       "      <td>250.0</td>\n",
       "      <td>Buildings, Safety Engineering &amp; Env Department</td>\n",
       "      <td>Other</td>\n",
       "      <td>DETROIT</td>\n",
       "      <td>MI</td>\n",
       "      <td>Other</td>\n",
       "      <td>9-1-36(a)</td>\n",
       "      <td>Responsible by Default</td>\n",
       "      <td>0.0</td>\n",
       "    </tr>\n",
       "  </tbody>\n",
       "</table>\n",
       "</div>"
      ],
      "text/plain": [
       "        late_fee  discount_amount  judgment_amount  fine_amount  \\\n",
       "131030       5.0              0.0             85.0         50.0   \n",
       "29573       25.0              0.0            305.0        250.0   \n",
       "\n",
       "                                           agency_name violation_street_name  \\\n",
       "131030                      Department of Public Works            LAKEPOINTE   \n",
       "29573   Buildings, Safety Engineering & Env Department                 Other   \n",
       "\n",
       "           city state violator_name violation_code  \\\n",
       "131030  DETROIT    MI         Other     9-1-103(C)   \n",
       "29573   DETROIT    MI         Other      9-1-36(a)   \n",
       "\n",
       "                         disposition compliance  \n",
       "131030  Responsible by Determination        0.0  \n",
       "29573         Responsible by Default        0.0  "
      ]
     },
     "execution_count": 18,
     "metadata": {},
     "output_type": "execute_result"
    }
   ],
   "source": [
    "droplist = []  # features to drop\n",
    "\n",
    "# For the model 'data' instead of 'df'\n",
    "data = df.copy()\n",
    "# del(df)\n",
    "data.drop(droplist, axis='columns', inplace=True)\n",
    "data.head(2)"
   ]
  },
  {
   "cell_type": "markdown",
   "metadata": {},
   "source": [
    "### Scale numerical variables\n",
    "Shift and scale numerical variables to a standard normal distribution. The scaling factors are saved to be used for predictions."
   ]
  },
  {
   "cell_type": "code",
   "execution_count": 19,
   "metadata": {},
   "outputs": [],
   "source": [
    "data, scale_param = helper.scale(data)"
   ]
  },
  {
   "cell_type": "markdown",
   "metadata": {},
   "source": [
    "### Create dummy features\n",
    "Replace categorical features (no target) with dummy features"
   ]
  },
  {
   "cell_type": "code",
   "execution_count": 20,
   "metadata": {},
   "outputs": [
    {
     "data": {
      "text/html": [
       "<div>\n",
       "<style scoped>\n",
       "    .dataframe tbody tr th:only-of-type {\n",
       "        vertical-align: middle;\n",
       "    }\n",
       "\n",
       "    .dataframe tbody tr th {\n",
       "        vertical-align: top;\n",
       "    }\n",
       "\n",
       "    .dataframe thead th {\n",
       "        text-align: right;\n",
       "    }\n",
       "</style>\n",
       "<table border=\"1\" class=\"dataframe\">\n",
       "  <thead>\n",
       "    <tr style=\"text-align: right;\">\n",
       "      <th></th>\n",
       "      <th>late_fee</th>\n",
       "      <th>discount_amount</th>\n",
       "      <th>judgment_amount</th>\n",
       "      <th>fine_amount</th>\n",
       "      <th>compliance</th>\n",
       "      <th>agency_name_Buildings, Safety Engineering &amp; Env Department</th>\n",
       "      <th>agency_name_Department of Public Works</th>\n",
       "      <th>agency_name_Detroit Police Department</th>\n",
       "      <th>agency_name_Health Department</th>\n",
       "      <th>agency_name_Other</th>\n",
       "      <th>...</th>\n",
       "      <th>violation_code_9-1-43(a) - (Dwellin</th>\n",
       "      <th>violation_code_9-1-43(a) - (Structu</th>\n",
       "      <th>violation_code_9-1-81(a)</th>\n",
       "      <th>violation_code_9-1-82(d) - (Dwellin</th>\n",
       "      <th>violation_code_Other</th>\n",
       "      <th>disposition_Responsible (Fine Waived) by Deter</th>\n",
       "      <th>disposition_Responsible by Admission</th>\n",
       "      <th>disposition_Responsible by Default</th>\n",
       "      <th>disposition_Responsible by Determination</th>\n",
       "      <th>disposition_Other</th>\n",
       "    </tr>\n",
       "  </thead>\n",
       "  <tbody>\n",
       "    <tr>\n",
       "      <th>131030</th>\n",
       "      <td>-0.422306</td>\n",
       "      <td>-0.049474</td>\n",
       "      <td>-0.451255</td>\n",
       "      <td>-0.453714</td>\n",
       "      <td>0.0</td>\n",
       "      <td>0</td>\n",
       "      <td>1</td>\n",
       "      <td>0</td>\n",
       "      <td>0</td>\n",
       "      <td>0</td>\n",
       "      <td>...</td>\n",
       "      <td>0</td>\n",
       "      <td>0</td>\n",
       "      <td>0</td>\n",
       "      <td>0</td>\n",
       "      <td>0</td>\n",
       "      <td>0</td>\n",
       "      <td>0</td>\n",
       "      <td>0</td>\n",
       "      <td>1</td>\n",
       "      <td>0</td>\n",
       "    </tr>\n",
       "    <tr>\n",
       "      <th>29573</th>\n",
       "      <td>-0.126339</td>\n",
       "      <td>-0.049474</td>\n",
       "      <td>-0.154289</td>\n",
       "      <td>-0.156975</td>\n",
       "      <td>0.0</td>\n",
       "      <td>1</td>\n",
       "      <td>0</td>\n",
       "      <td>0</td>\n",
       "      <td>0</td>\n",
       "      <td>0</td>\n",
       "      <td>...</td>\n",
       "      <td>0</td>\n",
       "      <td>0</td>\n",
       "      <td>0</td>\n",
       "      <td>0</td>\n",
       "      <td>0</td>\n",
       "      <td>0</td>\n",
       "      <td>0</td>\n",
       "      <td>1</td>\n",
       "      <td>0</td>\n",
       "      <td>0</td>\n",
       "    </tr>\n",
       "    <tr>\n",
       "      <th>2657</th>\n",
       "      <td>-0.126339</td>\n",
       "      <td>-0.049474</td>\n",
       "      <td>-0.154289</td>\n",
       "      <td>-0.156975</td>\n",
       "      <td>0.0</td>\n",
       "      <td>1</td>\n",
       "      <td>0</td>\n",
       "      <td>0</td>\n",
       "      <td>0</td>\n",
       "      <td>0</td>\n",
       "      <td>...</td>\n",
       "      <td>0</td>\n",
       "      <td>0</td>\n",
       "      <td>0</td>\n",
       "      <td>0</td>\n",
       "      <td>0</td>\n",
       "      <td>0</td>\n",
       "      <td>0</td>\n",
       "      <td>1</td>\n",
       "      <td>0</td>\n",
       "      <td>0</td>\n",
       "    </tr>\n",
       "  </tbody>\n",
       "</table>\n",
       "<p>3 rows × 446 columns</p>\n",
       "</div>"
      ],
      "text/plain": [
       "        late_fee  discount_amount  judgment_amount  fine_amount compliance  \\\n",
       "131030 -0.422306        -0.049474        -0.451255    -0.453714        0.0   \n",
       "29573  -0.126339        -0.049474        -0.154289    -0.156975        0.0   \n",
       "2657   -0.126339        -0.049474        -0.154289    -0.156975        0.0   \n",
       "\n",
       "       agency_name_Buildings, Safety Engineering & Env Department  \\\n",
       "131030                                                  0           \n",
       "29573                                                   1           \n",
       "2657                                                    1           \n",
       "\n",
       "       agency_name_Department of Public Works  \\\n",
       "131030                                      1   \n",
       "29573                                       0   \n",
       "2657                                        0   \n",
       "\n",
       "       agency_name_Detroit Police Department agency_name_Health Department  \\\n",
       "131030                                     0                             0   \n",
       "29573                                      0                             0   \n",
       "2657                                       0                             0   \n",
       "\n",
       "       agency_name_Other        ...         \\\n",
       "131030                 0        ...          \n",
       "29573                  0        ...          \n",
       "2657                   0        ...          \n",
       "\n",
       "       violation_code_9-1-43(a) - (Dwellin  \\\n",
       "131030                                   0   \n",
       "29573                                    0   \n",
       "2657                                     0   \n",
       "\n",
       "       violation_code_9-1-43(a) - (Structu violation_code_9-1-81(a)  \\\n",
       "131030                                   0                        0   \n",
       "29573                                    0                        0   \n",
       "2657                                     0                        0   \n",
       "\n",
       "       violation_code_9-1-82(d) - (Dwellin violation_code_Other  \\\n",
       "131030                                   0                    0   \n",
       "29573                                    0                    0   \n",
       "2657                                     0                    0   \n",
       "\n",
       "       disposition_Responsible (Fine Waived) by Deter  \\\n",
       "131030                                              0   \n",
       "29573                                               0   \n",
       "2657                                                0   \n",
       "\n",
       "       disposition_Responsible by Admission  \\\n",
       "131030                                    0   \n",
       "29573                                     0   \n",
       "2657                                      0   \n",
       "\n",
       "       disposition_Responsible by Default  \\\n",
       "131030                                  0   \n",
       "29573                                   1   \n",
       "2657                                    1   \n",
       "\n",
       "       disposition_Responsible by Determination disposition_Other  \n",
       "131030                                        1                 0  \n",
       "29573                                         0                 0  \n",
       "2657                                          0                 0  \n",
       "\n",
       "[3 rows x 446 columns]"
      ]
     },
     "execution_count": 20,
     "metadata": {},
     "output_type": "execute_result"
    }
   ],
   "source": [
    "data, dict_dummies = helper.replace_by_dummies(data, target)\n",
    "\n",
    "model_features = [f for f in data if f not in target]  # sorted neural network inputs\n",
    "\n",
    "data.head(3)"
   ]
  },
  {
   "cell_type": "markdown",
   "metadata": {},
   "source": [
    "### Split the data into training and validation sets"
   ]
  },
  {
   "cell_type": "code",
   "execution_count": 21,
   "metadata": {},
   "outputs": [],
   "source": [
    "val_size = 0.2\n",
    "random_state = 0\n",
    "\n",
    "\n",
    "def validation_split(data, val_size=0.25):\n",
    "\n",
    "    train, test = train_test_split(\n",
    "        data, test_size=val_size, random_state=random_state, stratify=data[target])\n",
    "\n",
    "    # Separate the data into features and target (x=features, y=target)\n",
    "    x_train, y_train = train.drop(target, axis=1).values, train[target].values\n",
    "    x_val, y_val = test.drop(target, axis=1).values, test[target].values\n",
    "    # _nc: non-categorical yet (needs one-hot encoding)\n",
    "\n",
    "    return x_train, y_train, x_val, y_val\n",
    "\n",
    "\n",
    "x_train, y_train, x_val, y_val = validation_split(data, val_size=val_size)\n",
    "\n",
    "# x_train = x_train.astype(np.float16)\n",
    "y_train = y_train.astype(np.float16)\n",
    "# X_val = x_val.astype(np.float16)\n",
    "y_val = y_val.astype(np.float16)"
   ]
  },
  {
   "cell_type": "markdown",
   "metadata": {},
   "source": [
    "### Encode the output"
   ]
  },
  {
   "cell_type": "code",
   "execution_count": 22,
   "metadata": {},
   "outputs": [],
   "source": [
    "def one_hot_output(y_train, y_val):\n",
    "    num_classes = len(np.unique(y_train))\n",
    "    y_train = keras.utils.to_categorical(y_train, num_classes)\n",
    "    y_val = keras.utils.to_categorical(y_val, num_classes)\n",
    "    return y_train, y_val\n",
    "\n",
    "\n",
    "y_train, y_val = one_hot_output(y_train, y_val)"
   ]
  },
  {
   "cell_type": "code",
   "execution_count": 23,
   "metadata": {},
   "outputs": [
    {
     "name": "stdout",
     "output_type": "stream",
     "text": [
      "train size \t X:(102323, 445) \t Y:(102323, 2)\n",
      "val size \t X:(25581, 445) \t Y:(25581, 2)\n"
     ]
    }
   ],
   "source": [
    "print(\"train size \\t X:{} \\t Y:{}\".format(x_train.shape, y_train.shape))\n",
    "print(\"val size \\t X:{} \\t Y:{}\".format(x_val.shape, y_val.shape))"
   ]
  },
  {
   "cell_type": "markdown",
   "metadata": {},
   "source": [
    "### Build a dummy classifier"
   ]
  },
  {
   "cell_type": "code",
   "execution_count": 24,
   "metadata": {},
   "outputs": [
    {
     "name": "stdout",
     "output_type": "stream",
     "text": [
      "Scores:\n",
      "-----------\n",
      "Log_Loss: \t2.5059\n",
      "Accuracy: \t0.93\n",
      "Precision: \t0.00\n",
      "Recall: \t0.00\n",
      "ROC AUC: \t0.00\n",
      "F1-score: \t0.00\n",
      "\n",
      "Confusion matrix: \n",
      " [[23725     0]\n",
      " [ 1856     0]]\n"
     ]
    }
   ],
   "source": [
    "from sklearn.dummy import DummyClassifier\n",
    "\n",
    "clf = DummyClassifier(strategy='most_frequent').fit(x_train, np.ravel(y_train))\n",
    "# The dummy 'most_frequent' classifier always predicts class 0\n",
    "y_pred = clf.predict(x_val).reshape([-1, 1])\n",
    "\n",
    "helper.binary_classification_scores(y_val[:, 1], y_pred);"
   ]
  },
  {
   "cell_type": "markdown",
   "metadata": {},
   "source": [
    "### Build a random forest classifier (best of grid search)"
   ]
  },
  {
   "cell_type": "code",
   "execution_count": 25,
   "metadata": {
    "scrolled": false
   },
   "outputs": [
    {
     "name": "stdout",
     "output_type": "stream",
     "text": [
      "CPU times: user 29.3 s, sys: 88.7 ms, total: 29.4 s\n",
      "Wall time: 8.79 s\n"
     ]
    }
   ],
   "source": [
    "from sklearn.ensemble import RandomForestClassifier\n",
    "\n",
    "\n",
    "%time clf_random_forest_opt = RandomForestClassifier(n_estimators = 30, max_features=150, \\\n",
    "                                max_depth=13, class_weight='balanced', n_jobs=-1, \\\n",
    "                                   random_state=0).fit(x_train, np.ravel(y_train[:,1]))"
   ]
  },
  {
   "cell_type": "code",
   "execution_count": 26,
   "metadata": {},
   "outputs": [
    {
     "name": "stdout",
     "output_type": "stream",
     "text": [
      "Scores:\n",
      "-----------\n",
      "Log_Loss: \t2.5059\n",
      "Accuracy: \t0.93\n",
      "Precision: \t0.00\n",
      "Recall: \t0.00\n",
      "ROC AUC: \t0.00\n",
      "F1-score: \t0.00\n",
      "\n",
      "Confusion matrix: \n",
      " [[23725     0]\n",
      " [ 1856     0]]\n"
     ]
    }
   ],
   "source": [
    "y_train_pred = clf_random_forest_opt.predict(x_train).reshape([-1, 1])\n",
    "helper.binary_classification_scores(y_val[:, 1], y_pred);"
   ]
  },
  {
   "cell_type": "markdown",
   "metadata": {},
   "source": [
    "### Build the Neural Network for Binary Classification"
   ]
  },
  {
   "cell_type": "code",
   "execution_count": 27,
   "metadata": {},
   "outputs": [
    {
     "name": "stdout",
     "output_type": "stream",
     "text": [
      "_________________________________________________________________\n",
      "Layer (type)                 Output Shape              Param #   \n",
      "=================================================================\n",
      "dense_1 (Dense)              (None, 55)                24530     \n",
      "_________________________________________________________________\n",
      "dense_2 (Dense)              (None, 2)                 112       \n",
      "=================================================================\n",
      "Total params: 24,642\n",
      "Trainable params: 24,642\n",
      "Non-trainable params: 0\n",
      "_________________________________________________________________\n"
     ]
    }
   ],
   "source": [
    "cw = helper.get_class_weight(y_train[:, 1])  # class weight (imbalanced target)\n",
    "\n",
    "import keras\n",
    "from keras.models import Sequential\n",
    "from keras.layers.core import Dense, Dropout\n",
    "\n",
    "\n",
    "def build_nn(input_size, output_size, summary=False):\n",
    "\n",
    "    input_nodes = input_size // 8\n",
    "\n",
    "    model = Sequential()\n",
    "    model.add(Dense(input_nodes, input_dim=input_size, activation='relu'))\n",
    "\n",
    "    model.add(Dense(output_size, activation='softmax'))\n",
    "\n",
    "    if summary:\n",
    "        model.summary()\n",
    "\n",
    "    model.compile(loss='binary_crossentropy', optimizer='adam', metrics=['accuracy'])\n",
    "\n",
    "    return model\n",
    "\n",
    "\n",
    "model = build_nn(x_train.shape[1], y_train.shape[1], summary=True)"
   ]
  },
  {
   "cell_type": "markdown",
   "metadata": {},
   "source": [
    "### Train the Neural Network"
   ]
  },
  {
   "cell_type": "code",
   "execution_count": 28,
   "metadata": {
    "scrolled": false
   },
   "outputs": [
    {
     "name": "stdout",
     "output_type": "stream",
     "text": [
      "Train on 71626 samples, validate on 30697 samples\n",
      "Epoch 1/100\n",
      "71626/71626 [==============================] - 5s 66us/step - loss: 0.6212 - acc: 0.7567 - val_loss: 0.5853 - val_acc: 0.7997\n",
      "Epoch 2/100\n",
      "71626/71626 [==============================] - 4s 62us/step - loss: 0.5397 - acc: 0.8159 - val_loss: 0.5507 - val_acc: 0.8293\n",
      "Epoch 3/100\n",
      "71626/71626 [==============================] - 4s 61us/step - loss: 0.5204 - acc: 0.8416 - val_loss: 0.5449 - val_acc: 0.8272\n",
      "Epoch 4/100\n",
      "71626/71626 [==============================] - 4s 61us/step - loss: 0.5130 - acc: 0.8352 - val_loss: 0.5438 - val_acc: 0.8267\n",
      "Epoch 5/100\n",
      "71626/71626 [==============================] - 4s 62us/step - loss: 0.5083 - acc: 0.8308 - val_loss: 0.5414 - val_acc: 0.8228\n",
      "Epoch 6/100\n",
      "71626/71626 [==============================] - 4s 62us/step - loss: 0.5054 - acc: 0.8315 - val_loss: 0.5446 - val_acc: 0.8424\n",
      "Epoch 00006: early stopping\n",
      "102323/102323 [==============================] - 4s 38us/step\n",
      "\n",
      "\n",
      " ROC_AUC train:\t0.82 \n",
      "\n",
      "25581/25581 [==============================] - 1s 39us/step\n",
      "\n",
      "\n",
      " ROC_AUC val:\t0.81\n"
     ]
    }
   ],
   "source": [
    "import os\n",
    "from time import time\n",
    "model_path = os.path.join(\"models\", \"detroit.h5\")\n",
    "\n",
    "\n",
    "def train_nn(model, x_train, y_train, validation_data=None, path=False, show=True):\n",
    "    \"\"\" \n",
    "    Train the neural network model. If no validation_datais provided, a split for validation\n",
    "    will be used\n",
    "    \"\"\"\n",
    "    \n",
    "    if show:\n",
    "        print('Training ....')\n",
    "    \n",
    "    callbacks = [keras.callbacks.EarlyStopping(monitor='val_loss', patience=0, verbose=1)]\n",
    "    t0 = time()\n",
    "\n",
    "    history = model.fit(\n",
    "        x_train,\n",
    "        y_train,\n",
    "        epochs=100,\n",
    "        batch_size=2048,\n",
    "        \n",
    "        class_weight = cw,\n",
    "        \n",
    "        verbose=1,\n",
    "        validation_split=0.3,\n",
    "        validation_data = validation_data,\n",
    "        callbacks=callbacks)\n",
    "\n",
    "    if show:\n",
    "        print(\"time: \\t {:.1f} s\".format(time() - t0))\n",
    "        helper.show_training(history)\n",
    "\n",
    "    if path:\n",
    "        model.save(path)\n",
    "        print(\"\\nModel saved at\", path)\n",
    "    \n",
    "    return history\n",
    "        \n",
    "\n",
    "model = None\n",
    "model = build_nn(x_train.shape[1], y_train.shape[1], summary=False)\n",
    "train_nn(model, x_train, y_train, path=None, show=None);\n",
    "\n",
    "\n",
    "from sklearn.metrics import roc_auc_score\n",
    "\n",
    "y_pred_train = model.predict(x_train, verbose=1)\n",
    "print('\\n\\n ROC_AUC train:\\t{:.2f} \\n'.format(roc_auc_score(y_train, y_pred_train)))\n",
    "y_pred_val = model.predict(x_val, verbose=1)\n",
    "print('\\n\\n ROC_AUC val:\\t{:.2f}'.format(roc_auc_score(y_val, y_pred_val)))"
   ]
  },
  {
   "cell_type": "markdown",
   "metadata": {},
   "source": [
    "### Validate the model (validation set)"
   ]
  },
  {
   "cell_type": "code",
   "execution_count": 29,
   "metadata": {},
   "outputs": [
    {
     "name": "stdout",
     "output_type": "stream",
     "text": [
      "Scores:\n",
      "-----------\n",
      "Log_Loss: \tnan\n",
      "Accuracy: \t0.85\n",
      "Precision: \t0.26\n",
      "Recall: \t0.62\n",
      "ROC AUC: \t0.81\n",
      "F1-score: \t0.37\n",
      "\n",
      "Confusion matrix: \n",
      " [[20503  3222]\n",
      " [  707  1149]]\n"
     ]
    }
   ],
   "source": [
    "helper.binary_classification_scores(y_val[:, 1], y_pred_val[:, 1]);"
   ]
  },
  {
   "cell_type": "markdown",
   "metadata": {},
   "source": [
    "### Evaluate the final model (test set)"
   ]
  },
  {
   "cell_type": "code",
   "execution_count": 30,
   "metadata": {},
   "outputs": [
    {
     "data": {
      "text/html": [
       "<div>\n",
       "<style scoped>\n",
       "    .dataframe tbody tr th:only-of-type {\n",
       "        vertical-align: middle;\n",
       "    }\n",
       "\n",
       "    .dataframe tbody tr th {\n",
       "        vertical-align: top;\n",
       "    }\n",
       "\n",
       "    .dataframe thead th {\n",
       "        text-align: right;\n",
       "    }\n",
       "</style>\n",
       "<table border=\"1\" class=\"dataframe\">\n",
       "  <thead>\n",
       "    <tr style=\"text-align: right;\">\n",
       "      <th></th>\n",
       "      <th>ticket_id</th>\n",
       "      <th>agency_name</th>\n",
       "      <th>inspector_name</th>\n",
       "      <th>violator_name</th>\n",
       "      <th>violation_street_number</th>\n",
       "      <th>violation_street_name</th>\n",
       "      <th>violation_zip_code</th>\n",
       "      <th>mailing_address_str_number</th>\n",
       "      <th>mailing_address_str_name</th>\n",
       "      <th>city</th>\n",
       "      <th>...</th>\n",
       "      <th>clean_up_cost</th>\n",
       "      <th>judgment_amount</th>\n",
       "      <th>payment_amount</th>\n",
       "      <th>balance_due</th>\n",
       "      <th>payment_date</th>\n",
       "      <th>payment_status</th>\n",
       "      <th>collection_status</th>\n",
       "      <th>grafitti_status</th>\n",
       "      <th>compliance_detail</th>\n",
       "      <th>compliance</th>\n",
       "    </tr>\n",
       "  </thead>\n",
       "  <tbody>\n",
       "    <tr>\n",
       "      <th>29156</th>\n",
       "      <td>48696</td>\n",
       "      <td>Department of Public Works</td>\n",
       "      <td>Funchess, Mitchell</td>\n",
       "      <td>CORP, CONTIMORTGAGE</td>\n",
       "      <td>8200.0</td>\n",
       "      <td>HEYDEN</td>\n",
       "      <td>NaN</td>\n",
       "      <td>3815</td>\n",
       "      <td>WEST TEMPLE</td>\n",
       "      <td>SALT LAKE CITY</td>\n",
       "      <td>...</td>\n",
       "      <td>0.0</td>\n",
       "      <td>140.0</td>\n",
       "      <td>0.0</td>\n",
       "      <td>140.0</td>\n",
       "      <td>NaN</td>\n",
       "      <td>NO PAYMENT APPLIED</td>\n",
       "      <td>IN COLLECTION</td>\n",
       "      <td>NaN</td>\n",
       "      <td>non-compliant by no payment</td>\n",
       "      <td>0.0</td>\n",
       "    </tr>\n",
       "    <tr>\n",
       "      <th>125262</th>\n",
       "      <td>152329</td>\n",
       "      <td>Buildings, Safety Engineering &amp; Env Department</td>\n",
       "      <td>Doetsch, James</td>\n",
       "      <td>JACKSON, THEO</td>\n",
       "      <td>13821.0</td>\n",
       "      <td>GLENWOOD</td>\n",
       "      <td>NaN</td>\n",
       "      <td>1464</td>\n",
       "      <td>PO BOX</td>\n",
       "      <td>DETROIT</td>\n",
       "      <td>...</td>\n",
       "      <td>0.0</td>\n",
       "      <td>305.0</td>\n",
       "      <td>0.0</td>\n",
       "      <td>305.0</td>\n",
       "      <td>NaN</td>\n",
       "      <td>NO PAYMENT APPLIED</td>\n",
       "      <td>NaN</td>\n",
       "      <td>NaN</td>\n",
       "      <td>non-compliant by no payment</td>\n",
       "      <td>0.0</td>\n",
       "    </tr>\n",
       "  </tbody>\n",
       "</table>\n",
       "<p>2 rows × 34 columns</p>\n",
       "</div>"
      ],
      "text/plain": [
       "       ticket_id                                     agency_name  \\\n",
       "29156      48696                      Department of Public Works   \n",
       "125262    152329  Buildings, Safety Engineering & Env Department   \n",
       "\n",
       "            inspector_name        violator_name violation_street_number  \\\n",
       "29156   Funchess, Mitchell  CORP, CONTIMORTGAGE                  8200.0   \n",
       "125262      Doetsch, James        JACKSON, THEO                 13821.0   \n",
       "\n",
       "       violation_street_name violation_zip_code mailing_address_str_number  \\\n",
       "29156                 HEYDEN                NaN                       3815   \n",
       "125262              GLENWOOD                NaN                       1464   \n",
       "\n",
       "       mailing_address_str_name            city    ...     clean_up_cost  \\\n",
       "29156               WEST TEMPLE  SALT LAKE CITY    ...               0.0   \n",
       "125262                   PO BOX         DETROIT    ...               0.0   \n",
       "\n",
       "       judgment_amount payment_amount balance_due payment_date  \\\n",
       "29156            140.0            0.0       140.0          NaN   \n",
       "125262           305.0            0.0       305.0          NaN   \n",
       "\n",
       "            payment_status collection_status grafitti_status  \\\n",
       "29156   NO PAYMENT APPLIED     IN COLLECTION             NaN   \n",
       "125262  NO PAYMENT APPLIED               NaN             NaN   \n",
       "\n",
       "                  compliance_detail compliance  \n",
       "29156   non-compliant by no payment        0.0  \n",
       "125262  non-compliant by no payment        0.0  \n",
       "\n",
       "[2 rows x 34 columns]"
      ]
     },
     "execution_count": 30,
     "metadata": {},
     "output_type": "execute_result"
    }
   ],
   "source": [
    "df_test.head(2)"
   ]
  },
  {
   "cell_type": "markdown",
   "metadata": {},
   "source": [
    "#### Process test data with training set parameters (no data leakage)"
   ]
  },
  {
   "cell_type": "code",
   "execution_count": 31,
   "metadata": {},
   "outputs": [],
   "source": [
    "df_test = remove_features(df_test)"
   ]
  },
  {
   "cell_type": "code",
   "execution_count": 32,
   "metadata": {},
   "outputs": [
    {
     "name": "stdout",
     "output_type": "stream",
     "text": [
      "numerical features:   4\n",
      "categorical features: 7\n",
      "target 'compliance': category\n"
     ]
    }
   ],
   "source": [
    "df_test = helper.classify_data(df_test, target, numerical=num)"
   ]
  },
  {
   "cell_type": "code",
   "execution_count": 33,
   "metadata": {},
   "outputs": [],
   "source": [
    "df_test, _ = helper.remove_categories(\n",
    "    df_test, target=target, show=False, dict_categories=dict_categories)"
   ]
  },
  {
   "cell_type": "code",
   "execution_count": 34,
   "metadata": {},
   "outputs": [
    {
     "name": "stdout",
     "output_type": "stream",
     "text": [
      "Missing categorical filled with label: \"Other\"\n"
     ]
    }
   ],
   "source": [
    "df_test = helper.fill_simple(df_test, target, missing_categorical='Other') "
   ]
  },
  {
   "cell_type": "code",
   "execution_count": 35,
   "metadata": {},
   "outputs": [],
   "source": [
    "df_test, _ = helper.scale(df_test, scale_param)\n",
    "df_test, _ = helper.replace_by_dummies(df_test, target, dict_dummies)"
   ]
  },
  {
   "cell_type": "code",
   "execution_count": 36,
   "metadata": {},
   "outputs": [],
   "source": [
    "df_test = df_test[model_features+target] # sort columns to match training features order"
   ]
  },
  {
   "cell_type": "code",
   "execution_count": 37,
   "metadata": {},
   "outputs": [],
   "source": [
    "def separate_x_y(data):\n",
    "    \"\"\" Separate the data into features and target (x=features, y=target) \"\"\"\n",
    "\n",
    "    x, y = data.drop(target, axis=1).values, data[target].values\n",
    "    x = x.astype(np.float16)\n",
    "    y = y.astype(np.float16)\n",
    "   \n",
    "    return x, y\n",
    "\n",
    "x_test, y_test = separate_x_y(df_test)"
   ]
  },
  {
   "cell_type": "markdown",
   "metadata": {},
   "source": [
    "####  Random Forest model"
   ]
  },
  {
   "cell_type": "code",
   "execution_count": 38,
   "metadata": {
    "scrolled": false
   },
   "outputs": [
    {
     "name": "stdout",
     "output_type": "stream",
     "text": [
      "Scores:\n",
      "-----------\n",
      "Log_Loss: \t0.4576\n",
      "Accuracy: \t0.87\n",
      "Precision: \t0.30\n",
      "Recall: \t0.59\n",
      "ROC AUC: \t0.81\n",
      "F1-score: \t0.40\n",
      "\n",
      "Confusion matrix: \n",
      " [[26488  3169]\n",
      " [  955  1364]]\n"
     ]
    }
   ],
   "source": [
    "y_pred = clf_random_forest_opt.predict_proba(x_test)[:,1]\n",
    "helper.binary_classification_scores(y_test, y_pred);"
   ]
  },
  {
   "cell_type": "markdown",
   "metadata": {},
   "source": [
    "#### Neural Network model"
   ]
  },
  {
   "cell_type": "code",
   "execution_count": 39,
   "metadata": {},
   "outputs": [
    {
     "name": "stdout",
     "output_type": "stream",
     "text": [
      "31976/31976 [==============================] - 1s 22us/step\n",
      "Scores:\n",
      "-----------\n",
      "Log_Loss: \tnan\n",
      "Accuracy: \t0.84\n",
      "Precision: \t0.26\n",
      "Recall: \t0.61\n",
      "ROC AUC: \t0.80\n",
      "F1-score: \t0.36\n",
      "\n",
      "Confusion matrix: \n",
      " [[25613  4044]\n",
      " [  916  1403]]\n"
     ]
    }
   ],
   "source": [
    "y_pred = model.predict(x_test, verbose=1)[:,1]\n",
    "helper.binary_classification_scores(y_test, y_pred);"
   ]
  }
 ],
 "metadata": {
  "coursera": {
   "course_slug": "python-machine-learning",
   "graded_item_id": "nNS8l",
   "launcher_item_id": "yWWk7",
   "part_id": "w8BSS"
  },
  "kernelspec": {
   "display_name": "Python 3",
   "language": "python",
   "name": "python3"
  },
  "language_info": {
   "codemirror_mode": {
    "name": "ipython",
    "version": 3
   },
   "file_extension": ".py",
   "mimetype": "text/x-python",
   "name": "python",
   "nbconvert_exporter": "python",
   "pygments_lexer": "ipython3",
   "version": "3.6.4"
  }
 },
 "nbformat": 4,
 "nbformat_minor": 2
}
