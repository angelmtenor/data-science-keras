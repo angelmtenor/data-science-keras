{
 "cells": [
  {
   "cell_type": "markdown",
   "metadata": {
    "collapsed": true
   },
   "source": [
    "#  English sequence generator \n",
    "\n",
    "Goal: Create an English language sequence generator capable of building semi-coherent English sentences from scratch by building them up character-by-character.\n",
    "\n",
    "Dataset:  Complete version of Sir Arthur Conan Doyle's classic book The Adventures of Sherlock Holmes\n",
    "\n",
    "Based on [RNN project: text generation](https://github.com/udacity/aind2-rnn) of the [Udacity's Artificial Intelligence  Nanodegree](https://www.udacity.com/course/artificial-intelligence-nanodegree--nd889)"
   ]
  },
  {
   "cell_type": "code",
   "execution_count": 1,
   "metadata": {
    "collapsed": true
   },
   "outputs": [],
   "source": [
    "%matplotlib inline\n",
    "import numpy as np\n",
    "import matplotlib.pyplot as plt\n",
    "import seaborn as sns\n",
    "import helper"
   ]
  },
  {
   "cell_type": "markdown",
   "metadata": {},
   "source": [
    "## Load the data"
   ]
  },
  {
   "cell_type": "code",
   "execution_count": 2,
   "metadata": {},
   "outputs": [
    {
     "name": "stdout",
     "output_type": "stream",
     "text": [
      "Total characters: 581864\n"
     ]
    },
    {
     "data": {
      "text/plain": [
       "\"\\ufeffproject gutenberg's the adventures of sherlock holmes, by arthur conan doyle\\n\\nthis ebook is for the use of anyone anywhere at no cost and with\\nalmost no restrictions whatsoever.  you may copy it, give it away or\\nre-use it under the terms of the project gutenberg license included\\nwith this ebook or \""
      ]
     },
     "execution_count": 2,
     "metadata": {},
     "output_type": "execute_result"
    }
   ],
   "source": [
    "text = open('data/holmes.txt').read().lower()\n",
    "print('Total characters: {}'.format(len(text)))\n",
    "text[:300]"
   ]
  },
  {
   "cell_type": "markdown",
   "metadata": {},
   "source": [
    "## Preprocess the data"
   ]
  },
  {
   "cell_type": "code",
   "execution_count": 3,
   "metadata": {},
   "outputs": [
    {
     "name": "stdout",
     "output_type": "stream",
     "text": [
      "{'f', 'p', 'm', 'é', 'x', 'h', 'v', 'j', '8', '0', 'b', 'z', '4', ';', '7', '5', 'i', 'à', '(', '\"', '6', 'â', ',', 'w', '-', 'e', 'y', ':', '&', '$', '?', \"'\", 's', '2', 'q', '/', ')', '*', '!', ' ', '@', 't', 'k', 'l', '%', 'c', 'è', 'g', '.', '1', '3', 'd', 'o', 'r', 'u', 'n', 'a', '9'}\n"
     ]
    }
   ],
   "source": [
    "text = text[1302:]  # remove title, author page, and table of contents\n",
    "text = text.replace('\\n',' ') \n",
    "text = text.replace('\\r',' ')\n",
    "\n",
    "unique_characters = set(list(text))  \n",
    "print(unique_characters)"
   ]
  },
  {
   "cell_type": "code",
   "execution_count": 4,
   "metadata": {},
   "outputs": [
    {
     "data": {
      "text/plain": [
       "'is eyes she eclipses and predominates the whole of her sex. it was not that he felt any emotion akin to love for irene adler. all emotions, and that one particularly, were abhorrent to his cold, precise but admirably balanced mind. he was, i take it, the most perfect reasoning and observing machine '"
      ]
     },
     "execution_count": 4,
     "metadata": {},
     "output_type": "execute_result"
    }
   ],
   "source": [
    "# remove non-english characters \n",
    "import re\n",
    "text = re.sub(\"[$%&'()*@/àâèé0123456789-]\", \" \", text)\n",
    "text = text.replace('\"',' ')\n",
    "text = text.replace('  ',' ') # shorten any extra dead space created above\n",
    "text[:300]"
   ]
  },
  {
   "cell_type": "code",
   "execution_count": 5,
   "metadata": {},
   "outputs": [
    {
     "name": "stdout",
     "output_type": "stream",
     "text": [
      "Total characters: 573681\n",
      "Unique characters: 33\n",
      "[' ', '!', ',', '.', ':', ';', '?', 'a', 'b', 'c', 'd', 'e', 'f', 'g', 'h', 'i', 'j', 'k', 'l', 'm', 'n', 'o', 'p', 'q', 'r', 's', 't', 'u', 'v', 'w', 'x', 'y', 'z']\n"
     ]
    }
   ],
   "source": [
    "chars = sorted(list(set(text)))\n",
    "num_chars = len(chars)\n",
    "print('Total characters: {}'.format(len(text)))\n",
    "print('Unique characters: {}'.format(num_chars))\n",
    "print(chars)"
   ]
  },
  {
   "cell_type": "markdown",
   "metadata": {},
   "source": [
    "## Split data into input/output pairs"
   ]
  },
  {
   "cell_type": "code",
   "execution_count": 6,
   "metadata": {},
   "outputs": [],
   "source": [
    "# Transforms the input text and window-size into a set of input/output pairs \n",
    "#  for use with the RNN \"\"\"\n",
    "\n",
    "window_size = 100\n",
    "step_size = 5\n",
    "\n",
    "input_pairs = []\n",
    "output_pairs = []\n",
    "\n",
    "for i in range(0, len(text) - window_size, step_size):\n",
    "    input_pairs.append(text[i : i + window_size])   \n",
    "    output_pairs.append(text[i + window_size])       "
   ]
  },
  {
   "cell_type": "markdown",
   "metadata": {},
   "source": [
    "## One-hot encoding characters"
   ]
  },
  {
   "cell_type": "code",
   "execution_count": 7,
   "metadata": {},
   "outputs": [],
   "source": [
    "chars_to_indices = dict((c, i) for i, c in enumerate(chars))\n",
    "indices_to_chars = dict((i, c) for i, c in enumerate(chars))\n",
    "\n",
    "# create variables for one-hot encoded input/output\n",
    "X = np.zeros((len(input_pairs), window_size, num_chars), dtype=np.bool)\n",
    "y = np.zeros((len(input_pairs), num_chars), dtype=np.bool)\n",
    "\n",
    "# transform character-based input_pairs/output_pairs into equivalent numerical versions\n",
    "for i, sentence in enumerate(input_pairs):\n",
    "    for t, char in enumerate(sentence):\n",
    "        X[i, t, chars_to_indices[char]] = 1\n",
    "    y[i, chars_to_indices[output_pairs[i]]] = 1"
   ]
  },
  {
   "cell_type": "markdown",
   "metadata": {},
   "source": [
    "## Recurrent Neural Network Model"
   ]
  },
  {
   "cell_type": "code",
   "execution_count": 10,
   "metadata": {
    "scrolled": false
   },
   "outputs": [
    {
     "name": "stdout",
     "output_type": "stream",
     "text": [
      "Training ...\n",
      "Epoch 1/100\n",
      "114717/114717 [==============================] - 47s - loss: 2.6851    \n",
      "Epoch 2/100\n",
      "114717/114717 [==============================] - 47s - loss: 2.2580    \n",
      "Epoch 3/100\n",
      "114717/114717 [==============================] - 47s - loss: 2.1099    \n",
      "Epoch 4/100\n",
      "114717/114717 [==============================] - 48s - loss: 2.0035    \n",
      "Epoch 5/100\n",
      "114717/114717 [==============================] - 48s - loss: 1.9242    \n",
      "Epoch 6/100\n",
      "114717/114717 [==============================] - 47s - loss: 1.8629    \n",
      "Epoch 7/100\n",
      "114717/114717 [==============================] - 47s - loss: 1.8077    \n",
      "Epoch 8/100\n",
      "114717/114717 [==============================] - 47s - loss: 1.7596    \n",
      "Epoch 9/100\n",
      "114717/114717 [==============================] - 47s - loss: 1.7162    \n",
      "Epoch 10/100\n",
      "114717/114717 [==============================] - 47s - loss: 1.6757    \n",
      "Epoch 11/100\n",
      "114717/114717 [==============================] - 47s - loss: 1.6385    \n",
      "Epoch 12/100\n",
      "114717/114717 [==============================] - 47s - loss: 1.6027    \n",
      "Epoch 13/100\n",
      "114717/114717 [==============================] - 47s - loss: 1.5695    \n",
      "Epoch 14/100\n",
      "114717/114717 [==============================] - 48s - loss: 1.5372    \n",
      "Epoch 15/100\n",
      "114717/114717 [==============================] - 49s - loss: 1.5073    \n",
      "Epoch 16/100\n",
      "114717/114717 [==============================] - 49s - loss: 1.4772    \n",
      "Epoch 17/100\n",
      "114717/114717 [==============================] - 49s - loss: 1.4488    \n",
      "Epoch 18/100\n",
      "114717/114717 [==============================] - 48s - loss: 1.4214    \n",
      "Epoch 19/100\n",
      "114717/114717 [==============================] - 48s - loss: 1.3919    \n",
      "Epoch 20/100\n",
      "114717/114717 [==============================] - 48s - loss: 1.3644    \n",
      "Epoch 21/100\n",
      "114717/114717 [==============================] - 48s - loss: 1.3379    \n",
      "Epoch 22/100\n",
      "114717/114717 [==============================] - 48s - loss: 1.3124    \n",
      "Epoch 23/100\n",
      "114717/114717 [==============================] - 48s - loss: 1.2866    \n",
      "Epoch 24/100\n",
      "114717/114717 [==============================] - 48s - loss: 1.2584    \n",
      "Epoch 25/100\n",
      "114717/114717 [==============================] - 49s - loss: 1.2329    \n",
      "Epoch 26/100\n",
      "114717/114717 [==============================] - 48s - loss: 1.2068    \n",
      "Epoch 27/100\n",
      "114717/114717 [==============================] - 48s - loss: 1.1796    \n",
      "Epoch 28/100\n",
      "114717/114717 [==============================] - 48s - loss: 1.1545    \n",
      "Epoch 29/100\n",
      "114717/114717 [==============================] - 48s - loss: 1.1284    \n",
      "Epoch 30/100\n",
      "114717/114717 [==============================] - 49s - loss: 1.1013    \n",
      "Epoch 31/100\n",
      "114717/114717 [==============================] - 49s - loss: 1.0756    \n",
      "Epoch 32/100\n",
      "114717/114717 [==============================] - 48s - loss: 1.0504    \n",
      "Epoch 33/100\n",
      "114717/114717 [==============================] - 49s - loss: 1.0251    \n",
      "Epoch 34/100\n",
      "114717/114717 [==============================] - 47s - loss: 0.9990    \n",
      "Epoch 35/100\n",
      "114717/114717 [==============================] - 47s - loss: 0.9730    \n",
      "Epoch 36/100\n",
      "114717/114717 [==============================] - 47s - loss: 0.9479    \n",
      "Epoch 37/100\n",
      "114717/114717 [==============================] - 47s - loss: 0.9232    \n",
      "Epoch 38/100\n",
      "114717/114717 [==============================] - 47s - loss: 0.8982    \n",
      "Epoch 39/100\n",
      "114717/114717 [==============================] - 47s - loss: 0.8755    \n",
      "Epoch 40/100\n",
      "114717/114717 [==============================] - 47s - loss: 0.8530    \n",
      "Epoch 41/100\n",
      "114717/114717 [==============================] - 47s - loss: 0.8298    \n",
      "Epoch 42/100\n",
      "114717/114717 [==============================] - 47s - loss: 0.8073    \n",
      "Epoch 43/100\n",
      "114717/114717 [==============================] - 47s - loss: 0.7861    \n",
      "Epoch 44/100\n",
      "114717/114717 [==============================] - 47s - loss: 0.7655    \n",
      "Epoch 45/100\n",
      "114717/114717 [==============================] - 47s - loss: 0.7462    \n",
      "Epoch 46/100\n",
      "114717/114717 [==============================] - 47s - loss: 0.7271    \n",
      "Epoch 47/100\n",
      "114717/114717 [==============================] - 47s - loss: 0.7094    \n",
      "Epoch 48/100\n",
      "114717/114717 [==============================] - 47s - loss: 0.6911    \n",
      "Epoch 49/100\n",
      "114717/114717 [==============================] - 47s - loss: 0.6740    \n",
      "Epoch 50/100\n",
      "114717/114717 [==============================] - 47s - loss: 0.6589    \n",
      "Epoch 51/100\n",
      "114717/114717 [==============================] - 48s - loss: 0.6395    \n",
      "Epoch 52/100\n",
      "114717/114717 [==============================] - 47s - loss: 0.6233    \n",
      "Epoch 53/100\n",
      "114717/114717 [==============================] - 47s - loss: 0.6121    \n",
      "Epoch 54/100\n",
      "114717/114717 [==============================] - 47s - loss: 0.5968    \n",
      "Epoch 55/100\n",
      "114717/114717 [==============================] - 47s - loss: 0.5834    \n",
      "Epoch 56/100\n",
      "114717/114717 [==============================] - 47s - loss: 0.5693    \n",
      "Epoch 57/100\n",
      "114717/114717 [==============================] - 48s - loss: 0.5562    \n",
      "Epoch 58/100\n",
      "114717/114717 [==============================] - 48s - loss: 0.5473    \n",
      "Epoch 59/100\n",
      "114717/114717 [==============================] - 47s - loss: 0.5344    \n",
      "Epoch 60/100\n",
      "114717/114717 [==============================] - 47s - loss: 0.5215    \n",
      "Epoch 61/100\n",
      "114717/114717 [==============================] - 47s - loss: 0.5142    \n",
      "Epoch 62/100\n",
      "114717/114717 [==============================] - 47s - loss: 0.5022    \n",
      "Epoch 63/100\n",
      "114717/114717 [==============================] - 47s - loss: 0.4920    \n",
      "Epoch 64/100\n",
      "114717/114717 [==============================] - 47s - loss: 0.4838    \n",
      "Epoch 65/100\n",
      "114717/114717 [==============================] - 47s - loss: 0.4732    \n",
      "Epoch 66/100\n",
      "114717/114717 [==============================] - 47s - loss: 0.4667    \n",
      "Epoch 67/100\n",
      "114717/114717 [==============================] - 48s - loss: 0.4591    \n",
      "Epoch 68/100\n",
      "114717/114717 [==============================] - 47s - loss: 0.4531    \n",
      "Epoch 69/100\n",
      "114717/114717 [==============================] - 47s - loss: 0.4428    \n",
      "Epoch 70/100\n",
      "114717/114717 [==============================] - 47s - loss: 0.4319    \n",
      "Epoch 71/100\n",
      "114717/114717 [==============================] - 47s - loss: 0.4295    \n",
      "Epoch 72/100\n",
      "114717/114717 [==============================] - 47s - loss: 0.4197    \n",
      "Epoch 73/100\n",
      "114717/114717 [==============================] - 47s - loss: 0.4153    \n",
      "Epoch 74/100\n",
      "114717/114717 [==============================] - 47s - loss: 0.4113    \n",
      "Epoch 75/100\n",
      "114717/114717 [==============================] - 47s - loss: 0.4005    \n",
      "Epoch 76/100\n",
      "114717/114717 [==============================] - 47s - loss: 0.3952    \n",
      "Epoch 77/100\n",
      "114717/114717 [==============================] - 47s - loss: 0.3905    \n",
      "Epoch 78/100\n",
      "114717/114717 [==============================] - 47s - loss: 0.3852    \n",
      "Epoch 79/100\n",
      "114717/114717 [==============================] - 47s - loss: 0.3797    \n",
      "Epoch 80/100\n",
      "114717/114717 [==============================] - 47s - loss: 0.3750    \n",
      "Epoch 81/100\n",
      "114717/114717 [==============================] - 47s - loss: 0.3702    \n",
      "Epoch 82/100\n",
      "114717/114717 [==============================] - 47s - loss: 0.3655    \n",
      "Epoch 83/100\n",
      "114717/114717 [==============================] - 47s - loss: 0.3632    \n",
      "Epoch 84/100\n",
      "114717/114717 [==============================] - 47s - loss: 0.3603    \n",
      "Epoch 85/100\n",
      "114717/114717 [==============================] - 47s - loss: 0.3554    \n",
      "Epoch 86/100\n",
      "114717/114717 [==============================] - 47s - loss: 0.3498    \n",
      "Epoch 87/100\n",
      "114717/114717 [==============================] - 47s - loss: 0.3435    \n",
      "Epoch 88/100\n",
      "114717/114717 [==============================] - 47s - loss: 0.3400    \n",
      "Epoch 89/100\n",
      "114717/114717 [==============================] - 47s - loss: 0.3367    \n",
      "Epoch 90/100\n",
      "114717/114717 [==============================] - 47s - loss: 0.3319    \n",
      "Epoch 91/100\n",
      "114717/114717 [==============================] - 47s - loss: 0.3337    \n",
      "Epoch 92/100\n",
      "114717/114717 [==============================] - 47s - loss: 0.3293    \n",
      "Epoch 93/100\n",
      "114717/114717 [==============================] - 47s - loss: 0.3217    \n",
      "Epoch 94/100\n",
      "114717/114717 [==============================] - 47s - loss: 0.3194    \n",
      "Epoch 95/100\n",
      "114717/114717 [==============================] - 47s - loss: 0.3158    \n",
      "Epoch 96/100\n",
      "114717/114717 [==============================] - 47s - loss: 0.3133    \n",
      "Epoch 97/100\n"
     ]
    },
    {
     "name": "stdout",
     "output_type": "stream",
     "text": [
      "114717/114717 [==============================] - 47s - loss: 0.3112    \n",
      "Epoch 98/100\n",
      "114717/114717 [==============================] - 48s - loss: 0.3076    \n",
      "Epoch 99/100\n",
      "114717/114717 [==============================] - 48s - loss: 0.3057    \n",
      "Epoch 100/100\n",
      "114717/114717 [==============================] - 48s - loss: 0.3049    \n",
      "Training loss: 0.3049\n"
     ]
    },
    {
     "data": {
      "image/png": "[encoded data removed]",
      "text/plain": [
       "<matplotlib.figure.Figure at 0x7f5281f8e5c0>"
      ]
     },
     "metadata": {},
     "output_type": "display_data"
    }
   ],
   "source": [
    "from keras.models import Sequential\n",
    "from keras.layers import Dense, Activation, LSTM\n",
    "from keras.optimizers import RMSprop\n",
    "from keras.utils.data_utils import get_file\n",
    "import keras\n",
    "import random\n",
    "\n",
    "model = Sequential()  \n",
    "model.add(LSTM(200, input_shape = (window_size, num_chars)))  \n",
    "model.add(Dense(num_chars, activation=None))   \n",
    "model.add(Dense(num_chars, activation=\"softmax\")) \n",
    "\n",
    "optimizer = keras.optimizers.RMSprop(lr=0.001, rho=0.9, epsilon=1e-08, decay=0.0)\n",
    "\n",
    "model.compile(loss='categorical_crossentropy', optimizer=optimizer)\n",
    "\n",
    "\n",
    "# train the model\n",
    "callbacks = [keras.callbacks.EarlyStopping(monitor='loss', patience=3, verbose=1)]\n",
    "print(\"Training ...\")\n",
    "history = model.fit(X, y, batch_size=512, epochs=100,verbose=1, callbacks=callbacks)\n",
    "# model.save_weights('models/text_generation_weights.hdf5')\n",
    "\n",
    "helper.show_training(history)"
   ]
  },
  {
   "cell_type": "markdown",
   "metadata": {},
   "source": [
    "## Make predictions"
   ]
  },
  {
   "cell_type": "code",
   "execution_count": 12,
   "metadata": {},
   "outputs": [
    {
     "name": "stdout",
     "output_type": "stream",
     "text": [
      "------------------\n",
      "input chars = \n",
      "is eyes she eclipses and predominates the whole of her sex. it was not that he felt any emotion akin\"\n",
      "\n",
      "predicted chars = \n",
      " of the morth, and i know the deaph of it, i leme to loave a come to my own witcoke in the dressiss.\"\n",
      "\n",
      "------------------\n",
      "input chars = \n",
      " to love for irene adler. all emotions, and that one particularly, were abhorrent to his cold, preci\"\n",
      "\n",
      "predicted chars = \n",
      "st courtess the devely simple assurhy little beruer of a sistirater. the learoner of brivest about t\"\n",
      "\n",
      "------------------\n",
      "input chars = \n",
      "se but admirably balanced mind. he was, i take it, the most perfect reasoning and observing machine \"\n",
      "\n",
      "predicted chars = \n",
      "that the promencill you nowe, we could see that concausiver me. by my disprive, the door was facts a\"\n",
      "\n",
      "------------------\n",
      "input chars = \n",
      "that the world has seen, but as a lover he would have placed himself in a false position. he never s\"\n",
      "\n",
      "predicted chars = \n",
      "parmence as loom in his longrarce, papers, i despermentured this cile untouther lastreds, holmes fro\"\n",
      "\n",
      "------------------\n",
      "input chars = \n",
      "poke of the softer passions, save with a gibe and a sneer. they were admirable things for the observ\"\n",
      "\n",
      "predicted chars = \n",
      "e of the morted who was acceed sistage, said holmes, said holmes, when i have arempledsheched into c\"\n",
      "\n"
     ]
    }
   ],
   "source": [
    "model.save_weights('models/text_generation_weights.hdf5')\n",
    "\n",
    "\n",
    "def predict_next_chars(model,input_chars,num_to_predict):     \n",
    "    \"\"\" predict a number of future characters \"\"\"\n",
    "\n",
    "    predicted_chars = ''\n",
    "    for i in range(num_to_predict):\n",
    "        x_test = np.zeros((1, window_size, len(chars)))\n",
    "        for t, char in enumerate(input_chars):\n",
    "            x_test[0, t, chars_to_indices[char]] = 1.\n",
    "\n",
    "        test_predict = model.predict(x_test,verbose = 0)[0]\n",
    "\n",
    "        # translate numerical prediction back to characters\n",
    "        r = np.argmax(test_predict)\n",
    "        d = indices_to_chars[r] \n",
    "\n",
    "        # update predicted_chars and input\n",
    "        predicted_chars += d\n",
    "        input_chars += d\n",
    "        input_chars = input_chars[1:]\n",
    "    return predicted_chars\n",
    "\n",
    "\n",
    "for s in range(0,500,100):\n",
    "    start_index = s\n",
    "    input_chars = text[start_index: start_index + window_size]\n",
    "    predict_input = predict_next_chars(model,input_chars,num_to_predict = 100)\n",
    "\n",
    "    print('------------------')\n",
    "    input_line = 'input chars = ' + '\\n' +  input_chars + '\"' + '\\n'\n",
    "    print(input_line)\n",
    "\n",
    "    line = 'predicted chars = ' + '\\n' +  predict_input + '\"' + '\\n'\n",
    "    print(line)"
   ]
  },
  {
   "cell_type": "code",
   "execution_count": null,
   "metadata": {
    "collapsed": true
   },
   "outputs": [],
   "source": []
  }
 ],
 "metadata": {
  "kernelspec": {
   "display_name": "Python 3",
   "language": "python",
   "name": "python3"
  },
  "language_info": {
   "codemirror_mode": {
    "name": "ipython",
    "version": 3
   },
   "file_extension": ".py",
   "mimetype": "text/x-python",
   "name": "python",
   "nbconvert_exporter": "python",
   "pygments_lexer": "ipython3",
   "version": "3.6.1"
  }
 },
 "nbformat": 4,
 "nbformat_minor": 2
}
