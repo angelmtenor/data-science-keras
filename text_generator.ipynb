{
 "cells": [
  {
   "cell_type": "markdown",
   "metadata": {
    "collapsed": true
   },
   "source": [
    "#  English sequence generator \n",
    "\n",
    "Goal: Create an English language sequence generator capable of building semi-coherent English sentences from scratch by building them up character-by-character.\n",
    "\n",
    "Dataset:  Complete version of Sir Arthur Conan Doyle's classic book The Adventures of Sherlock Holmes\n",
    "\n",
    "Based on [RNN project: text generation](https://github.com/udacity/aind2-rnn) of the [Udacity's Artificial Intelligence  Nanodegree](https://www.udacity.com/course/artificial-intelligence-nanodegree--nd889)"
   ]
  },
  {
   "cell_type": "code",
   "execution_count": 16,
   "metadata": {
    "collapsed": true
   },
   "outputs": [],
   "source": [
    "%matplotlib inline\n",
    "import numpy as np\n",
    "import matplotlib.pyplot as plt\n",
    "import seaborn as sns"
   ]
  },
  {
   "cell_type": "markdown",
   "metadata": {},
   "source": [
    "## Load the data"
   ]
  },
  {
   "cell_type": "code",
   "execution_count": 17,
   "metadata": {},
   "outputs": [
    {
     "name": "stdout",
     "output_type": "stream",
     "text": [
      "Characters: 581864\n"
     ]
    },
    {
     "data": {
      "text/plain": [
       "\"\\ufeffproject gutenberg's the adventures of sherlock holmes, by arthur conan doyle\\n\\nthis ebook is for the use of anyone anywhere at no cost and with\\nalmost no restrictions whatsoever.  you may copy it, give it away or\\nre-use it under the terms of the project gutenberg license included\\nwith this ebook or \""
      ]
     },
     "execution_count": 17,
     "metadata": {},
     "output_type": "execute_result"
    }
   ],
   "source": [
    "text = open('data/holmes.txt').read().lower()\n",
    "print('Total characters: {}'.format(len(text)))\n",
    "text[:300]"
   ]
  },
  {
   "cell_type": "markdown",
   "metadata": {},
   "source": [
    "## Preprocess the data"
   ]
  },
  {
   "cell_type": "code",
   "execution_count": 18,
   "metadata": {},
   "outputs": [
    {
     "name": "stdout",
     "output_type": "stream",
     "text": [
      "{'4', 'c', 'n', 'k', 'j', '.', 'é', '\"', '7', '!', '0', 'q', 'à', 'r', '/', 'g', 'p', 'd', 'b', 'l', 'v', 'z', 'h', 'y', '9', '*', '$', 'â', 'e', 's', ':', 'm', 'i', ')', 'x', '(', '?', ',', 'f', 'è', ';', ' ', '2', 't', '6', '@', '&', 'o', 'w', 'u', '8', '3', '5', '1', 'a', \"'\", '-', '%'}\n"
     ]
    }
   ],
   "source": [
    "text = text[1302:]  # remove title, author page, and table of contents\n",
    "text = text.replace('\\n',' ') \n",
    "text = text.replace('\\r',' ')\n",
    "\n",
    "unique_characters = set(list(text))  \n",
    "print(unique_characters)"
   ]
  },
  {
   "cell_type": "code",
   "execution_count": 19,
   "metadata": {},
   "outputs": [
    {
     "data": {
      "text/plain": [
       "'is eyes she eclipses and predominates the whole of her sex. it was not that he felt any emotion akin to love for irene adler. all emotions, and that one particularly, were abhorrent to his cold, precise but admirably balanced mind. he was, i take it, the most perfect reasoning and observing machine '"
      ]
     },
     "execution_count": 19,
     "metadata": {},
     "output_type": "execute_result"
    }
   ],
   "source": [
    "# remove non-english characters \n",
    "import re\n",
    "text = re.sub(\"[$%&'()*@/àâèé0123456789-]\", \" \", text)\n",
    "text = text.replace('\"',' ')\n",
    "text = text.replace('  ',' ') # shorten any extra dead space created above\n",
    "text[:300]"
   ]
  },
  {
   "cell_type": "code",
   "execution_count": 21,
   "metadata": {},
   "outputs": [
    {
     "name": "stdout",
     "output_type": "stream",
     "text": [
      "Total characters: 573681\n",
      "Unique characters: 33\n"
     ]
    }
   ],
   "source": [
    "chars = sorted(list(set(text)))\n",
    "print('Total characters: {}'.format(len(text)))\n",
    "print('Unique characters: {}'.format(len(chars)))"
   ]
  },
  {
   "cell_type": "code",
   "execution_count": null,
   "metadata": {
    "collapsed": true
   },
   "outputs": [],
   "source": []
  },
  {
   "cell_type": "code",
   "execution_count": null,
   "metadata": {
    "collapsed": true
   },
   "outputs": [],
   "source": []
  }
 ],
 "metadata": {
  "kernelspec": {
   "display_name": "Python 3",
   "language": "python",
   "name": "python3"
  },
  "language_info": {
   "codemirror_mode": {
    "name": "ipython",
    "version": 3
   },
   "file_extension": ".py",
   "mimetype": "text/x-python",
   "name": "python",
   "nbconvert_exporter": "python",
   "pygments_lexer": "ipython3",
   "version": "3.6.1"
  }
 },
 "nbformat": 4,
 "nbformat_minor": 2
}
