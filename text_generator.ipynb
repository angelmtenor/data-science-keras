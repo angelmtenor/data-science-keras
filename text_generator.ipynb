{
 "cells": [
  {
   "cell_type": "markdown",
   "metadata": {
    "collapsed": true
   },
   "source": [
    "#  English sequence generator \n",
    "\n",
    "Goal: Create an English language sequence generator capable of building semi-coherent English sentences from scratch by building them up character-by-character.\n",
    "\n",
    "Dataset:  Complete version of Sir Arthur Conan Doyle's classic book The Adventures of Sherlock Holmes\n",
    "\n",
    "Based on [RNN project: text generation](https://github.com/udacity/aind2-rnn) of the [Udacity's Artificial Intelligence  Nanodegree](https://www.udacity.com/course/artificial-intelligence-nanodegree--nd889)"
   ]
  },
  {
   "cell_type": "code",
   "execution_count": 1,
   "metadata": {},
   "outputs": [
    {
     "name": "stderr",
     "output_type": "stream",
     "text": [
      "Using TensorFlow backend.\n"
     ]
    }
   ],
   "source": [
    "%matplotlib inline\n",
    "\n",
    "import os\n",
    "import numpy as np\n",
    "import matplotlib.pyplot as plt\n",
    "import seaborn as sns\n",
    "import keras\n",
    "import helper\n",
    "\n",
    "helper.reproducible(seed=9)\n",
    "sns.set()"
   ]
  },
  {
   "cell_type": "markdown",
   "metadata": {},
   "source": [
    "## Load and Process the data"
   ]
  },
  {
   "cell_type": "code",
   "execution_count": 2,
   "metadata": {},
   "outputs": [
    {
     "name": "stdout",
     "output_type": "stream",
     "text": [
      "Total characters: 581864\n"
     ]
    },
    {
     "data": {
      "text/plain": [
       "\"\\ufeffproject gutenberg's the adventures of sherlock holmes, by arthur conan doyle\\n\\nthis ebook is for the use of anyone anywhere at no cost and with\\nalmost no restrictions whatsoever.  you may copy it, give it away or\\nre-use it under the terms of the project gutenberg license included\\nwith this ebook or \""
      ]
     },
     "execution_count": 2,
     "metadata": {},
     "output_type": "execute_result"
    }
   ],
   "source": [
    "text = open('data/holmes.txt').read().lower()\n",
    "print('Total characters: {}'.format(len(text)))\n",
    "text[:300]"
   ]
  },
  {
   "cell_type": "markdown",
   "metadata": {},
   "source": [
    "### Preprocess the data"
   ]
  },
  {
   "cell_type": "code",
   "execution_count": 3,
   "metadata": {},
   "outputs": [
    {
     "name": "stdout",
     "output_type": "stream",
     "text": [
      "{'8', 'l', ':', 'm', 'z', 'j', 'w', '&', 'f', 's', 'i', '9', 'a', 'k', '3', '\"', '!', 'o', 'c', 'x', '0', '$', 'v', 't', '(', 'y', '*', '2', 'q', '%', '@', '7', '.', 'p', 'r', 'e', ')', '6', 'g', \"'\", '-', 'd', 'é', '1', 'h', '4', 'u', ',', 'n', 'â', 'b', '?', ';', ' ', 'è', 'à', '/', '5'}\n"
     ]
    }
   ],
   "source": [
    "text = text[1302:]  # remove title, author page, and table of contents\n",
    "text = text.replace('\\n',' ') \n",
    "text = text.replace('\\r',' ')\n",
    "\n",
    "unique_characters = set(list(text))  \n",
    "print(unique_characters)"
   ]
  },
  {
   "cell_type": "code",
   "execution_count": 4,
   "metadata": {},
   "outputs": [
    {
     "data": {
      "text/plain": [
       "'is eyes she eclipses and predominates the whole of her sex. it was not that he felt any emotion akin to love for irene adler. all emotions, and that one particularly, were abhorrent to his cold, precise but admirably balanced mind. he was, i take it, the most perfect reasoning and observing machine '"
      ]
     },
     "execution_count": 4,
     "metadata": {},
     "output_type": "execute_result"
    }
   ],
   "source": [
    "# remove non-english characters \n",
    "import re\n",
    "text = re.sub(\"[$%&'()*@/àâèé0123456789-]\", \" \", text)\n",
    "text = text.replace('\"',' ')\n",
    "text = text.replace('  ',' ') # shorten any extra dead space created above\n",
    "text[:300]"
   ]
  },
  {
   "cell_type": "code",
   "execution_count": 5,
   "metadata": {},
   "outputs": [
    {
     "name": "stdout",
     "output_type": "stream",
     "text": [
      "Total characters: 573681\n",
      "Unique characters: 33\n",
      "[' ', '!', ',', '.', ':', ';', '?', 'a', 'b', 'c', 'd', 'e', 'f', 'g', 'h', 'i', 'j', 'k', 'l', 'm', 'n', 'o', 'p', 'q', 'r', 's', 't', 'u', 'v', 'w', 'x', 'y', 'z']\n"
     ]
    }
   ],
   "source": [
    "chars = sorted(list(set(text)))\n",
    "num_chars = len(chars)\n",
    "print('Total characters: {}'.format(len(text)))\n",
    "print('Unique characters: {}'.format(num_chars))\n",
    "print(chars)"
   ]
  },
  {
   "cell_type": "markdown",
   "metadata": {},
   "source": [
    "### Split data into input/output pairs"
   ]
  },
  {
   "cell_type": "code",
   "execution_count": 6,
   "metadata": {
    "collapsed": true
   },
   "outputs": [],
   "source": [
    "# Transforms the input text and window-size into a set of input/output pairs \n",
    "#  for use with the RNN \"\"\"\n",
    "\n",
    "window_size = 100\n",
    "step_size = 5\n",
    "\n",
    "input_pairs = []\n",
    "output_pairs = []\n",
    "\n",
    "for i in range(0, len(text) - window_size, step_size):\n",
    "    input_pairs.append(text[i : i + window_size])   \n",
    "    output_pairs.append(text[i + window_size])       "
   ]
  },
  {
   "cell_type": "markdown",
   "metadata": {},
   "source": [
    "### One-hot encoding characters"
   ]
  },
  {
   "cell_type": "code",
   "execution_count": 7,
   "metadata": {
    "collapsed": true
   },
   "outputs": [],
   "source": [
    "chars_to_indices = dict((c, i) for i, c in enumerate(chars))\n",
    "indices_to_chars = dict((i, c) for i, c in enumerate(chars))\n",
    "\n",
    "# create variables for one-hot encoded input/output\n",
    "X = np.zeros((len(input_pairs), window_size, num_chars), dtype=np.bool)\n",
    "y = np.zeros((len(input_pairs), num_chars), dtype=np.bool)\n",
    "\n",
    "# transform character-based input_pairs/output_pairs into equivalent numerical versions\n",
    "for i, sentence in enumerate(input_pairs):\n",
    "    for t, char in enumerate(sentence):\n",
    "        X[i, t, chars_to_indices[char]] = 1\n",
    "    y[i, chars_to_indices[output_pairs[i]]] = 1"
   ]
  },
  {
   "cell_type": "markdown",
   "metadata": {},
   "source": [
    "## Recurrent Neural Network Model"
   ]
  },
  {
   "cell_type": "code",
   "execution_count": 8,
   "metadata": {
    "scrolled": false
   },
   "outputs": [
    {
     "name": "stdout",
     "output_type": "stream",
     "text": [
      "_________________________________________________________________\n",
      "Layer (type)                 Output Shape              Param #   \n",
      "=================================================================\n",
      "lstm_1 (LSTM)                (None, 200)               187200    \n",
      "_________________________________________________________________\n",
      "dense_1 (Dense)              (None, 33)                6633      \n",
      "_________________________________________________________________\n",
      "dense_2 (Dense)              (None, 33)                1122      \n",
      "=================================================================\n",
      "Total params: 194,955.0\n",
      "Trainable params: 194,955\n",
      "Non-trainable params: 0.0\n",
      "_________________________________________________________________\n",
      "Training ...\n",
      "CPU times: user 1h 6min 6s, sys: 9min 3s, total: 1h 15min 9s\n",
      "Wall time: 1h 18min 22s\n"
     ]
    },
    {
     "data": {
      "image/png": "[encoded data removed]",
      "text/plain": [
       "<matplotlib.figure.Figure at 0x7f033c5589e8>"
      ]
     },
     "metadata": {},
     "output_type": "display_data"
    },
    {
     "name": "stdout",
     "output_type": "stream",
     "text": [
      "\n",
      "Training loss:  \t0.3014\n",
      "\n",
      "Model saved at models/text_generator.h5\n"
     ]
    }
   ],
   "source": [
    "from keras.models import Sequential\n",
    "from keras.layers import Dense, Activation, LSTM\n",
    "\n",
    "model = Sequential()  \n",
    "model.add(LSTM(200, input_shape = (window_size, num_chars)))  \n",
    "model.add(Dense(num_chars, activation=None))   \n",
    "model.add(Dense(num_chars, activation=\"softmax\")) \n",
    "model.summary()\n",
    "\n",
    "optimizer = keras.optimizers.RMSprop(lr=0.001, rho=0.9, epsilon=1e-08, decay=0.0)\n",
    "\n",
    "model.compile(loss='categorical_crossentropy', optimizer=optimizer)\n",
    "\n",
    "# train the model\n",
    "print(\"Training ...\")\n",
    "%time history = model.fit(X, y, batch_size=512, epochs=100,verbose=0)\n",
    "helper.show_training(history)\n",
    "\n",
    "model_path = os.path.join(\"models\", \"text_generator.h5\")\n",
    "model.save(model_path)\n",
    "print(\"\\nModel saved at\",model_path)"
   ]
  },
  {
   "cell_type": "markdown",
   "metadata": {},
   "source": [
    "### Make predictions"
   ]
  },
  {
   "cell_type": "code",
   "execution_count": 9,
   "metadata": {},
   "outputs": [
    {
     "name": "stdout",
     "output_type": "stream",
     "text": [
      "Model loaded: models/text_generator.h5\n",
      "------------------\n",
      "input chars = \n",
      "is eyes she eclipses and predominates the whole of her sex. it was not that he felt any emotion akin\"\n",
      "\n",
      "predicted chars = \n",
      "g to a some day at the rome. bordor, holmes. i reservided gizing on a papen which we serought suid t\"\n",
      "\n",
      "------------------\n",
      "input chars = \n",
      " to love for irene adler. all emotions, and that one particularly, were abhorrent to his cold, preci\"\n",
      "\n",
      "predicted chars = \n",
      "sed and wishour to lay found outs poicting to him.   hould strebe uband as it forthive you not to si\"\n",
      "\n",
      "------------------\n",
      "input chars = \n",
      "se but admirably balanced mind. he was, i take it, the most perfect reasoning and observing machine \"\n",
      "\n",
      "predicted chars = \n",
      "the enception of the invelobe the gurits which he had derined wither in  yourselves and were sleeple\"\n",
      "\n",
      "------------------\n",
      "input chars = \n",
      "that the world has seen, but as a lover he would have placed himself in a false position. he never s\"\n",
      "\n",
      "predicted chars = \n",
      "preet. but a so glal of dissippo ont. when i could to day as the otters, and then, is the companiman\"\n",
      "\n",
      "------------------\n",
      "input chars = \n",
      "poke of the softer passions, save with a gibe and a sneer. they were admirable things for the observ\"\n",
      "\n",
      "predicted chars = \n",
      "e is diffect,  so the pipton round man, and if to y us, it was very slepuear to ansonvalion in clice\"\n",
      "\n"
     ]
    }
   ],
   "source": [
    "model = keras.models.load_model(model_path)\n",
    "print(\"Model loaded:\", model_path)\n",
    "\n",
    "\n",
    "def predict_next_chars(model,input_chars,num_to_predict):     \n",
    "    \"\"\" predict a number of future characters \"\"\"\n",
    "\n",
    "    predicted_chars = ''\n",
    "    for i in range(num_to_predict):\n",
    "        x_test = np.zeros((1, window_size, len(chars)))\n",
    "        for t, char in enumerate(input_chars):\n",
    "            x_test[0, t, chars_to_indices[char]] = 1.\n",
    "\n",
    "        test_predict = model.predict(x_test,verbose = 0)[0]\n",
    "\n",
    "        # translate numerical prediction back to characters\n",
    "        r = np.argmax(test_predict)\n",
    "        d = indices_to_chars[r] \n",
    "\n",
    "        # update predicted_chars and input\n",
    "        predicted_chars += d\n",
    "        input_chars += d\n",
    "        input_chars = input_chars[1:]\n",
    "    return predicted_chars\n",
    "\n",
    "\n",
    "for s in range(0,500,100):\n",
    "    start_index = s\n",
    "    input_chars = text[start_index: start_index + window_size]\n",
    "    predict_input = predict_next_chars(model,input_chars,num_to_predict = 100)\n",
    "\n",
    "    print('------------------')\n",
    "    input_line = 'input chars = ' + '\\n' +  input_chars + '\"' + '\\n'\n",
    "    print(input_line)\n",
    "\n",
    "    line = 'predicted chars = ' + '\\n' +  predict_input + '\"' + '\\n'\n",
    "    print(line)"
   ]
  }
 ],
 "metadata": {
  "kernelspec": {
   "display_name": "Python 3",
   "language": "python",
   "name": "python3"
  },
  "language_info": {
   "codemirror_mode": {
    "name": "ipython",
    "version": 3
   },
   "file_extension": ".py",
   "mimetype": "text/x-python",
   "name": "python",
   "nbconvert_exporter": "python",
   "pygments_lexer": "ipython3",
   "version": "3.6.2"
  }
 },
 "nbformat": 4,
 "nbformat_minor": 2
}
