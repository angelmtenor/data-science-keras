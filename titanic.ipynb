{
 "cells": [
  {
   "cell_type": "markdown",
   "metadata": {},
   "source": [
    "# Titanic Survival with DNN\n",
    "\n",
    "Supervised Learning. Binary classification\n",
    "\n",
    "Predict survival on the Titanic using an artificial neural network in Keras\n",
    "\n",
    "This project is based on a dataset containing demographics and passenger information from 891 of the 2224 passengers and crew on board the Titanic. A description of this dataset is on the [Kaggle website](https://www.kaggle.com/c/titanic/data), where the data was obtained."
   ]
  },
  {
   "cell_type": "code",
   "execution_count": 1,
   "metadata": {},
   "outputs": [
    {
     "name": "stderr",
     "output_type": "stream",
     "text": [
      "Using TensorFlow backend.\n"
     ]
    }
   ],
   "source": [
    "%matplotlib inline\n",
    "%load_ext autoreload\n",
    "%autoreload 2\n",
    "\n",
    "import os\n",
    "import numpy as np\n",
    "import pandas as pd\n",
    "import matplotlib.pyplot as plt\n",
    "import seaborn as sns\n",
    "import keras\n",
    "import helper\n",
    "\n",
    "helper.reproducible(seed=0)  # Setup reproducible results from run to run using Keras\n",
    "sns.set()"
   ]
  },
  {
   "cell_type": "markdown",
   "metadata": {},
   "source": [
    "## 1. Data Processing and Exploratory Data Analysis"
   ]
  },
  {
   "cell_type": "code",
   "execution_count": 2,
   "metadata": {},
   "outputs": [
    {
     "name": "stdout",
     "output_type": "stream",
     "text": [
      "891 rows \n",
      "12 columns \n",
      "target: ['Survived']\n"
     ]
    }
   ],
   "source": [
    "data_path = 'data/titanic_data.csv'\n",
    "target = ['Survived']  # the target will remain the same throughout the notebook\n",
    "\n",
    "original_df = pd.read_csv(data_path)\n",
    "print(\"{} rows \\n{} columns \\ntarget: {}\".format(*original_df.shape, target))"
   ]
  },
  {
   "cell_type": "markdown",
   "metadata": {},
   "source": [
    "### Show original data"
   ]
  },
  {
   "cell_type": "code",
   "execution_count": 3,
   "metadata": {
    "scrolled": true
   },
   "outputs": [
    {
     "data": {
      "text/html": [
       "<div>\n",
       "<style>\n",
       "    .dataframe thead tr:only-child th {\n",
       "        text-align: right;\n",
       "    }\n",
       "\n",
       "    .dataframe thead th {\n",
       "        text-align: left;\n",
       "    }\n",
       "\n",
       "    .dataframe tbody tr th {\n",
       "        vertical-align: top;\n",
       "    }\n",
       "</style>\n",
       "<table border=\"1\" class=\"dataframe\">\n",
       "  <thead>\n",
       "    <tr style=\"text-align: right;\">\n",
       "      <th></th>\n",
       "      <th>PassengerId</th>\n",
       "      <th>Survived</th>\n",
       "      <th>Pclass</th>\n",
       "      <th>Name</th>\n",
       "      <th>Sex</th>\n",
       "      <th>Age</th>\n",
       "      <th>SibSp</th>\n",
       "      <th>Parch</th>\n",
       "      <th>Ticket</th>\n",
       "      <th>Fare</th>\n",
       "      <th>Cabin</th>\n",
       "      <th>Embarked</th>\n",
       "    </tr>\n",
       "  </thead>\n",
       "  <tbody>\n",
       "    <tr>\n",
       "      <th>0</th>\n",
       "      <td>1</td>\n",
       "      <td>0</td>\n",
       "      <td>3</td>\n",
       "      <td>Braund, Mr. Owen Harris</td>\n",
       "      <td>male</td>\n",
       "      <td>22.0</td>\n",
       "      <td>1</td>\n",
       "      <td>0</td>\n",
       "      <td>A/5 21171</td>\n",
       "      <td>7.2500</td>\n",
       "      <td>NaN</td>\n",
       "      <td>S</td>\n",
       "    </tr>\n",
       "    <tr>\n",
       "      <th>1</th>\n",
       "      <td>2</td>\n",
       "      <td>1</td>\n",
       "      <td>1</td>\n",
       "      <td>Cumings, Mrs. John Bradley (Florence Briggs Th...</td>\n",
       "      <td>female</td>\n",
       "      <td>38.0</td>\n",
       "      <td>1</td>\n",
       "      <td>0</td>\n",
       "      <td>PC 17599</td>\n",
       "      <td>71.2833</td>\n",
       "      <td>C85</td>\n",
       "      <td>C</td>\n",
       "    </tr>\n",
       "    <tr>\n",
       "      <th>2</th>\n",
       "      <td>3</td>\n",
       "      <td>1</td>\n",
       "      <td>3</td>\n",
       "      <td>Heikkinen, Miss. Laina</td>\n",
       "      <td>female</td>\n",
       "      <td>26.0</td>\n",
       "      <td>0</td>\n",
       "      <td>0</td>\n",
       "      <td>STON/O2. 3101282</td>\n",
       "      <td>7.9250</td>\n",
       "      <td>NaN</td>\n",
       "      <td>S</td>\n",
       "    </tr>\n",
       "  </tbody>\n",
       "</table>\n",
       "</div>"
      ],
      "text/plain": [
       "   PassengerId  Survived  Pclass  \\\n",
       "0            1         0       3   \n",
       "1            2         1       1   \n",
       "2            3         1       3   \n",
       "\n",
       "                                                Name     Sex   Age  SibSp  \\\n",
       "0                            Braund, Mr. Owen Harris    male  22.0      1   \n",
       "1  Cumings, Mrs. John Bradley (Florence Briggs Th...  female  38.0      1   \n",
       "2                             Heikkinen, Miss. Laina  female  26.0      0   \n",
       "\n",
       "   Parch            Ticket     Fare Cabin Embarked  \n",
       "0      0         A/5 21171   7.2500   NaN        S  \n",
       "1      0          PC 17599  71.2833   C85        C  \n",
       "2      0  STON/O2. 3101282   7.9250   NaN        S  "
      ]
     },
     "execution_count": 3,
     "metadata": {},
     "output_type": "execute_result"
    }
   ],
   "source": [
    "original_df.head(3)"
   ]
  },
  {
   "cell_type": "markdown",
   "metadata": {},
   "source": [
    "#### Numerical Data"
   ]
  },
  {
   "cell_type": "code",
   "execution_count": 4,
   "metadata": {
    "scrolled": false
   },
   "outputs": [
    {
     "data": {
      "text/html": [
       "<div>\n",
       "<style>\n",
       "    .dataframe thead tr:only-child th {\n",
       "        text-align: right;\n",
       "    }\n",
       "\n",
       "    .dataframe thead th {\n",
       "        text-align: left;\n",
       "    }\n",
       "\n",
       "    .dataframe tbody tr th {\n",
       "        vertical-align: top;\n",
       "    }\n",
       "</style>\n",
       "<table border=\"1\" class=\"dataframe\">\n",
       "  <thead>\n",
       "    <tr style=\"text-align: right;\">\n",
       "      <th></th>\n",
       "      <th>PassengerId</th>\n",
       "      <th>Survived</th>\n",
       "      <th>Pclass</th>\n",
       "      <th>Age</th>\n",
       "      <th>SibSp</th>\n",
       "      <th>Parch</th>\n",
       "      <th>Fare</th>\n",
       "    </tr>\n",
       "  </thead>\n",
       "  <tbody>\n",
       "    <tr>\n",
       "      <th>count</th>\n",
       "      <td>891.000000</td>\n",
       "      <td>891.000000</td>\n",
       "      <td>891.000000</td>\n",
       "      <td>714.000000</td>\n",
       "      <td>891.000000</td>\n",
       "      <td>891.000000</td>\n",
       "      <td>891.000000</td>\n",
       "    </tr>\n",
       "    <tr>\n",
       "      <th>mean</th>\n",
       "      <td>446.000000</td>\n",
       "      <td>0.383838</td>\n",
       "      <td>2.308642</td>\n",
       "      <td>29.699118</td>\n",
       "      <td>0.523008</td>\n",
       "      <td>0.381594</td>\n",
       "      <td>32.204208</td>\n",
       "    </tr>\n",
       "    <tr>\n",
       "      <th>std</th>\n",
       "      <td>257.353842</td>\n",
       "      <td>0.486592</td>\n",
       "      <td>0.836071</td>\n",
       "      <td>14.526497</td>\n",
       "      <td>1.102743</td>\n",
       "      <td>0.806057</td>\n",
       "      <td>49.693429</td>\n",
       "    </tr>\n",
       "    <tr>\n",
       "      <th>min</th>\n",
       "      <td>1.000000</td>\n",
       "      <td>0.000000</td>\n",
       "      <td>1.000000</td>\n",
       "      <td>0.420000</td>\n",
       "      <td>0.000000</td>\n",
       "      <td>0.000000</td>\n",
       "      <td>0.000000</td>\n",
       "    </tr>\n",
       "    <tr>\n",
       "      <th>50%</th>\n",
       "      <td>446.000000</td>\n",
       "      <td>0.000000</td>\n",
       "      <td>3.000000</td>\n",
       "      <td>28.000000</td>\n",
       "      <td>0.000000</td>\n",
       "      <td>0.000000</td>\n",
       "      <td>14.454200</td>\n",
       "    </tr>\n",
       "    <tr>\n",
       "      <th>max</th>\n",
       "      <td>891.000000</td>\n",
       "      <td>1.000000</td>\n",
       "      <td>3.000000</td>\n",
       "      <td>80.000000</td>\n",
       "      <td>8.000000</td>\n",
       "      <td>6.000000</td>\n",
       "      <td>512.329200</td>\n",
       "    </tr>\n",
       "  </tbody>\n",
       "</table>\n",
       "</div>"
      ],
      "text/plain": [
       "       PassengerId    Survived      Pclass         Age       SibSp  \\\n",
       "count   891.000000  891.000000  891.000000  714.000000  891.000000   \n",
       "mean    446.000000    0.383838    2.308642   29.699118    0.523008   \n",
       "std     257.353842    0.486592    0.836071   14.526497    1.102743   \n",
       "min       1.000000    0.000000    1.000000    0.420000    0.000000   \n",
       "50%     446.000000    0.000000    3.000000   28.000000    0.000000   \n",
       "max     891.000000    1.000000    3.000000   80.000000    8.000000   \n",
       "\n",
       "            Parch        Fare  \n",
       "count  891.000000  891.000000  \n",
       "mean     0.381594   32.204208  \n",
       "std      0.806057   49.693429  \n",
       "min      0.000000    0.000000  \n",
       "50%      0.000000   14.454200  \n",
       "max      6.000000  512.329200  "
      ]
     },
     "execution_count": 4,
     "metadata": {},
     "output_type": "execute_result"
    }
   ],
   "source": [
    "original_df.describe(percentiles=[0.5])"
   ]
  },
  {
   "cell_type": "markdown",
   "metadata": {},
   "source": [
    "#### Non-numerical Data"
   ]
  },
  {
   "cell_type": "code",
   "execution_count": 5,
   "metadata": {
    "scrolled": true
   },
   "outputs": [
    {
     "data": {
      "text/html": [
       "<div>\n",
       "<style>\n",
       "    .dataframe thead tr:only-child th {\n",
       "        text-align: right;\n",
       "    }\n",
       "\n",
       "    .dataframe thead th {\n",
       "        text-align: left;\n",
       "    }\n",
       "\n",
       "    .dataframe tbody tr th {\n",
       "        vertical-align: top;\n",
       "    }\n",
       "</style>\n",
       "<table border=\"1\" class=\"dataframe\">\n",
       "  <thead>\n",
       "    <tr style=\"text-align: right;\">\n",
       "      <th></th>\n",
       "      <th>Name</th>\n",
       "      <th>Sex</th>\n",
       "      <th>Ticket</th>\n",
       "      <th>Cabin</th>\n",
       "      <th>Embarked</th>\n",
       "    </tr>\n",
       "  </thead>\n",
       "  <tbody>\n",
       "    <tr>\n",
       "      <th>count</th>\n",
       "      <td>891</td>\n",
       "      <td>891</td>\n",
       "      <td>891</td>\n",
       "      <td>204</td>\n",
       "      <td>889</td>\n",
       "    </tr>\n",
       "    <tr>\n",
       "      <th>unique</th>\n",
       "      <td>891</td>\n",
       "      <td>2</td>\n",
       "      <td>681</td>\n",
       "      <td>147</td>\n",
       "      <td>3</td>\n",
       "    </tr>\n",
       "    <tr>\n",
       "      <th>top</th>\n",
       "      <td>Meek, Mrs. Thomas (Annie Louise Rowley)</td>\n",
       "      <td>male</td>\n",
       "      <td>1601</td>\n",
       "      <td>G6</td>\n",
       "      <td>S</td>\n",
       "    </tr>\n",
       "    <tr>\n",
       "      <th>freq</th>\n",
       "      <td>1</td>\n",
       "      <td>577</td>\n",
       "      <td>7</td>\n",
       "      <td>4</td>\n",
       "      <td>644</td>\n",
       "    </tr>\n",
       "  </tbody>\n",
       "</table>\n",
       "</div>"
      ],
      "text/plain": [
       "                                           Name   Sex Ticket Cabin Embarked\n",
       "count                                       891   891    891   204      889\n",
       "unique                                      891     2    681   147        3\n",
       "top     Meek, Mrs. Thomas (Annie Louise Rowley)  male   1601    G6        S\n",
       "freq                                          1   577      7     4      644"
      ]
     },
     "execution_count": 5,
     "metadata": {},
     "output_type": "execute_result"
    }
   ],
   "source": [
    "original_df.describe(include=['O'])"
   ]
  },
  {
   "cell_type": "markdown",
   "metadata": {},
   "source": [
    "#### Missing values"
   ]
  },
  {
   "cell_type": "code",
   "execution_count": 6,
   "metadata": {
    "scrolled": true
   },
   "outputs": [
    {
     "data": {
      "image/png": "[encoded data removed]",
      "text/plain": [
       "<matplotlib.figure.Figure at 0x7f7a04d29f98>"
      ]
     },
     "metadata": {},
     "output_type": "display_data"
    }
   ],
   "source": [
    "helper.missing(original_df)"
   ]
  },
  {
   "cell_type": "markdown",
   "metadata": {},
   "source": [
    "- Binary target \"Survived\": ~38% ones; F1 score won't be used <br>\n",
    "- Some values are missing for key values (e.g. Age)\n",
    "- Some features (e.g. PassengerID, Name, Ticket) seem irelevant to survival probabilities <br> "
   ]
  },
  {
   "cell_type": "markdown",
   "metadata": {},
   "source": [
    "### Transform features"
   ]
  },
  {
   "cell_type": "markdown",
   "metadata": {},
   "source": [
    "#### Enhance and add new features"
   ]
  },
  {
   "cell_type": "code",
   "execution_count": 7,
   "metadata": {
    "scrolled": true
   },
   "outputs": [],
   "source": [
    "df = original_df.copy()  # modified dataset\n",
    "\n",
    "\n",
    "def enhance_features(df, inplace=False):\n",
    "    \"\"\" Enchance dataframe df \"\"\"\n",
    "\n",
    "    if not inplace:\n",
    "        df = df.copy()\n",
    "        \n",
    "    # filter Cabin to first letter\n",
    "    df[\"Cabin\"] = df[\"Cabin\"].str[0]\n",
    "\n",
    "    # get Title from Name\n",
    "    df['Title'] = df[\"Name\"].str.extract('([A-Za-z]+)\\.', expand=False)\n",
    "\n",
    "    # remove low frequency values for the new feautres\n",
    "    fields = ['Cabin', 'Title']\n",
    "    df.loc[:, fields] = helper.remove_lowfreq(df.loc[:, fields], show=False)\n",
    "\n",
    "    # Alone passenger\n",
    "    df['Alone'] = ((df[\"SibSp\"] + df[\"Parch\"]) == 0)\n",
    "    \n",
    "    if not inplace:\n",
    "        return df\n",
    "\n",
    "\n",
    "enhance_features(df, inplace=True)"
   ]
  },
  {
   "cell_type": "markdown",
   "metadata": {},
   "source": [
    "#### Delete irrelevant features\n"
   ]
  },
  {
   "cell_type": "code",
   "execution_count": 8,
   "metadata": {
    "collapsed": true,
    "scrolled": true
   },
   "outputs": [],
   "source": [
    "def drop_irrelevant_features(df, inplace=False):\n",
    "    \"\"\" Remove non-relevant columns from dataftame df (inplace) \"\"\"\n",
    "    \n",
    "    if not inplace:\n",
    "        df = df.copy()\n",
    "        \n",
    "    df.drop(['PassengerId', 'Name', 'Ticket'], axis='columns', inplace=True)\n",
    "\n",
    "    if not inplace:\n",
    "        return df\n",
    "\n",
    "    \n",
    "drop_irrelevant_features(df, inplace=True)"
   ]
  },
  {
   "cell_type": "markdown",
   "metadata": {},
   "source": [
    "### Classify variables\n",
    "\n",
    "Change categorical variables as dtype 'categorical' and sort columns: numerical + categorical + target"
   ]
  },
  {
   "cell_type": "code",
   "execution_count": 9,
   "metadata": {
    "scrolled": true
   },
   "outputs": [
    {
     "data": {
      "text/html": [
       "<div>\n",
       "<style>\n",
       "    .dataframe thead tr:only-child th {\n",
       "        text-align: right;\n",
       "    }\n",
       "\n",
       "    .dataframe thead th {\n",
       "        text-align: left;\n",
       "    }\n",
       "\n",
       "    .dataframe tbody tr th {\n",
       "        vertical-align: top;\n",
       "    }\n",
       "</style>\n",
       "<table border=\"1\" class=\"dataframe\">\n",
       "  <thead>\n",
       "    <tr style=\"text-align: right;\">\n",
       "      <th></th>\n",
       "      <th>Age</th>\n",
       "      <th>SibSp</th>\n",
       "      <th>Parch</th>\n",
       "      <th>Fare</th>\n",
       "      <th>Pclass</th>\n",
       "      <th>Sex</th>\n",
       "      <th>Cabin</th>\n",
       "      <th>Embarked</th>\n",
       "      <th>Title</th>\n",
       "      <th>Alone</th>\n",
       "      <th>Survived</th>\n",
       "    </tr>\n",
       "  </thead>\n",
       "  <tbody>\n",
       "    <tr>\n",
       "      <th>Type</th>\n",
       "      <td>float64</td>\n",
       "      <td>int64</td>\n",
       "      <td>int64</td>\n",
       "      <td>float64</td>\n",
       "      <td>category</td>\n",
       "      <td>category</td>\n",
       "      <td>category</td>\n",
       "      <td>category</td>\n",
       "      <td>category</td>\n",
       "      <td>category</td>\n",
       "      <td>category</td>\n",
       "    </tr>\n",
       "  </tbody>\n",
       "</table>\n",
       "</div>"
      ],
      "text/plain": [
       "          Age  SibSp  Parch     Fare    Pclass       Sex     Cabin  Embarked  \\\n",
       "Type  float64  int64  int64  float64  category  category  category  category   \n",
       "\n",
       "         Title     Alone  Survived  \n",
       "Type  category  category  category  "
      ]
     },
     "execution_count": 9,
     "metadata": {},
     "output_type": "execute_result"
    }
   ],
   "source": [
    "# numerical = list(df.select_dtypes(include=[np.number]))\n",
    "df = helper.classify_data(df, target, numerical=[\"Age\", \"SibSp\", \"Parch\", \"Fare\"])\n",
    "\n",
    "pd.DataFrame(dict(df.dtypes), index=[\"Type\"])[df.columns].head() # show data types"
   ]
  },
  {
   "cell_type": "markdown",
   "metadata": {},
   "source": [
    "### Visualize the data"
   ]
  },
  {
   "cell_type": "markdown",
   "metadata": {},
   "source": [
    "#### Categorical features"
   ]
  },
  {
   "cell_type": "code",
   "execution_count": 10,
   "metadata": {
    "scrolled": false
   },
   "outputs": [
    {
     "data": {
      "image/png": "[encoded data removed]",
      "text/plain": [
       "<matplotlib.figure.Figure at 0x7f7a04bcb7b8>"
      ]
     },
     "metadata": {},
     "output_type": "display_data"
    }
   ],
   "source": [
    "helper.show_categorical(df, target=target, sharey=True)"
   ]
  },
  {
   "cell_type": "markdown",
   "metadata": {},
   "source": [
    "#### Target vs Categorical features"
   ]
  },
  {
   "cell_type": "code",
   "execution_count": 11,
   "metadata": {},
   "outputs": [
    {
     "data": {
      "image/png": "[encoded data removed]",
      "text/plain": [
       "<matplotlib.figure.Figure at 0x7f7a04c0d390>"
      ]
     },
     "metadata": {},
     "output_type": "display_data"
    }
   ],
   "source": [
    "helper.show_target_vs_categorical(df, target)\n",
    "plt.ylim([0, 1]);"
   ]
  },
  {
   "cell_type": "markdown",
   "metadata": {},
   "source": [
    "#### Numerical features"
   ]
  },
  {
   "cell_type": "code",
   "execution_count": 12,
   "metadata": {
    "scrolled": true
   },
   "outputs": [
    {
     "data": {
      "image/png": "[encoded data removed]",
      "text/plain": [
       "<matplotlib.figure.Figure at 0x7f79a43fe748>"
      ]
     },
     "metadata": {},
     "output_type": "display_data"
    }
   ],
   "source": [
    "helper.show_numerical(df, kde=True)"
   ]
  },
  {
   "cell_type": "markdown",
   "metadata": {},
   "source": [
    "#### Target vs numerical features"
   ]
  },
  {
   "cell_type": "code",
   "execution_count": 13,
   "metadata": {
    "scrolled": false
   },
   "outputs": [
    {
     "data": {
      "image/png": "[encoded data removed]",
      "text/plain": [
       "<matplotlib.figure.Figure at 0x7f7999fd1550>"
      ]
     },
     "metadata": {},
     "output_type": "display_data"
    }
   ],
   "source": [
    "helper.show_target_vs_numerical(df, target, jitter=0.2)\n",
    "plt.ylim([-0.4, 1.4])\n",
    "plt.yticks([0, 1]);\n",
    "#df.groupby('Survived')['Age'].hist(alpha=0.4)\n",
    "# helper.show_target_vs_numerical(df_3sigma, target, numerical, jitter=0.2)"
   ]
  },
  {
   "cell_type": "markdown",
   "metadata": {},
   "source": [
    "#### Correlation between numerical features and target"
   ]
  },
  {
   "cell_type": "code",
   "execution_count": 14,
   "metadata": {
    "scrolled": false
   },
   "outputs": [
    {
     "data": {
      "image/png": "[encoded data removed]",
      "text/plain": [
       "<matplotlib.figure.Figure at 0x7f79b4030c18>"
      ]
     },
     "metadata": {},
     "output_type": "display_data"
    }
   ],
   "source": [
    "helper.show_correlation(df, target)"
   ]
  },
  {
   "cell_type": "markdown",
   "metadata": {},
   "source": [
    "#### Most relevant features"
   ]
  },
  {
   "cell_type": "code",
   "execution_count": 15,
   "metadata": {
    "scrolled": false
   },
   "outputs": [
    {
     "data": {
      "image/png": "[encoded data removed]",
      "text/plain": [
       "<matplotlib.figure.Figure at 0x7f79b4159cc0>"
      ]
     },
     "metadata": {},
     "output_type": "display_data"
    }
   ],
   "source": [
    "sns.FacetGrid(\n",
    "    df, row=\"Sex\", col=\"Pclass\", hue=\"Survived\", size=3, margin_titles=True).map(\n",
    "        plt.hist, \"Age\", alpha=.7).add_legend()\n",
    "plt.ylim([0, 70]);\n",
    "# df[['Title', 'Survived']].groupby(['Title'], as_index=False).mean().sort_values(\n",
    "#     by='Survived', ascending=False)\n",
    "# helper.show_target_vs_categorical(df.loc[(df['Age']<12) | (df['Sex']=='female')],\n",
    "#                                   target, categorical)"
   ]
  },
  {
   "cell_type": "markdown",
   "metadata": {},
   "source": [
    "-  Unlike in third class, most children and women in first and second classes survived."
   ]
  },
  {
   "cell_type": "markdown",
   "metadata": {},
   "source": [
    "### Fill missing values"
   ]
  },
  {
   "cell_type": "code",
   "execution_count": 16,
   "metadata": {
    "scrolled": true
   },
   "outputs": [
    {
     "data": {
      "image/png": "[encoded data removed]",
      "text/plain": [
       "<matplotlib.figure.Figure at 0x7f79a4110898>"
      ]
     },
     "metadata": {},
     "output_type": "display_data"
    }
   ],
   "source": [
    "helper.missing(df)"
   ]
  },
  {
   "cell_type": "code",
   "execution_count": 17,
   "metadata": {},
   "outputs": [
    {
     "data": {
      "image/png": "[encoded data removed]",
      "text/plain": [
       "<matplotlib.figure.Figure at 0x7f79a4193400>"
      ]
     },
     "metadata": {},
     "output_type": "display_data"
    }
   ],
   "source": [
    "plt.figure(figsize=(7, 3))\n",
    "sns.countplot(data=df, x='Pclass', hue='Cabin');"
   ]
  },
  {
   "cell_type": "code",
   "execution_count": 18,
   "metadata": {
    "scrolled": true
   },
   "outputs": [
    {
     "data": {
      "image/png": "[encoded data removed]",
      "text/plain": [
       "<matplotlib.figure.Figure at 0x7f79a41bab70>"
      ]
     },
     "metadata": {},
     "output_type": "display_data"
    }
   ],
   "source": [
    "helper.show_target_vs_categorical(df, ['Age'], figsize=(17, 2))  # Age vs categorical"
   ]
  },
  {
   "cell_type": "code",
   "execution_count": 19,
   "metadata": {},
   "outputs": [
    {
     "data": {
      "text/html": [
       "<div>\n",
       "<style>\n",
       "    .dataframe thead tr:only-child th {\n",
       "        text-align: right;\n",
       "    }\n",
       "\n",
       "    .dataframe thead th {\n",
       "        text-align: left;\n",
       "    }\n",
       "\n",
       "    .dataframe tbody tr th {\n",
       "        vertical-align: top;\n",
       "    }\n",
       "</style>\n",
       "<table border=\"1\" class=\"dataframe\">\n",
       "  <thead>\n",
       "    <tr style=\"text-align: right;\">\n",
       "      <th></th>\n",
       "      <th>Age</th>\n",
       "      <th>SibSp</th>\n",
       "      <th>Parch</th>\n",
       "      <th>Fare</th>\n",
       "      <th>Pclass</th>\n",
       "      <th>Sex</th>\n",
       "      <th>Cabin</th>\n",
       "      <th>Embarked</th>\n",
       "      <th>Title</th>\n",
       "      <th>Alone</th>\n",
       "      <th>Survived</th>\n",
       "    </tr>\n",
       "  </thead>\n",
       "  <tbody>\n",
       "    <tr>\n",
       "      <th>0</th>\n",
       "      <td>22.0</td>\n",
       "      <td>1</td>\n",
       "      <td>0</td>\n",
       "      <td>7.2500</td>\n",
       "      <td>3</td>\n",
       "      <td>male</td>\n",
       "      <td>E</td>\n",
       "      <td>S</td>\n",
       "      <td>Mr</td>\n",
       "      <td>False</td>\n",
       "      <td>0</td>\n",
       "    </tr>\n",
       "    <tr>\n",
       "      <th>1</th>\n",
       "      <td>38.0</td>\n",
       "      <td>1</td>\n",
       "      <td>0</td>\n",
       "      <td>71.2833</td>\n",
       "      <td>1</td>\n",
       "      <td>female</td>\n",
       "      <td>C</td>\n",
       "      <td>C</td>\n",
       "      <td>Mrs</td>\n",
       "      <td>False</td>\n",
       "      <td>1</td>\n",
       "    </tr>\n",
       "    <tr>\n",
       "      <th>2</th>\n",
       "      <td>26.0</td>\n",
       "      <td>0</td>\n",
       "      <td>0</td>\n",
       "      <td>7.9250</td>\n",
       "      <td>3</td>\n",
       "      <td>female</td>\n",
       "      <td>E</td>\n",
       "      <td>S</td>\n",
       "      <td>Miss</td>\n",
       "      <td>True</td>\n",
       "      <td>1</td>\n",
       "    </tr>\n",
       "    <tr>\n",
       "      <th>3</th>\n",
       "      <td>35.0</td>\n",
       "      <td>1</td>\n",
       "      <td>0</td>\n",
       "      <td>53.1000</td>\n",
       "      <td>1</td>\n",
       "      <td>female</td>\n",
       "      <td>C</td>\n",
       "      <td>S</td>\n",
       "      <td>Mrs</td>\n",
       "      <td>False</td>\n",
       "      <td>1</td>\n",
       "    </tr>\n",
       "    <tr>\n",
       "      <th>4</th>\n",
       "      <td>35.0</td>\n",
       "      <td>0</td>\n",
       "      <td>0</td>\n",
       "      <td>8.0500</td>\n",
       "      <td>3</td>\n",
       "      <td>male</td>\n",
       "      <td>E</td>\n",
       "      <td>S</td>\n",
       "      <td>Mr</td>\n",
       "      <td>True</td>\n",
       "      <td>0</td>\n",
       "    </tr>\n",
       "  </tbody>\n",
       "</table>\n",
       "</div>"
      ],
      "text/plain": [
       "    Age  SibSp  Parch     Fare Pclass     Sex Cabin Embarked Title  Alone  \\\n",
       "0  22.0      1      0   7.2500      3    male     E        S    Mr  False   \n",
       "1  38.0      1      0  71.2833      1  female     C        C   Mrs  False   \n",
       "2  26.0      0      0   7.9250      3  female     E        S  Miss   True   \n",
       "3  35.0      1      0  53.1000      1  female     C        S   Mrs  False   \n",
       "4  35.0      0      0   8.0500      3    male     E        S    Mr   True   \n",
       "\n",
       "  Survived  \n",
       "0        0  \n",
       "1        1  \n",
       "2        1  \n",
       "3        1  \n",
       "4        0  "
      ]
     },
     "execution_count": 19,
     "metadata": {},
     "output_type": "execute_result"
    }
   ],
   "source": [
    "def fill_missing_values(df, inplace=False):\n",
    "    \"\"\" Fill missing values of the dataframe df \"\"\"\n",
    "\n",
    "    if not inplace:\n",
    "        df = df.copy()\n",
    "\n",
    "    # fill Embarked with mode\n",
    "    df['Embarked'].fillna(df['Embarked'].mode()[0], inplace=True)\n",
    "    \n",
    "    # fill Cabin: the mode for grouped Pclass and Embarked  \n",
    "    ref = df.groupby(['Pclass', 'Embarked'])['Cabin'].transform(lambda x: x.mode()[0])\n",
    "    df['Cabin'].fillna(ref.iloc[0], inplace=True)\n",
    "        \n",
    "    # fill Age: the median for grouped Pclass and Title\n",
    "    ref = df.groupby(['Pclass', 'Title'])['Age'].transform('median')\n",
    "    df['Age'].fillna(ref, inplace=True)\n",
    "\n",
    "    # fill Title: by age and sex only (not spouse or job)\n",
    "    # df.loc[df['Title']=='Master','Age'].unique()\n",
    "#     for idx, row in df.iterrows():\n",
    "#         if (pd.isnull(row['Title'])):\n",
    "#             if row['Age'] >= 13:\n",
    "#                 if row['Sex'] == 'male':\n",
    "#                     df.loc[idx, 'Title'] = \"Mr\"\n",
    "#                 else:\n",
    "#                     df.loc[idx, 'Title'] = \"Mrs\"\n",
    "#             else:\n",
    "#                 if row['Sex'] == 'male':\n",
    "#                     df.loc[idx, 'Title'] = \"Master\"\n",
    "#                 else:\n",
    "#                     df.loc[idx, 'Title'] = \"Miss\"     \n",
    "    \n",
    "    # fill missing categorical values with the mode (if any)\n",
    "    categorical = list(df.select_dtypes(include=['category']))\n",
    "    modes = df[categorical].mode()  # this solves fillna issue with mode()\n",
    "    for idx, f in enumerate(df[categorical]):\n",
    "        df[f].fillna(modes.iloc[0, idx], inplace=True)\n",
    "\n",
    "    # fill missing numeric NaN values with the median (if any)\n",
    "    df.fillna(df.median(), inplace=True)\n",
    "\n",
    "    if not inplace:\n",
    "        return df\n",
    "\n",
    "\n",
    "# bins = list(range(0,80,10))\n",
    "# # bins = (0, 5, 10, 15, 20, 30, 40, 50, 60)\n",
    "# labels = [\"{}-{}\".format(i, j) for i,j in zip(bins[:-1],bins[:-1])]\n",
    "# df['Age_cat'] = pd.cut(df['Age'], bins, labels=labels).astype('category')\n",
    "# df = df.drop(['Age'], axis='columns')\n",
    "\n",
    "fill_missing_values(df, inplace=True)\n",
    "copy_df = df.copy()  # save checkpoint"
   ]
  },
  {
   "cell_type": "markdown",
   "metadata": {},
   "source": [
    "## 2. Neural Network model"
   ]
  },
  {
   "cell_type": "markdown",
   "metadata": {},
   "source": [
    "### Select the features for the model"
   ]
  },
  {
   "cell_type": "code",
   "execution_count": 20,
   "metadata": {
    "scrolled": true
   },
   "outputs": [
    {
     "data": {
      "text/html": [
       "<div>\n",
       "<style>\n",
       "    .dataframe thead tr:only-child th {\n",
       "        text-align: right;\n",
       "    }\n",
       "\n",
       "    .dataframe thead th {\n",
       "        text-align: left;\n",
       "    }\n",
       "\n",
       "    .dataframe tbody tr th {\n",
       "        vertical-align: top;\n",
       "    }\n",
       "</style>\n",
       "<table border=\"1\" class=\"dataframe\">\n",
       "  <thead>\n",
       "    <tr style=\"text-align: right;\">\n",
       "      <th></th>\n",
       "      <th>Age</th>\n",
       "      <th>SibSp</th>\n",
       "      <th>Parch</th>\n",
       "      <th>Fare</th>\n",
       "      <th>Pclass</th>\n",
       "      <th>Sex</th>\n",
       "      <th>Cabin</th>\n",
       "      <th>Embarked</th>\n",
       "      <th>Title</th>\n",
       "      <th>Alone</th>\n",
       "      <th>Survived</th>\n",
       "    </tr>\n",
       "  </thead>\n",
       "  <tbody>\n",
       "    <tr>\n",
       "      <th>0</th>\n",
       "      <td>22.0</td>\n",
       "      <td>1</td>\n",
       "      <td>0</td>\n",
       "      <td>7.2500</td>\n",
       "      <td>3</td>\n",
       "      <td>male</td>\n",
       "      <td>E</td>\n",
       "      <td>S</td>\n",
       "      <td>Mr</td>\n",
       "      <td>False</td>\n",
       "      <td>0</td>\n",
       "    </tr>\n",
       "    <tr>\n",
       "      <th>1</th>\n",
       "      <td>38.0</td>\n",
       "      <td>1</td>\n",
       "      <td>0</td>\n",
       "      <td>71.2833</td>\n",
       "      <td>1</td>\n",
       "      <td>female</td>\n",
       "      <td>C</td>\n",
       "      <td>C</td>\n",
       "      <td>Mrs</td>\n",
       "      <td>False</td>\n",
       "      <td>1</td>\n",
       "    </tr>\n",
       "    <tr>\n",
       "      <th>2</th>\n",
       "      <td>26.0</td>\n",
       "      <td>0</td>\n",
       "      <td>0</td>\n",
       "      <td>7.9250</td>\n",
       "      <td>3</td>\n",
       "      <td>female</td>\n",
       "      <td>E</td>\n",
       "      <td>S</td>\n",
       "      <td>Miss</td>\n",
       "      <td>True</td>\n",
       "      <td>1</td>\n",
       "    </tr>\n",
       "    <tr>\n",
       "      <th>3</th>\n",
       "      <td>35.0</td>\n",
       "      <td>1</td>\n",
       "      <td>0</td>\n",
       "      <td>53.1000</td>\n",
       "      <td>1</td>\n",
       "      <td>female</td>\n",
       "      <td>C</td>\n",
       "      <td>S</td>\n",
       "      <td>Mrs</td>\n",
       "      <td>False</td>\n",
       "      <td>1</td>\n",
       "    </tr>\n",
       "    <tr>\n",
       "      <th>4</th>\n",
       "      <td>35.0</td>\n",
       "      <td>0</td>\n",
       "      <td>0</td>\n",
       "      <td>8.0500</td>\n",
       "      <td>3</td>\n",
       "      <td>male</td>\n",
       "      <td>E</td>\n",
       "      <td>S</td>\n",
       "      <td>Mr</td>\n",
       "      <td>True</td>\n",
       "      <td>0</td>\n",
       "    </tr>\n",
       "  </tbody>\n",
       "</table>\n",
       "</div>"
      ],
      "text/plain": [
       "    Age  SibSp  Parch     Fare Pclass     Sex Cabin Embarked Title  Alone  \\\n",
       "0  22.0      1      0   7.2500      3    male     E        S    Mr  False   \n",
       "1  38.0      1      0  71.2833      1  female     C        C   Mrs  False   \n",
       "2  26.0      0      0   7.9250      3  female     E        S  Miss   True   \n",
       "3  35.0      1      0  53.1000      1  female     C        S   Mrs  False   \n",
       "4  35.0      0      0   8.0500      3    male     E        S    Mr   True   \n",
       "\n",
       "  Survived  \n",
       "0        0  \n",
       "1        1  \n",
       "2        1  \n",
       "3        1  \n",
       "4        0  "
      ]
     },
     "execution_count": 20,
     "metadata": {},
     "output_type": "execute_result"
    }
   ],
   "source": [
    "drop_features = [] # features to drop\n",
    "\n",
    "df = copy_df.copy() # Restore checkpoint\n",
    "\n",
    "df.drop(drop_features, axis='columns', inplace=True)\n",
    "# From now use data instead of df\n",
    "data = df.copy()\n",
    "data.head(3)"
   ]
  },
  {
   "cell_type": "markdown",
   "metadata": {},
   "source": [
    "### Normalize numerical variables"
   ]
  },
  {
   "cell_type": "markdown",
   "metadata": {},
   "source": [
    "Shift and scale the variables such that they have zero mean and a standard deviation of 1. The scaling factors are saved so we can go backwards when we use the network for predictions"
   ]
  },
  {
   "cell_type": "code",
   "execution_count": 21,
   "metadata": {
    "collapsed": true
   },
   "outputs": [],
   "source": [
    "data, scale = helper.normalize(data)"
   ]
  },
  {
   "cell_type": "markdown",
   "metadata": {},
   "source": [
    "### Create dummy features"
   ]
  },
  {
   "cell_type": "code",
   "execution_count": 22,
   "metadata": {},
   "outputs": [
    {
     "data": {
      "text/html": [
       "<div>\n",
       "<style>\n",
       "    .dataframe thead tr:only-child th {\n",
       "        text-align: right;\n",
       "    }\n",
       "\n",
       "    .dataframe thead th {\n",
       "        text-align: left;\n",
       "    }\n",
       "\n",
       "    .dataframe tbody tr th {\n",
       "        vertical-align: top;\n",
       "    }\n",
       "</style>\n",
       "<table border=\"1\" class=\"dataframe\">\n",
       "  <thead>\n",
       "    <tr style=\"text-align: right;\">\n",
       "      <th></th>\n",
       "      <th>Age</th>\n",
       "      <th>SibSp</th>\n",
       "      <th>Parch</th>\n",
       "      <th>Fare</th>\n",
       "      <th>Survived</th>\n",
       "      <th>Pclass_1</th>\n",
       "      <th>Pclass_2</th>\n",
       "      <th>Pclass_3</th>\n",
       "      <th>Sex_female</th>\n",
       "      <th>Sex_male</th>\n",
       "      <th>...</th>\n",
       "      <th>Cabin_F</th>\n",
       "      <th>Embarked_C</th>\n",
       "      <th>Embarked_Q</th>\n",
       "      <th>Embarked_S</th>\n",
       "      <th>Title_Master</th>\n",
       "      <th>Title_Miss</th>\n",
       "      <th>Title_Mr</th>\n",
       "      <th>Title_Mrs</th>\n",
       "      <th>Alone_False</th>\n",
       "      <th>Alone_True</th>\n",
       "    </tr>\n",
       "  </thead>\n",
       "  <tbody>\n",
       "    <tr>\n",
       "      <th>0</th>\n",
       "      <td>-0.528175</td>\n",
       "      <td>0.432550</td>\n",
       "      <td>-0.473408</td>\n",
       "      <td>-0.502163</td>\n",
       "      <td>0</td>\n",
       "      <td>0</td>\n",
       "      <td>0</td>\n",
       "      <td>1</td>\n",
       "      <td>0</td>\n",
       "      <td>1</td>\n",
       "      <td>...</td>\n",
       "      <td>0</td>\n",
       "      <td>0</td>\n",
       "      <td>0</td>\n",
       "      <td>1</td>\n",
       "      <td>0</td>\n",
       "      <td>0</td>\n",
       "      <td>1</td>\n",
       "      <td>0</td>\n",
       "      <td>1</td>\n",
       "      <td>0</td>\n",
       "    </tr>\n",
       "    <tr>\n",
       "      <th>1</th>\n",
       "      <td>0.658128</td>\n",
       "      <td>0.432550</td>\n",
       "      <td>-0.473408</td>\n",
       "      <td>0.786404</td>\n",
       "      <td>1</td>\n",
       "      <td>1</td>\n",
       "      <td>0</td>\n",
       "      <td>0</td>\n",
       "      <td>1</td>\n",
       "      <td>0</td>\n",
       "      <td>...</td>\n",
       "      <td>0</td>\n",
       "      <td>1</td>\n",
       "      <td>0</td>\n",
       "      <td>0</td>\n",
       "      <td>0</td>\n",
       "      <td>0</td>\n",
       "      <td>0</td>\n",
       "      <td>1</td>\n",
       "      <td>1</td>\n",
       "      <td>0</td>\n",
       "    </tr>\n",
       "    <tr>\n",
       "      <th>2</th>\n",
       "      <td>-0.231600</td>\n",
       "      <td>-0.474279</td>\n",
       "      <td>-0.473408</td>\n",
       "      <td>-0.488580</td>\n",
       "      <td>1</td>\n",
       "      <td>0</td>\n",
       "      <td>0</td>\n",
       "      <td>1</td>\n",
       "      <td>1</td>\n",
       "      <td>0</td>\n",
       "      <td>...</td>\n",
       "      <td>0</td>\n",
       "      <td>0</td>\n",
       "      <td>0</td>\n",
       "      <td>1</td>\n",
       "      <td>0</td>\n",
       "      <td>1</td>\n",
       "      <td>0</td>\n",
       "      <td>0</td>\n",
       "      <td>0</td>\n",
       "      <td>1</td>\n",
       "    </tr>\n",
       "    <tr>\n",
       "      <th>3</th>\n",
       "      <td>0.435696</td>\n",
       "      <td>0.432550</td>\n",
       "      <td>-0.473408</td>\n",
       "      <td>0.420494</td>\n",
       "      <td>1</td>\n",
       "      <td>1</td>\n",
       "      <td>0</td>\n",
       "      <td>0</td>\n",
       "      <td>1</td>\n",
       "      <td>0</td>\n",
       "      <td>...</td>\n",
       "      <td>0</td>\n",
       "      <td>0</td>\n",
       "      <td>0</td>\n",
       "      <td>1</td>\n",
       "      <td>0</td>\n",
       "      <td>0</td>\n",
       "      <td>0</td>\n",
       "      <td>1</td>\n",
       "      <td>1</td>\n",
       "      <td>0</td>\n",
       "    </tr>\n",
       "    <tr>\n",
       "      <th>4</th>\n",
       "      <td>0.435696</td>\n",
       "      <td>-0.474279</td>\n",
       "      <td>-0.473408</td>\n",
       "      <td>-0.486064</td>\n",
       "      <td>0</td>\n",
       "      <td>0</td>\n",
       "      <td>0</td>\n",
       "      <td>1</td>\n",
       "      <td>0</td>\n",
       "      <td>1</td>\n",
       "      <td>...</td>\n",
       "      <td>0</td>\n",
       "      <td>0</td>\n",
       "      <td>0</td>\n",
       "      <td>1</td>\n",
       "      <td>0</td>\n",
       "      <td>0</td>\n",
       "      <td>1</td>\n",
       "      <td>0</td>\n",
       "      <td>0</td>\n",
       "      <td>1</td>\n",
       "    </tr>\n",
       "  </tbody>\n",
       "</table>\n",
       "<p>5 rows × 25 columns</p>\n",
       "</div>"
      ],
      "text/plain": [
       "        Age     SibSp     Parch      Fare Survived Pclass_1 Pclass_2 Pclass_3  \\\n",
       "0 -0.528175  0.432550 -0.473408 -0.502163        0        0        0        1   \n",
       "1  0.658128  0.432550 -0.473408  0.786404        1        1        0        0   \n",
       "2 -0.231600 -0.474279 -0.473408 -0.488580        1        0        0        1   \n",
       "3  0.435696  0.432550 -0.473408  0.420494        1        1        0        0   \n",
       "4  0.435696 -0.474279 -0.473408 -0.486064        0        0        0        1   \n",
       "\n",
       "  Sex_female Sex_male    ...     Cabin_F Embarked_C Embarked_Q Embarked_S  \\\n",
       "0          0        1    ...           0          0          0          1   \n",
       "1          1        0    ...           0          1          0          0   \n",
       "2          1        0    ...           0          0          0          1   \n",
       "3          1        0    ...           0          0          0          1   \n",
       "4          0        1    ...           0          0          0          1   \n",
       "\n",
       "  Title_Master Title_Miss Title_Mr Title_Mrs Alone_False Alone_True  \n",
       "0            0          0        1         0           1          0  \n",
       "1            0          0        0         1           1          0  \n",
       "2            0          1        0         0           0          1  \n",
       "3            0          0        0         1           1          0  \n",
       "4            0          0        1         0           0          1  \n",
       "\n",
       "[5 rows x 25 columns]"
      ]
     },
     "execution_count": 22,
     "metadata": {},
     "output_type": "execute_result"
    }
   ],
   "source": [
    "# features only; target should be encoded later\n",
    "data, dummies = helper.create_dummy(data, target)\n",
    "\n",
    "# ordered neural network features (with dummies)\n",
    "nn_features = [f for f in data if f not in target]\n",
    "\n",
    "data.head()"
   ]
  },
  {
   "cell_type": "markdown",
   "metadata": {},
   "source": [
    "### Split the data into training and test sets"
   ]
  },
  {
   "cell_type": "code",
   "execution_count": 23,
   "metadata": {},
   "outputs": [],
   "source": [
    "from sklearn.model_selection import train_test_split\n",
    "\n",
    "\n",
    "def split(data, test_size=0.15):\n",
    "    train, test = train_test_split(data, test_size=test_size, random_state=9)\n",
    "\n",
    "    # Separate the data into features and target (x=features, y=target)\n",
    "    x_train, y_train = train.drop(target, axis=1).values, train[target].values\n",
    "    x_test, y_test = test.drop(target, axis=1).values, test[target].values\n",
    "    # _nc: non-categorical yet (needs one-hot encoding)\n",
    "\n",
    "    return x_train, y_train, x_test, y_test\n",
    "\n",
    "\n",
    "x_train, y_train, x_test, y_test = split(data, test_size=0.2)"
   ]
  },
  {
   "cell_type": "markdown",
   "metadata": {},
   "source": [
    "### One-hot encode the output"
   ]
  },
  {
   "cell_type": "code",
   "execution_count": 24,
   "metadata": {},
   "outputs": [
    {
     "name": "stdout",
     "output_type": "stream",
     "text": [
      "(712, 24) (712, 2)\n",
      "(179, 24) (179, 2)\n"
     ]
    }
   ],
   "source": [
    "def one_hot_output(y_train, y_test):\n",
    "    num_classes = len(np.unique(y_train))\n",
    "    y_train = keras.utils.to_categorical(y_train, num_classes)\n",
    "    y_test = keras.utils.to_categorical(y_test, num_classes)\n",
    "    return y_train, y_test\n",
    "\n",
    "\n",
    "y_train, y_test = one_hot_output(y_train, y_test)\n",
    "\n",
    "print(x_train.shape, y_train.shape)\n",
    "print(x_test.shape, y_test.shape)"
   ]
  },
  {
   "cell_type": "markdown",
   "metadata": {},
   "source": [
    "### Build the Neural Network"
   ]
  },
  {
   "cell_type": "code",
   "execution_count": 25,
   "metadata": {},
   "outputs": [
    {
     "name": "stdout",
     "output_type": "stream",
     "text": [
      "_________________________________________________________________\n",
      "Layer (type)                 Output Shape              Param #   \n",
      "=================================================================\n",
      "dense_1 (Dense)              (None, 24)                600       \n",
      "_________________________________________________________________\n",
      "dropout_1 (Dropout)          (None, 24)                0         \n",
      "_________________________________________________________________\n",
      "dense_2 (Dense)              (None, 2)                 50        \n",
      "=================================================================\n",
      "Total params: 650\n",
      "Trainable params: 650\n",
      "Non-trainable params: 0\n",
      "_________________________________________________________________\n"
     ]
    }
   ],
   "source": [
    "from keras.models import Sequential\n",
    "from keras.layers.core import Dense, Dropout\n",
    "\n",
    "\n",
    "def build_nn(input_size, output_size, summary=False):\n",
    "\n",
    "    input_nodes = input_size\n",
    "    weights = keras.initializers.RandomNormal(stddev=0.001)\n",
    "\n",
    "    model = Sequential()\n",
    "    model.add(\n",
    "        Dense(\n",
    "            input_nodes,\n",
    "            input_dim=input_size,\n",
    "            activation='relu',\n",
    "            kernel_initializer=weights,\n",
    "            bias_initializer='zero'))\n",
    "\n",
    "    model.add(Dropout(.2))\n",
    "\n",
    "    model.add(\n",
    "        Dense(\n",
    "            output_size,\n",
    "            activation='softmax',\n",
    "            kernel_initializer=weights,\n",
    "            bias_initializer='zero'))\n",
    "\n",
    "    if summary:\n",
    "        model.summary()\n",
    "\n",
    "    model.compile(loss='binary_crossentropy', optimizer='adam', metrics=['accuracy'])\n",
    "\n",
    "    return model\n",
    "\n",
    "\n",
    "model = build_nn(x_train.shape[1], y_train.shape[1], summary=True)"
   ]
  },
  {
   "cell_type": "markdown",
   "metadata": {},
   "source": [
    "### Train the Neural Network"
   ]
  },
  {
   "cell_type": "code",
   "execution_count": 26,
   "metadata": {},
   "outputs": [
    {
     "name": "stdout",
     "output_type": "stream",
     "text": [
      "Training ....\n",
      "time: \t 2.9 s\n"
     ]
    },
    {
     "data": {
      "image/png": "[encoded data removed]",
      "text/plain": [
       "<matplotlib.figure.Figure at 0x7f7a04c60588>"
      ]
     },
     "metadata": {},
     "output_type": "display_data"
    },
    {
     "name": "stdout",
     "output_type": "stream",
     "text": [
      "\n",
      "Training loss:  \t0.3602\n",
      "Validation loss: \t0.4031\n",
      "\n",
      "Training accuracy: \t0.854\n",
      "Validation accuracy:\t0.843\n",
      "\n",
      "Model saved at models/titanic.h5\n"
     ]
    }
   ],
   "source": [
    "from time import time\n",
    "model_path = os.path.join(\"models\", \"titanic.h5\")\n",
    "\n",
    "\n",
    "def train_nn(model, x_train, y_train, validation_data=None, path=False, show=True):\n",
    "    \"\"\" \n",
    "    Train the neural network model. If no validation_datais provided, a split for validation\n",
    "    will be used\n",
    "    \"\"\"\n",
    "    \n",
    "    if show:\n",
    "        print('Training ....')\n",
    "    \n",
    "    callbacks = [keras.callbacks.EarlyStopping(monitor='val_loss', patience=5, verbose=0)]\n",
    "    t0 = time()\n",
    "\n",
    "    history = model.fit(\n",
    "        x_train,\n",
    "        y_train,\n",
    "        epochs=1000,\n",
    "        batch_size=64,\n",
    "        verbose=0,\n",
    "        validation_split=0.25,\n",
    "        validation_data = validation_data,\n",
    "        callbacks=callbacks)\n",
    "\n",
    "    if show:\n",
    "        print(\"time: \\t {:.1f} s\".format(time() - t0))\n",
    "        helper.show_training(history)\n",
    "\n",
    "    if path:\n",
    "        model.save(path)\n",
    "        print(\"\\nModel saved at\", path)\n",
    "    \n",
    "    return history\n",
    "        \n",
    "\n",
    "model = None\n",
    "model = build_nn(x_train.shape[1], y_train.shape[1], summary=False)\n",
    "train_nn(model, x_train, y_train, path=model_path);"
   ]
  },
  {
   "cell_type": "markdown",
   "metadata": {},
   "source": [
    "### Validate the Neural Network model"
   ]
  },
  {
   "cell_type": "code",
   "execution_count": 27,
   "metadata": {
    "scrolled": true
   },
   "outputs": [
    {
     "name": "stdout",
     "output_type": "stream",
     "text": [
      "Training 4 models for Cross Validation ...\n",
      "\n",
      "Cross Validation accuracy: 0.840\n"
     ]
    }
   ],
   "source": [
    "from sklearn.model_selection import StratifiedKFold\n",
    "\n",
    "n_splits = 4\n",
    "\n",
    "skf = StratifiedKFold(n_splits=n_splits, shuffle=True)\n",
    "\n",
    "score = []\n",
    "\n",
    "best_model = None\n",
    "best_acc = 0\n",
    "\n",
    "print('Training {} models for Cross Validation ...'.format(n_splits))\n",
    "\n",
    "for train, val in skf.split(x_train[:,0], y_train[:,0]):     \n",
    "    model = None\n",
    "    model = build_nn(x_train.shape[1], y_train.shape[1], summary=False)\n",
    "    history = train_nn(\n",
    "        model,\n",
    "        x_train[train],\n",
    "        y_train[train],\n",
    "        show=False,\n",
    "        validation_data=(x_train[val], y_train[val]))\n",
    "\n",
    "    val_acc = history.history['val_acc'][-1]\n",
    "    \n",
    "    score.append(val_acc )\n",
    "    \n",
    "    if val_acc > best_acc:  # save best model (fold) for evaluation and predictions\n",
    "        best_model = model\n",
    "        best_acc = val_acc\n",
    "\n",
    "model = best_model    \n",
    "print('\\nCross Validation accuracy: {:.3f}'.format(np.mean(score)))"
   ]
  },
  {
   "cell_type": "markdown",
   "metadata": {},
   "source": [
    "### Evaluate the model"
   ]
  },
  {
   "cell_type": "code",
   "execution_count": 28,
   "metadata": {},
   "outputs": [
    {
     "name": "stdout",
     "output_type": "stream",
     "text": [
      "Test Accuracy: 0.810\n"
     ]
    }
   ],
   "source": [
    "def evaluate_nn(model, x_test, y_test):\n",
    "    score = model.evaluate(x_test, y_test, verbose=0)\n",
    "    print(\"Test Accuracy: {:.3f}\".format(score[1]))\n",
    "\n",
    "\n",
    "#model = keras.models.load_model(model_path)\n",
    "evaluate_nn(model, x_test, y_test)"
   ]
  },
  {
   "cell_type": "markdown",
   "metadata": {},
   "source": [
    "### Make predictions"
   ]
  },
  {
   "cell_type": "code",
   "execution_count": 29,
   "metadata": {
    "collapsed": true
   },
   "outputs": [],
   "source": [
    "def predict_manual(new_df):\n",
    "    \"\"\"\n",
    "    input: custom dataframe \n",
    "    \"\"\"\n",
    "    \n",
    "    new_data = new_df.copy()\n",
    "    \n",
    "    # force data types to previous dataframe df \n",
    "    for col in list(new_data):\n",
    "        new_data[col] = new_data[col].astype(df.dtypes[col])\n",
    "    \n",
    "    # normalize numerical variables\n",
    "    new_data, _ = helper.normalize(new_data, scale)\n",
    "    \n",
    "    # replace categorical features by dummy variables (using existing dummies)\n",
    "    new_data, _ = helper.create_dummy(new_data, target, dummies)\n",
    "\n",
    "    # sort columns to match with manual entries\n",
    "    new_data = new_data[nn_features] ## nn_features: sorted list used in the NN model\n",
    "\n",
    "    # make predictions\n",
    "    prediction = model.predict(new_data.values)[:, 1]\n",
    "    return (prediction)\n",
    "\n",
    "\n",
    "#     for index, row in new_data.iterrows():\n",
    "#         single_pred = model.predict(np.array([row]))\n",
    "#         print('{}:\\t {:.0f}%'.format(index,single_pred[0,1] * 100))"
   ]
  },
  {
   "cell_type": "code",
   "execution_count": 30,
   "metadata": {},
   "outputs": [
    {
     "data": {
      "text/html": [
       "<div>\n",
       "<style>\n",
       "    .dataframe thead tr:only-child th {\n",
       "        text-align: right;\n",
       "    }\n",
       "\n",
       "    .dataframe thead th {\n",
       "        text-align: left;\n",
       "    }\n",
       "\n",
       "    .dataframe tbody tr th {\n",
       "        vertical-align: top;\n",
       "    }\n",
       "</style>\n",
       "<table border=\"1\" class=\"dataframe\">\n",
       "  <thead>\n",
       "    <tr style=\"text-align: right;\">\n",
       "      <th></th>\n",
       "      <th>Age</th>\n",
       "      <th>SibSp</th>\n",
       "      <th>Parch</th>\n",
       "      <th>Fare</th>\n",
       "    </tr>\n",
       "  </thead>\n",
       "  <tbody>\n",
       "    <tr>\n",
       "      <th>count</th>\n",
       "      <td>891.000000</td>\n",
       "      <td>891.000000</td>\n",
       "      <td>891.000000</td>\n",
       "      <td>891.000000</td>\n",
       "    </tr>\n",
       "    <tr>\n",
       "      <th>mean</th>\n",
       "      <td>29.123648</td>\n",
       "      <td>0.523008</td>\n",
       "      <td>0.381594</td>\n",
       "      <td>32.204208</td>\n",
       "    </tr>\n",
       "    <tr>\n",
       "      <th>std</th>\n",
       "      <td>13.487280</td>\n",
       "      <td>1.102743</td>\n",
       "      <td>0.806057</td>\n",
       "      <td>49.693429</td>\n",
       "    </tr>\n",
       "    <tr>\n",
       "      <th>min</th>\n",
       "      <td>0.420000</td>\n",
       "      <td>0.000000</td>\n",
       "      <td>0.000000</td>\n",
       "      <td>0.000000</td>\n",
       "    </tr>\n",
       "    <tr>\n",
       "      <th>25%</th>\n",
       "      <td>21.000000</td>\n",
       "      <td>0.000000</td>\n",
       "      <td>0.000000</td>\n",
       "      <td>7.910400</td>\n",
       "    </tr>\n",
       "    <tr>\n",
       "      <th>50%</th>\n",
       "      <td>26.000000</td>\n",
       "      <td>0.000000</td>\n",
       "      <td>0.000000</td>\n",
       "      <td>14.454200</td>\n",
       "    </tr>\n",
       "    <tr>\n",
       "      <th>75%</th>\n",
       "      <td>36.250000</td>\n",
       "      <td>1.000000</td>\n",
       "      <td>0.000000</td>\n",
       "      <td>31.000000</td>\n",
       "    </tr>\n",
       "    <tr>\n",
       "      <th>max</th>\n",
       "      <td>80.000000</td>\n",
       "      <td>8.000000</td>\n",
       "      <td>6.000000</td>\n",
       "      <td>512.329200</td>\n",
       "    </tr>\n",
       "  </tbody>\n",
       "</table>\n",
       "</div>"
      ],
      "text/plain": [
       "              Age       SibSp       Parch        Fare\n",
       "count  891.000000  891.000000  891.000000  891.000000\n",
       "mean    29.123648    0.523008    0.381594   32.204208\n",
       "std     13.487280    1.102743    0.806057   49.693429\n",
       "min      0.420000    0.000000    0.000000    0.000000\n",
       "25%     21.000000    0.000000    0.000000    7.910400\n",
       "50%     26.000000    0.000000    0.000000   14.454200\n",
       "75%     36.250000    1.000000    0.000000   31.000000\n",
       "max     80.000000    8.000000    6.000000  512.329200"
      ]
     },
     "execution_count": 30,
     "metadata": {},
     "output_type": "execute_result"
    }
   ],
   "source": [
    "# input data format\n",
    "df.describe()"
   ]
  },
  {
   "cell_type": "code",
   "execution_count": 31,
   "metadata": {},
   "outputs": [
    {
     "data": {
      "text/html": [
       "<div>\n",
       "<style>\n",
       "    .dataframe thead tr:only-child th {\n",
       "        text-align: right;\n",
       "    }\n",
       "\n",
       "    .dataframe thead th {\n",
       "        text-align: left;\n",
       "    }\n",
       "\n",
       "    .dataframe tbody tr th {\n",
       "        vertical-align: top;\n",
       "    }\n",
       "</style>\n",
       "<table border=\"1\" class=\"dataframe\">\n",
       "  <thead>\n",
       "    <tr style=\"text-align: right;\">\n",
       "      <th></th>\n",
       "      <th>Pclass</th>\n",
       "      <th>Sex</th>\n",
       "      <th>Cabin</th>\n",
       "      <th>Embarked</th>\n",
       "      <th>Title</th>\n",
       "      <th>Alone</th>\n",
       "      <th>Survived</th>\n",
       "    </tr>\n",
       "  </thead>\n",
       "  <tbody>\n",
       "    <tr>\n",
       "      <th>count</th>\n",
       "      <td>891</td>\n",
       "      <td>891</td>\n",
       "      <td>891</td>\n",
       "      <td>891</td>\n",
       "      <td>891</td>\n",
       "      <td>891</td>\n",
       "      <td>891</td>\n",
       "    </tr>\n",
       "    <tr>\n",
       "      <th>unique</th>\n",
       "      <td>3</td>\n",
       "      <td>2</td>\n",
       "      <td>6</td>\n",
       "      <td>3</td>\n",
       "      <td>4</td>\n",
       "      <td>2</td>\n",
       "      <td>2</td>\n",
       "    </tr>\n",
       "    <tr>\n",
       "      <th>top</th>\n",
       "      <td>3</td>\n",
       "      <td>male</td>\n",
       "      <td>E</td>\n",
       "      <td>S</td>\n",
       "      <td>Mr</td>\n",
       "      <td>True</td>\n",
       "      <td>0</td>\n",
       "    </tr>\n",
       "    <tr>\n",
       "      <th>freq</th>\n",
       "      <td>491</td>\n",
       "      <td>577</td>\n",
       "      <td>724</td>\n",
       "      <td>646</td>\n",
       "      <td>544</td>\n",
       "      <td>537</td>\n",
       "      <td>549</td>\n",
       "    </tr>\n",
       "  </tbody>\n",
       "</table>\n",
       "</div>"
      ],
      "text/plain": [
       "        Pclass   Sex Cabin Embarked Title Alone  Survived\n",
       "count      891   891   891      891   891   891       891\n",
       "unique       3     2     6        3     4     2         2\n",
       "top          3  male     E        S    Mr  True         0\n",
       "freq       491   577   724      646   544   537       549"
      ]
     },
     "execution_count": 31,
     "metadata": {},
     "output_type": "execute_result"
    }
   ],
   "source": [
    "df.describe(include=['category'])"
   ]
  },
  {
   "cell_type": "code",
   "execution_count": 32,
   "metadata": {},
   "outputs": [
    {
     "name": "stdout",
     "output_type": "stream",
     "text": [
      "['Age', 'SibSp', 'Parch', 'Fare', 'Pclass', 'Sex', 'Cabin', 'Embarked', 'Title', 'Alone', 'Survived']\n"
     ]
    }
   ],
   "source": [
    "print(list(df))"
   ]
  },
  {
   "cell_type": "code",
   "execution_count": 33,
   "metadata": {},
   "outputs": [
    {
     "data": {
      "text/html": [
       "<div>\n",
       "<style>\n",
       "    .dataframe thead tr:only-child th {\n",
       "        text-align: right;\n",
       "    }\n",
       "\n",
       "    .dataframe thead th {\n",
       "        text-align: left;\n",
       "    }\n",
       "\n",
       "    .dataframe tbody tr th {\n",
       "        vertical-align: top;\n",
       "    }\n",
       "</style>\n",
       "<table border=\"1\" class=\"dataframe\">\n",
       "  <thead>\n",
       "    <tr style=\"text-align: right;\">\n",
       "      <th></th>\n",
       "      <th>Age</th>\n",
       "      <th>SibSp</th>\n",
       "      <th>Parch</th>\n",
       "      <th>Fare</th>\n",
       "      <th>Pclass</th>\n",
       "      <th>Sex</th>\n",
       "      <th>Cabin</th>\n",
       "      <th>Embarked</th>\n",
       "      <th>Title</th>\n",
       "      <th>Alone</th>\n",
       "      <th>Survival prob. (%)</th>\n",
       "    </tr>\n",
       "  </thead>\n",
       "  <tbody>\n",
       "    <tr>\n",
       "      <th>Average man</th>\n",
       "      <td>26</td>\n",
       "      <td>1</td>\n",
       "      <td>0</td>\n",
       "      <td>14</td>\n",
       "      <td>2</td>\n",
       "      <td>male</td>\n",
       "      <td>C</td>\n",
       "      <td>S</td>\n",
       "      <td>Mr</td>\n",
       "      <td>0</td>\n",
       "      <td>16</td>\n",
       "    </tr>\n",
       "    <tr>\n",
       "      <th>Average woman</th>\n",
       "      <td>26</td>\n",
       "      <td>1</td>\n",
       "      <td>0</td>\n",
       "      <td>14</td>\n",
       "      <td>2</td>\n",
       "      <td>female</td>\n",
       "      <td>C</td>\n",
       "      <td>S</td>\n",
       "      <td>Mrs</td>\n",
       "      <td>0</td>\n",
       "      <td>90</td>\n",
       "    </tr>\n",
       "    <tr>\n",
       "      <th>Alone woman 3c</th>\n",
       "      <td>26</td>\n",
       "      <td>0</td>\n",
       "      <td>2</td>\n",
       "      <td>8</td>\n",
       "      <td>3</td>\n",
       "      <td>female</td>\n",
       "      <td>C</td>\n",
       "      <td>S</td>\n",
       "      <td>Miss</td>\n",
       "      <td>1</td>\n",
       "      <td>41</td>\n",
       "    </tr>\n",
       "    <tr>\n",
       "      <th>Boy 1c</th>\n",
       "      <td>7</td>\n",
       "      <td>0</td>\n",
       "      <td>2</td>\n",
       "      <td>31</td>\n",
       "      <td>1</td>\n",
       "      <td>male</td>\n",
       "      <td>C</td>\n",
       "      <td>S</td>\n",
       "      <td>Master</td>\n",
       "      <td>0</td>\n",
       "      <td>89</td>\n",
       "    </tr>\n",
       "    <tr>\n",
       "      <th>Boy 2c</th>\n",
       "      <td>7</td>\n",
       "      <td>0</td>\n",
       "      <td>2</td>\n",
       "      <td>14</td>\n",
       "      <td>2</td>\n",
       "      <td>male</td>\n",
       "      <td>C</td>\n",
       "      <td>S</td>\n",
       "      <td>Master</td>\n",
       "      <td>0</td>\n",
       "      <td>87</td>\n",
       "    </tr>\n",
       "    <tr>\n",
       "      <th>Boy 3c</th>\n",
       "      <td>7</td>\n",
       "      <td>0</td>\n",
       "      <td>2</td>\n",
       "      <td>8</td>\n",
       "      <td>3</td>\n",
       "      <td>male</td>\n",
       "      <td>C</td>\n",
       "      <td>S</td>\n",
       "      <td>Master</td>\n",
       "      <td>0</td>\n",
       "      <td>61</td>\n",
       "    </tr>\n",
       "  </tbody>\n",
       "</table>\n",
       "</div>"
      ],
      "text/plain": [
       "                Age  SibSp  Parch  Fare  Pclass     Sex Cabin Embarked  \\\n",
       "Average man      26      1      0    14       2    male     C        S   \n",
       "Average woman    26      1      0    14       2  female     C        S   \n",
       "Alone woman 3c   26      0      2     8       3  female     C        S   \n",
       "Boy 1c            7      0      2    31       1    male     C        S   \n",
       "Boy 2c            7      0      2    14       2    male     C        S   \n",
       "Boy 3c            7      0      2     8       3    male     C        S   \n",
       "\n",
       "                 Title  Alone  Survival prob. (%)  \n",
       "Average man         Mr      0                  16  \n",
       "Average woman      Mrs      0                  90  \n",
       "Alone woman 3c    Miss      1                  41  \n",
       "Boy 1c          Master      0                  89  \n",
       "Boy 2c          Master      0                  87  \n",
       "Boy 3c          Master      0                  61  "
      ]
     },
     "execution_count": 33,
     "metadata": {},
     "output_type": "execute_result"
    }
   ],
   "source": [
    "new_passengers = {\n",
    "    'Average man':    [26, 1, 0, 14, 2, 'male',   'C', 'S', 'Mr', 0],\n",
    "    'Average woman':  [26, 1, 0, 14, 2, 'female', 'C', 'S', 'Mrs', 0],\n",
    "    'Alone woman 3c': [26, 0, 2, 8, 3, 'female',  'C', 'S', 'Miss', 1],\n",
    "    'Boy 1c ':        [7, 0, 2, 31, 1, 'male',    'C', 'S', 'Master', 0],\n",
    "    'Boy 2c ':        [7, 0, 2, 14, 2, 'male',    'C', 'S', 'Master', 0],\n",
    "    'Boy 3c ':        [7, 0, 2, 8, 3, 'male',     'C', 'S', 'Master', 0],\n",
    "}\n",
    "\n",
    "# create a dataframe with the new data\n",
    "new_df = pd.DataFrame(\n",
    "    data=list(new_passengers.values()),\n",
    "    index=new_passengers.keys(),\n",
    "    columns= [f for f in list(df) if f not in target])\n",
    "\n",
    "prediction = predict_manual(new_df)\n",
    "new_df['Survival prob. (%)'] = (prediction * 100).astype(int)\n",
    "new_df"
   ]
  },
  {
   "cell_type": "markdown",
   "metadata": {},
   "source": [
    "The results predicted from the model confirm the impact of the sex for the survival probabilities, as well as the class for the survival of women and children."
   ]
  },
  {
   "cell_type": "markdown",
   "metadata": {},
   "source": [
    "### Compare with non-enhanced features"
   ]
  },
  {
   "cell_type": "code",
   "execution_count": 34,
   "metadata": {},
   "outputs": [
    {
     "name": "stdout",
     "output_type": "stream",
     "text": [
      "Test Accuracy: 0.776\n"
     ]
    }
   ],
   "source": [
    "# Same dataset without:\n",
    "#   enhancing features\n",
    "#   adding new features\n",
    "#   filling missing values using grouped median\n",
    "\n",
    "df2 = original_df.copy()\n",
    "\n",
    "# select features & classify features\n",
    "df2.drop(['PassengerId', 'Name', 'Ticket', 'Cabin'], axis='columns', inplace=True)\n",
    "df2 = helper.classify_data(df2, target, numerical=[\"Age\", \"SibSp\", \"Parch\", \"Fare\"])\n",
    "\n",
    "# fill NaN\n",
    "df2.fillna(df2.median(), inplace=True)\n",
    "\n",
    "# Normalize and create dummies\n",
    "data2, _ = helper.normalize(df2)\n",
    "data2, _ = helper.create_dummy(data2, target)\n",
    "\n",
    "# split and one-hot output\n",
    "x_train2, y_train2, x_test2, y_test2 = split(data2, test_size=0.15)\n",
    "y_train2, y_test2 = one_hot_output(y_train2, y_test2)\n",
    "\n",
    "# build, train and evaluate model\n",
    "model2 = build_nn(x_train2.shape[1], y_train2.shape[1], summary=False)\n",
    "train_nn(model2, x_train2, y_train2, path=False, show=False)\n",
    "evaluate_nn(model2, x_test2, y_test2)"
   ]
  },
  {
   "cell_type": "markdown",
   "metadata": {},
   "source": [
    "### Compare removing outliers"
   ]
  },
  {
   "cell_type": "code",
   "execution_count": 35,
   "metadata": {},
   "outputs": [
    {
     "name": "stdout",
     "output_type": "stream",
     "text": [
      "Test Accuracy: 0.776\n"
     ]
    }
   ],
   "source": [
    "df3 = original_df.copy()\n",
    "\n",
    "# transform features\n",
    "enhance_features(df3, inplace=True)\n",
    "\n",
    "# select features & classify features\n",
    "df3.drop(['PassengerId', 'Name', 'Ticket'], axis='columns', inplace=True)\n",
    "df3 = helper.classify_data(df3, target, numerical=[\"Age\", \"SibSp\", \"Parch\", \"Fare\"])\n",
    "\n",
    "# remove outliers\n",
    "helper.remove_outliers(df3, inplace=True)  # remove default values above 3 times std\n",
    "\n",
    "# fill missing values (enhanced)\n",
    "fill_missing_values(df3, inplace=True)\n",
    "\n",
    "# Normalize and create dummies\n",
    "data3, _ = helper.normalize(df3)\n",
    "data3, _ = helper.create_dummy(data3, target)\n",
    "\n",
    "# split and one-hot output\n",
    "x_train3, y_train3, x_test3, y_test3 = split(data3, test_size=0.15)\n",
    "y_train3, y_test3 = one_hot_output(y_train3, y_test3)\n",
    "\n",
    "# build, train and evaluate model\n",
    "model3 = build_nn(x_train3.shape[1], y_train3.shape[1], summary=False)\n",
    "train_nn(model3, x_train3, y_train3, path=False, show=False)\n",
    "evaluate_nn(model3, x_test3, y_test3)"
   ]
  },
  {
   "cell_type": "markdown",
   "metadata": {},
   "source": [
    "### Compare with non-neural network models"
   ]
  },
  {
   "cell_type": "markdown",
   "metadata": {},
   "source": [
    "#### XGBoost"
   ]
  },
  {
   "cell_type": "code",
   "execution_count": 38,
   "metadata": {},
   "outputs": [
    {
     "name": "stdout",
     "output_type": "stream",
     "text": [
      "\n",
      " XGBoost \n",
      " --------------------\n",
      "Test Accuracy:  \t 0.782\n",
      "Training Time:  \t 94.1 ms\n"
     ]
    }
   ],
   "source": [
    "from time import time\n",
    "import xgboost as xgb\n",
    "from sklearn.metrics import accuracy_score\n",
    "\n",
    "clf = xgb.XGBClassifier(max_depth=4, n_estimators=400, learning_rate=0.1)\n",
    "\n",
    "t0 = time()\n",
    "\n",
    "clf.fit(x_train, y_train[:, 0])\n",
    "train_time = time() - t0\n",
    "y_pred = clf.predict(x_test)\n",
    "accuracy = accuracy_score(y_pred, y_test[:, 0])\n",
    "\n",
    "print(\"\\n\", \"XGBoost\", \"\\n\", \"-\" * 20)\n",
    "print(\"Test Accuracy:  \\t {:.3f}\".format(accuracy))\n",
    "print(\"Training Time:  \\t {:.1f} ms\".format(train_time * 1000))"
   ]
  },
  {
   "cell_type": "markdown",
   "metadata": {},
   "source": [
    "#### Classical Machine Learning"
   ]
  },
  {
   "cell_type": "code",
   "execution_count": 39,
   "metadata": {
    "scrolled": false
   },
   "outputs": [
    {
     "name": "stdout",
     "output_type": "stream",
     "text": [
      "\n",
      " Naive Bayes \n",
      " --------------------\n",
      "Test Accuracy:  \t 0.760\n",
      "Training Time:  \t 1.2 ms\n",
      "\n",
      " SVM \n",
      " --------------------\n",
      "Test Accuracy:  \t 0.782\n",
      "Training Time:  \t 18.1 ms\n",
      "\n",
      " Decision Trees \n",
      " --------------------\n",
      "Test Accuracy:  \t 0.771\n",
      "Training Time:  \t 2.1 ms\n",
      "\n",
      " KNeighbors \n",
      " --------------------\n",
      "Test Accuracy:  \t 0.777\n",
      "Training Time:  \t 1.2 ms\n",
      "\n",
      " AdaBoost \n",
      " --------------------\n",
      "Test Accuracy:  \t 0.771\n",
      "Training Time:  \t 67.2 ms\n",
      "\n",
      " Random Forest \n",
      " --------------------\n",
      "Test Accuracy:  \t 0.793\n",
      "Training Time:  \t 131.5 ms\n"
     ]
    }
   ],
   "source": [
    "# enhanced features\n",
    "helper.ml_models(x_train, y_train, x_test, y_test)"
   ]
  }
 ],
 "metadata": {
  "anaconda-cloud": {},
  "kernelspec": {
   "display_name": "Python 3",
   "language": "python",
   "name": "python3"
  },
  "language_info": {
   "codemirror_mode": {
    "name": "ipython",
    "version": 3
   },
   "file_extension": ".py",
   "mimetype": "text/x-python",
   "name": "python",
   "nbconvert_exporter": "python",
   "pygments_lexer": "ipython3",
   "version": "3.6.2"
  },
  "varInspector": {
   "cols": {
    "lenName": 16,
    "lenType": 16,
    "lenVar": 40
   },
   "kernels_config": {
    "python": {
     "delete_cmd_postfix": "",
     "delete_cmd_prefix": "del ",
     "library": "var_list.py",
     "varRefreshCmd": "print(var_dic_list())"
    },
    "r": {
     "delete_cmd_postfix": ") ",
     "delete_cmd_prefix": "rm(",
     "library": "var_list.r",
     "varRefreshCmd": "cat(var_dic_list()) "
    }
   },
   "position": {
    "height": "1063px",
    "left": "1601.95px",
    "right": "20px",
    "top": "77.9201px",
    "width": "399px"
   },
   "types_to_exclude": [
    "module",
    "function",
    "builtin_function_or_method",
    "instance",
    "_Feature"
   ],
   "window_display": false
  }
 },
 "nbformat": 4,
 "nbformat_minor": 1
}
