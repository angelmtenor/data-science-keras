{
 "cells": [
  {
   "cell_type": "markdown",
   "metadata": {},
   "source": [
    "# Sentiment Prediction from Movie Review (IMDB)\n",
    "\n",
    "Goal: Predict positive or negative sentiments from movie reviews\n",
    "\n",
    "Dataset: [IMDB Movie reviews sentiment classification](https://keras.io/datasets/)"
   ]
  },
  {
   "cell_type": "code",
   "execution_count": 1,
   "metadata": {},
   "outputs": [
    {
     "name": "stderr",
     "output_type": "stream",
     "text": [
      "Using TensorFlow backend.\n"
     ]
    }
   ],
   "source": [
    "%matplotlib inline\n",
    "\n",
    "import os\n",
    "import numpy as np\n",
    "import matplotlib.pyplot as plt\n",
    "import seaborn as sns\n",
    "import keras\n",
    "import helper\n",
    "\n",
    "np.random.seed(9)\n",
    "sns.set()"
   ]
  },
  {
   "cell_type": "markdown",
   "metadata": {},
   "source": [
    "## Load the data"
   ]
  },
  {
   "cell_type": "code",
   "execution_count": 2,
   "metadata": {},
   "outputs": [
    {
     "name": "stdout",
     "output_type": "stream",
     "text": [
      "Training reviews: 25000\n",
      "Testing reviews: 20947\n",
      "\n",
      "Review:\n",
      "['the', 'as', 'there', 'in', 'at', 'by', 'br', 'of', 'sure', 'many', 'br', 'of', 'proving', 'no', 'only', 'women', 'was', 'than', \"doesn't\", 'as', 'you', 'never', 'of', 'hat', 'night', 'that', 'with', 'ignored', 'they', 'bad', 'out', 'superman', 'plays', 'of', 'how', 'star', 'so', 'stories', 'film', 'comes', 'defense', 'date', 'of', 'wide', 'they', \"don't\", 'do', 'that', 'had', 'with', 'of', 'hollywood', 'br', 'of', 'my', 'seeing', 'fan', 'this', 'of', 'pop', 'out', 'body', 'shots', 'in', 'having', 'because', 'cause', \"it's\", 'stick', 'passing', 'first', 'were', 'enjoys', 'for', 'from', 'look', 'seven', 'sense', 'from', 'me', 'and', 'die', 'in', 'character', 'as', 'cuban', 'issues', 'but', 'is', 'you', 'that', \"isn't\", 'one', 'song', 'just', 'is', 'him', 'less', 'are', 'strongly', 'not', 'are', 'you', 'that', 'different', 'just', 'even', 'by', 'this', 'of', 'you', 'there', 'is', 'eight', 'when', 'it', 'part', 'are', \"film's\", 'love', \"film's\", \"80's\", 'was', 'big', 'also', 'light', \"don't\", 'and', 'as', 'it', 'in', 'character', 'looked', 'cinematography', 'so', 'stories', 'is', 'far', 'br', 'man', 'acting']\n",
      "\n",
      "Label: 0\n",
      "0: negative, 1:positive\n"
     ]
    }
   ],
   "source": [
    "from keras.datasets import imdb\n",
    "\n",
    "max_words = 20000  # most common words\n",
    "max_length = 500 # words per review limit\n",
    "\n",
    "(x_train, y_train), (x_test, y_test) = imdb.load_data(num_words=max_words,\n",
    "                                                      skip_top=0,\n",
    "                                                      maxlen=max_length)\n",
    "# dictionaries ids <-> words\n",
    "word2id = imdb.get_word_index()\n",
    "id2word = {i: word for word, i in word2id.items()}\n",
    "\n",
    "print(\"Training reviews: {}\".format(len(x_train)))\n",
    "print(\"Testing reviews: {}\".format(len(x_test)))\n",
    "\n",
    "print(\"\\nReview:\")\n",
    "print([id2word.get(i, \" \") for i in x_train[2]])\n",
    "print(\"\\nLabel: {}\".format(y_train[2]))\n",
    "print(\"0: negative, 1:positive\")"
   ]
  },
  {
   "cell_type": "markdown",
   "metadata": {},
   "source": [
    "## Process the data"
   ]
  },
  {
   "cell_type": "code",
   "execution_count": 3,
   "metadata": {},
   "outputs": [
    {
     "name": "stdout",
     "output_type": "stream",
     "text": [
      "Training set:  x-shape=(25000, 500)  y-shape=(25000, 2)\n",
      "Testing  set:  x-shape=(20947, 500)  y-shape=(20947, 2)\n"
     ]
    }
   ],
   "source": [
    "from keras.preprocessing.sequence import pad_sequences\n",
    "\n",
    "# padding\n",
    "x_train = pad_sequences(x_train, max_length)\n",
    "x_test = pad_sequences(x_test, max_length)\n",
    "\n",
    "# one-hot encoding the target\n",
    "num_classes = 2\n",
    "y_train = keras.utils.to_categorical(y_train, num_classes)\n",
    "y_test = keras.utils.to_categorical(y_test, num_classes)\n",
    "\n",
    "print(\"Training set:  x-shape={}  y-shape={}\".format(x_train.shape, y_train.shape))\n",
    "print(\"Testing  set:  x-shape={}  y-shape={}\".format(x_test.shape, y_test.shape))"
   ]
  },
  {
   "cell_type": "markdown",
   "metadata": {},
   "source": [
    "## Deep Neural Network"
   ]
  },
  {
   "cell_type": "code",
   "execution_count": 4,
   "metadata": {
    "scrolled": false
   },
   "outputs": [
    {
     "name": "stdout",
     "output_type": "stream",
     "text": [
      "_________________________________________________________________\n",
      "Layer (type)                 Output Shape              Param #   \n",
      "=================================================================\n",
      "embedding_1 (Embedding)      (None, 500, 10)           200000    \n",
      "_________________________________________________________________\n",
      "flatten_1 (Flatten)          (None, 5000)              0         \n",
      "_________________________________________________________________\n",
      "dense_1 (Dense)              (None, 8)                 40008     \n",
      "_________________________________________________________________\n",
      "dropout_1 (Dropout)          (None, 8)                 0         \n",
      "_________________________________________________________________\n",
      "dense_2 (Dense)              (None, 2)                 18        \n",
      "=================================================================\n",
      "Total params: 240,026.0\n",
      "Trainable params: 240,026.0\n",
      "Non-trainable params: 0.0\n",
      "_________________________________________________________________\n",
      "Training ....\n",
      "CPU times: user 2.84 s, sys: 316 ms, total: 3.15 s\n",
      "Wall time: 3.14 s\n"
     ]
    },
    {
     "data": {
      "image/png": "[encoded data removed]",
      "text/plain": [
       "<matplotlib.figure.Figure at 0x7f4c373847f0>"
      ]
     },
     "metadata": {},
     "output_type": "display_data"
    },
    {
     "name": "stdout",
     "output_type": "stream",
     "text": [
      "\n",
      "Training loss:  \t0.1350\n",
      "Validation loss: \t0.2717\n",
      "\n",
      "Training accuracy: \t0.96\n",
      "Validation accuracy:\t0.89\n",
      "\n",
      "Model saved at models/sentiment_IMDB_model.h5\n"
     ]
    }
   ],
   "source": [
    "from keras.models import Sequential\n",
    "from keras.layers import Dense, Dropout, Flatten\n",
    "from keras.layers.embeddings import Embedding\n",
    "\n",
    "model = Sequential()\n",
    "model.add(Embedding(max_words, 10, input_length=max_length))\n",
    "model.add(Flatten())\n",
    "model.add(Dense(8, activation='relu'))\n",
    "model.add(Dropout(0.3))\n",
    "model.add(Dense(num_classes, activation='softmax'))\n",
    "model.summary()\n",
    "\n",
    "model.compile(loss='binary_crossentropy',\n",
    "              optimizer='adam',\n",
    "              metrics=['accuracy'])\n",
    "\n",
    "print('Training ....')\n",
    "callbacks = [keras.callbacks.EarlyStopping(monitor='val_loss', patience=0, verbose=1)]\n",
    "%time history = model.fit(x_train, y_train, batch_size=1024, epochs=10, verbose=0, validation_split = 0.3, callbacks=callbacks)\n",
    "helper.show_training(history)\n",
    "\n",
    "model_path = os.path.join(\"models\", \"sentiment_IMDB_model.h5\")\n",
    "model.save(model_path)\n",
    "print(\"\\nModel saved at\",model_path)"
   ]
  },
  {
   "cell_type": "markdown",
   "metadata": {},
   "source": [
    "## Evaluate and Predict"
   ]
  },
  {
   "cell_type": "code",
   "execution_count": 5,
   "metadata": {},
   "outputs": [
    {
     "name": "stdout",
     "output_type": "stream",
     "text": [
      "Model loaded: models/sentiment_IMDB_model.h5\n",
      "\n",
      "Test Accuracy: 0.88\n",
      "\n"
     ]
    }
   ],
   "source": [
    "model = keras.models.load_model(model_path)\n",
    "print(\"Model loaded:\", model_path)\n",
    "\n",
    "score = model.evaluate(x_test, y_test, verbose=0)\n",
    "print(\"\\nTest Accuracy: {:.2f}\\n\".format(score[1]))"
   ]
  },
  {
   "cell_type": "code",
   "execution_count": 6,
   "metadata": {
    "collapsed": true
   },
   "outputs": [],
   "source": [
    "import re\n",
    "import nltk\n",
    "\n",
    "def review_to_ids(review):\n",
    "    \"\"\" Convert a raw review string into a sequence of ids \"\"\"\n",
    "    \n",
    "    review = re.sub(r\"[^a-zA-Z0-9]\", \" \", review)  # remove non-letters\n",
    "    review = review.lower()  # convert to lowercase\n",
    "    words = review.split()  # tokenize\n",
    "    ids = [word2id.get(i, 0) for i in words]\n",
    "    ids = pad_sequences([ids],max_length)\n",
    "    \n",
    "    return ids\n",
    "\n",
    "\n",
    "def predict(review):\n",
    "    \"\"\" Show the probability of positive sentiment given a string review \"\"\"\n",
    "    my_ids = review_to_ids(review)\n",
    "    print(\"Positive Probability: {:.2f}\".format(model.predict(my_ids, verbose=0)[0][1]))    "
   ]
  },
  {
   "cell_type": "code",
   "execution_count": 7,
   "metadata": {},
   "outputs": [
    {
     "name": "stdout",
     "output_type": "stream",
     "text": [
      "Positive Probability: 0.35\n"
     ]
    }
   ],
   "source": [
    "my_review = \"\"\"The writer and director did well on his first movie, but this one is an absolute nonsense. \n",
    "I like complicated, non-linear, and abstract movies, although nothing can be learn from this messy script. \n",
    "The only thing worth it is the photography \"\"\"\n",
    "predict(my_review)"
   ]
  },
  {
   "cell_type": "code",
   "execution_count": 8,
   "metadata": {
    "scrolled": true
   },
   "outputs": [
    {
     "name": "stdout",
     "output_type": "stream",
     "text": [
      "Positive Probability: 0.83\n"
     ]
    }
   ],
   "source": [
    "# http://www.imdb.com/user/ur12188407/\n",
    "my_review2 = \"\"\" In short, this is one of the best sci-fi movies I have seen in a LONG time. Sam Rockwell \n",
    "plays it perfect, making the viewer feel his isolation and lonelieness. For a low budget film, the few effect \n",
    "shots work seamlessly. I'm trying to remain spoiler free, so I won't bother to explain the plot. If you like \n",
    "older and more story/character driven sci-fi, such as 2001: A Space Odyssey, than chances are you will love \n",
    "this movie. If you aren't a huge fan of sci-fi, take a chance with this one. You may find it a very rewarding \n",
    "experience. I loved this movie, and I can't stop thinking about it. In Moon, you may begin to think that \n",
    "everything is a big cliché, but than with all of the seemingly cliché plot points, Moon changes them into \n",
    "something entirely original and unexpected. It is an excellent piece of art and I have a strong feeling not \n",
    "enough people will see and appreciate it like I did.\"\"\"\n",
    "predict(my_review2)"
   ]
  }
 ],
 "metadata": {
  "kernelspec": {
   "display_name": "Python 3",
   "language": "python",
   "name": "python3"
  },
  "language_info": {
   "codemirror_mode": {
    "name": "ipython",
    "version": 3
   },
   "file_extension": ".py",
   "mimetype": "text/x-python",
   "name": "python",
   "nbconvert_exporter": "python",
   "pygments_lexer": "ipython3",
   "version": "3.6.2"
  }
 },
 "nbformat": 4,
 "nbformat_minor": 2
}
