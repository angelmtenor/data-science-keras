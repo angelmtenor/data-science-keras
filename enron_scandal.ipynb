{
 "cells": [
  {
   "cell_type": "markdown",
   "metadata": {},
   "source": [
    "# Enron Scandal: Indentifying Person of Interest\n",
    "\n",
    "**Identification of Enron employees who may have committed fraud**\n",
    "\n",
    "**Supervised Learning. Classification**\n",
    "\n",
    "Data: [Enron financial dataset from Udacity](https://github.com/udacity/ud120-projects/tree/master/final_project)"
   ]
  },
  {
   "cell_type": "code",
   "execution_count": 1,
   "metadata": {},
   "outputs": [
    {
     "name": "stderr",
     "output_type": "stream",
     "text": [
      "Using TensorFlow backend.\n"
     ]
    },
    {
     "name": "stdout",
     "output_type": "stream",
     "text": [
      "/device:GPU:0\n",
      "Keras\t\tv2.1.3\n",
      "TensorFlow\tv1.4.1\n"
     ]
    }
   ],
   "source": [
    "import os\n",
    "import numpy as np\n",
    "import pandas as pd\n",
    "import matplotlib.pyplot as plt\n",
    "import seaborn as sns\n",
    "import helper\n",
    "import keras\n",
    "\n",
    "helper.info_gpu()\n",
    "#sns.set_palette(\"Reds\")\n",
    "helper.reproducible(seed=0)  # setup reproducible results from run to run using Keras\n",
    "\n",
    "%matplotlib inline\n",
    "%load_ext autoreload\n",
    "%autoreload 2"
   ]
  },
  {
   "cell_type": "markdown",
   "metadata": {},
   "source": [
    "## 1. Data Processing and Exploratory Data Analysis"
   ]
  },
  {
   "cell_type": "markdown",
   "metadata": {},
   "source": [
    "###  Load the Data"
   ]
  },
  {
   "cell_type": "code",
   "execution_count": 2,
   "metadata": {},
   "outputs": [],
   "source": [
    "data_path = 'data/enron_financial_data.pkl'\n",
    "target = ['poi']\n",
    "\n",
    "df = pd.read_pickle(data_path)\n",
    "df = pd.DataFrame.from_dict(df, orient='index')"
   ]
  },
  {
   "cell_type": "markdown",
   "metadata": {},
   "source": [
    "### Explore the Data"
   ]
  },
  {
   "cell_type": "code",
   "execution_count": 3,
   "metadata": {
    "scrolled": true
   },
   "outputs": [
    {
     "name": "stdout",
     "output_type": "stream",
     "text": [
      "Samples: \t146 \n",
      "Features: \t20\n",
      "Target: \t['poi']\n",
      "\n",
      "Binary target: \t{False: 128, True: 18}\n",
      "Ratio \t\t7.1 : 1.0\n",
      "Dummy accuracy:\t0.88\n"
     ]
    }
   ],
   "source": [
    "helper.info_data(df, target)"
   ]
  },
  {
   "cell_type": "markdown",
   "metadata": {},
   "source": [
    "** Imbalanced target: the evaluation metric used in this problem is the Area Under the ROC Curve ** <br>\n",
    "**poi** =  person of interest (boolean) <br>"
   ]
  },
  {
   "cell_type": "code",
   "execution_count": 4,
   "metadata": {
    "scrolled": true
   },
   "outputs": [
    {
     "data": {
      "text/html": [
       "<div>\n",
       "<style scoped>\n",
       "    .dataframe tbody tr th:only-of-type {\n",
       "        vertical-align: middle;\n",
       "    }\n",
       "\n",
       "    .dataframe tbody tr th {\n",
       "        vertical-align: top;\n",
       "    }\n",
       "\n",
       "    .dataframe thead th {\n",
       "        text-align: right;\n",
       "    }\n",
       "</style>\n",
       "<table border=\"1\" class=\"dataframe\">\n",
       "  <thead>\n",
       "    <tr style=\"text-align: right;\">\n",
       "      <th></th>\n",
       "      <th>salary</th>\n",
       "      <th>to_messages</th>\n",
       "      <th>deferral_payments</th>\n",
       "      <th>total_payments</th>\n",
       "      <th>loan_advances</th>\n",
       "      <th>bonus</th>\n",
       "      <th>email_address</th>\n",
       "      <th>restricted_stock_deferred</th>\n",
       "      <th>deferred_income</th>\n",
       "      <th>total_stock_value</th>\n",
       "      <th>...</th>\n",
       "      <th>from_poi_to_this_person</th>\n",
       "      <th>exercised_stock_options</th>\n",
       "      <th>from_messages</th>\n",
       "      <th>other</th>\n",
       "      <th>from_this_person_to_poi</th>\n",
       "      <th>poi</th>\n",
       "      <th>long_term_incentive</th>\n",
       "      <th>shared_receipt_with_poi</th>\n",
       "      <th>restricted_stock</th>\n",
       "      <th>director_fees</th>\n",
       "    </tr>\n",
       "  </thead>\n",
       "  <tbody>\n",
       "    <tr>\n",
       "      <th>ALLEN PHILLIP K</th>\n",
       "      <td>201955</td>\n",
       "      <td>2902</td>\n",
       "      <td>2869717</td>\n",
       "      <td>4484442</td>\n",
       "      <td>NaN</td>\n",
       "      <td>4175000</td>\n",
       "      <td>phillip.allen@enron.com</td>\n",
       "      <td>-126027</td>\n",
       "      <td>-3081055</td>\n",
       "      <td>1729541</td>\n",
       "      <td>...</td>\n",
       "      <td>47</td>\n",
       "      <td>1729541</td>\n",
       "      <td>2195</td>\n",
       "      <td>152</td>\n",
       "      <td>65</td>\n",
       "      <td>False</td>\n",
       "      <td>304805</td>\n",
       "      <td>1407</td>\n",
       "      <td>126027</td>\n",
       "      <td>NaN</td>\n",
       "    </tr>\n",
       "    <tr>\n",
       "      <th>BADUM JAMES P</th>\n",
       "      <td>NaN</td>\n",
       "      <td>NaN</td>\n",
       "      <td>178980</td>\n",
       "      <td>182466</td>\n",
       "      <td>NaN</td>\n",
       "      <td>NaN</td>\n",
       "      <td>NaN</td>\n",
       "      <td>NaN</td>\n",
       "      <td>NaN</td>\n",
       "      <td>257817</td>\n",
       "      <td>...</td>\n",
       "      <td>NaN</td>\n",
       "      <td>257817</td>\n",
       "      <td>NaN</td>\n",
       "      <td>NaN</td>\n",
       "      <td>NaN</td>\n",
       "      <td>False</td>\n",
       "      <td>NaN</td>\n",
       "      <td>NaN</td>\n",
       "      <td>NaN</td>\n",
       "      <td>NaN</td>\n",
       "    </tr>\n",
       "    <tr>\n",
       "      <th>BANNANTINE JAMES M</th>\n",
       "      <td>477</td>\n",
       "      <td>566</td>\n",
       "      <td>NaN</td>\n",
       "      <td>916197</td>\n",
       "      <td>NaN</td>\n",
       "      <td>NaN</td>\n",
       "      <td>james.bannantine@enron.com</td>\n",
       "      <td>-560222</td>\n",
       "      <td>-5104</td>\n",
       "      <td>5243487</td>\n",
       "      <td>...</td>\n",
       "      <td>39</td>\n",
       "      <td>4046157</td>\n",
       "      <td>29</td>\n",
       "      <td>864523</td>\n",
       "      <td>0</td>\n",
       "      <td>False</td>\n",
       "      <td>NaN</td>\n",
       "      <td>465</td>\n",
       "      <td>1757552</td>\n",
       "      <td>NaN</td>\n",
       "    </tr>\n",
       "  </tbody>\n",
       "</table>\n",
       "<p>3 rows × 21 columns</p>\n",
       "</div>"
      ],
      "text/plain": [
       "                    salary to_messages deferral_payments total_payments  \\\n",
       "ALLEN PHILLIP K     201955        2902           2869717        4484442   \n",
       "BADUM JAMES P          NaN         NaN            178980         182466   \n",
       "BANNANTINE JAMES M     477         566               NaN         916197   \n",
       "\n",
       "                   loan_advances    bonus               email_address  \\\n",
       "ALLEN PHILLIP K              NaN  4175000     phillip.allen@enron.com   \n",
       "BADUM JAMES P                NaN      NaN                         NaN   \n",
       "BANNANTINE JAMES M           NaN      NaN  james.bannantine@enron.com   \n",
       "\n",
       "                   restricted_stock_deferred deferred_income  \\\n",
       "ALLEN PHILLIP K                      -126027        -3081055   \n",
       "BADUM JAMES P                            NaN             NaN   \n",
       "BANNANTINE JAMES M                   -560222           -5104   \n",
       "\n",
       "                   total_stock_value      ...      from_poi_to_this_person  \\\n",
       "ALLEN PHILLIP K              1729541      ...                           47   \n",
       "BADUM JAMES P                 257817      ...                          NaN   \n",
       "BANNANTINE JAMES M           5243487      ...                           39   \n",
       "\n",
       "                   exercised_stock_options from_messages   other  \\\n",
       "ALLEN PHILLIP K                    1729541          2195     152   \n",
       "BADUM JAMES P                       257817           NaN     NaN   \n",
       "BANNANTINE JAMES M                 4046157            29  864523   \n",
       "\n",
       "                   from_this_person_to_poi    poi  long_term_incentive  \\\n",
       "ALLEN PHILLIP K                         65  False               304805   \n",
       "BADUM JAMES P                          NaN  False                  NaN   \n",
       "BANNANTINE JAMES M                       0  False                  NaN   \n",
       "\n",
       "                   shared_receipt_with_poi restricted_stock director_fees  \n",
       "ALLEN PHILLIP K                       1407           126027           NaN  \n",
       "BADUM JAMES P                          NaN              NaN           NaN  \n",
       "BANNANTINE JAMES M                     465          1757552           NaN  \n",
       "\n",
       "[3 rows x 21 columns]"
      ]
     },
     "execution_count": 4,
     "metadata": {},
     "output_type": "execute_result"
    }
   ],
   "source": [
    "df.head(3)"
   ]
  },
  {
   "cell_type": "markdown",
   "metadata": {},
   "source": [
    "### Transform the data"
   ]
  },
  {
   "cell_type": "code",
   "execution_count": 5,
   "metadata": {},
   "outputs": [],
   "source": [
    "# delete 'TOTAL' row (at the bottom)\n",
    "if 'TOTAL' in df.index:\n",
    "    df.drop('TOTAL', axis='index', inplace=True)\n",
    "\n",
    "# convert dataframe values (objects) to numerical. There are no categorical features\n",
    "df = df.apply(pd.to_numeric, errors='coerce')"
   ]
  },
  {
   "cell_type": "markdown",
   "metadata": {},
   "source": [
    "#### Missing features"
   ]
  },
  {
   "cell_type": "code",
   "execution_count": 6,
   "metadata": {},
   "outputs": [
    {
     "data": {
      "image/png": "[encoded data removed]",
      "text/plain": [
       "<matplotlib.figure.Figure at 0x7f33184a48d0>"
      ]
     },
     "metadata": {},
     "output_type": "display_data"
    }
   ],
   "source": [
    "helper.missing(df)"
   ]
  },
  {
   "cell_type": "markdown",
   "metadata": {},
   "source": [
    "High-missing features, like 'loan_advances', are needed to obtain better models"
   ]
  },
  {
   "cell_type": "markdown",
   "metadata": {},
   "source": [
    "#### Remove irrelevant features"
   ]
  },
  {
   "cell_type": "code",
   "execution_count": 7,
   "metadata": {},
   "outputs": [],
   "source": [
    "df.drop('email_address', axis='columns', inplace=True)"
   ]
  },
  {
   "cell_type": "markdown",
   "metadata": {},
   "source": [
    "#### Classify variables"
   ]
  },
  {
   "cell_type": "code",
   "execution_count": 8,
   "metadata": {},
   "outputs": [
    {
     "name": "stdout",
     "output_type": "stream",
     "text": [
      "Numerical features: \t19\n",
      "Categorical features: \t0\n",
      "Target: \t\tpoi (category)\n"
     ]
    },
    {
     "data": {
      "text/html": [
       "<div>\n",
       "<style scoped>\n",
       "    .dataframe tbody tr th:only-of-type {\n",
       "        vertical-align: middle;\n",
       "    }\n",
       "\n",
       "    .dataframe tbody tr th {\n",
       "        vertical-align: top;\n",
       "    }\n",
       "\n",
       "    .dataframe thead th {\n",
       "        text-align: right;\n",
       "    }\n",
       "</style>\n",
       "<table border=\"1\" class=\"dataframe\">\n",
       "  <thead>\n",
       "    <tr style=\"text-align: right;\">\n",
       "      <th></th>\n",
       "      <th>salary</th>\n",
       "      <th>to_messages</th>\n",
       "      <th>deferral_payments</th>\n",
       "      <th>total_payments</th>\n",
       "      <th>loan_advances</th>\n",
       "      <th>bonus</th>\n",
       "      <th>restricted_stock_deferred</th>\n",
       "      <th>deferred_income</th>\n",
       "      <th>total_stock_value</th>\n",
       "      <th>expenses</th>\n",
       "      <th>from_poi_to_this_person</th>\n",
       "      <th>exercised_stock_options</th>\n",
       "      <th>from_messages</th>\n",
       "      <th>other</th>\n",
       "      <th>from_this_person_to_poi</th>\n",
       "      <th>long_term_incentive</th>\n",
       "      <th>shared_receipt_with_poi</th>\n",
       "      <th>restricted_stock</th>\n",
       "      <th>director_fees</th>\n",
       "      <th>poi</th>\n",
       "    </tr>\n",
       "  </thead>\n",
       "  <tbody>\n",
       "    <tr>\n",
       "      <th>Type</th>\n",
       "      <td>float32</td>\n",
       "      <td>float32</td>\n",
       "      <td>float32</td>\n",
       "      <td>float32</td>\n",
       "      <td>float32</td>\n",
       "      <td>float32</td>\n",
       "      <td>float32</td>\n",
       "      <td>float32</td>\n",
       "      <td>float32</td>\n",
       "      <td>float32</td>\n",
       "      <td>float32</td>\n",
       "      <td>float32</td>\n",
       "      <td>float32</td>\n",
       "      <td>float32</td>\n",
       "      <td>float32</td>\n",
       "      <td>float32</td>\n",
       "      <td>float32</td>\n",
       "      <td>float32</td>\n",
       "      <td>float32</td>\n",
       "      <td>category</td>\n",
       "    </tr>\n",
       "  </tbody>\n",
       "</table>\n",
       "</div>"
      ],
      "text/plain": [
       "       salary to_messages deferral_payments total_payments loan_advances  \\\n",
       "Type  float32     float32           float32        float32       float32   \n",
       "\n",
       "        bonus restricted_stock_deferred deferred_income total_stock_value  \\\n",
       "Type  float32                   float32         float32           float32   \n",
       "\n",
       "     expenses from_poi_to_this_person exercised_stock_options from_messages  \\\n",
       "Type  float32                 float32                 float32       float32   \n",
       "\n",
       "        other from_this_person_to_poi long_term_incentive  \\\n",
       "Type  float32                 float32             float32   \n",
       "\n",
       "     shared_receipt_with_poi restricted_stock director_fees       poi  \n",
       "Type                 float32          float32       float32  category  "
      ]
     },
     "execution_count": 8,
     "metadata": {},
     "output_type": "execute_result"
    }
   ],
   "source": [
    "num = list(df.select_dtypes(include=[np.number]))\n",
    "\n",
    "df = helper.classify_data(df, target, numerical=num)\n",
    "\n",
    "helper.get_types(df)"
   ]
  },
  {
   "cell_type": "markdown",
   "metadata": {},
   "source": [
    "#### Fill missing values"
   ]
  },
  {
   "cell_type": "code",
   "execution_count": 9,
   "metadata": {},
   "outputs": [],
   "source": [
    "# Reeplace NaN values with the median\n",
    "df.fillna(df.median(), inplace=True)\n",
    "#helper.fill_simple(df, target, inplace=True) # same result"
   ]
  },
  {
   "cell_type": "markdown",
   "metadata": {},
   "source": [
    "### Visualize the data"
   ]
  },
  {
   "cell_type": "code",
   "execution_count": 10,
   "metadata": {
    "scrolled": true
   },
   "outputs": [
    {
     "data": {
      "text/html": [
       "<div>\n",
       "<style scoped>\n",
       "    .dataframe tbody tr th:only-of-type {\n",
       "        vertical-align: middle;\n",
       "    }\n",
       "\n",
       "    .dataframe tbody tr th {\n",
       "        vertical-align: top;\n",
       "    }\n",
       "\n",
       "    .dataframe thead th {\n",
       "        text-align: right;\n",
       "    }\n",
       "</style>\n",
       "<table border=\"1\" class=\"dataframe\">\n",
       "  <thead>\n",
       "    <tr style=\"text-align: right;\">\n",
       "      <th></th>\n",
       "      <th>salary</th>\n",
       "      <th>to_messages</th>\n",
       "      <th>deferral_payments</th>\n",
       "      <th>total_payments</th>\n",
       "      <th>loan_advances</th>\n",
       "      <th>bonus</th>\n",
       "      <th>restricted_stock_deferred</th>\n",
       "      <th>deferred_income</th>\n",
       "      <th>total_stock_value</th>\n",
       "      <th>expenses</th>\n",
       "      <th>from_poi_to_this_person</th>\n",
       "      <th>exercised_stock_options</th>\n",
       "      <th>from_messages</th>\n",
       "      <th>other</th>\n",
       "      <th>from_this_person_to_poi</th>\n",
       "      <th>long_term_incentive</th>\n",
       "      <th>shared_receipt_with_poi</th>\n",
       "      <th>restricted_stock</th>\n",
       "      <th>director_fees</th>\n",
       "    </tr>\n",
       "  </thead>\n",
       "  <tbody>\n",
       "    <tr>\n",
       "      <th>count</th>\n",
       "      <td>145</td>\n",
       "      <td>145</td>\n",
       "      <td>145</td>\n",
       "      <td>145</td>\n",
       "      <td>145</td>\n",
       "      <td>145</td>\n",
       "      <td>145</td>\n",
       "      <td>145</td>\n",
       "      <td>145</td>\n",
       "      <td>145</td>\n",
       "      <td>145</td>\n",
       "      <td>145</td>\n",
       "      <td>145</td>\n",
       "      <td>145</td>\n",
       "      <td>145</td>\n",
       "      <td>145</td>\n",
       "      <td>145</td>\n",
       "      <td>145</td>\n",
       "      <td>145</td>\n",
       "    </tr>\n",
       "    <tr>\n",
       "      <th>mean</th>\n",
       "      <td>275172</td>\n",
       "      <td>1722</td>\n",
       "      <td>383687</td>\n",
       "      <td>2402823</td>\n",
       "      <td>2537413</td>\n",
       "      <td>1002369</td>\n",
       "      <td>-50907</td>\n",
       "      <td>-293981</td>\n",
       "      <td>3040758</td>\n",
       "      <td>51503</td>\n",
       "      <td>52</td>\n",
       "      <td>2455073</td>\n",
       "      <td>377</td>\n",
       "      <td>314211</td>\n",
       "      <td>27</td>\n",
       "      <td>567548</td>\n",
       "      <td>999</td>\n",
       "      <td>972059</td>\n",
       "      <td>104361</td>\n",
       "    </tr>\n",
       "    <tr>\n",
       "      <th>std</th>\n",
       "      <td>142866</td>\n",
       "      <td>2029</td>\n",
       "      <td>708602</td>\n",
       "      <td>8785497</td>\n",
       "      <td>6606450</td>\n",
       "      <td>1097889</td>\n",
       "      <td>1305242</td>\n",
       "      <td>575095</td>\n",
       "      <td>6112358</td>\n",
       "      <td>37235</td>\n",
       "      <td>68</td>\n",
       "      <td>4646612</td>\n",
       "      <td>1441</td>\n",
       "      <td>1122664</td>\n",
       "      <td>78</td>\n",
       "      <td>597613</td>\n",
       "      <td>930</td>\n",
       "      <td>1972272</td>\n",
       "      <td>14229</td>\n",
       "    </tr>\n",
       "    <tr>\n",
       "      <th>min</th>\n",
       "      <td>477</td>\n",
       "      <td>57</td>\n",
       "      <td>-102500</td>\n",
       "      <td>148</td>\n",
       "      <td>400000</td>\n",
       "      <td>70000</td>\n",
       "      <td>-1787380</td>\n",
       "      <td>-3504386</td>\n",
       "      <td>-44093</td>\n",
       "      <td>148</td>\n",
       "      <td>0</td>\n",
       "      <td>3285</td>\n",
       "      <td>12</td>\n",
       "      <td>2</td>\n",
       "      <td>0</td>\n",
       "      <td>69223</td>\n",
       "      <td>2</td>\n",
       "      <td>-2604490</td>\n",
       "      <td>3285</td>\n",
       "    </tr>\n",
       "    <tr>\n",
       "      <th>50%</th>\n",
       "      <td>258741</td>\n",
       "      <td>1211</td>\n",
       "      <td>221063</td>\n",
       "      <td>1100246</td>\n",
       "      <td>2000000</td>\n",
       "      <td>750000</td>\n",
       "      <td>-140264</td>\n",
       "      <td>-151927</td>\n",
       "      <td>1095040</td>\n",
       "      <td>46547</td>\n",
       "      <td>35</td>\n",
       "      <td>1297049</td>\n",
       "      <td>41</td>\n",
       "      <td>51984</td>\n",
       "      <td>8</td>\n",
       "      <td>422158</td>\n",
       "      <td>740</td>\n",
       "      <td>441096</td>\n",
       "      <td>106164</td>\n",
       "    </tr>\n",
       "    <tr>\n",
       "      <th>max</th>\n",
       "      <td>1111258</td>\n",
       "      <td>15149</td>\n",
       "      <td>6426990</td>\n",
       "      <td>103559792</td>\n",
       "      <td>81525000</td>\n",
       "      <td>8000000</td>\n",
       "      <td>15456290</td>\n",
       "      <td>-833</td>\n",
       "      <td>49110080</td>\n",
       "      <td>228763</td>\n",
       "      <td>528</td>\n",
       "      <td>34348384</td>\n",
       "      <td>14368</td>\n",
       "      <td>10359729</td>\n",
       "      <td>609</td>\n",
       "      <td>5145434</td>\n",
       "      <td>5521</td>\n",
       "      <td>14761694</td>\n",
       "      <td>137864</td>\n",
       "    </tr>\n",
       "  </tbody>\n",
       "</table>\n",
       "</div>"
      ],
      "text/plain": [
       "        salary  to_messages  deferral_payments  total_payments  loan_advances  \\\n",
       "count      145          145                145             145            145   \n",
       "mean    275172         1722             383687         2402823        2537413   \n",
       "std     142866         2029             708602         8785497        6606450   \n",
       "min        477           57            -102500             148         400000   \n",
       "50%     258741         1211             221063         1100246        2000000   \n",
       "max    1111258        15149            6426990       103559792       81525000   \n",
       "\n",
       "         bonus  restricted_stock_deferred  deferred_income  total_stock_value  \\\n",
       "count      145                        145              145                145   \n",
       "mean   1002369                     -50907          -293981            3040758   \n",
       "std    1097889                    1305242           575095            6112358   \n",
       "min      70000                   -1787380         -3504386             -44093   \n",
       "50%     750000                    -140264          -151927            1095040   \n",
       "max    8000000                   15456290             -833           49110080   \n",
       "\n",
       "       expenses  from_poi_to_this_person  exercised_stock_options  \\\n",
       "count       145                      145                      145   \n",
       "mean      51503                       52                  2455073   \n",
       "std       37235                       68                  4646612   \n",
       "min         148                        0                     3285   \n",
       "50%       46547                       35                  1297049   \n",
       "max      228763                      528                 34348384   \n",
       "\n",
       "       from_messages     other  from_this_person_to_poi  long_term_incentive  \\\n",
       "count            145       145                      145                  145   \n",
       "mean             377    314211                       27               567548   \n",
       "std             1441   1122664                       78               597613   \n",
       "min               12         2                        0                69223   \n",
       "50%               41     51984                        8               422158   \n",
       "max            14368  10359729                      609              5145434   \n",
       "\n",
       "       shared_receipt_with_poi  restricted_stock  director_fees  \n",
       "count                      145               145            145  \n",
       "mean                       999            972059         104361  \n",
       "std                        930           1972272          14229  \n",
       "min                          2          -2604490           3285  \n",
       "50%                        740            441096         106164  \n",
       "max                       5521          14761694         137864  "
      ]
     },
     "execution_count": 10,
     "metadata": {},
     "output_type": "execute_result"
    }
   ],
   "source": [
    "df.describe(percentiles=[0.5]).astype(int)"
   ]
  },
  {
   "cell_type": "markdown",
   "metadata": {},
   "source": [
    "#### Numerical features"
   ]
  },
  {
   "cell_type": "code",
   "execution_count": 89,
   "metadata": {},
   "outputs": [
    {
     "data": {
      "image/png": "[encoded data removed]",
      "text/plain": [
       "<matplotlib.figure.Figure at 0x7f32fc757f98>"
      ]
     },
     "metadata": {},
     "output_type": "display_data"
    },
    {
     "data": {
      "image/png": "[encoded data removed]",
      "text/plain": [
       "<matplotlib.figure.Figure at 0x7f32d5181898>"
      ]
     },
     "metadata": {},
     "output_type": "display_data"
    },
    {
     "data": {
      "image/png": "[encoded data removed]",
      "text/plain": [
       "<matplotlib.figure.Figure at 0x7f32d4f0e978>"
      ]
     },
     "metadata": {},
     "output_type": "display_data"
    },
    {
     "data": {
      "image/png": "[encoded data removed]",
      "text/plain": [
       "<matplotlib.figure.Figure at 0x7f32d4cfc9e8>"
      ]
     },
     "metadata": {},
     "output_type": "display_data"
    }
   ],
   "source": [
    "helper.show_numerical(df, kde=True, nocls)"
   ]
  },
  {
   "cell_type": "markdown",
   "metadata": {},
   "source": [
    "#### Target vs Numerical features"
   ]
  },
  {
   "cell_type": "code",
   "execution_count": null,
   "metadata": {},
   "outputs": [],
   "source": [
    "for i in range(0, 15, 5):\n",
    "    helper.show_target_vs_numerical(df.iloc[:, i:i + 5].join(df[target]), target, jitter=0.05,\n",
    "        fit_reg=True, point_size=100)\n",
    "    plt.ylim(ymin=-0.2, ymax=1.2)\n",
    "\n",
    "helper.show_target_vs_numerical(\n",
    "    df.iloc[:, 15:20], target, jitter=0.05, fit_reg=True, point_size=100)\n",
    "plt.ylim(ymin=-0.2, ymax=1.2)"
   ]
  },
  {
   "cell_type": "markdown",
   "metadata": {},
   "source": [
    "#### Total stock value vs some features "
   ]
  },
  {
   "cell_type": "code",
   "execution_count": null,
   "metadata": {
    "scrolled": false
   },
   "outputs": [],
   "source": [
    "# df.plot.scatter(x='salary', y='total_stock_value')\n",
    "# df.plot.scatter(x='long_term_incentive', y='total_stock_value')\n",
    "\n",
    "# sns.lmplot(x=\"salary\", y=\"total_stock_value\", hue='poi', data=df)\n",
    "# sns.lmplot(x=\"long_term_incentive\", y=\"total_stock_value\", hue='poi', data=df)\n",
    "\n",
    "g = sns.PairGrid(\n",
    "    df,\n",
    "    y_vars=[\"total_stock_value\"],\n",
    "    x_vars=[\"salary\", \"long_term_incentive\", \"from_this_person_to_poi\"],\n",
    "    hue='poi',\n",
    "    size=4)\n",
    "g.map(sns.regplot).add_legend()\n",
    "plt.ylim(ymin=0, ymax=0.5e8)\n",
    "\n",
    "#sns.pairplot(df, hue='poi', vars=['long_term_incentive', 'total_stock_value', 'from_poi_to_this_person'], kind='reg', size=3)"
   ]
  },
  {
   "cell_type": "markdown",
   "metadata": {},
   "source": [
    "The person of interest seems to have a higher stock vs salary and long-term incentive, especially when his stock value is high. There is no dependency between POI and the amount of emails from or to another person of interest."
   ]
  },
  {
   "cell_type": "markdown",
   "metadata": {},
   "source": [
    "#### Correlation between numerical features and target"
   ]
  },
  {
   "cell_type": "code",
   "execution_count": null,
   "metadata": {},
   "outputs": [],
   "source": [
    "helper.show_correlation(df, target, figsize=(11,3))"
   ]
  },
  {
   "cell_type": "markdown",
   "metadata": {},
   "source": [
    "## 2. Neural Network model"
   ]
  },
  {
   "cell_type": "markdown",
   "metadata": {},
   "source": [
    "### Select the features"
   ]
  },
  {
   "cell_type": "code",
   "execution_count": null,
   "metadata": {},
   "outputs": [],
   "source": [
    "droplist = []  # features to drop from the model\n",
    "\n",
    "# For the model 'data' instead of 'df'\n",
    "data = df.copy()\n",
    "data.drop(droplist, axis='columns', inplace=True)\n",
    "data.head(3)"
   ]
  },
  {
   "cell_type": "markdown",
   "metadata": {},
   "source": [
    "### Scale numerical features\n",
    "Shift and scale numerical variables to a standard normal distribution. The scaling factors are saved to be used for predictions."
   ]
  },
  {
   "cell_type": "code",
   "execution_count": null,
   "metadata": {},
   "outputs": [],
   "source": [
    "data, scale_param = helper.scale(data)"
   ]
  },
  {
   "cell_type": "markdown",
   "metadata": {},
   "source": [
    "There are no categorical variables"
   ]
  },
  {
   "cell_type": "markdown",
   "metadata": {},
   "source": [
    "### Split the data into training and test sets\n",
    "Data leakage: Test set hidden when training the model, but seen when preprocessing the dataset\n",
    "\n",
    "No validation set (small dataset)"
   ]
  },
  {
   "cell_type": "code",
   "execution_count": null,
   "metadata": {},
   "outputs": [],
   "source": [
    "test_size = 0.4\n",
    "random_state = 9\n",
    "\n",
    "from sklearn.model_selection import train_test_split\n",
    "\n",
    "train, test = train_test_split(\n",
    "    data, test_size=test_size, random_state=random_state, stratify=df[target])\n",
    "\n",
    "# Separate the data into features and targets (x=features, y=targets)\n",
    "x_train, y_train_nc = train.drop(target, axis=1).values, train[target].values\n",
    "x_test, y_test_nc = test.drop(target, axis=1).values, test[target].values\n",
    "# _nc: non-categorical yet"
   ]
  },
  {
   "cell_type": "markdown",
   "metadata": {},
   "source": [
    "### Encode the output"
   ]
  },
  {
   "cell_type": "code",
   "execution_count": null,
   "metadata": {},
   "outputs": [],
   "source": [
    "def one_hot_output(y_train, y_test):\n",
    "    num_classes = len(np.unique(y_train))\n",
    "    y_train = keras.utils.to_categorical(y_train, num_classes)\n",
    "    y_test = keras.utils.to_categorical(y_test, num_classes)\n",
    "    return y_train, y_test\n",
    "\n",
    "\n",
    "y_train, y_test = one_hot_output(y_train_nc, y_test_nc)"
   ]
  },
  {
   "cell_type": "code",
   "execution_count": null,
   "metadata": {},
   "outputs": [],
   "source": [
    "print(\"train size \\t X:{} \\t Y:{}\".format(x_train.shape, y_train.shape))\n",
    "print(\"test size  \\t X:{} \\t Y:{} \".format(x_test.shape, y_test.shape))"
   ]
  },
  {
   "cell_type": "markdown",
   "metadata": {},
   "source": [
    "### Build a dummy classifier"
   ]
  },
  {
   "cell_type": "code",
   "execution_count": null,
   "metadata": {},
   "outputs": [],
   "source": [
    "from sklearn.dummy import DummyClassifier\n",
    "\n",
    "clf = DummyClassifier(strategy='most_frequent').fit(x_train, np.ravel(y_train))\n",
    "# The dummy 'most_frequent' classifier always predicts class 0 (NO SPAM)\n",
    "y_pred = clf.predict(x_test).reshape([-1, 1])\n",
    "\n",
    "helper.binary_classification_scores(y_test[:, 1], y_pred, return_dataframe=True)"
   ]
  },
  {
   "cell_type": "markdown",
   "metadata": {},
   "source": [
    "### Build the Neural Network for Binary Classification"
   ]
  },
  {
   "cell_type": "code",
   "execution_count": null,
   "metadata": {},
   "outputs": [],
   "source": [
    "# class weight for imbalance target\n",
    "\n",
    "from sklearn.utils import class_weight\n",
    "\n",
    "y_plain = np.ravel(y_train[:, 1])\n",
    "\n",
    "cw = class_weight.compute_class_weight('balanced', np.unique(y_plain), y_plain)\n",
    "\n",
    "cw = {idx: value for idx, value in enumerate(cw)}"
   ]
  },
  {
   "cell_type": "code",
   "execution_count": null,
   "metadata": {},
   "outputs": [],
   "source": [
    "from keras.models import Sequential\n",
    "from keras.layers.core import Dense, Dropout\n",
    "from keras import regularizers\n",
    "\n",
    "\n",
    "def build_nn(input_size, output_size, summary=False):\n",
    "\n",
    "    input_nodes = input_size\n",
    "    weights = keras.initializers.RandomNormal(stddev=0.00001)\n",
    "\n",
    "    model = Sequential()\n",
    "    model.add(\n",
    "        Dense(\n",
    "            input_nodes,\n",
    "            input_dim=x_train.shape[1],\n",
    "            activation='relu',\n",
    "\n",
    "            bias_initializer='zero'))\n",
    "    model.add(Dropout(0.3))\n",
    "    model.add(\n",
    "        Dense(\n",
    "            2,\n",
    "            activation='softmax',\n",
    "\n",
    "            bias_initializer='zero'))\n",
    "\n",
    "    opt = keras.optimizers.adam()\n",
    "    model.compile(loss='categorical_crossentropy', optimizer=opt, metrics=['accuracy'])\n",
    "    \n",
    "    if summary:\n",
    "        model.summary()\n",
    "\n",
    "    return model\n",
    "\n",
    "\n",
    "model = build_nn(x_train.shape[1], y_train.shape[1], summary=True)"
   ]
  },
  {
   "cell_type": "code",
   "execution_count": null,
   "metadata": {},
   "outputs": [],
   "source": [
    "from time import time\n",
    "model_path = os.path.join(\"models\", \"enron_scandal.h5\")\n",
    "\n",
    "\n",
    "def train_nn(model, x_train, y_train, validation_data=None, path=False, show=True):\n",
    "    \"\"\" \n",
    "    Train the neural network model. If no validation_data is provided, a split for validation\n",
    "    will be used\n",
    "    \"\"\"\n",
    "    \n",
    "    if show:\n",
    "        print('Training ....')\n",
    "    \n",
    "    #callbacks = [keras.callbacks.EarlyStopping(monitor='val_loss', patience=1, verbose=0)]\n",
    "    t0 = time()\n",
    "\n",
    "    history = model.fit(\n",
    "        x_train,\n",
    "        y_train,\n",
    "        epochs=150,\n",
    "        batch_size=128,              \n",
    "        verbose=0,\n",
    "        class_weight=cw,\n",
    "        # validation_split=0,\n",
    "        # validation_data = validation_data,\n",
    "        # callbacks=callbacks\n",
    "    )\n",
    "\n",
    "    if show:\n",
    "        print(\"time: \\t {:.1f} s\".format(time() - t0))\n",
    "        helper.show_training(history)\n",
    "\n",
    "    if path:\n",
    "        model.save(path)\n",
    "        print(\"\\nModel saved at\", path)\n",
    "    \n",
    "    return history\n",
    "        \n",
    "\n",
    "model = None\n",
    "model = build_nn(x_train.shape[1], y_train.shape[1], summary=False)\n",
    "train_nn(model, x_train, y_train, path=model_path);\n",
    "\n",
    "from sklearn.metrics import roc_auc_score\n",
    "y_pred_train = model.predict(x_train, verbose=0)\n",
    "print('\\nROC_AUC train:\\t{:.2f} \\n'.format(roc_auc_score(y_train, y_pred_train)))"
   ]
  },
  {
   "cell_type": "markdown",
   "metadata": {},
   "source": [
    "\n",
    "### Evaluate the model"
   ]
  },
  {
   "cell_type": "code",
   "execution_count": null,
   "metadata": {
    "scrolled": false
   },
   "outputs": [],
   "source": [
    "# Dataset too small for train, validation, and test sets. More data is needed for a proper\n",
    "y_pred = model.predict(x_test, verbose=0)\n",
    "\n",
    "helper.binary_classification_scores(y_test[:, 1], y_pred[:, 1], return_dataframe=True)"
   ]
  },
  {
   "cell_type": "markdown",
   "metadata": {},
   "source": [
    "### Compare with non-neural network models"
   ]
  },
  {
   "cell_type": "code",
   "execution_count": null,
   "metadata": {},
   "outputs": [],
   "source": [
    "helper.ml_classification(x_train, y_train[:,1], x_test, y_test[:,1])"
   ]
  }
 ],
 "metadata": {
  "anaconda-cloud": {},
  "kernelspec": {
   "display_name": "Python 3",
   "language": "python",
   "name": "python3"
  },
  "language_info": {
   "codemirror_mode": {
    "name": "ipython",
    "version": 3
   },
   "file_extension": ".py",
   "mimetype": "text/x-python",
   "name": "python",
   "nbconvert_exporter": "python",
   "pygments_lexer": "ipython3",
   "version": "3.6.4"
  }
 },
 "nbformat": 4,
 "nbformat_minor": 1
}
