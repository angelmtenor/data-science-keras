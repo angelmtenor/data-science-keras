{
  "cells": [
    {
      "cell_type": "markdown",
      "metadata": {},
      "source": [
        "# Titanic Survival with DNN\n",
        "\n",
        "**Predicting survival on the Titanic using an artificial neural network in Keras**\n",
        "\n",
        "\n",
        "**Supervised Learning. Binary classification**\n",
        "\n",
        "\n",
        "This project is based on a dataset containing demographics and passenger information from 891 of the 2224 passengers and crew on board the Titanic. A description of this dataset is on the [Kaggle website](https://www.kaggle.com/c/titanic/data), where the data was obtained."
      ]
    },
    {
      "cell_type": "code",
      "execution_count": 29,
      "metadata": {},
      "outputs": [
        {
          "name": "stdout",
          "output_type": "stream",
          "text": [
            "23:40:12 - DEBUG \t Already in target path /home/angel/DRIVE/0_repos/data-science-keras\n",
            "23:40:12 - DEBUG \t HARDWARE:\n",
            "23:40:13 - DEBUG \t CPU:\tIntel(R) Core(TM) i5-8265U CPU @ 1.60GHz\n",
            "23:40:13 - DEBUG \t RAM:\t15 GB\n",
            "23:40:13 - DEBUG \t -- No GPU  --\n",
            "23:40:13 - DEBUG \t OS:\tLinux-5.15.0-57-generic-x86_64-with-glibc2.35\n",
            "23:40:13 - DEBUG \t ENV:\t/home/angel/miniconda3/envs/ds-keras\n",
            "23:40:13 - DEBUG \t PYTHON:\t3.10.4 (main, Mar 31 2022, 08:41:55) [GCC 7.5.0]\n",
            "23:40:13 - DEBUG \t tensorflow                   2.11.0\n",
            "23:40:13 - DEBUG \t pandas                        1.5.2\n",
            "23:40:13 - DEBUG \t numpy                        1.24.1\n",
            "23:40:13 - DEBUG \t EXECUTION PATH: /home/angel/DRIVE/0_repos/data-science-keras\n",
            "23:40:13 - DEBUG \t EXECUTION DATE: Mon Jan 16 23:40:13 2023\n"
          ]
        }
      ],
      "source": [
        "import os, sys\n",
        "import numpy as np\n",
        "import pandas as pd\n",
        "import matplotlib.pyplot as plt\n",
        "import seaborn as sns\n",
        "import ds_boost\n",
        "import keras\n",
        "\n",
        "log = ds_boost.logger.init(level=\"DEBUG\", save_log=False)\n",
        "\n",
        "ds_boost.set_parent_execution_path()\n",
        "ds_boost.info_system()\n",
        "ds_boost.reproducible(seed=0)  # Setup reproducible results from run to run using Keras\n",
        "\n",
        "%matplotlib inline"
      ]
    },
    {
      "cell_type": "markdown",
      "metadata": {},
      "source": [
        "## 1. Data Processing and Exploratory Data Analysis"
      ]
    },
    {
      "cell_type": "code",
      "execution_count": 30,
      "metadata": {},
      "outputs": [
        {
          "name": "stdout",
          "output_type": "stream",
          "text": [
            "891 rows \n",
            "12 columns \n",
            "target: ['Survived']\n"
          ]
        }
      ],
      "source": [
        "data_path = \"data/titanic_data.csv\"\n",
        "target = [\"Survived\"]  # the target will remain the same throughout the notebook\n",
        "\n",
        "df_original = pd.read_csv(data_path)\n",
        "print(\"{} rows \\n{} columns \\ntarget: {}\".format(*df_original.shape, target))"
      ]
    },
    {
      "cell_type": "markdown",
      "metadata": {},
      "source": [
        "### Show the data"
      ]
    },
    {
      "cell_type": "code",
      "execution_count": 31,
      "metadata": {},
      "outputs": [
        {
          "data": {
            "text/html": [
              "<div>\n",
              "<style scoped>\n",
              "    .dataframe tbody tr th:only-of-type {\n",
              "        vertical-align: middle;\n",
              "    }\n",
              "\n",
              "    .dataframe tbody tr th {\n",
              "        vertical-align: top;\n",
              "    }\n",
              "\n",
              "    .dataframe thead th {\n",
              "        text-align: right;\n",
              "    }\n",
              "</style>\n",
              "<table border=\"1\" class=\"dataframe\">\n",
              "  <thead>\n",
              "    <tr style=\"text-align: right;\">\n",
              "      <th></th>\n",
              "      <th>PassengerId</th>\n",
              "      <th>Survived</th>\n",
              "      <th>Pclass</th>\n",
              "      <th>Name</th>\n",
              "      <th>Sex</th>\n",
              "      <th>Age</th>\n",
              "      <th>SibSp</th>\n",
              "      <th>Parch</th>\n",
              "      <th>Ticket</th>\n",
              "      <th>Fare</th>\n",
              "      <th>Cabin</th>\n",
              "      <th>Embarked</th>\n",
              "    </tr>\n",
              "  </thead>\n",
              "  <tbody>\n",
              "    <tr>\n",
              "      <th>0</th>\n",
              "      <td>1</td>\n",
              "      <td>0</td>\n",
              "      <td>3</td>\n",
              "      <td>Braund, Mr. Owen Harris</td>\n",
              "      <td>male</td>\n",
              "      <td>22.0</td>\n",
              "      <td>1</td>\n",
              "      <td>0</td>\n",
              "      <td>A/5 21171</td>\n",
              "      <td>7.2500</td>\n",
              "      <td>NaN</td>\n",
              "      <td>S</td>\n",
              "    </tr>\n",
              "    <tr>\n",
              "      <th>1</th>\n",
              "      <td>2</td>\n",
              "      <td>1</td>\n",
              "      <td>1</td>\n",
              "      <td>Cumings, Mrs. John Bradley (Florence Briggs Th...</td>\n",
              "      <td>female</td>\n",
              "      <td>38.0</td>\n",
              "      <td>1</td>\n",
              "      <td>0</td>\n",
              "      <td>PC 17599</td>\n",
              "      <td>71.2833</td>\n",
              "      <td>C85</td>\n",
              "      <td>C</td>\n",
              "    </tr>\n",
              "    <tr>\n",
              "      <th>2</th>\n",
              "      <td>3</td>\n",
              "      <td>1</td>\n",
              "      <td>3</td>\n",
              "      <td>Heikkinen, Miss. Laina</td>\n",
              "      <td>female</td>\n",
              "      <td>26.0</td>\n",
              "      <td>0</td>\n",
              "      <td>0</td>\n",
              "      <td>STON/O2. 3101282</td>\n",
              "      <td>7.9250</td>\n",
              "      <td>NaN</td>\n",
              "      <td>S</td>\n",
              "    </tr>\n",
              "  </tbody>\n",
              "</table>\n",
              "</div>"
            ],
            "text/plain": [
              "   PassengerId  Survived  Pclass  \\\n",
              "0            1         0       3   \n",
              "1            2         1       1   \n",
              "2            3         1       3   \n",
              "\n",
              "                                                Name     Sex   Age  SibSp  \\\n",
              "0                            Braund, Mr. Owen Harris    male  22.0      1   \n",
              "1  Cumings, Mrs. John Bradley (Florence Briggs Th...  female  38.0      1   \n",
              "2                             Heikkinen, Miss. Laina  female  26.0      0   \n",
              "\n",
              "   Parch            Ticket     Fare Cabin Embarked  \n",
              "0      0         A/5 21171   7.2500   NaN        S  \n",
              "1      0          PC 17599  71.2833   C85        C  \n",
              "2      0  STON/O2. 3101282   7.9250   NaN        S  "
            ]
          },
          "execution_count": 31,
          "metadata": {},
          "output_type": "execute_result"
        }
      ],
      "source": [
        "df_original.head(3)"
      ]
    },
    {
      "cell_type": "markdown",
      "metadata": {},
      "source": [
        "#### Numerical Data"
      ]
    },
    {
      "cell_type": "code",
      "execution_count": 32,
      "metadata": {},
      "outputs": [
        {
          "data": {
            "text/html": [
              "<div>\n",
              "<style scoped>\n",
              "    .dataframe tbody tr th:only-of-type {\n",
              "        vertical-align: middle;\n",
              "    }\n",
              "\n",
              "    .dataframe tbody tr th {\n",
              "        vertical-align: top;\n",
              "    }\n",
              "\n",
              "    .dataframe thead th {\n",
              "        text-align: right;\n",
              "    }\n",
              "</style>\n",
              "<table border=\"1\" class=\"dataframe\">\n",
              "  <thead>\n",
              "    <tr style=\"text-align: right;\">\n",
              "      <th></th>\n",
              "      <th>PassengerId</th>\n",
              "      <th>Survived</th>\n",
              "      <th>Pclass</th>\n",
              "      <th>Age</th>\n",
              "      <th>SibSp</th>\n",
              "      <th>Parch</th>\n",
              "      <th>Fare</th>\n",
              "    </tr>\n",
              "  </thead>\n",
              "  <tbody>\n",
              "    <tr>\n",
              "      <th>count</th>\n",
              "      <td>891.000000</td>\n",
              "      <td>891.000000</td>\n",
              "      <td>891.000000</td>\n",
              "      <td>714.000000</td>\n",
              "      <td>891.000000</td>\n",
              "      <td>891.000000</td>\n",
              "      <td>891.000000</td>\n",
              "    </tr>\n",
              "    <tr>\n",
              "      <th>mean</th>\n",
              "      <td>446.000000</td>\n",
              "      <td>0.383838</td>\n",
              "      <td>2.308642</td>\n",
              "      <td>29.699118</td>\n",
              "      <td>0.523008</td>\n",
              "      <td>0.381594</td>\n",
              "      <td>32.204208</td>\n",
              "    </tr>\n",
              "    <tr>\n",
              "      <th>std</th>\n",
              "      <td>257.353842</td>\n",
              "      <td>0.486592</td>\n",
              "      <td>0.836071</td>\n",
              "      <td>14.526497</td>\n",
              "      <td>1.102743</td>\n",
              "      <td>0.806057</td>\n",
              "      <td>49.693429</td>\n",
              "    </tr>\n",
              "    <tr>\n",
              "      <th>min</th>\n",
              "      <td>1.000000</td>\n",
              "      <td>0.000000</td>\n",
              "      <td>1.000000</td>\n",
              "      <td>0.420000</td>\n",
              "      <td>0.000000</td>\n",
              "      <td>0.000000</td>\n",
              "      <td>0.000000</td>\n",
              "    </tr>\n",
              "    <tr>\n",
              "      <th>50%</th>\n",
              "      <td>446.000000</td>\n",
              "      <td>0.000000</td>\n",
              "      <td>3.000000</td>\n",
              "      <td>28.000000</td>\n",
              "      <td>0.000000</td>\n",
              "      <td>0.000000</td>\n",
              "      <td>14.454200</td>\n",
              "    </tr>\n",
              "    <tr>\n",
              "      <th>max</th>\n",
              "      <td>891.000000</td>\n",
              "      <td>1.000000</td>\n",
              "      <td>3.000000</td>\n",
              "      <td>80.000000</td>\n",
              "      <td>8.000000</td>\n",
              "      <td>6.000000</td>\n",
              "      <td>512.329200</td>\n",
              "    </tr>\n",
              "  </tbody>\n",
              "</table>\n",
              "</div>"
            ],
            "text/plain": [
              "       PassengerId    Survived      Pclass         Age       SibSp  \\\n",
              "count   891.000000  891.000000  891.000000  714.000000  891.000000   \n",
              "mean    446.000000    0.383838    2.308642   29.699118    0.523008   \n",
              "std     257.353842    0.486592    0.836071   14.526497    1.102743   \n",
              "min       1.000000    0.000000    1.000000    0.420000    0.000000   \n",
              "50%     446.000000    0.000000    3.000000   28.000000    0.000000   \n",
              "max     891.000000    1.000000    3.000000   80.000000    8.000000   \n",
              "\n",
              "            Parch        Fare  \n",
              "count  891.000000  891.000000  \n",
              "mean     0.381594   32.204208  \n",
              "std      0.806057   49.693429  \n",
              "min      0.000000    0.000000  \n",
              "50%      0.000000   14.454200  \n",
              "max      6.000000  512.329200  "
            ]
          },
          "execution_count": 32,
          "metadata": {},
          "output_type": "execute_result"
        }
      ],
      "source": [
        "df_original.describe(percentiles=[0.5])"
      ]
    },
    {
      "cell_type": "markdown",
      "metadata": {},
      "source": [
        "#### Non-numerical Data"
      ]
    },
    {
      "cell_type": "code",
      "execution_count": 33,
      "metadata": {},
      "outputs": [
        {
          "data": {
            "text/html": [
              "<div>\n",
              "<style scoped>\n",
              "    .dataframe tbody tr th:only-of-type {\n",
              "        vertical-align: middle;\n",
              "    }\n",
              "\n",
              "    .dataframe tbody tr th {\n",
              "        vertical-align: top;\n",
              "    }\n",
              "\n",
              "    .dataframe thead th {\n",
              "        text-align: right;\n",
              "    }\n",
              "</style>\n",
              "<table border=\"1\" class=\"dataframe\">\n",
              "  <thead>\n",
              "    <tr style=\"text-align: right;\">\n",
              "      <th></th>\n",
              "      <th>Name</th>\n",
              "      <th>Sex</th>\n",
              "      <th>Ticket</th>\n",
              "      <th>Cabin</th>\n",
              "      <th>Embarked</th>\n",
              "    </tr>\n",
              "  </thead>\n",
              "  <tbody>\n",
              "    <tr>\n",
              "      <th>count</th>\n",
              "      <td>891</td>\n",
              "      <td>891</td>\n",
              "      <td>891</td>\n",
              "      <td>204</td>\n",
              "      <td>889</td>\n",
              "    </tr>\n",
              "    <tr>\n",
              "      <th>unique</th>\n",
              "      <td>891</td>\n",
              "      <td>2</td>\n",
              "      <td>681</td>\n",
              "      <td>147</td>\n",
              "      <td>3</td>\n",
              "    </tr>\n",
              "    <tr>\n",
              "      <th>top</th>\n",
              "      <td>Braund, Mr. Owen Harris</td>\n",
              "      <td>male</td>\n",
              "      <td>347082</td>\n",
              "      <td>B96 B98</td>\n",
              "      <td>S</td>\n",
              "    </tr>\n",
              "    <tr>\n",
              "      <th>freq</th>\n",
              "      <td>1</td>\n",
              "      <td>577</td>\n",
              "      <td>7</td>\n",
              "      <td>4</td>\n",
              "      <td>644</td>\n",
              "    </tr>\n",
              "  </tbody>\n",
              "</table>\n",
              "</div>"
            ],
            "text/plain": [
              "                           Name   Sex  Ticket    Cabin Embarked\n",
              "count                       891   891     891      204      889\n",
              "unique                      891     2     681      147        3\n",
              "top     Braund, Mr. Owen Harris  male  347082  B96 B98        S\n",
              "freq                          1   577       7        4      644"
            ]
          },
          "execution_count": 33,
          "metadata": {},
          "output_type": "execute_result"
        }
      ],
      "source": [
        "df_original.describe(include=[\"O\"])"
      ]
    },
    {
      "cell_type": "markdown",
      "metadata": {},
      "source": [
        "#### Missing values"
      ]
    },
    {
      "cell_type": "code",
      "execution_count": 34,
      "metadata": {},
      "outputs": [
        {
          "data": {
            "image/png": "[encoded data removed]",
            "text/plain": [
              "<Figure size 800x200 with 1 Axes>"
            ]
          },
          "metadata": {},
          "output_type": "display_data"
        }
      ],
      "source": [
        "ds_boost.missing(df_original)"
      ]
    },
    {
      "cell_type": "markdown",
      "metadata": {},
      "source": [
        "- Binary target \"Survived\": ~38% ones; F1 score won't be used <br>\n",
        "- Some values are missing for key values (e.g. Age)\n",
        "- Some features (e.g. PassengerID, Name, Ticket) seem irelevant to survival probabilities <br> "
      ]
    },
    {
      "cell_type": "markdown",
      "metadata": {},
      "source": [
        "### Transform the data"
      ]
    },
    {
      "cell_type": "markdown",
      "metadata": {},
      "source": [
        "#### Enhance and add new features"
      ]
    },
    {
      "cell_type": "code",
      "execution_count": 35,
      "metadata": {},
      "outputs": [
        {
          "name": "stdout",
          "output_type": "stream",
          "text": [
            "23:40:14 - DEBUG \t Variables changed to 'category': {columns_to_convert}\n",
            "23:40:14 - DEBUG \t Removing 891 categories from feature Name\n",
            "23:40:14 - DEBUG \t Removing 681 categories from feature Ticket\n",
            "23:40:14 - DEBUG \t Removing 2 categories from feature Cabin\n",
            "23:40:14 - DEBUG \t Removing 13 categories from feature Title\n"
          ]
        }
      ],
      "source": [
        "df = df_original.copy()  # modified dataset\n",
        "\n",
        "\n",
        "def enhance_features(df, dict_categories=None):\n",
        "    \"\"\"Enhance dataframe df\"\"\"\n",
        "    df = df.copy()\n",
        "    # filter Cabin to first letter\n",
        "    df[\"Cabin\"] = df[\"Cabin\"].str[0]\n",
        "    # get Title from Name\n",
        "    df[\"Title\"] = df[\"Name\"].str.extract(\"([A-Za-z]+)\\.\", expand=False)\n",
        "    # remove low frequency values for the new features\n",
        "    fields = [\"Cabin\", \"Title\"]\n",
        "    df, dict_categories = ds_boost.remove_categories(df, target=target, show=False)\n",
        "    # Alone passenger\n",
        "    df[\"Alone\"] = ((df[\"SibSp\"] + df[\"Parch\"]) == 0).astype(int)\n",
        "    return df, dict_categories\n",
        "\n",
        "\n",
        "df, dict_categories = enhance_features(df)"
      ]
    },
    {
      "cell_type": "markdown",
      "metadata": {},
      "source": [
        "#### Remove irrelevant features"
      ]
    },
    {
      "cell_type": "code",
      "execution_count": 36,
      "metadata": {},
      "outputs": [],
      "source": [
        "def drop_irrelevant_features(df, inplace=False):\n",
        "    \"\"\"Remove non-relevant columns from dataframe df (inplace)\"\"\"\n",
        "    if not inplace:\n",
        "        df = df.copy()\n",
        "    df.drop([\"PassengerId\", \"Name\", \"Ticket\"], axis=\"columns\", inplace=True)\n",
        "    if not inplace:\n",
        "        return df\n",
        "\n",
        "\n",
        "drop_irrelevant_features(df, inplace=True)"
      ]
    },
    {
      "cell_type": "markdown",
      "metadata": {},
      "source": [
        "#### Classify variables\n",
        "\n",
        "Change categorical variables as dtype 'categorical' and sort columns: numerical + categorical + target"
      ]
    },
    {
      "cell_type": "code",
      "execution_count": 37,
      "metadata": {},
      "outputs": [
        {
          "name": "stdout",
          "output_type": "stream",
          "text": [
            "23:40:14 - DEBUG \t 4 numerical features: \t ['Age', 'SibSp', 'Parch', 'Fare']\n",
            "23:40:14 - DEBUG \t 6 categorical features: \t ['Embarked', 'Cabin', 'Sex', 'Title', 'Pclass', 'Alone']\n",
            "23:40:14 - DEBUG \t Target: \t\tSurvived (int64)\n"
          ]
        },
        {
          "data": {
            "text/html": [
              "<div>\n",
              "<style scoped>\n",
              "    .dataframe tbody tr th:only-of-type {\n",
              "        vertical-align: middle;\n",
              "    }\n",
              "\n",
              "    .dataframe tbody tr th {\n",
              "        vertical-align: top;\n",
              "    }\n",
              "\n",
              "    .dataframe thead th {\n",
              "        text-align: right;\n",
              "    }\n",
              "</style>\n",
              "<table border=\"1\" class=\"dataframe\">\n",
              "  <thead>\n",
              "    <tr style=\"text-align: right;\">\n",
              "      <th></th>\n",
              "      <th>Age</th>\n",
              "      <th>SibSp</th>\n",
              "      <th>Parch</th>\n",
              "      <th>Fare</th>\n",
              "      <th>Embarked</th>\n",
              "      <th>Cabin</th>\n",
              "      <th>Sex</th>\n",
              "      <th>Title</th>\n",
              "      <th>Pclass</th>\n",
              "      <th>Alone</th>\n",
              "      <th>Survived</th>\n",
              "    </tr>\n",
              "  </thead>\n",
              "  <tbody>\n",
              "    <tr>\n",
              "      <th>Type</th>\n",
              "      <td>float32</td>\n",
              "      <td>float32</td>\n",
              "      <td>float32</td>\n",
              "      <td>float32</td>\n",
              "      <td>category</td>\n",
              "      <td>category</td>\n",
              "      <td>category</td>\n",
              "      <td>category</td>\n",
              "      <td>category</td>\n",
              "      <td>category</td>\n",
              "      <td>int64</td>\n",
              "    </tr>\n",
              "  </tbody>\n",
              "</table>\n",
              "</div>"
            ],
            "text/plain": [
              "          Age    SibSp    Parch     Fare  Embarked     Cabin       Sex  \\\n",
              "Type  float32  float32  float32  float32  category  category  category   \n",
              "\n",
              "         Title    Pclass     Alone Survived  \n",
              "Type  category  category  category    int64  "
            ]
          },
          "execution_count": 37,
          "metadata": {},
          "output_type": "execute_result"
        }
      ],
      "source": [
        "df = ds_boost.sort_columns_by_type(df, target, numerical=[\"Age\", \"SibSp\", \"Parch\", \"Fare\"])\n",
        "\n",
        "pd.DataFrame(dict(df.dtypes), index=[\"Type\"])[df.columns].head()  # show data types"
      ]
    },
    {
      "cell_type": "markdown",
      "metadata": {},
      "source": [
        "### Visualize the data"
      ]
    },
    {
      "cell_type": "markdown",
      "metadata": {},
      "source": [
        "#### Categorical features"
      ]
    },
    {
      "cell_type": "code",
      "execution_count": 38,
      "metadata": {},
      "outputs": [
        {
          "data": {
            "image/png": "[encoded data removed]",
            "text/plain": [
              "<Figure size 1700x200 with 5 Axes>"
            ]
          },
          "metadata": {},
          "output_type": "display_data"
        },
        {
          "data": {
            "image/png": "[encoded data removed]",
            "text/plain": [
              "<Figure size 1700x200 with 1 Axes>"
            ]
          },
          "metadata": {},
          "output_type": "display_data"
        }
      ],
      "source": [
        "ds_boost.show_categorical(df, target=target, sharey=True)"
      ]
    },
    {
      "cell_type": "markdown",
      "metadata": {},
      "source": [
        "#### Target vs Categorical features"
      ]
    },
    {
      "cell_type": "code",
      "execution_count": 39,
      "metadata": {},
      "outputs": [],
      "source": [
        "# ds_boost.show_target_vs_categorical(df, target)\n",
        "# plt.ylim([0, 1]);"
      ]
    },
    {
      "cell_type": "markdown",
      "metadata": {},
      "source": [
        "#### Numerical features"
      ]
    },
    {
      "cell_type": "code",
      "execution_count": 40,
      "metadata": {},
      "outputs": [
        {
          "data": {
            "image/png": "[encoded data removed]",
            "text/plain": [
              "<Figure size 1700x200 with 5 Axes>"
            ]
          },
          "metadata": {},
          "output_type": "display_data"
        }
      ],
      "source": [
        "ds_boost.show_numerical(df, kde=True)"
      ]
    },
    {
      "cell_type": "markdown",
      "metadata": {},
      "source": [
        "#### Target vs numerical features"
      ]
    },
    {
      "cell_type": "code",
      "execution_count": 41,
      "metadata": {},
      "outputs": [
        {
          "data": {
            "image/png": "[encoded data removed]",
            "text/plain": [
              "<Figure size 1700x400 with 4 Axes>"
            ]
          },
          "metadata": {},
          "output_type": "display_data"
        }
      ],
      "source": [
        "ds_boost.show_target_vs_numerical(df, target, jitter=0.2)\n",
        "plt.ylim([-0.4, 1.4])\n",
        "plt.yticks([0, 1]);\n",
        "# df.groupby('Survived')['Age'].hist(alpha=0.4)\n",
        "# ds_boost.show_target_vs_numerical(df_3sigma, target, numerical, jitter=0.2)"
      ]
    },
    {
      "cell_type": "markdown",
      "metadata": {},
      "source": [
        "#### Correlation between numerical features and target"
      ]
    },
    {
      "cell_type": "code",
      "execution_count": 42,
      "metadata": {},
      "outputs": [
        {
          "name": "stderr",
          "output_type": "stream",
          "text": [
            "/home/angel/DRIVE/0_repos/data-science-keras/src/ds_boost/ds_boost.py:778: FutureWarning: The default value of numeric_only in DataFrame.corr is deprecated. In a future version, it will default to False. Select only valid columns or specify the value of numeric_only to silence this warning.\n",
            "  corr = copy_df.corr().loc[numerical_f, target].fillna(0).sort_values(target, ascending=False).round(2)\n"
          ]
        },
        {
          "data": {
            "text/plain": [
              "[]"
            ]
          },
          "execution_count": 42,
          "metadata": {},
          "output_type": "execute_result"
        },
        {
          "data": {
            "image/png": "[encoded data removed]",
            "text/plain": [
              "<Figure size 800x300 with 1 Axes>"
            ]
          },
          "metadata": {},
          "output_type": "display_data"
        }
      ],
      "source": [
        "ds_boost.correlation(df, target)"
      ]
    },
    {
      "cell_type": "markdown",
      "metadata": {},
      "source": [
        "#### Most relevant features"
      ]
    },
    {
      "cell_type": "code",
      "execution_count": 43,
      "metadata": {},
      "outputs": [
        {
          "data": {
            "image/png": "[encoded data removed]",
            "text/plain": [
              "<Figure size 985.222x600 with 6 Axes>"
            ]
          },
          "metadata": {},
          "output_type": "display_data"
        }
      ],
      "source": [
        "sns.FacetGrid(df, row=\"Sex\", col=\"Pclass\", hue=\"Survived\", margin_titles=True).map(\n",
        "    plt.hist, \"Age\", alpha=0.7\n",
        ").add_legend()\n",
        "plt.ylim([0, 70]);\n",
        "# df[['Title', 'Survived']].groupby(['Title'], as_index=False).mean().sort_values(\n",
        "#     by='Survived', ascending=False)\n",
        "# ds_boost.show_target_vs_categorical(df.loc[(df['Age']<12) | (df['Sex']=='female')],\n",
        "#                                   target, categorical)"
      ]
    },
    {
      "cell_type": "markdown",
      "metadata": {},
      "source": [
        "-  Unlike in third class, most children and women in first and second classes survived."
      ]
    },
    {
      "cell_type": "markdown",
      "metadata": {},
      "source": [
        "### Fill missing values"
      ]
    },
    {
      "cell_type": "code",
      "execution_count": 44,
      "metadata": {},
      "outputs": [
        {
          "data": {
            "image/png": "[encoded data removed]",
            "text/plain": [
              "<Figure size 800x300 with 1 Axes>"
            ]
          },
          "metadata": {},
          "output_type": "display_data"
        }
      ],
      "source": [
        "ds_boost.missing(df)"
      ]
    },
    {
      "cell_type": "code",
      "execution_count": 45,
      "metadata": {},
      "outputs": [
        {
          "data": {
            "image/png": "[encoded data removed]",
            "text/plain": [
              "<Figure size 700x300 with 1 Axes>"
            ]
          },
          "metadata": {},
          "output_type": "display_data"
        }
      ],
      "source": [
        "plt.figure(figsize=(7, 3))\n",
        "sns.countplot(data=df, x=\"Pclass\", hue=\"Cabin\");"
      ]
    },
    {
      "cell_type": "code",
      "execution_count": 46,
      "metadata": {},
      "outputs": [],
      "source": [
        "# ds_boost.show_target_vs_categorical(df, [\"Age\"], figsize=(17, 2))  # Age vs categorical"
      ]
    },
    {
      "cell_type": "code",
      "execution_count": 47,
      "metadata": {},
      "outputs": [],
      "source": [
        "def fill_missing_values(df, inplace=False):\n",
        "    \"\"\"Fill missing values of the dataframe df\"\"\"\n",
        "\n",
        "    if not inplace:\n",
        "        df = df.copy()\n",
        "\n",
        "    # fill Embarked with mode\n",
        "    df[\"Embarked\"].fillna(df[\"Embarked\"].mode()[0], inplace=True)\n",
        "\n",
        "    # fill Cabin: the mode for grouped Pclass and Embarked\n",
        "    ref = df.groupby([\"Pclass\", \"Embarked\"])[\"Cabin\"].transform(lambda x: x.mode()[0])\n",
        "    df[\"Cabin\"].fillna(ref.iloc[0], inplace=True)\n",
        "\n",
        "    # fill Age: the median for grouped Pclass and Title\n",
        "    ref = df.groupby([\"Pclass\", \"Title\"])[\"Age\"].transform(\"median\")\n",
        "    df[\"Age\"].fillna(ref, inplace=True)\n",
        "\n",
        "    # fill Title: by age and sex only (not spouse or job)\n",
        "    # df.loc[df['Title']=='Master','Age'].unique()\n",
        "    #     for idx, row in df.iterrows():\n",
        "    #         if (pd.isnull(row['Title'])):\n",
        "    #             if row['Age'] >= 13:\n",
        "    #                 if row['Sex'] == 'male':\n",
        "    #                     df.loc[idx, 'Title'] = \"Mr\"\n",
        "    #                 else:\n",
        "    #                     df.loc[idx, 'Title'] = \"Mrs\"\n",
        "    #             else:\n",
        "    #                 if row['Sex'] == 'male':\n",
        "    #                     df.loc[idx, 'Title'] = \"Master\"\n",
        "    #                 else:\n",
        "    #                     df.loc[idx, 'Title'] = \"Miss\"\n",
        "\n",
        "    # fill missing categorical values with the mode (if any)\n",
        "    categorical = list(df.select_dtypes(include=[\"category\"]))\n",
        "    modes = df[categorical].mode()  # this solves fillna issue with mode()\n",
        "    for idx, f in enumerate(df[categorical]):\n",
        "        df[f].fillna(modes.iloc[0, idx], inplace=True)\n",
        "\n",
        "    # fill missing numeric NaN values with the median (if any)\n",
        "    numerical = list(df.select_dtypes(include=[\"number\"]))\n",
        "    df[numerical] = df[numerical].fillna(df[numerical].median())\n",
        "\n",
        "    if not inplace:\n",
        "        return df\n",
        "\n",
        "\n",
        "# bins = list(range(0,80,10))\n",
        "# # bins = (0, 5, 10, 15, 20, 30, 40, 50, 60)\n",
        "# labels = [\"{}-{}\".format(i, j) for i,j in zip(bins[:-1],bins[:-1])]\n",
        "# df['Age_cat'] = pd.cut(df['Age'], bins, labels=labels).astype('category')\n",
        "# df = df.drop(['Age'], axis='columns')\n",
        "\n",
        "fill_missing_values(df, inplace=True)"
      ]
    },
    {
      "cell_type": "markdown",
      "metadata": {},
      "source": [
        "## 2. Neural Network model"
      ]
    },
    {
      "cell_type": "markdown",
      "metadata": {},
      "source": [
        "### Select the features"
      ]
    },
    {
      "cell_type": "code",
      "execution_count": 48,
      "metadata": {},
      "outputs": [
        {
          "data": {
            "text/html": [
              "<div>\n",
              "<style scoped>\n",
              "    .dataframe tbody tr th:only-of-type {\n",
              "        vertical-align: middle;\n",
              "    }\n",
              "\n",
              "    .dataframe tbody tr th {\n",
              "        vertical-align: top;\n",
              "    }\n",
              "\n",
              "    .dataframe thead th {\n",
              "        text-align: right;\n",
              "    }\n",
              "</style>\n",
              "<table border=\"1\" class=\"dataframe\">\n",
              "  <thead>\n",
              "    <tr style=\"text-align: right;\">\n",
              "      <th></th>\n",
              "      <th>Age</th>\n",
              "      <th>SibSp</th>\n",
              "      <th>Parch</th>\n",
              "      <th>Fare</th>\n",
              "      <th>Embarked</th>\n",
              "      <th>Cabin</th>\n",
              "      <th>Sex</th>\n",
              "      <th>Title</th>\n",
              "      <th>Pclass</th>\n",
              "      <th>Alone</th>\n",
              "      <th>Survived</th>\n",
              "    </tr>\n",
              "  </thead>\n",
              "  <tbody>\n",
              "    <tr>\n",
              "      <th>0</th>\n",
              "      <td>22.0</td>\n",
              "      <td>1.0</td>\n",
              "      <td>0.0</td>\n",
              "      <td>7.250000</td>\n",
              "      <td>S</td>\n",
              "      <td>E</td>\n",
              "      <td>male</td>\n",
              "      <td>Mr</td>\n",
              "      <td>3</td>\n",
              "      <td>0</td>\n",
              "      <td>0</td>\n",
              "    </tr>\n",
              "    <tr>\n",
              "      <th>1</th>\n",
              "      <td>38.0</td>\n",
              "      <td>1.0</td>\n",
              "      <td>0.0</td>\n",
              "      <td>71.283302</td>\n",
              "      <td>C</td>\n",
              "      <td>C</td>\n",
              "      <td>female</td>\n",
              "      <td>Mrs</td>\n",
              "      <td>1</td>\n",
              "      <td>0</td>\n",
              "      <td>1</td>\n",
              "    </tr>\n",
              "    <tr>\n",
              "      <th>2</th>\n",
              "      <td>26.0</td>\n",
              "      <td>0.0</td>\n",
              "      <td>0.0</td>\n",
              "      <td>7.925000</td>\n",
              "      <td>S</td>\n",
              "      <td>E</td>\n",
              "      <td>female</td>\n",
              "      <td>Miss</td>\n",
              "      <td>3</td>\n",
              "      <td>1</td>\n",
              "      <td>1</td>\n",
              "    </tr>\n",
              "  </tbody>\n",
              "</table>\n",
              "</div>"
            ],
            "text/plain": [
              "    Age  SibSp  Parch       Fare Embarked Cabin     Sex Title Pclass Alone  \\\n",
              "0  22.0    1.0    0.0   7.250000        S     E    male    Mr      3     0   \n",
              "1  38.0    1.0    0.0  71.283302        C     C  female   Mrs      1     0   \n",
              "2  26.0    0.0    0.0   7.925000        S     E  female  Miss      3     1   \n",
              "\n",
              "   Survived  \n",
              "0         0  \n",
              "1         1  \n",
              "2         1  "
            ]
          },
          "execution_count": 48,
          "metadata": {},
          "output_type": "execute_result"
        }
      ],
      "source": [
        "droplist = []  # features to drop from the model\n",
        "\n",
        "# For the model 'data' instead of 'df'\n",
        "data = df.copy()\n",
        "df.drop(droplist, axis=\"columns\", inplace=True)\n",
        "data.head(3)"
      ]
    },
    {
      "cell_type": "markdown",
      "metadata": {},
      "source": [
        "### Scale numerical variables\n",
        "\n",
        "Shift and scale numerical variables to a standard normal distribution. The scaling factors are saved to be used for predictions."
      ]
    },
    {
      "cell_type": "code",
      "execution_count": 49,
      "metadata": {},
      "outputs": [],
      "source": [
        "data, scale_param = ds_boost.scale(data)"
      ]
    },
    {
      "cell_type": "markdown",
      "metadata": {},
      "source": [
        "### Create dummy features"
      ]
    },
    {
      "cell_type": "markdown",
      "metadata": {},
      "source": [
        "Replace categorical features (no target) with dummy features"
      ]
    },
    {
      "cell_type": "code",
      "execution_count": 50,
      "metadata": {},
      "outputs": [
        {
          "data": {
            "text/html": [
              "<div>\n",
              "<style scoped>\n",
              "    .dataframe tbody tr th:only-of-type {\n",
              "        vertical-align: middle;\n",
              "    }\n",
              "\n",
              "    .dataframe tbody tr th {\n",
              "        vertical-align: top;\n",
              "    }\n",
              "\n",
              "    .dataframe thead th {\n",
              "        text-align: right;\n",
              "    }\n",
              "</style>\n",
              "<table border=\"1\" class=\"dataframe\">\n",
              "  <thead>\n",
              "    <tr style=\"text-align: right;\">\n",
              "      <th></th>\n",
              "      <th>Age</th>\n",
              "      <th>SibSp</th>\n",
              "      <th>Parch</th>\n",
              "      <th>Fare</th>\n",
              "      <th>Survived</th>\n",
              "      <th>Embarked_C</th>\n",
              "      <th>Embarked_Q</th>\n",
              "      <th>Embarked_S</th>\n",
              "      <th>Cabin_A</th>\n",
              "      <th>Cabin_B</th>\n",
              "      <th>...</th>\n",
              "      <th>Sex_male</th>\n",
              "      <th>Title_Master</th>\n",
              "      <th>Title_Miss</th>\n",
              "      <th>Title_Mr</th>\n",
              "      <th>Title_Mrs</th>\n",
              "      <th>Pclass_1</th>\n",
              "      <th>Pclass_2</th>\n",
              "      <th>Pclass_3</th>\n",
              "      <th>Alone_0</th>\n",
              "      <th>Alone_1</th>\n",
              "    </tr>\n",
              "  </thead>\n",
              "  <tbody>\n",
              "    <tr>\n",
              "      <th>0</th>\n",
              "      <td>-0.528175</td>\n",
              "      <td>0.432550</td>\n",
              "      <td>-0.473408</td>\n",
              "      <td>-0.502163</td>\n",
              "      <td>-0.788829</td>\n",
              "      <td>0</td>\n",
              "      <td>0</td>\n",
              "      <td>1</td>\n",
              "      <td>0</td>\n",
              "      <td>0</td>\n",
              "      <td>...</td>\n",
              "      <td>1</td>\n",
              "      <td>0</td>\n",
              "      <td>0</td>\n",
              "      <td>1</td>\n",
              "      <td>0</td>\n",
              "      <td>0</td>\n",
              "      <td>0</td>\n",
              "      <td>1</td>\n",
              "      <td>1</td>\n",
              "      <td>0</td>\n",
              "    </tr>\n",
              "    <tr>\n",
              "      <th>1</th>\n",
              "      <td>0.658128</td>\n",
              "      <td>0.432550</td>\n",
              "      <td>-0.473408</td>\n",
              "      <td>0.786404</td>\n",
              "      <td>1.266279</td>\n",
              "      <td>1</td>\n",
              "      <td>0</td>\n",
              "      <td>0</td>\n",
              "      <td>0</td>\n",
              "      <td>0</td>\n",
              "      <td>...</td>\n",
              "      <td>0</td>\n",
              "      <td>0</td>\n",
              "      <td>0</td>\n",
              "      <td>0</td>\n",
              "      <td>1</td>\n",
              "      <td>1</td>\n",
              "      <td>0</td>\n",
              "      <td>0</td>\n",
              "      <td>1</td>\n",
              "      <td>0</td>\n",
              "    </tr>\n",
              "    <tr>\n",
              "      <th>2</th>\n",
              "      <td>-0.231600</td>\n",
              "      <td>-0.474279</td>\n",
              "      <td>-0.473408</td>\n",
              "      <td>-0.488580</td>\n",
              "      <td>1.266279</td>\n",
              "      <td>0</td>\n",
              "      <td>0</td>\n",
              "      <td>1</td>\n",
              "      <td>0</td>\n",
              "      <td>0</td>\n",
              "      <td>...</td>\n",
              "      <td>0</td>\n",
              "      <td>0</td>\n",
              "      <td>1</td>\n",
              "      <td>0</td>\n",
              "      <td>0</td>\n",
              "      <td>0</td>\n",
              "      <td>0</td>\n",
              "      <td>1</td>\n",
              "      <td>0</td>\n",
              "      <td>1</td>\n",
              "    </tr>\n",
              "  </tbody>\n",
              "</table>\n",
              "<p>3 rows \u00d7 25 columns</p>\n",
              "</div>"
            ],
            "text/plain": [
              "        Age     SibSp     Parch      Fare  Survived Embarked_C Embarked_Q  \\\n",
              "0 -0.528175  0.432550 -0.473408 -0.502163 -0.788829          0          0   \n",
              "1  0.658128  0.432550 -0.473408  0.786404  1.266279          1          0   \n",
              "2 -0.231600 -0.474279 -0.473408 -0.488580  1.266279          0          0   \n",
              "\n",
              "  Embarked_S Cabin_A Cabin_B  ... Sex_male Title_Master Title_Miss Title_Mr  \\\n",
              "0          1       0       0  ...        1            0          0        1   \n",
              "1          0       0       0  ...        0            0          0        0   \n",
              "2          1       0       0  ...        0            0          1        0   \n",
              "\n",
              "  Title_Mrs Pclass_1 Pclass_2 Pclass_3 Alone_0 Alone_1  \n",
              "0         0        0        0        1       1       0  \n",
              "1         1        1        0        0       1       0  \n",
              "2         0        0        0        1       0       1  \n",
              "\n",
              "[3 rows x 25 columns]"
            ]
          },
          "execution_count": 50,
          "metadata": {},
          "output_type": "execute_result"
        }
      ],
      "source": [
        "data, dict_dummies = ds_boost.replace_by_dummies(data, target)\n",
        "\n",
        "model_features = [f for f in data if f not in target]  # sorted neural network inputs\n",
        "\n",
        "data.head(3)"
      ]
    },
    {
      "cell_type": "markdown",
      "metadata": {},
      "source": [
        "### Split the data into training and test sets\n",
        "Data leakage: Test set hidden when training the model, but seen when preprocessing the dataset"
      ]
    },
    {
      "cell_type": "code",
      "execution_count": 51,
      "metadata": {},
      "outputs": [],
      "source": [
        "from sklearn.model_selection import train_test_split\n",
        "\n",
        "\n",
        "def split(data, target, test_size=0.15):\n",
        "    train, test = train_test_split(data, test_size=test_size, random_state=9, stratify=data[target])\n",
        "\n",
        "    # Separate the data into features and target (x=features, y=target)\n",
        "    x_train, y_train = train.drop(target, axis=1).values, train[target].values\n",
        "    x_test, y_test = test.drop(target, axis=1).values, test[target].values\n",
        "    # _nc: non-categorical yet (needs one-hot encoding)\n",
        "\n",
        "    return x_train, y_train, x_test, y_test\n",
        "\n",
        "\n",
        "x_train, y_train, x_test, y_test = split(data, target, test_size=0.2)"
      ]
    },
    {
      "cell_type": "markdown",
      "metadata": {},
      "source": [
        "### One-hot encode the output"
      ]
    },
    {
      "cell_type": "code",
      "execution_count": 52,
      "metadata": {},
      "outputs": [
        {
          "name": "stdout",
          "output_type": "stream",
          "text": [
            "train size \t X:(712, 24) \t Y:(712, 2)\n",
            "test size  \t X:(179, 24) \t Y:(179, 2) \n"
          ]
        }
      ],
      "source": [
        "def one_hot_output(y_train, y_test):\n",
        "    num_classes = len(np.unique(y_train))\n",
        "    y_train = keras.utils.to_categorical(y_train, num_classes)\n",
        "    y_test = keras.utils.to_categorical(y_test, num_classes)\n",
        "\n",
        "    return y_train, y_test\n",
        "\n",
        "\n",
        "y_train, y_test = one_hot_output(y_train, y_test)\n",
        "\n",
        "print(\"train size \\t X:{} \\t Y:{}\".format(x_train.shape, y_train.shape))\n",
        "print(\"test size  \\t X:{} \\t Y:{} \".format(x_test.shape, y_test.shape))"
      ]
    },
    {
      "cell_type": "markdown",
      "metadata": {},
      "source": [
        "### Build the Neural Network for Binary Classification"
      ]
    },
    {
      "cell_type": "code",
      "execution_count": 53,
      "metadata": {},
      "outputs": [
        {
          "name": "stdout",
          "output_type": "stream",
          "text": [
            "Model: \"sequential\"\n",
            "_________________________________________________________________\n",
            " Layer (type)                Output Shape              Param #   \n",
            "=================================================================\n",
            " dense (Dense)               (None, 24)                600       \n",
            "                                                                 \n",
            " leaky_re_lu (LeakyReLU)     (None, 24)                0         \n",
            "                                                                 \n",
            " dropout (Dropout)           (None, 24)                0         \n",
            "                                                                 \n",
            " dense_1 (Dense)             (None, 2)                 50        \n",
            "                                                                 \n",
            "=================================================================\n",
            "Total params: 650\n",
            "Trainable params: 650\n",
            "Non-trainable params: 0\n",
            "_________________________________________________________________\n"
          ]
        },
        {
          "name": "stderr",
          "output_type": "stream",
          "text": [
            "/home/angel/miniconda3/envs/ds-keras/lib/python3.10/site-packages/keras/initializers/initializers_v2.py:120: UserWarning: The initializer RandomNormal is unseeded and being called multiple times, which will return identical values  each time (even if the initializer is unseeded). Please update your code to provide a seed to the initializer, or avoid using the same initalizer instance more than once.\n",
            "  warnings.warn(\n"
          ]
        }
      ],
      "source": [
        "from keras.models import Sequential\n",
        "from keras.layers.core import Dense, Dropout\n",
        "\n",
        "\n",
        "def build_nn(input_size, output_size, summary=False):\n",
        "    input_nodes = input_size\n",
        "    weights = keras.initializers.RandomNormal(stddev=0.001)\n",
        "    leaky_relu = keras.layers.LeakyReLU(alpha=0.01)\n",
        "\n",
        "    model = Sequential()\n",
        "    model.add(\n",
        "        Dense(\n",
        "            input_nodes,\n",
        "            input_dim=input_size,\n",
        "            kernel_initializer=weights,\n",
        "            activation=\"relu\",\n",
        "            bias_initializer=\"zero\",\n",
        "        )\n",
        "    )\n",
        "    model.add(leaky_relu)\n",
        "\n",
        "    model.add(Dropout(0.3))\n",
        "\n",
        "    model.add(\n",
        "        Dense(\n",
        "            output_size,\n",
        "            activation=\"softmax\",\n",
        "            kernel_initializer=weights,\n",
        "            bias_initializer=\"zero\",\n",
        "        )\n",
        "    )\n",
        "\n",
        "    model.compile(loss=\"binary_crossentropy\", optimizer=\"adam\", metrics=[\"accuracy\"])\n",
        "\n",
        "    if summary:\n",
        "        model.summary()\n",
        "\n",
        "    return model\n",
        "\n",
        "\n",
        "model = build_nn(x_train.shape[1], y_train.shape[1], summary=True)"
      ]
    },
    {
      "cell_type": "markdown",
      "metadata": {},
      "source": [
        "### Train the Neural Network"
      ]
    },
    {
      "cell_type": "code",
      "execution_count": 54,
      "metadata": {},
      "outputs": [
        {
          "name": "stdout",
          "output_type": "stream",
          "text": [
            "Training ....\n",
            "time: \t 2.2 s\n"
          ]
        },
        {
          "data": {
            "image/png": "[encoded data removed]",
            "text/plain": [
              "<Figure size 1400x400 with 2 Axes>"
            ]
          },
          "metadata": {},
          "output_type": "display_data"
        },
        {
          "name": "stdout",
          "output_type": "stream",
          "text": [
            "23:40:25 - DEBUG \t Training loss:  \t0.4209\n",
            "23:40:25 - DEBUG \t Validation loss: \t 0.4680\n",
            "23:40:25 - DEBUG \t Training accuracy: \t0.828\n",
            "23:40:25 - DEBUG \t Validation accuracy:\t0.809\n",
            "\n",
            "Model saved at models/titanic.h5\n"
          ]
        }
      ],
      "source": [
        "from time import time\n",
        "\n",
        "model_path = os.path.join(\"models\", \"titanic.h5\")\n",
        "\n",
        "\n",
        "def train_nn(model, x_train, y_train, validation_data=None, path=False, show=True):\n",
        "    \"\"\"\n",
        "    Train the neural network model. If no validation_data is provided, a split for validation\n",
        "    will be used\n",
        "    \"\"\"\n",
        "\n",
        "    if show:\n",
        "        print(\"Training ....\")\n",
        "\n",
        "    callbacks = [keras.callbacks.EarlyStopping(monitor=\"val_loss\", patience=1, verbose=0)]\n",
        "    t0 = time()\n",
        "\n",
        "    history = model.fit(\n",
        "        x_train,\n",
        "        y_train,\n",
        "        epochs=1000,\n",
        "        batch_size=64,\n",
        "        verbose=0,\n",
        "        validation_split=0.25,\n",
        "        validation_data=validation_data,\n",
        "        callbacks=callbacks,\n",
        "    )\n",
        "\n",
        "    if show:\n",
        "        print(\"time: \\t {:.1f} s\".format(time() - t0))\n",
        "        ds_boost.show_training(history)\n",
        "\n",
        "    if path:\n",
        "        model.save(path)\n",
        "        print(\"\\nModel saved at\", path)\n",
        "\n",
        "    return history\n",
        "\n",
        "\n",
        "model = None\n",
        "model = build_nn(x_train.shape[1], y_train.shape[1], summary=False)\n",
        "train_nn(model, x_train, y_train, path=model_path);"
      ]
    },
    {
      "cell_type": "markdown",
      "metadata": {},
      "source": [
        "### Train with Cross Validation"
      ]
    },
    {
      "cell_type": "code",
      "execution_count": 55,
      "metadata": {},
      "outputs": [
        {
          "name": "stdout",
          "output_type": "stream",
          "text": [
            "Training 4 models for Cross Validation ...\n"
          ]
        },
        {
          "name": "stderr",
          "output_type": "stream",
          "text": [
            "/home/angel/miniconda3/envs/ds-keras/lib/python3.10/site-packages/keras/initializers/initializers_v2.py:120: UserWarning: The initializer RandomNormal is unseeded and being called multiple times, which will return identical values  each time (even if the initializer is unseeded). Please update your code to provide a seed to the initializer, or avoid using the same initalizer instance more than once.\n",
            "  warnings.warn(\n"
          ]
        },
        {
          "name": "stdout",
          "output_type": "stream",
          "text": [
            "\n",
            "Cross Validation accuracy: 0.813\n"
          ]
        }
      ],
      "source": [
        "from sklearn.model_selection import StratifiedKFold\n",
        "\n",
        "\n",
        "def cv_train_nn(x_train, y_train, n_splits):\n",
        "    \"\"\"Create and Train models for cross validation. Return best model\"\"\"\n",
        "\n",
        "    skf = StratifiedKFold(n_splits=n_splits, shuffle=True)\n",
        "\n",
        "    score = []\n",
        "\n",
        "    best_model = None\n",
        "    best_acc = 0\n",
        "\n",
        "    print(\"Training {} models for Cross Validation ...\".format(n_splits))\n",
        "\n",
        "    for train, val in skf.split(x_train[:, 0], y_train[:, 0]):\n",
        "        model = None\n",
        "        model = build_nn(x_train.shape[1], y_train.shape[1], summary=False)\n",
        "        history = train_nn(\n",
        "            model,\n",
        "            x_train[train],\n",
        "            y_train[train],\n",
        "            show=False,\n",
        "            validation_data=(x_train[val], y_train[val]),\n",
        "        )\n",
        "\n",
        "        val_acc = history.history[\"val_accuracy\"][-1]\n",
        "\n",
        "        score.append(val_acc)\n",
        "\n",
        "        if val_acc > best_acc:  # save best model (fold) for evaluation and predictions\n",
        "            best_model = model\n",
        "            best_acc = val_acc\n",
        "\n",
        "    model = best_model\n",
        "    print(\"\\nCross Validation accuracy: {:.3f}\".format(np.mean(score)))\n",
        "\n",
        "    return best_model\n",
        "\n",
        "\n",
        "model = cv_train_nn(x_train, y_train, 4)"
      ]
    },
    {
      "cell_type": "markdown",
      "metadata": {},
      "source": [
        "### Evaluate the model"
      ]
    },
    {
      "cell_type": "code",
      "execution_count": 56,
      "metadata": {},
      "outputs": [
        {
          "name": "stdout",
          "output_type": "stream",
          "text": [
            "Test Accuracy: 0.827\n"
          ]
        }
      ],
      "source": [
        "def evaluate_nn(model, x_test, y_test):\n",
        "    score = model.evaluate(x_test, y_test, verbose=0)\n",
        "    print(\"Test Accuracy: {:.3f}\".format(score[1]))\n",
        "\n",
        "\n",
        "# model = keras.models.load_model(model_path)\n",
        "evaluate_nn(model, x_test, y_test)"
      ]
    },
    {
      "cell_type": "code",
      "execution_count": 57,
      "metadata": {},
      "outputs": [
        {
          "name": "stdout",
          "output_type": "stream",
          "text": [
            "6/6 - 0s - 85ms/epoch - 14ms/step\n",
            "23:40:35 - DEBUG \t Confusion matrix: \n",
            " [[98 12]\n",
            " [19 50]]\n"
          ]
        },
        {
          "data": {
            "text/html": [
              "<div>\n",
              "<style scoped>\n",
              "    .dataframe tbody tr th:only-of-type {\n",
              "        vertical-align: middle;\n",
              "    }\n",
              "\n",
              "    .dataframe tbody tr th {\n",
              "        vertical-align: top;\n",
              "    }\n",
              "\n",
              "    .dataframe thead th {\n",
              "        text-align: right;\n",
              "    }\n",
              "</style>\n",
              "<table border=\"1\" class=\"dataframe\">\n",
              "  <thead>\n",
              "    <tr style=\"text-align: right;\">\n",
              "      <th></th>\n",
              "      <th>Loss</th>\n",
              "      <th>Accuracy</th>\n",
              "      <th>Precision</th>\n",
              "      <th>Recall</th>\n",
              "      <th>ROC-AUC</th>\n",
              "      <th>F1-score</th>\n",
              "    </tr>\n",
              "  </thead>\n",
              "  <tbody>\n",
              "    <tr>\n",
              "      <th>Neural Network</th>\n",
              "      <td>0.52</td>\n",
              "      <td>0.83</td>\n",
              "      <td>0.81</td>\n",
              "      <td>0.72</td>\n",
              "      <td>0.86</td>\n",
              "      <td>0.76</td>\n",
              "    </tr>\n",
              "  </tbody>\n",
              "</table>\n",
              "</div>"
            ],
            "text/plain": [
              "                Loss  Accuracy  Precision  Recall  ROC-AUC  F1-score\n",
              "Neural Network  0.52      0.83       0.81    0.72     0.86      0.76"
            ]
          },
          "execution_count": 57,
          "metadata": {},
          "output_type": "execute_result"
        }
      ],
      "source": [
        "y_pred = model.predict(x_test, verbose=2)\n",
        "ds_boost.binary_classification_scores(y_test[:, 1], y_pred[:, 1], return_dataframe=True, index=\"Neural Network\")"
      ]
    },
    {
      "cell_type": "markdown",
      "metadata": {},
      "source": [
        "### Make predictions"
      ]
    },
    {
      "cell_type": "code",
      "execution_count": 58,
      "metadata": {},
      "outputs": [],
      "source": [
        "def predict_manual(new_df):\n",
        "    \"\"\"\n",
        "    input: custom dataframe\n",
        "    \"\"\"\n",
        "\n",
        "    new_data = new_df.copy()\n",
        "\n",
        "    # force data types to previous dataframe df\n",
        "    for col in new_data:\n",
        "        new_data[col] = new_data[col].astype(df.dtypes[col])\n",
        "\n",
        "    # standardize numerical variables\n",
        "    new_data, _ = ds_boost.scale(new_data, scale_param)\n",
        "\n",
        "    # replace categorical features by dummy variables (using existing dummies)\n",
        "    new_data, _ = ds_boost.replace_by_dummies(new_data, target, dict_dummies)\n",
        "\n",
        "    # sort columns to match with manual entries\n",
        "    new_data = new_data[model_features]  ## model_features: sorted list used in the model\n",
        "\n",
        "    # make predictions\n",
        "    prediction = model.predict(new_data.values)[:, 1]\n",
        "    return prediction"
      ]
    },
    {
      "cell_type": "code",
      "execution_count": 59,
      "metadata": {},
      "outputs": [
        {
          "data": {
            "text/html": [
              "<div>\n",
              "<style scoped>\n",
              "    .dataframe tbody tr th:only-of-type {\n",
              "        vertical-align: middle;\n",
              "    }\n",
              "\n",
              "    .dataframe tbody tr th {\n",
              "        vertical-align: top;\n",
              "    }\n",
              "\n",
              "    .dataframe thead th {\n",
              "        text-align: right;\n",
              "    }\n",
              "</style>\n",
              "<table border=\"1\" class=\"dataframe\">\n",
              "  <thead>\n",
              "    <tr style=\"text-align: right;\">\n",
              "      <th></th>\n",
              "      <th>Age</th>\n",
              "      <th>SibSp</th>\n",
              "      <th>Parch</th>\n",
              "      <th>Fare</th>\n",
              "      <th>Survived</th>\n",
              "    </tr>\n",
              "  </thead>\n",
              "  <tbody>\n",
              "    <tr>\n",
              "      <th>count</th>\n",
              "      <td>891.000000</td>\n",
              "      <td>891.000000</td>\n",
              "      <td>891.000000</td>\n",
              "      <td>891.000000</td>\n",
              "      <td>891.000000</td>\n",
              "    </tr>\n",
              "    <tr>\n",
              "      <th>mean</th>\n",
              "      <td>29.123648</td>\n",
              "      <td>0.523008</td>\n",
              "      <td>0.381594</td>\n",
              "      <td>32.204208</td>\n",
              "      <td>0.383838</td>\n",
              "    </tr>\n",
              "    <tr>\n",
              "      <th>std</th>\n",
              "      <td>13.487280</td>\n",
              "      <td>1.102744</td>\n",
              "      <td>0.806057</td>\n",
              "      <td>49.693428</td>\n",
              "      <td>0.486592</td>\n",
              "    </tr>\n",
              "    <tr>\n",
              "      <th>min</th>\n",
              "      <td>0.420000</td>\n",
              "      <td>0.000000</td>\n",
              "      <td>0.000000</td>\n",
              "      <td>0.000000</td>\n",
              "      <td>0.000000</td>\n",
              "    </tr>\n",
              "    <tr>\n",
              "      <th>25%</th>\n",
              "      <td>21.000000</td>\n",
              "      <td>0.000000</td>\n",
              "      <td>0.000000</td>\n",
              "      <td>7.910400</td>\n",
              "      <td>0.000000</td>\n",
              "    </tr>\n",
              "    <tr>\n",
              "      <th>50%</th>\n",
              "      <td>26.000000</td>\n",
              "      <td>0.000000</td>\n",
              "      <td>0.000000</td>\n",
              "      <td>14.454200</td>\n",
              "      <td>0.000000</td>\n",
              "    </tr>\n",
              "    <tr>\n",
              "      <th>75%</th>\n",
              "      <td>36.250000</td>\n",
              "      <td>1.000000</td>\n",
              "      <td>0.000000</td>\n",
              "      <td>31.000000</td>\n",
              "      <td>1.000000</td>\n",
              "    </tr>\n",
              "    <tr>\n",
              "      <th>max</th>\n",
              "      <td>80.000000</td>\n",
              "      <td>8.000000</td>\n",
              "      <td>6.000000</td>\n",
              "      <td>512.329224</td>\n",
              "      <td>1.000000</td>\n",
              "    </tr>\n",
              "  </tbody>\n",
              "</table>\n",
              "</div>"
            ],
            "text/plain": [
              "              Age       SibSp       Parch        Fare    Survived\n",
              "count  891.000000  891.000000  891.000000  891.000000  891.000000\n",
              "mean    29.123648    0.523008    0.381594   32.204208    0.383838\n",
              "std     13.487280    1.102744    0.806057   49.693428    0.486592\n",
              "min      0.420000    0.000000    0.000000    0.000000    0.000000\n",
              "25%     21.000000    0.000000    0.000000    7.910400    0.000000\n",
              "50%     26.000000    0.000000    0.000000   14.454200    0.000000\n",
              "75%     36.250000    1.000000    0.000000   31.000000    1.000000\n",
              "max     80.000000    8.000000    6.000000  512.329224    1.000000"
            ]
          },
          "execution_count": 59,
          "metadata": {},
          "output_type": "execute_result"
        }
      ],
      "source": [
        "# input data format\n",
        "df.describe()"
      ]
    },
    {
      "cell_type": "code",
      "execution_count": 60,
      "metadata": {},
      "outputs": [
        {
          "data": {
            "text/html": [
              "<div>\n",
              "<style scoped>\n",
              "    .dataframe tbody tr th:only-of-type {\n",
              "        vertical-align: middle;\n",
              "    }\n",
              "\n",
              "    .dataframe tbody tr th {\n",
              "        vertical-align: top;\n",
              "    }\n",
              "\n",
              "    .dataframe thead th {\n",
              "        text-align: right;\n",
              "    }\n",
              "</style>\n",
              "<table border=\"1\" class=\"dataframe\">\n",
              "  <thead>\n",
              "    <tr style=\"text-align: right;\">\n",
              "      <th></th>\n",
              "      <th>Embarked</th>\n",
              "      <th>Cabin</th>\n",
              "      <th>Sex</th>\n",
              "      <th>Title</th>\n",
              "      <th>Pclass</th>\n",
              "      <th>Alone</th>\n",
              "    </tr>\n",
              "  </thead>\n",
              "  <tbody>\n",
              "    <tr>\n",
              "      <th>count</th>\n",
              "      <td>891</td>\n",
              "      <td>891</td>\n",
              "      <td>891</td>\n",
              "      <td>891</td>\n",
              "      <td>891</td>\n",
              "      <td>891</td>\n",
              "    </tr>\n",
              "    <tr>\n",
              "      <th>unique</th>\n",
              "      <td>3</td>\n",
              "      <td>6</td>\n",
              "      <td>2</td>\n",
              "      <td>4</td>\n",
              "      <td>3</td>\n",
              "      <td>2</td>\n",
              "    </tr>\n",
              "    <tr>\n",
              "      <th>top</th>\n",
              "      <td>S</td>\n",
              "      <td>E</td>\n",
              "      <td>male</td>\n",
              "      <td>Mr</td>\n",
              "      <td>3</td>\n",
              "      <td>1</td>\n",
              "    </tr>\n",
              "    <tr>\n",
              "      <th>freq</th>\n",
              "      <td>646</td>\n",
              "      <td>724</td>\n",
              "      <td>577</td>\n",
              "      <td>544</td>\n",
              "      <td>491</td>\n",
              "      <td>537</td>\n",
              "    </tr>\n",
              "  </tbody>\n",
              "</table>\n",
              "</div>"
            ],
            "text/plain": [
              "       Embarked Cabin   Sex Title  Pclass  Alone\n",
              "count       891   891   891   891     891    891\n",
              "unique        3     6     2     4       3      2\n",
              "top           S     E  male    Mr       3      1\n",
              "freq        646   724   577   544     491    537"
            ]
          },
          "execution_count": 60,
          "metadata": {},
          "output_type": "execute_result"
        }
      ],
      "source": [
        "df.describe(include=[\"category\"])"
      ]
    },
    {
      "cell_type": "code",
      "execution_count": 61,
      "metadata": {},
      "outputs": [
        {
          "name": "stdout",
          "output_type": "stream",
          "text": [
            "['Age', 'SibSp', 'Parch', 'Fare', 'Embarked', 'Cabin', 'Sex', 'Title', 'Pclass', 'Alone', 'Survived']\n"
          ]
        }
      ],
      "source": [
        "print(list(df))"
      ]
    },
    {
      "cell_type": "code",
      "execution_count": 62,
      "metadata": {},
      "outputs": [
        {
          "name": "stdout",
          "output_type": "stream",
          "text": [
            "1/1 [==============================] - 0s 21ms/step\n"
          ]
        },
        {
          "data": {
            "text/html": [
              "<div>\n",
              "<style scoped>\n",
              "    .dataframe tbody tr th:only-of-type {\n",
              "        vertical-align: middle;\n",
              "    }\n",
              "\n",
              "    .dataframe tbody tr th {\n",
              "        vertical-align: top;\n",
              "    }\n",
              "\n",
              "    .dataframe thead th {\n",
              "        text-align: right;\n",
              "    }\n",
              "</style>\n",
              "<table border=\"1\" class=\"dataframe\">\n",
              "  <thead>\n",
              "    <tr style=\"text-align: right;\">\n",
              "      <th></th>\n",
              "      <th>Age</th>\n",
              "      <th>SibSp</th>\n",
              "      <th>Parch</th>\n",
              "      <th>Fare</th>\n",
              "      <th>Embarked</th>\n",
              "      <th>Cabin</th>\n",
              "      <th>Sex</th>\n",
              "      <th>Title</th>\n",
              "      <th>Pclass</th>\n",
              "      <th>Alone</th>\n",
              "      <th>Survival prob. (%)</th>\n",
              "    </tr>\n",
              "  </thead>\n",
              "  <tbody>\n",
              "    <tr>\n",
              "      <th>Average man</th>\n",
              "      <td>26</td>\n",
              "      <td>1</td>\n",
              "      <td>0</td>\n",
              "      <td>14</td>\n",
              "      <td>2</td>\n",
              "      <td>male</td>\n",
              "      <td>C</td>\n",
              "      <td>S</td>\n",
              "      <td>Mr</td>\n",
              "      <td>0</td>\n",
              "      <td>50</td>\n",
              "    </tr>\n",
              "    <tr>\n",
              "      <th>Average woman</th>\n",
              "      <td>26</td>\n",
              "      <td>1</td>\n",
              "      <td>0</td>\n",
              "      <td>14</td>\n",
              "      <td>2</td>\n",
              "      <td>female</td>\n",
              "      <td>C</td>\n",
              "      <td>S</td>\n",
              "      <td>Mrs</td>\n",
              "      <td>0</td>\n",
              "      <td>50</td>\n",
              "    </tr>\n",
              "    <tr>\n",
              "      <th>Alone woman 3c</th>\n",
              "      <td>26</td>\n",
              "      <td>0</td>\n",
              "      <td>2</td>\n",
              "      <td>8</td>\n",
              "      <td>3</td>\n",
              "      <td>female</td>\n",
              "      <td>C</td>\n",
              "      <td>S</td>\n",
              "      <td>Miss</td>\n",
              "      <td>1</td>\n",
              "      <td>32</td>\n",
              "    </tr>\n",
              "    <tr>\n",
              "      <th>Boy 1c</th>\n",
              "      <td>7</td>\n",
              "      <td>0</td>\n",
              "      <td>2</td>\n",
              "      <td>31</td>\n",
              "      <td>1</td>\n",
              "      <td>male</td>\n",
              "      <td>C</td>\n",
              "      <td>S</td>\n",
              "      <td>Master</td>\n",
              "      <td>0</td>\n",
              "      <td>69</td>\n",
              "    </tr>\n",
              "    <tr>\n",
              "      <th>Boy 2c</th>\n",
              "      <td>7</td>\n",
              "      <td>0</td>\n",
              "      <td>2</td>\n",
              "      <td>14</td>\n",
              "      <td>2</td>\n",
              "      <td>male</td>\n",
              "      <td>C</td>\n",
              "      <td>S</td>\n",
              "      <td>Master</td>\n",
              "      <td>0</td>\n",
              "      <td>66</td>\n",
              "    </tr>\n",
              "    <tr>\n",
              "      <th>Boy 3c</th>\n",
              "      <td>7</td>\n",
              "      <td>0</td>\n",
              "      <td>2</td>\n",
              "      <td>8</td>\n",
              "      <td>3</td>\n",
              "      <td>male</td>\n",
              "      <td>C</td>\n",
              "      <td>S</td>\n",
              "      <td>Master</td>\n",
              "      <td>0</td>\n",
              "      <td>65</td>\n",
              "    </tr>\n",
              "  </tbody>\n",
              "</table>\n",
              "</div>"
            ],
            "text/plain": [
              "                Age  SibSp  Parch  Fare  Embarked   Cabin Sex Title  Pclass  \\\n",
              "Average man      26      1      0    14         2    male   C     S      Mr   \n",
              "Average woman    26      1      0    14         2  female   C     S     Mrs   \n",
              "Alone woman 3c   26      0      2     8         3  female   C     S    Miss   \n",
              "Boy 1c            7      0      2    31         1    male   C     S  Master   \n",
              "Boy 2c            7      0      2    14         2    male   C     S  Master   \n",
              "Boy 3c            7      0      2     8         3    male   C     S  Master   \n",
              "\n",
              "                Alone  Survival prob. (%)  \n",
              "Average man         0                  50  \n",
              "Average woman       0                  50  \n",
              "Alone woman 3c      1                  32  \n",
              "Boy 1c              0                  69  \n",
              "Boy 2c              0                  66  \n",
              "Boy 3c              0                  65  "
            ]
          },
          "execution_count": 62,
          "metadata": {},
          "output_type": "execute_result"
        }
      ],
      "source": [
        "new_passengers = {\n",
        "    \"Average man\": [26, 1, 0, 14, 2, \"male\", \"C\", \"S\", \"Mr\", 0],\n",
        "    \"Average woman\": [26, 1, 0, 14, 2, \"female\", \"C\", \"S\", \"Mrs\", 0],\n",
        "    \"Alone woman 3c\": [26, 0, 2, 8, 3, \"female\", \"C\", \"S\", \"Miss\", 1],\n",
        "    \"Boy 1c \": [7, 0, 2, 31, 1, \"male\", \"C\", \"S\", \"Master\", 0],\n",
        "    \"Boy 2c \": [7, 0, 2, 14, 2, \"male\", \"C\", \"S\", \"Master\", 0],\n",
        "    \"Boy 3c \": [7, 0, 2, 8, 3, \"male\", \"C\", \"S\", \"Master\", 0],\n",
        "}\n",
        "\n",
        "# create a dataframe with the new data\n",
        "new_df = pd.DataFrame(\n",
        "    data=list(new_passengers.values()),\n",
        "    index=new_passengers.keys(),\n",
        "    columns=[f for f in list(df) if f not in target],\n",
        ")\n",
        "\n",
        "prediction = predict_manual(new_df)\n",
        "new_df[\"Survival prob. (%)\"] = (prediction * 100).astype(int)\n",
        "new_df"
      ]
    },
    {
      "cell_type": "markdown",
      "metadata": {},
      "source": [
        "The results predicted from the model confirm the impact of the sex for the survival probabilities, as well as the class for the survival of women and children."
      ]
    },
    {
      "cell_type": "markdown",
      "metadata": {},
      "source": [
        "### Compare with non-enhanced features"
      ]
    },
    {
      "cell_type": "code",
      "execution_count": 63,
      "metadata": {},
      "outputs": [
        {
          "name": "stdout",
          "output_type": "stream",
          "text": [
            "23:40:36 - DEBUG \t 4 numerical features: \t ['Age', 'SibSp', 'Parch', 'Fare']\n",
            "23:40:36 - DEBUG \t 3 categorical features: \t ['Pclass', 'Embarked', 'Sex']\n",
            "23:40:36 - DEBUG \t Target: \t\tSurvived (int64)\n"
          ]
        },
        {
          "name": "stderr",
          "output_type": "stream",
          "text": [
            "/home/angel/miniconda3/envs/ds-keras/lib/python3.10/site-packages/keras/initializers/initializers_v2.py:120: UserWarning: The initializer RandomNormal is unseeded and being called multiple times, which will return identical values  each time (even if the initializer is unseeded). Please update your code to provide a seed to the initializer, or avoid using the same initalizer instance more than once.\n",
            "  warnings.warn(\n"
          ]
        },
        {
          "name": "stdout",
          "output_type": "stream",
          "text": [
            "Test Accuracy: 0.843\n"
          ]
        }
      ],
      "source": [
        "# Same dataset without:\n",
        "#   enhancing features\n",
        "#   adding new features\n",
        "#   filling missing values using grouped median\n",
        "\n",
        "\n",
        "def non_enhanced_pipeline(df):\n",
        "    df = df.copy()\n",
        "\n",
        "    # select features & classify features\n",
        "    df.drop([\"PassengerId\", \"Name\", \"Ticket\", \"Cabin\"], axis=\"columns\", inplace=True)\n",
        "    numerical = [\"Age\", \"SibSp\", \"Parch\", \"Fare\"]\n",
        "    df = ds_boost.sort_columns_by_type(df, target, numerical=numerical)\n",
        "\n",
        "    # fill NaN\n",
        "    df[numerical] = df[numerical].fillna(df[numerical].median())\n",
        "\n",
        "    # standardize and create dummies\n",
        "    data, _ = ds_boost.scale(df)\n",
        "    data, _ = ds_boost.replace_by_dummies(data, target)\n",
        "\n",
        "    # split and one-hot output\n",
        "    x_train, y_train, x_test, y_test = split(data, target, test_size=0.15)\n",
        "    y_train, y_test = one_hot_output(y_train, y_test)\n",
        "\n",
        "    # build, train and evaluate model\n",
        "    model = build_nn(x_train.shape[1], y_train.shape[1], summary=False)\n",
        "    train_nn(model, x_train, y_train, path=False, show=False)\n",
        "    evaluate_nn(model, x_test, y_test)\n",
        "\n",
        "\n",
        "non_enhanced_pipeline(df_original)"
      ]
    },
    {
      "cell_type": "markdown",
      "metadata": {},
      "source": [
        "### Compare removing outliers"
      ]
    },
    {
      "cell_type": "code",
      "execution_count": 64,
      "metadata": {},
      "outputs": [
        {
          "name": "stdout",
          "output_type": "stream",
          "text": [
            "23:40:40 - DEBUG \t Variables changed to 'category': {columns_to_convert}\n",
            "23:40:40 - DEBUG \t Removing 891 categories from feature Name\n",
            "23:40:40 - DEBUG \t Removing 681 categories from feature Ticket\n",
            "23:40:40 - DEBUG \t Removing 2 categories from feature Cabin\n",
            "23:40:40 - DEBUG \t Removing 13 categories from feature Title\n",
            "23:40:40 - DEBUG \t 4 numerical features: \t ['Age', 'SibSp', 'Parch', 'Fare']\n",
            "23:40:40 - DEBUG \t 6 categorical features: \t ['Embarked', 'Cabin', 'Sex', 'Title', 'Pclass', 'Alone']\n",
            "23:40:40 - DEBUG \t Target: \t\tSurvived (int64)\n",
            "23:40:40 - DEBUG \t ['Age', 'SibSp', 'Parch', 'Fare', 'Survived']\n"
          ]
        },
        {
          "name": "stderr",
          "output_type": "stream",
          "text": [
            "/home/angel/miniconda3/envs/ds-keras/lib/python3.10/site-packages/keras/initializers/initializers_v2.py:120: UserWarning: The initializer RandomNormal is unseeded and being called multiple times, which will return identical values  each time (even if the initializer is unseeded). Please update your code to provide a seed to the initializer, or avoid using the same initalizer instance more than once.\n",
            "  warnings.warn(\n"
          ]
        },
        {
          "name": "stdout",
          "output_type": "stream",
          "text": [
            "Test Accuracy: 0.828\n"
          ]
        }
      ],
      "source": [
        "def remove_outliers_pipeline(df):\n",
        "    df = df.copy()\n",
        "\n",
        "    # transform features\n",
        "    df, dict_categories = enhance_features(df)\n",
        "\n",
        "    # select features & classify features\n",
        "    df.drop([\"PassengerId\", \"Name\", \"Ticket\"], axis=\"columns\", inplace=True)\n",
        "    df = ds_boost.sort_columns_by_type(df, target, numerical=[\"Age\", \"SibSp\", \"Parch\", \"Fare\"])\n",
        "\n",
        "    # remove outliers\n",
        "    df = ds_boost.remove_outliers(df)  # remove default values above 3 times std\n",
        "\n",
        "    # fill missing values (enhanced)\n",
        "    df = fill_missing_values(df)\n",
        "\n",
        "    # standardize and create dummies\n",
        "    data, _ = ds_boost.scale(df)\n",
        "    data, _ = ds_boost.replace_by_dummies(data, target)\n",
        "\n",
        "    # split and one-hot output\n",
        "    x_train, y_train, x_test, y_test = split(data, target, test_size=0.15)\n",
        "    y_train, y_test = one_hot_output(y_train, y_test)\n",
        "\n",
        "    # build, train and evaluate model\n",
        "    model = build_nn(x_train.shape[1], y_train.shape[1], summary=False)\n",
        "    train_nn(model, x_train, y_train, path=False, show=False)\n",
        "    evaluate_nn(model, x_test, y_test)\n",
        "\n",
        "\n",
        "remove_outliers_pipeline(df_original)"
      ]
    },
    {
      "cell_type": "markdown",
      "metadata": {},
      "source": [
        "### Compare with non-neural network models"
      ]
    },
    {
      "cell_type": "code",
      "execution_count": 65,
      "metadata": {},
      "outputs": [
        {
          "name": "stdout",
          "output_type": "stream",
          "text": [
            "23:40:43 - DEBUG \t Naive Bayes\n",
            "23:40:43 - DEBUG \t Random Forest\n",
            "23:40:43 - DEBUG \t Extremely Randomized Trees\n",
            "23:40:43 - DEBUG \t LGBM\n"
          ]
        },
        {
          "data": {
            "text/html": [
              "<div>\n",
              "<style scoped>\n",
              "    .dataframe tbody tr th:only-of-type {\n",
              "        vertical-align: middle;\n",
              "    }\n",
              "\n",
              "    .dataframe tbody tr th {\n",
              "        vertical-align: top;\n",
              "    }\n",
              "\n",
              "    .dataframe thead th {\n",
              "        text-align: right;\n",
              "    }\n",
              "</style>\n",
              "<table border=\"1\" class=\"dataframe\">\n",
              "  <thead>\n",
              "    <tr style=\"text-align: right;\">\n",
              "      <th></th>\n",
              "      <th>Time (s)</th>\n",
              "      <th>Loss</th>\n",
              "      <th>Accuracy</th>\n",
              "      <th>Precision</th>\n",
              "      <th>Recall</th>\n",
              "      <th>ROC-AUC</th>\n",
              "      <th>F1-score</th>\n",
              "    </tr>\n",
              "  </thead>\n",
              "  <tbody>\n",
              "    <tr>\n",
              "      <th>Random Forest</th>\n",
              "      <td>0.21</td>\n",
              "      <td>0.87</td>\n",
              "      <td>0.84</td>\n",
              "      <td>0.82</td>\n",
              "      <td>0.77</td>\n",
              "      <td>0.85</td>\n",
              "      <td>0.79</td>\n",
              "    </tr>\n",
              "    <tr>\n",
              "      <th>Extremely Randomized Trees</th>\n",
              "      <td>0.13</td>\n",
              "      <td>1.21</td>\n",
              "      <td>0.82</td>\n",
              "      <td>0.78</td>\n",
              "      <td>0.75</td>\n",
              "      <td>0.86</td>\n",
              "      <td>0.76</td>\n",
              "    </tr>\n",
              "    <tr>\n",
              "      <th>LGBM</th>\n",
              "      <td>0.08</td>\n",
              "      <td>0.53</td>\n",
              "      <td>0.82</td>\n",
              "      <td>0.79</td>\n",
              "      <td>0.72</td>\n",
              "      <td>0.85</td>\n",
              "      <td>0.76</td>\n",
              "    </tr>\n",
              "    <tr>\n",
              "      <th>Naive Bayes</th>\n",
              "      <td>0.00</td>\n",
              "      <td>2.56</td>\n",
              "      <td>0.78</td>\n",
              "      <td>0.68</td>\n",
              "      <td>0.80</td>\n",
              "      <td>0.78</td>\n",
              "      <td>0.73</td>\n",
              "    </tr>\n",
              "  </tbody>\n",
              "</table>\n",
              "</div>"
            ],
            "text/plain": [
              "                            Time (s)  Loss  Accuracy  Precision  Recall  \\\n",
              "Random Forest                   0.21  0.87      0.84       0.82    0.77   \n",
              "Extremely Randomized Trees      0.13  1.21      0.82       0.78    0.75   \n",
              "LGBM                            0.08  0.53      0.82       0.79    0.72   \n",
              "Naive Bayes                     0.00  2.56      0.78       0.68    0.80   \n",
              "\n",
              "                            ROC-AUC  F1-score  \n",
              "Random Forest                  0.85      0.79  \n",
              "Extremely Randomized Trees     0.86      0.76  \n",
              "LGBM                           0.85      0.76  \n",
              "Naive Bayes                    0.78      0.73  "
            ]
          },
          "execution_count": 65,
          "metadata": {},
          "output_type": "execute_result"
        }
      ],
      "source": [
        "# enhanced features\n",
        "ds_boost.ml_classification(x_train, y_train[:, 1], x_test, y_test[:, 1])"
      ]
    },
    {
      "cell_type": "code",
      "execution_count": 66,
      "metadata": {},
      "outputs": [],
      "source": [
        "from sklearn.ensemble import RandomForestClassifier\n",
        "\n",
        "clf_random_forest = RandomForestClassifier(\n",
        "    n_estimators=30, max_depth=13, class_weight=\"balanced\", n_jobs=-1, random_state=0\n",
        ").fit(x_train, np.ravel(y_train[:, 1]))"
      ]
    },
    {
      "cell_type": "markdown",
      "metadata": {},
      "source": [
        "####  Best tree-based model"
      ]
    },
    {
      "cell_type": "code",
      "execution_count": 67,
      "metadata": {},
      "outputs": [
        {
          "name": "stdout",
          "output_type": "stream",
          "text": [
            "23:40:44 - DEBUG \t Confusion matrix: \n",
            " [[98 12]\n",
            " [18 51]]\n"
          ]
        },
        {
          "data": {
            "text/html": [
              "<div>\n",
              "<style scoped>\n",
              "    .dataframe tbody tr th:only-of-type {\n",
              "        vertical-align: middle;\n",
              "    }\n",
              "\n",
              "    .dataframe tbody tr th {\n",
              "        vertical-align: top;\n",
              "    }\n",
              "\n",
              "    .dataframe thead th {\n",
              "        text-align: right;\n",
              "    }\n",
              "</style>\n",
              "<table border=\"1\" class=\"dataframe\">\n",
              "  <thead>\n",
              "    <tr style=\"text-align: right;\">\n",
              "      <th></th>\n",
              "      <th>Loss</th>\n",
              "      <th>Accuracy</th>\n",
              "      <th>Precision</th>\n",
              "      <th>Recall</th>\n",
              "      <th>ROC-AUC</th>\n",
              "      <th>F1-score</th>\n",
              "    </tr>\n",
              "  </thead>\n",
              "  <tbody>\n",
              "    <tr>\n",
              "      <th>Random Forest</th>\n",
              "      <td>2.67</td>\n",
              "      <td>0.83</td>\n",
              "      <td>0.81</td>\n",
              "      <td>0.74</td>\n",
              "      <td>0.82</td>\n",
              "      <td>0.77</td>\n",
              "    </tr>\n",
              "  </tbody>\n",
              "</table>\n",
              "</div>"
            ],
            "text/plain": [
              "               Loss  Accuracy  Precision  Recall  ROC-AUC  F1-score\n",
              "Random Forest  2.67      0.83       0.81    0.74     0.82      0.77"
            ]
          },
          "execution_count": 67,
          "metadata": {},
          "output_type": "execute_result"
        }
      ],
      "source": [
        "y_pred = clf_random_forest.predict(x_test).reshape([-1, 1])\n",
        "ds_boost.binary_classification_scores(y_test[:, 1], y_pred, return_dataframe=True, index=\"Random Forest\")"
      ]
    },
    {
      "cell_type": "markdown",
      "metadata": {},
      "source": [
        "#### Feature importance"
      ]
    },
    {
      "cell_type": "code",
      "execution_count": 68,
      "metadata": {},
      "outputs": [
        {
          "data": {
            "image/png": "[encoded data removed]",
            "text/plain": [
              "<Figure size 800x600 with 1 Axes>"
            ]
          },
          "metadata": {},
          "output_type": "display_data"
        }
      ],
      "source": [
        "re = ds_boost.feature_importance(model_features, clf_random_forest)"
      ]
    }
  ],
  "metadata": {
    "anaconda-cloud": {},
    "kernelspec": {
      "display_name": "Python 3.10.4 ('ds-keras')",
      "language": "python",
      "name": "python3"
    },
    "language_info": {
      "codemirror_mode": {
        "name": "ipython",
        "version": 3
      },
      "file_extension": ".py",
      "mimetype": "text/x-python",
      "name": "python",
      "nbconvert_exporter": "python",
      "pygments_lexer": "ipython3",
      "version": "3.10.4 (main, Mar 31 2022, 08:41:55) [GCC 7.5.0]"
    },
    "varInspector": {
      "cols": {
        "lenName": 16,
        "lenType": 16,
        "lenVar": 40
      },
      "kernels_config": {
        "python": {
          "delete_cmd_postfix": "",
          "delete_cmd_prefix": "del ",
          "library": "var_list.py",
          "varRefreshCmd": "print(var_dic_list())"
        },
        "r": {
          "delete_cmd_postfix": ") ",
          "delete_cmd_prefix": "rm(",
          "library": "var_list.r",
          "varRefreshCmd": "cat(var_dic_list()) "
        }
      },
      "position": {
        "height": "1063px",
        "left": "1601.95px",
        "right": "20px",
        "top": "77.9201px",
        "width": "399px"
      },
      "types_to_exclude": [
        "module",
        "function",
        "builtin_function_or_method",
        "instance",
        "_Feature"
      ],
      "window_display": false
    },
    "vscode": {
      "interpreter": {
        "hash": "366a4202e041eebdd8a4edd8a0024926c2e45e658d7ba92f3c9b74c9b0ce97a9"
      }
    }
  },
  "nbformat": 4,
  "nbformat_minor": 2
}
