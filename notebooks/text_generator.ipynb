{
 "cells": [
  {
   "cell_type": "markdown",
   "metadata": {
    "collapsed": true
   },
   "source": [
    "#  English sequence generator \n",
    "\n",
    "**Creating an English language sequence generator capable of building semi-coherent English sentences from scratch by building them up character-by-character**\n",
    "\n",
    "**Natural Language Processing**\n",
    "\n",
    "Dataset:  Complete version of Sir Arthur Conan Doyle's classic book The Adventures of Sherlock Holmes\n",
    "\n",
    "Based on [RNN project: text generation](https://github.com/udacity/aind2-rnn) of the [Udacity's Artificial Intelligence  Nanodegree](https://www.udacity.com/course/artificial-intelligence-nanodegree--nd889)"
   ]
  },
  {
   "cell_type": "code",
   "execution_count": 1,
   "metadata": {},
   "outputs": [
    {
     "name": "stdout",
     "output_type": "stream",
     "text": [
      "Path changed to /home/angel/DRIVE/data-science-keras\n",
      "\n",
      "HARDWARE:\n",
      "CPU:\tIntel(R) Core(TM) i7-9750H CPU @ 2.60GHz\n",
      "RAM:\t8 GB\n",
      "GPU:\tNVIDIA GeForce RTX 2070\n",
      "\n",
      "OS:\tLinux-5.10.16.3-microsoft-standard-WSL2-x86_64-with-glibc2.35\n",
      "\n",
      "ENV:\t/home/angel/miniconda3/envs/gpu\n",
      "\n",
      "PYTHON:\t3.10.4 (main, Mar 31 2022, 08:41:55) [GCC 7.5.0]\n",
      "tensorflow                    2.9.1\n",
      "pandas                        1.4.3\n",
      "numpy                        1.23.1\n",
      "\n",
      "EXECUTION PATH: /home/angel/DRIVE/data-science-keras\n",
      "EXECUTION DATE: Mon Aug 15 17:39:23 2022\n"
     ]
    }
   ],
   "source": [
    "%matplotlib inline\n",
    "\n",
    "import os, sys\n",
    "import numpy as np\n",
    "import seaborn as sns\n",
    "\n",
    "sys.path.append(\"../\")\n",
    "import ds_boost\n",
    "import keras\n",
    "\n",
    "\n",
    "ds_boost.set_parent_execution_path()\n",
    "ds_boost.info_system()\n",
    "ds_boost.reproducible(seed=9)\n",
    "sns.set()"
   ]
  },
  {
   "cell_type": "markdown",
   "metadata": {},
   "source": [
    "## Load and Process the data"
   ]
  },
  {
   "cell_type": "code",
   "execution_count": 2,
   "metadata": {},
   "outputs": [
    {
     "name": "stdout",
     "output_type": "stream",
     "text": [
      "Total characters: 581864\n"
     ]
    },
    {
     "data": {
      "text/plain": [
       "\"\\ufeffproject gutenberg's the adventures of sherlock holmes, by arthur conan doyle\\n\\nthis ebook is for the use of anyone anywhere at no cost and with\\nalmost no restrictions whatsoever.  you may copy it, give it away or\\nre-use it under the terms of the project gutenberg license included\\nwith this ebook or \""
      ]
     },
     "execution_count": 2,
     "metadata": {},
     "output_type": "execute_result"
    }
   ],
   "source": [
    "text = open(\"data/holmes.txt\").read().lower()\n",
    "print(\"Total characters: {}\".format(len(text)))\n",
    "text[:300]"
   ]
  },
  {
   "cell_type": "markdown",
   "metadata": {},
   "source": [
    "### Preprocess the data"
   ]
  },
  {
   "cell_type": "code",
   "execution_count": 3,
   "metadata": {},
   "outputs": [
    {
     "name": "stdout",
     "output_type": "stream",
     "text": [
      "{'j', '&', ')', '!', 'o', '3', '*', 'f', 'm', '2', 'z', '0', 'd', 'é', 'â', '$', 's', '9', 'è', 'b', ';', 'i', 'h', 't', 'n', '/', '\"', '?', 'à', '@', '.', '1', '6', 'y', 'e', 'c', 'r', 'l', 'k', 'g', 'v', 'w', ',', '5', ' ', '7', 'p', ':', '8', '%', 'x', '4', '(', 'q', '-', 'u', 'a', \"'\"}\n"
     ]
    }
   ],
   "source": [
    "text = text[1302:]  # remove title, author page, and table of contents\n",
    "text = text.replace(\"\\n\", \" \")\n",
    "text = text.replace(\"\\r\", \" \")\n",
    "\n",
    "unique_characters = set(list(text))\n",
    "print(unique_characters)"
   ]
  },
  {
   "cell_type": "code",
   "execution_count": 4,
   "metadata": {},
   "outputs": [
    {
     "data": {
      "text/plain": [
       "'is eyes she eclipses and predominates the whole of her sex. it was not that he felt any emotion akin to love for irene adler. all emotions, and that one particularly, were abhorrent to his cold, precise but admirably balanced mind. he was, i take it, the most perfect reasoning and observing machine '"
      ]
     },
     "execution_count": 4,
     "metadata": {},
     "output_type": "execute_result"
    }
   ],
   "source": [
    "# remove non-english characters\n",
    "import re\n",
    "\n",
    "text = re.sub(\"[$%&'()*@/àâèé0123456789-]\", \" \", text)\n",
    "text = text.replace('\"', \" \")\n",
    "text = text.replace(\"  \", \" \")  # shorten any extra dead space created above\n",
    "text[:300]"
   ]
  },
  {
   "cell_type": "code",
   "execution_count": 5,
   "metadata": {},
   "outputs": [
    {
     "name": "stdout",
     "output_type": "stream",
     "text": [
      "Total characters: 573681\n",
      "Unique characters: 33\n",
      "[' ', '!', ',', '.', ':', ';', '?', 'a', 'b', 'c', 'd', 'e', 'f', 'g', 'h', 'i', 'j', 'k', 'l', 'm', 'n', 'o', 'p', 'q', 'r', 's', 't', 'u', 'v', 'w', 'x', 'y', 'z']\n"
     ]
    }
   ],
   "source": [
    "chars = sorted(list(set(text)))\n",
    "num_chars = len(chars)\n",
    "print(\"Total characters: {}\".format(len(text)))\n",
    "print(\"Unique characters: {}\".format(num_chars))\n",
    "print(chars)"
   ]
  },
  {
   "cell_type": "markdown",
   "metadata": {},
   "source": [
    "### Split data into input/output pairs"
   ]
  },
  {
   "cell_type": "code",
   "execution_count": 6,
   "metadata": {},
   "outputs": [],
   "source": [
    "# Transforms the input text and window-size into a set of input/output pairs\n",
    "#  for use with the RNN \"\"\"\n",
    "\n",
    "window_size = 100\n",
    "step_size = 5\n",
    "\n",
    "input_pairs = []\n",
    "output_pairs = []\n",
    "\n",
    "for i in range(0, len(text) - window_size, step_size):\n",
    "    input_pairs.append(text[i : i + window_size])\n",
    "    output_pairs.append(text[i + window_size])"
   ]
  },
  {
   "cell_type": "markdown",
   "metadata": {},
   "source": [
    "### One-hot encoding characters"
   ]
  },
  {
   "cell_type": "code",
   "execution_count": 7,
   "metadata": {},
   "outputs": [],
   "source": [
    "chars_to_indices = dict((c, i) for i, c in enumerate(chars))\n",
    "indices_to_chars = dict((i, c) for i, c in enumerate(chars))\n",
    "\n",
    "# create variables for one-hot encoded input/output\n",
    "X = np.zeros((len(input_pairs), window_size, num_chars), dtype=bool)\n",
    "y = np.zeros((len(input_pairs), num_chars), dtype=bool)\n",
    "\n",
    "# transform character-based input_pairs/output_pairs into equivalent numerical versions\n",
    "for i, sentence in enumerate(input_pairs):\n",
    "    for t, char in enumerate(sentence):\n",
    "        X[i, t, chars_to_indices[char]] = 1\n",
    "    y[i, chars_to_indices[output_pairs[i]]] = 1"
   ]
  },
  {
   "cell_type": "markdown",
   "metadata": {},
   "source": [
    "## Recurrent Neural Network Model"
   ]
  },
  {
   "cell_type": "code",
   "execution_count": 8,
   "metadata": {},
   "outputs": [
    {
     "name": "stdout",
     "output_type": "stream",
     "text": [
      "Model: \"sequential\"\n",
      "_________________________________________________________________\n",
      " Layer (type)                Output Shape              Param #   \n",
      "=================================================================\n",
      " lstm (LSTM)                 (None, 200)               187200    \n",
      "                                                                 \n",
      " dense (Dense)               (None, 33)                6633      \n",
      "                                                                 \n",
      " dense_1 (Dense)             (None, 33)                1122      \n",
      "                                                                 \n",
      "=================================================================\n",
      "Total params: 194,955\n",
      "Trainable params: 194,955\n",
      "Non-trainable params: 0\n",
      "_________________________________________________________________\n",
      "Training ... (this may take a while)\n",
      "CPU times: user 10min 22s, sys: 3min 59s, total: 14min 22s\n",
      "Wall time: 12min 26s\n"
     ]
    },
    {
     "data": {
      "image/png": "[encoded data removed]",
      "text/plain": [
       "<Figure size 1008x288 with 1 Axes>"
      ]
     },
     "metadata": {},
     "output_type": "display_data"
    },
    {
     "name": "stdout",
     "output_type": "stream",
     "text": [
      "\n",
      "Training loss:  \t0.2738\n",
      "\n",
      "Model saved at models/text_generator.h5\n"
     ]
    }
   ],
   "source": [
    "from keras.models import Sequential\n",
    "from keras.layers import Dense, Activation, LSTM\n",
    "\n",
    "model = Sequential()\n",
    "model.add(LSTM(200, input_shape=(window_size, num_chars)))\n",
    "model.add(Dense(num_chars, activation=None))\n",
    "model.add(Dense(num_chars, activation=\"softmax\"))\n",
    "model.summary()\n",
    "\n",
    "optimizer = keras.optimizers.RMSprop(learning_rate=0.001, rho=0.9, epsilon=1e-08, decay=0.0)\n",
    "\n",
    "model.compile(loss=\"categorical_crossentropy\", optimizer=optimizer)\n",
    "\n",
    "# train the model\n",
    "print(\"Training ... (this may take a while)\")\n",
    "%time history = model.fit(X, y, batch_size=512, epochs=100,verbose=0)\n",
    "ds_boost.show_training(history)\n",
    "\n",
    "model_path = os.path.join(\"models\", \"text_generator.h5\")\n",
    "model.save(model_path)\n",
    "print(\"\\nModel saved at\", model_path)"
   ]
  },
  {
   "cell_type": "markdown",
   "metadata": {},
   "source": [
    "### Make predictions"
   ]
  },
  {
   "cell_type": "code",
   "execution_count": 9,
   "metadata": {},
   "outputs": [
    {
     "name": "stdout",
     "output_type": "stream",
     "text": [
      "Model loaded: models/text_generator.h5\n",
      "------------------\n",
      "input chars = \n",
      "is eyes she eclipses and predominates the whole of her sex. it was not that he felt any emotion akin\"\n",
      "\n",
      "predicted chars = \n",
      " the lock which would givis down anroring a crifts is nobbony that is all the kinting of off countly\"\n",
      "\n",
      "------------------\n",
      "input chars = \n",
      " to love for irene adler. all emotions, and that one particularly, were abhorrent to his cold, preci\"\n",
      "\n",
      "predicted chars = \n",
      "se.  yes. the ereprices and to conse that i shall ret the fact of hose. i charmed it was the slut of\"\n",
      "\n",
      "------------------\n",
      "input chars = \n",
      "se but admirably balanced mind. he was, i take it, the most perfect reasoning and observing machine \"\n",
      "\n",
      "predicted chars = \n",
      "so id. it is a que, and mr. wits half cer us, is she threatemed to lately you will find the other. i\"\n",
      "\n",
      "------------------\n",
      "input chars = \n",
      "that the world has seen, but as a lover he would have placed himself in a false position. he never s\"\n",
      "\n",
      "predicted chars = \n",
      "peck partion.  seet i nett that i our obsure to have allousted to mestis, said i., eather manker, bu\"\n",
      "\n",
      "------------------\n",
      "input chars = \n",
      "poke of the softer passions, save with a gibe and a sneer. they were admirable things for the observ\"\n",
      "\n",
      "predicted chars = \n",
      "e your room, with contente you. good at at once minity dayfur. think this were asony this is no doub\"\n",
      "\n"
     ]
    }
   ],
   "source": [
    "model = keras.models.load_model(model_path)\n",
    "print(\"Model loaded:\", model_path)\n",
    "\n",
    "\n",
    "def predict_next_chars(model, input_chars, num_to_predict):\n",
    "    \"\"\"predict a number of future characters\"\"\"\n",
    "\n",
    "    predicted_chars = \"\"\n",
    "    for i in range(num_to_predict):\n",
    "        x_test = np.zeros((1, window_size, len(chars)))\n",
    "        for t, char in enumerate(input_chars):\n",
    "            x_test[0, t, chars_to_indices[char]] = 1.0\n",
    "\n",
    "        test_predict = model.predict(x_test, verbose=0)[0]\n",
    "\n",
    "        # translate numerical prediction back to characters\n",
    "        r = np.argmax(test_predict)\n",
    "        d = indices_to_chars[r]\n",
    "\n",
    "        # update predicted_chars and input\n",
    "        predicted_chars += d\n",
    "        input_chars += d\n",
    "        input_chars = input_chars[1:]\n",
    "    return predicted_chars\n",
    "\n",
    "\n",
    "for s in range(0, 500, 100):\n",
    "    start_index = s\n",
    "    input_chars = text[start_index : start_index + window_size]\n",
    "    predict_input = predict_next_chars(model, input_chars, num_to_predict=100)\n",
    "\n",
    "    print(\"------------------\")\n",
    "    input_line = \"input chars = \" + \"\\n\" + input_chars + '\"' + \"\\n\"\n",
    "    print(input_line)\n",
    "\n",
    "    line = \"predicted chars = \" + \"\\n\" + predict_input + '\"' + \"\\n\"\n",
    "    print(line)"
   ]
  }
 ],
 "metadata": {
  "kernelspec": {
   "display_name": "Python 3.10.4 ('gpu')",
   "language": "python",
   "name": "python3"
  },
  "language_info": {
   "codemirror_mode": {
    "name": "ipython",
    "version": 3
   },
   "file_extension": ".py",
   "mimetype": "text/x-python",
   "name": "python",
   "nbconvert_exporter": "python",
   "pygments_lexer": "ipython3",
   "version": "3.10.4"
  },
  "vscode": {
   "interpreter": {
    "hash": "d2efdb989dc164e4378df2c802d4acdf5890bc9f1d40e64af3f699a110ebaaa8"
   }
  }
 },
 "nbformat": 4,
 "nbformat_minor": 2
}
