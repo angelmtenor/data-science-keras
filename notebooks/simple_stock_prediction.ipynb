{
    "cells": [
        {
            "cell_type": "markdown",
            "metadata": {},
            "source": [
                "# Simple Stock Prediction\n",
                "\n",
                "**Predicting Alphabet Inc. stock price using a Recurrent Neural Network**\n",
                "\n",
                "Dataset from [Google Finance](https://www.google.com/finance)\n",
                "\n",
                "Based on [RNN project: Time Series Prediction](https://github.com/udacity/aind2-rnn) project of the [Udacity's Artificial Intelligence  Nanodegree](https://www.udacity.com/course/artificial-intelligence-nanodegree--nd889)"
            ]
        },
        {
            "cell_type": "code",
            "execution_count": null,
            "metadata": {},
            "outputs": [],
            "source": [
                "%matplotlib inline\n",
                "\n",
                "import os, sys\n",
                "import numpy as np\n",
                "import pandas as pd\n",
                "import matplotlib.pyplot as plt\n",
                "import seaborn as sns\n",
                "import keras\n",
                "\n",
                "sys.path.append('../')\n",
                "import helper_ds\n",
                "helper_ds.set_parent_execution_path()\n",
                "helper_ds.info_system()\n",
                "\n",
                "# helper_ds.reproducible(seed=42)\n",
                "sns.set()"
            ]
        },
        {
            "cell_type": "markdown",
            "metadata": {},
            "source": [
                "## Load and process the data"
            ]
        },
        {
            "cell_type": "code",
            "execution_count": null,
            "metadata": {},
            "outputs": [],
            "source": [
                "df = pd.read_csv(\"data/alphabet_stock.csv\")\n",
                "print(\"Days: {}\".format(len(df)))\n",
                "df.head(3)"
            ]
        },
        {
            "cell_type": "code",
            "execution_count": null,
            "metadata": {},
            "outputs": [],
            "source": [
                "# Parse dates\n",
                "df[\"Date\"] = pd.to_datetime(df[\"Date\"], format=\"%d-%b-%y\", errors=\"coerce\")\n",
                "df.head(3)"
            ]
        },
        {
            "cell_type": "code",
            "execution_count": null,
            "metadata": {},
            "outputs": [],
            "source": [
                "# Sort values by date\n",
                "df = df.sort_values(by=\"Date\")\n",
                "df.plot(x=\"Date\", y=\"Close\")\n",
                "plt.ylabel(\"Share Price ($)\");"
            ]
        },
        {
            "cell_type": "code",
            "execution_count": null,
            "metadata": {},
            "outputs": [],
            "source": [
                "# Only Close prices will be used\n",
                "data = df[\"Close\"].values\n",
                "\n",
                "# Normalize data\n",
                "from sklearn.preprocessing import MinMaxScaler\n",
                "\n",
                "scaler = MinMaxScaler(feature_range=(-1, 1), copy=True)\n",
                "data = scaler.fit_transform(data.reshape(-1, 1))\n",
                "\n",
                "data.reshape(-1);"
            ]
        },
        {
            "cell_type": "markdown",
            "metadata": {},
            "source": [
                "### Split into sequences"
            ]
        },
        {
            "cell_type": "markdown",
            "metadata": {},
            "source": [
                "Run a sliding window along the input series and creates associated input/output pairs"
            ]
        },
        {
            "cell_type": "code",
            "execution_count": null,
            "metadata": {},
            "outputs": [],
            "source": [
                "def window_transform_series(series, window_size):\n",
                "    # containers for input/output pairs\n",
                "    X = []\n",
                "    y = []\n",
                "\n",
                "    # fill input/output lists from the given sequence\n",
                "    for i in range(len(series) - window_size):\n",
                "        X.append(series[i : i + window_size])  # size: sliding window\n",
                "        y.append(series[i + window_size])  # size: scalar\n",
                "\n",
                "    # reshape each\n",
                "    X = np.asarray(X)\n",
                "    X.shape = np.shape(X)[0:2]\n",
                "    y = np.asarray(y)\n",
                "    y.shape = (len(y), 1)\n",
                "\n",
                "    return X, y\n",
                "\n",
                "\n",
                "# window the data\n",
                "window_size = 28  # Four weeks\n",
                "X, y = window_transform_series(series=data, window_size=window_size)"
            ]
        },
        {
            "cell_type": "markdown",
            "metadata": {},
            "source": [
                "### Split into training and test sets\n",
                "\n",
                "Dataset is not randomly split as the input/output pairs are related temporally"
            ]
        },
        {
            "cell_type": "code",
            "execution_count": null,
            "metadata": {},
            "outputs": [],
            "source": [
                "# split the dataset into training / test sets\n",
                "\n",
                "train_test_split = int(len(X) * 0.9)\n",
                "\n",
                "X_train = X[:train_test_split, :]\n",
                "y_train = y[:train_test_split]\n",
                "\n",
                "# keep the last chunk for testing\n",
                "X_test = X[train_test_split:, :]\n",
                "y_test = y[train_test_split:]\n",
                "\n",
                "# Keras's LSTM module requires input reshaped to [samples, window size, stepsize]\n",
                "X_train = np.asarray(np.reshape(X_train, (X_train.shape[0], window_size, 1)))\n",
                "X_test = np.asarray(np.reshape(X_test, (X_test.shape[0], window_size, 1)))"
            ]
        },
        {
            "cell_type": "markdown",
            "metadata": {},
            "source": [
                "## Recurrent Neural Network"
            ]
        },
        {
            "cell_type": "code",
            "execution_count": null,
            "metadata": {},
            "outputs": [],
            "source": [
                "from keras.models import Sequential\n",
                "from keras.layers import Dense, LSTM\n",
                "\n",
                "model = Sequential()\n",
                "model.add(LSTM(256, input_shape=(window_size, 1)))\n",
                "model.add(Dense(1, activation=None))\n",
                "model.summary()\n",
                "\n",
                "model.compile(loss='mean_squared_error', optimizer='rmsprop')\n",
                "\n",
                "# train the model\n",
                "print(\"\\nTraining ...\")\n",
                "callbacks = [keras.callbacks.EarlyStopping(monitor='val_loss', patience=10, verbose=0)]\n",
                "%time  history = model.fit(X_train, y_train, epochs=100, batch_size=1024, verbose=0, \\\n",
                "                           validation_split=0.2, callbacks=callbacks)\n",
                "helper_ds.show_training(history)\n",
                "\n",
                "model_path = os.path.join(\"models\", \"simple_stock_prediction.h5\")\n",
                "model.save(model_path)\n",
                "print(\"\\nModel saved at\", model_path)"
            ]
        },
        {
            "cell_type": "markdown",
            "metadata": {},
            "source": [
                "### Evaluate the model"
            ]
        },
        {
            "cell_type": "code",
            "execution_count": null,
            "metadata": {},
            "outputs": [],
            "source": [
                "model = keras.models.load_model(model_path)\n",
                "print(\"Model loaded:\", model_path)\n",
                "\n",
                "# print training and testing errors\n",
                "training_error = model.evaluate(X_train, y_train, verbose=0)\n",
                "print(\"\\nTraining error = {:.4f}\".format(training_error))\n",
                "\n",
                "testing_error = model.evaluate(X_test, y_test, verbose=0)\n",
                "print(\"Test error = {:.4f}\".format(testing_error))"
            ]
        },
        {
            "cell_type": "code",
            "execution_count": null,
            "metadata": {},
            "outputs": [],
            "source": [
                "train_predict = model.predict(X_train)\n",
                "test_predict = model.predict(X_test)"
            ]
        },
        {
            "cell_type": "code",
            "execution_count": null,
            "metadata": {},
            "outputs": [],
            "source": [
                "# revert scaling\n",
                "data_or = scaler.inverse_transform(data)\n",
                "train_predict_or = scaler.inverse_transform(train_predict)\n",
                "test_predict_or = scaler.inverse_transform(test_predict)\n",
                "\n",
                "plt.figure(figsize=(14, 6))\n",
                "\n",
                "# plot original series\n",
                "plt.plot(data_or, color=\"k\")\n",
                "\n",
                "# plot training set prediction\n",
                "split_pt = train_test_split + window_size\n",
                "plt.plot(np.arange(window_size, split_pt, 1), train_predict_or, color=\"b\")\n",
                "\n",
                "# plot testing set prediction\n",
                "plt.plot(np.arange(split_pt, split_pt + len(test_predict_or), 1), test_predict_or, color=\"r\")\n",
                "\n",
                "plt.xlabel(\"day\")\n",
                "plt.ylabel(\"stock price\")\n",
                "plt.legend(\n",
                "    [\"original series\", \"training fit\", \"testing fit\"],\n",
                "    loc=\"center left\",\n",
                "    bbox_to_anchor=(1, 0.5),\n",
                ");"
            ]
        },
        {
            "cell_type": "markdown",
            "metadata": {},
            "source": [
                "The stock prices are predicted daily using the actual data from the last 4 weeks. That explains why the predictions seem so accurate."
            ]
        }
    ],
    "metadata": {
        "anaconda-cloud": {},
        "kernelspec": {
            "display_name": "Python [default]",
            "language": "python",
            "name": "python3"
        },
        "language_info": {
            "codemirror_mode": {
                "name": "ipython",
                "version": 3
            },
            "file_extension": ".py",
            "mimetype": "text/x-python",
            "name": "python",
            "nbconvert_exporter": "python",
            "pygments_lexer": "ipython3",
            "version": "3.6.3"
        }
    },
    "nbformat": 4,
    "nbformat_minor": 1
}
