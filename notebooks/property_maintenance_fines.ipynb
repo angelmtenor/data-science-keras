{
 "cells": [
  {
   "cell_type": "markdown",
   "metadata": {},
   "source": [
    "# Property Maintenance Fines \n",
    "\n",
    "**Predicting the probability that a set of blight tickets will be paid on time**\n",
    "\n",
    "**Supervised Learning. Classification**\n",
    "\n",
    "Source: [Applied Machine Learning in Python | Coursera](https://www.coursera.org/learn/python-machine-learning). Solved with classical machine learning classifiers [here](https://github.com/angelmtenor/applied-ML-coursera/blob/master/4_property_maintenance_fines.ipynb)\n",
    "\n",
    "Data provided by Michigan Data Science Team ([MDST](http://midas.umich.edu/mdst/)), the Michigan Student Symposium for Interdisciplinary Statistical Sciences ([MSSISS](https://sites.lsa.umich.edu/mssiss/)) and the City of Detroit [Detroit Open Data Portal](https://data.detroitmi.gov/).\n",
    " \n",
    "\n",
    "Each row of the dataset   corresponds to a single blight ticket, and includes information about when, why, and to whom each ticket was issued. The target variable is compliance, which is True if the ticket was paid early, on time, or within one month of the hearing data, False if the ticket was paid after the hearing date or not at all, and Null if the violator was found not responsible. \n",
    "\n",
    "**Features**\n",
    "    \n",
    "    ticket_id - unique identifier for tickets\n",
    "    agency_name - Agency that issued the ticket\n",
    "    inspector_name - Name of inspector that issued the ticket\n",
    "    violator_name - Name of the person/organization that the ticket was issued to\n",
    "    violation_street_number, violation_street_name, violation_zip_code - Address where the violation occurred\n",
    "    mailing_address_str_number, mailing_address_str_name, city, state, zip_code, non_us_str_code, country - Mailing address of the violator\n",
    "    ticket_issued_date - Date and time the ticket was issued\n",
    "    hearing_date - Date and time the violator's hearing was scheduled\n",
    "    violation_code, violation_description - Type of violation\n",
    "    disposition - Judgment and judgement type\n",
    "    fine_amount - Violation fine amount, excluding fees\n",
    "    admin_fee - $20 fee assigned to responsible judgments\n",
    "state_fee - $10 fee assigned to responsible judgments\n",
    "    late_fee - 10% fee assigned to responsible judgments\n",
    "    discount_amount - discount applied, if any\n",
    "    clean_up_cost - DPW clean-up or graffiti removal cost\n",
    "    judgment_amount - Sum of all fines and fees\n",
    "    grafitti_status - Flag for graffiti violations\n",
    "    \n",
    "** Labels **\n",
    "\n",
    "    payment_amount - Amount paid, if any\n",
    "    payment_date - Date payment was made, if it was received\n",
    "    payment_status - Current payment status as of Feb 1 2017\n",
    "    balance_due - Fines and fees still owed\n",
    "    collection_status - Flag for payments in collections\n",
    "    compliance [target variable for prediction]\n",
    "     Null = Not responsible\n",
    "     0 = Responsible, non-compliant\n",
    "     1 = Responsible, compliant\n",
    "    compliance_detail - More information on why each ticket was marked compliant or non-compliant"
   ]
  },
  {
   "cell_type": "code",
   "execution_count": 1,
   "metadata": {},
   "outputs": [
    {
     "name": "stdout",
     "output_type": "stream",
     "text": [
      "23:18:42 - DEBUG \t Path changed to /home/angel/DRIVE/0_repos/data-science-keras\n",
      "23:18:42 - DEBUG \t HARDWARE:\n",
      "23:18:43 - DEBUG \t CPU:\tIntel(R) Core(TM) i5-8265U CPU @ 1.60GHz\n",
      "23:18:43 - DEBUG \t RAM:\t15 GB\n",
      "23:18:43 - DEBUG \t -- No GPU  --\n",
      "23:18:43 - DEBUG \t OS:\tLinux-5.15.0-57-generic-x86_64-with-glibc2.35\n",
      "23:18:43 - DEBUG \t ENV:\t/home/angel/miniconda3/envs/ds-keras\n",
      "23:18:43 - DEBUG \t PYTHON:\t3.10.4 (main, Mar 31 2022, 08:41:55) [GCC 7.5.0]\n",
      "23:18:43 - DEBUG \t tensorflow                   2.11.0\n",
      "23:18:43 - DEBUG \t pandas                        1.5.2\n",
      "23:18:43 - DEBUG \t numpy                        1.24.1\n",
      "23:18:43 - DEBUG \t EXECUTION PATH: /home/angel/DRIVE/0_repos/data-science-keras\n",
      "23:18:43 - DEBUG \t EXECUTION DATE: Mon Jan 16 23:18:43 2023\n"
     ]
    }
   ],
   "source": [
    "import os, sys\n",
    "import numpy as np\n",
    "import pandas as pd\n",
    "\n",
    "import ds_boost\n",
    "from tensorflow import keras\n",
    "\n",
    "log = ds_boost.logger.init(level=\"DEBUG\", save_log=False)\n",
    "\n",
    "ds_boost.set_parent_execution_path()\n",
    "ds_boost.info_system()\n",
    "# sns.set_palette(\"GnBu_d\")\n",
    "# ds_boost.reproducible(seed=0) # Setup reproducible results from run to run using Keras\n",
    "\n",
    "%matplotlib inline"
   ]
  },
  {
   "cell_type": "markdown",
   "metadata": {},
   "source": [
    "##  1. Data Processing"
   ]
  },
  {
   "cell_type": "code",
   "execution_count": 2,
   "metadata": {},
   "outputs": [
    {
     "name": "stdout",
     "output_type": "stream",
     "text": [
      "250306 rows \n",
      "34 columns \n",
      "target: ['compliance']\n"
     ]
    }
   ],
   "source": [
    "data_path = \"data/property_maintenance_fines_data.parquet\"\n",
    "target = [\"compliance\"]\n",
    "\n",
    "# df_original = pd.read_csv(data_path, encoding=\"iso-8859-1\", dtype=\"unicode\")\n",
    "df_original = pd.read_parquet(data_path)  # , encoding=\"iso-8859-1\", dtype=\"unicode\")\n",
    "\n",
    "print(\"{} rows \\n{} columns \\ntarget: {}\".format(*df_original.shape, target))"
   ]
  },
  {
   "cell_type": "code",
   "execution_count": 3,
   "metadata": {},
   "outputs": [],
   "source": [
    "# df_original.to_parquet(\"data/property_maintenance_fines_data.parquet\")"
   ]
  },
  {
   "cell_type": "markdown",
   "metadata": {},
   "source": [
    "### Explore and Clean the target"
   ]
  },
  {
   "cell_type": "code",
   "execution_count": 4,
   "metadata": {},
   "outputs": [
    {
     "name": "stdout",
     "output_type": "stream",
     "text": [
      "0.0     148283\n",
      "None     90426\n",
      "1.0      11597\n",
      "Name: compliance, dtype: int64\n"
     ]
    }
   ],
   "source": [
    "print(df_original[target].squeeze().value_counts(dropna=False))"
   ]
  },
  {
   "cell_type": "code",
   "execution_count": 5,
   "metadata": {},
   "outputs": [
    {
     "name": "stdout",
     "output_type": "stream",
     "text": [
      "0.0    148283\n",
      "1.0     11597\n",
      "Name: compliance, dtype: int64\n",
      "(159880, 34)\n"
     ]
    }
   ],
   "source": [
    "# Remove rows with NULL targets\n",
    "\n",
    "df_original = df_original.dropna(subset=target)\n",
    "\n",
    "print(df_original[target].squeeze().value_counts())\n",
    "print(df_original.shape)"
   ]
  },
  {
   "cell_type": "markdown",
   "metadata": {},
   "source": [
    "**Imbalanced target: the evaluation metric used in this problem is the Area Under the ROC Curve**"
   ]
  },
  {
   "cell_type": "markdown",
   "metadata": {},
   "source": [
    "###  Split original data into training and validation test set"
   ]
  },
  {
   "cell_type": "code",
   "execution_count": 6,
   "metadata": {},
   "outputs": [],
   "source": [
    "from sklearn.model_selection import train_test_split\n",
    "\n",
    "df, df_test = train_test_split(df_original, test_size=0.2, stratify=df_original[target], random_state=0)"
   ]
  },
  {
   "cell_type": "markdown",
   "metadata": {},
   "source": [
    "**To avoid data leakage, only the training dataframe, df, will be explored and processed here** "
   ]
  },
  {
   "cell_type": "markdown",
   "metadata": {},
   "source": [
    "### Show the training data"
   ]
  },
  {
   "cell_type": "code",
   "execution_count": 7,
   "metadata": {},
   "outputs": [
    {
     "data": {
      "text/html": [
       "<div>\n",
       "<style scoped>\n",
       "    .dataframe tbody tr th:only-of-type {\n",
       "        vertical-align: middle;\n",
       "    }\n",
       "\n",
       "    .dataframe tbody tr th {\n",
       "        vertical-align: top;\n",
       "    }\n",
       "\n",
       "    .dataframe thead th {\n",
       "        text-align: right;\n",
       "    }\n",
       "</style>\n",
       "<table border=\"1\" class=\"dataframe\">\n",
       "  <thead>\n",
       "    <tr style=\"text-align: right;\">\n",
       "      <th></th>\n",
       "      <th>ticket_id</th>\n",
       "      <th>agency_name</th>\n",
       "      <th>inspector_name</th>\n",
       "      <th>violator_name</th>\n",
       "      <th>violation_street_number</th>\n",
       "      <th>violation_street_name</th>\n",
       "      <th>violation_zip_code</th>\n",
       "      <th>mailing_address_str_number</th>\n",
       "      <th>mailing_address_str_name</th>\n",
       "      <th>city</th>\n",
       "      <th>...</th>\n",
       "      <th>clean_up_cost</th>\n",
       "      <th>judgment_amount</th>\n",
       "      <th>payment_amount</th>\n",
       "      <th>balance_due</th>\n",
       "      <th>payment_date</th>\n",
       "      <th>payment_status</th>\n",
       "      <th>collection_status</th>\n",
       "      <th>grafitti_status</th>\n",
       "      <th>compliance_detail</th>\n",
       "      <th>compliance</th>\n",
       "    </tr>\n",
       "  </thead>\n",
       "  <tbody>\n",
       "    <tr>\n",
       "      <th>131030</th>\n",
       "      <td>159232</td>\n",
       "      <td>Department of Public Works</td>\n",
       "      <td>Montgomery-Coit, Kimberlye</td>\n",
       "      <td>JOHNSON-GREENE, MARGUSIE F.</td>\n",
       "      <td>11645.0</td>\n",
       "      <td>LAKEPOINTE</td>\n",
       "      <td>None</td>\n",
       "      <td>11645</td>\n",
       "      <td>LAKEPOINTE</td>\n",
       "      <td>DETROIT</td>\n",
       "      <td>...</td>\n",
       "      <td>0.0</td>\n",
       "      <td>85.0</td>\n",
       "      <td>85.0</td>\n",
       "      <td>0.0</td>\n",
       "      <td>2008-09-12 00:00:00</td>\n",
       "      <td>PAID IN FULL</td>\n",
       "      <td>None</td>\n",
       "      <td>None</td>\n",
       "      <td>non-compliant by late payment more than 1 month</td>\n",
       "      <td>0.0</td>\n",
       "    </tr>\n",
       "    <tr>\n",
       "      <th>29573</th>\n",
       "      <td>49039</td>\n",
       "      <td>Buildings, Safety Engineering &amp; Env Department</td>\n",
       "      <td>Watson, Jerry</td>\n",
       "      <td>BAPT CHURCH, HOLY  TABERNACLE</td>\n",
       "      <td>3184.0</td>\n",
       "      <td>CANFIELD</td>\n",
       "      <td>None</td>\n",
       "      <td>3184</td>\n",
       "      <td>E. CANFIELD</td>\n",
       "      <td>DETROIT</td>\n",
       "      <td>...</td>\n",
       "      <td>0.0</td>\n",
       "      <td>305.0</td>\n",
       "      <td>305.0</td>\n",
       "      <td>0.0</td>\n",
       "      <td>2007-06-26 00:00:00</td>\n",
       "      <td>PAID IN FULL</td>\n",
       "      <td>None</td>\n",
       "      <td>None</td>\n",
       "      <td>non-compliant by late payment more than 1 month</td>\n",
       "      <td>0.0</td>\n",
       "    </tr>\n",
       "  </tbody>\n",
       "</table>\n",
       "<p>2 rows × 34 columns</p>\n",
       "</div>"
      ],
      "text/plain": [
       "       ticket_id                                     agency_name  \\\n",
       "131030    159232                      Department of Public Works   \n",
       "29573      49039  Buildings, Safety Engineering & Env Department   \n",
       "\n",
       "                    inspector_name                  violator_name  \\\n",
       "131030  Montgomery-Coit, Kimberlye    JOHNSON-GREENE, MARGUSIE F.   \n",
       "29573                Watson, Jerry  BAPT CHURCH, HOLY  TABERNACLE   \n",
       "\n",
       "       violation_street_number violation_street_name violation_zip_code  \\\n",
       "131030                 11645.0            LAKEPOINTE               None   \n",
       "29573                   3184.0              CANFIELD               None   \n",
       "\n",
       "       mailing_address_str_number mailing_address_str_name     city  ...  \\\n",
       "131030                      11645               LAKEPOINTE  DETROIT  ...   \n",
       "29573                        3184              E. CANFIELD  DETROIT  ...   \n",
       "\n",
       "       clean_up_cost judgment_amount payment_amount balance_due  \\\n",
       "131030           0.0            85.0           85.0         0.0   \n",
       "29573            0.0           305.0          305.0         0.0   \n",
       "\n",
       "               payment_date payment_status collection_status grafitti_status  \\\n",
       "131030  2008-09-12 00:00:00   PAID IN FULL              None            None   \n",
       "29573   2007-06-26 00:00:00   PAID IN FULL              None            None   \n",
       "\n",
       "                                      compliance_detail compliance  \n",
       "131030  non-compliant by late payment more than 1 month        0.0  \n",
       "29573   non-compliant by late payment more than 1 month        0.0  \n",
       "\n",
       "[2 rows x 34 columns]"
      ]
     },
     "execution_count": 7,
     "metadata": {},
     "output_type": "execute_result"
    }
   ],
   "source": [
    "df.head(2)"
   ]
  },
  {
   "cell_type": "markdown",
   "metadata": {},
   "source": [
    "#### Missing values"
   ]
  },
  {
   "cell_type": "code",
   "execution_count": 8,
   "metadata": {},
   "outputs": [
    {
     "data": {
      "image/png": "[encoded data removed]",
      "text/plain": [
       "<Figure size 800x600 with 1 Axes>"
      ]
     },
     "metadata": {},
     "output_type": "display_data"
    }
   ],
   "source": [
    "ds_boost.missing(df)"
   ]
  },
  {
   "cell_type": "markdown",
   "metadata": {},
   "source": [
    "### Transform Data"
   ]
  },
  {
   "cell_type": "markdown",
   "metadata": {},
   "source": [
    "#### Remove irrelevant features"
   ]
  },
  {
   "cell_type": "code",
   "execution_count": 9,
   "metadata": {},
   "outputs": [
    {
     "name": "stdout",
     "output_type": "stream",
     "text": [
      "(127904, 12)\n"
     ]
    }
   ],
   "source": [
    "def remove_features(df):\n",
    "\n",
    "    relevant_col = [\n",
    "        \"agency_name\",\n",
    "        \"violation_street_name\",\n",
    "        \"city\",\n",
    "        \"state\",\n",
    "        \"violator_name\",\n",
    "        \"violation_code\",\n",
    "        \"late_fee\",\n",
    "        \"discount_amount\",\n",
    "        \"judgment_amount\",\n",
    "        \"disposition\",\n",
    "        \"fine_amount\",\n",
    "        \"compliance\",\n",
    "    ]\n",
    "    df = df[relevant_col]\n",
    "\n",
    "    return df\n",
    "\n",
    "\n",
    "df = remove_features(df)\n",
    "\n",
    "print(df.shape)"
   ]
  },
  {
   "cell_type": "markdown",
   "metadata": {},
   "source": [
    "#### Classify variables"
   ]
  },
  {
   "cell_type": "code",
   "execution_count": 10,
   "metadata": {},
   "outputs": [
    {
     "name": "stdout",
     "output_type": "stream",
     "text": [
      "23:18:46 - DEBUG \t 4 numerical features: \t ['late_fee', 'discount_amount', 'judgment_amount', 'fine_amount']\n",
      "23:18:46 - DEBUG \t 7 categorical features: \t ['disposition', 'agency_name', 'city', 'violator_name', 'violation_street_name', 'state', 'violation_code']\n",
      "23:18:46 - DEBUG \t Target: \t\tcompliance (object)\n"
     ]
    },
    {
     "data": {
      "text/html": [
       "<div>\n",
       "<style scoped>\n",
       "    .dataframe tbody tr th:only-of-type {\n",
       "        vertical-align: middle;\n",
       "    }\n",
       "\n",
       "    .dataframe tbody tr th {\n",
       "        vertical-align: top;\n",
       "    }\n",
       "\n",
       "    .dataframe thead th {\n",
       "        text-align: right;\n",
       "    }\n",
       "</style>\n",
       "<table border=\"1\" class=\"dataframe\">\n",
       "  <thead>\n",
       "    <tr style=\"text-align: right;\">\n",
       "      <th></th>\n",
       "      <th>late_fee</th>\n",
       "      <th>discount_amount</th>\n",
       "      <th>judgment_amount</th>\n",
       "      <th>fine_amount</th>\n",
       "      <th>disposition</th>\n",
       "      <th>agency_name</th>\n",
       "      <th>city</th>\n",
       "      <th>violator_name</th>\n",
       "      <th>violation_street_name</th>\n",
       "      <th>state</th>\n",
       "      <th>violation_code</th>\n",
       "      <th>compliance</th>\n",
       "    </tr>\n",
       "  </thead>\n",
       "  <tbody>\n",
       "    <tr>\n",
       "      <th>Type</th>\n",
       "      <td>float32</td>\n",
       "      <td>float32</td>\n",
       "      <td>float32</td>\n",
       "      <td>float32</td>\n",
       "      <td>category</td>\n",
       "      <td>category</td>\n",
       "      <td>category</td>\n",
       "      <td>category</td>\n",
       "      <td>category</td>\n",
       "      <td>category</td>\n",
       "      <td>category</td>\n",
       "      <td>object</td>\n",
       "    </tr>\n",
       "  </tbody>\n",
       "</table>\n",
       "</div>"
      ],
      "text/plain": [
       "     late_fee discount_amount judgment_amount fine_amount disposition  \\\n",
       "Type  float32         float32         float32     float32    category   \n",
       "\n",
       "     agency_name      city violator_name violation_street_name     state  \\\n",
       "Type    category  category      category              category  category   \n",
       "\n",
       "     violation_code compliance  \n",
       "Type       category     object  "
      ]
     },
     "execution_count": 10,
     "metadata": {},
     "output_type": "execute_result"
    }
   ],
   "source": [
    "num = [\"late_fee\", \"discount_amount\", \"judgment_amount\", \"fine_amount\"]\n",
    "\n",
    "df = ds_boost.sort_columns_by_type(df, target, numerical=num)\n",
    "\n",
    "pd.DataFrame(dict(df.dtypes), index=[\"Type\"])[df.columns].head()  # show data types"
   ]
  },
  {
   "cell_type": "markdown",
   "metadata": {},
   "source": [
    "#### Remove low-frequency categorical values"
   ]
  },
  {
   "cell_type": "code",
   "execution_count": 11,
   "metadata": {},
   "outputs": [
    {
     "name": "stdout",
     "output_type": "stream",
     "text": [
      "23:18:46 - DEBUG \t Variables changed to 'category': {columns_to_convert}\n",
      "23:18:46 - DEBUG \t Removing 3595 categories from feature city\n",
      "23:18:46 - DEBUG \t Removing 72749 categories from feature violator_name\n",
      "23:18:46 - DEBUG \t Removing 1377 categories from feature violation_street_name\n",
      "23:18:46 - DEBUG \t Removing 39 categories from feature state\n",
      "23:18:46 - DEBUG \t Removing 151 categories from feature violation_code\n"
     ]
    }
   ],
   "source": [
    "df, dict_categories = ds_boost.remove_categories(df, target=target, ratio=0.001, show=False)"
   ]
  },
  {
   "cell_type": "markdown",
   "metadata": {},
   "source": [
    "####  Fill missing values\n",
    "\n",
    "Missing categorical values filled by 'Other'\n",
    "There are no numerical missing values"
   ]
  },
  {
   "cell_type": "code",
   "execution_count": 12,
   "metadata": {},
   "outputs": [
    {
     "name": "stdout",
     "output_type": "stream",
     "text": [
      "23:18:46 - DEBUG \t Missing categorical filled with label: \"Other\"\n"
     ]
    }
   ],
   "source": [
    "df = ds_boost.fill_simple(df, target, missing_categorical=\"Other\")"
   ]
  },
  {
   "cell_type": "code",
   "execution_count": 13,
   "metadata": {},
   "outputs": [
    {
     "name": "stdout",
     "output_type": "stream",
     "text": [
      "23:18:46 - DEBUG \t No missing values found\n"
     ]
    }
   ],
   "source": [
    "ds_boost.missing(df);"
   ]
  },
  {
   "cell_type": "markdown",
   "metadata": {},
   "source": [
    "### Visualize the data"
   ]
  },
  {
   "cell_type": "markdown",
   "metadata": {},
   "source": [
    "#### Categorical features"
   ]
  },
  {
   "cell_type": "code",
   "execution_count": 14,
   "metadata": {},
   "outputs": [
    {
     "data": {
      "image/png": "[encoded data removed]",
      "text/plain": [
       "<Figure size 1700x200 with 1 Axes>"
      ]
     },
     "metadata": {},
     "output_type": "display_data"
    },
    {
     "data": {
      "image/png": "[encoded data removed]",
      "text/plain": [
       "<Figure size 1700x200 with 1 Axes>"
      ]
     },
     "metadata": {},
     "output_type": "display_data"
    }
   ],
   "source": [
    "for i in [\"state\", \"disposition\"]:\n",
    "    ds_boost.show_categorical(df[[i]])"
   ]
  },
  {
   "cell_type": "markdown",
   "metadata": {},
   "source": [
    "#### Target vs Categorical features"
   ]
  },
  {
   "cell_type": "code",
   "execution_count": 15,
   "metadata": {},
   "outputs": [],
   "source": [
    "# for i in [\"state\", \"disposition\"]:\n",
    "#     ds_boost.show_target_vs_categorical(df[[i, target[0]]], target) # TODO Fix"
   ]
  },
  {
   "cell_type": "markdown",
   "metadata": {},
   "source": [
    "#### Numerical features"
   ]
  },
  {
   "cell_type": "code",
   "execution_count": 16,
   "metadata": {},
   "outputs": [
    {
     "data": {
      "image/png": "[encoded data removed]",
      "text/plain": [
       "<Figure size 1700x200 with 4 Axes>"
      ]
     },
     "metadata": {},
     "output_type": "display_data"
    }
   ],
   "source": [
    "ds_boost.show_numerical(df, kde=True)"
   ]
  },
  {
   "cell_type": "markdown",
   "metadata": {},
   "source": [
    "#### Target vs Numerical features"
   ]
  },
  {
   "cell_type": "code",
   "execution_count": 17,
   "metadata": {},
   "outputs": [],
   "source": [
    "# ds_boost.show_target_vs_numerical(df, target, point_size=10, jitter=0.3, fit_reg=True)\n",
    "# plt.ylim(ymin=-0.2, ymax=1.2)  # TODO: Optimize (high computation)"
   ]
  },
  {
   "cell_type": "markdown",
   "metadata": {},
   "source": [
    "#### Correlation between numerical features and target"
   ]
  },
  {
   "cell_type": "code",
   "execution_count": 18,
   "metadata": {},
   "outputs": [
    {
     "name": "stderr",
     "output_type": "stream",
     "text": [
      "/home/angel/DRIVE/0_repos/data-science-keras/src/ds_boost/ds_boost.py:778: FutureWarning: The default value of numeric_only in DataFrame.corr is deprecated. In a future version, it will default to False. Select only valid columns or specify the value of numeric_only to silence this warning.\n",
      "  corr = copy_df.corr().loc[numerical_f, target].fillna(0).sort_values(target, ascending=False).round(2)\n"
     ]
    },
    {
     "data": {
      "text/plain": [
       "[]"
      ]
     },
     "execution_count": 18,
     "metadata": {},
     "output_type": "execute_result"
    },
    {
     "data": {
      "image/png": "[encoded data removed]",
      "text/plain": [
       "<Figure size 600x300 with 1 Axes>"
      ]
     },
     "metadata": {},
     "output_type": "display_data"
    }
   ],
   "source": [
    "ds_boost.correlation(df, target, figsize=(6, 3))"
   ]
  },
  {
   "cell_type": "markdown",
   "metadata": {},
   "source": [
    "## 2. Neural Network Model"
   ]
  },
  {
   "cell_type": "markdown",
   "metadata": {},
   "source": [
    "### Select the features"
   ]
  },
  {
   "cell_type": "code",
   "execution_count": 19,
   "metadata": {},
   "outputs": [
    {
     "data": {
      "text/html": [
       "<div>\n",
       "<style scoped>\n",
       "    .dataframe tbody tr th:only-of-type {\n",
       "        vertical-align: middle;\n",
       "    }\n",
       "\n",
       "    .dataframe tbody tr th {\n",
       "        vertical-align: top;\n",
       "    }\n",
       "\n",
       "    .dataframe thead th {\n",
       "        text-align: right;\n",
       "    }\n",
       "</style>\n",
       "<table border=\"1\" class=\"dataframe\">\n",
       "  <thead>\n",
       "    <tr style=\"text-align: right;\">\n",
       "      <th></th>\n",
       "      <th>late_fee</th>\n",
       "      <th>discount_amount</th>\n",
       "      <th>judgment_amount</th>\n",
       "      <th>fine_amount</th>\n",
       "      <th>disposition</th>\n",
       "      <th>agency_name</th>\n",
       "      <th>city</th>\n",
       "      <th>violator_name</th>\n",
       "      <th>violation_street_name</th>\n",
       "      <th>state</th>\n",
       "      <th>violation_code</th>\n",
       "      <th>compliance</th>\n",
       "    </tr>\n",
       "  </thead>\n",
       "  <tbody>\n",
       "    <tr>\n",
       "      <th>131030</th>\n",
       "      <td>5.0</td>\n",
       "      <td>0.0</td>\n",
       "      <td>85.0</td>\n",
       "      <td>50.0</td>\n",
       "      <td>Responsible by Determination</td>\n",
       "      <td>Department of Public Works</td>\n",
       "      <td>DETROIT</td>\n",
       "      <td>Other</td>\n",
       "      <td>LAKEPOINTE</td>\n",
       "      <td>MI</td>\n",
       "      <td>9-1-103(C)</td>\n",
       "      <td>0.0</td>\n",
       "    </tr>\n",
       "    <tr>\n",
       "      <th>29573</th>\n",
       "      <td>25.0</td>\n",
       "      <td>0.0</td>\n",
       "      <td>305.0</td>\n",
       "      <td>250.0</td>\n",
       "      <td>Responsible by Default</td>\n",
       "      <td>Buildings, Safety Engineering &amp; Env Department</td>\n",
       "      <td>DETROIT</td>\n",
       "      <td>Other</td>\n",
       "      <td>Other</td>\n",
       "      <td>MI</td>\n",
       "      <td>9-1-36(a)</td>\n",
       "      <td>0.0</td>\n",
       "    </tr>\n",
       "  </tbody>\n",
       "</table>\n",
       "</div>"
      ],
      "text/plain": [
       "        late_fee  discount_amount  judgment_amount  fine_amount  \\\n",
       "131030       5.0              0.0             85.0         50.0   \n",
       "29573       25.0              0.0            305.0        250.0   \n",
       "\n",
       "                         disposition  \\\n",
       "131030  Responsible by Determination   \n",
       "29573         Responsible by Default   \n",
       "\n",
       "                                           agency_name     city violator_name  \\\n",
       "131030                      Department of Public Works  DETROIT         Other   \n",
       "29573   Buildings, Safety Engineering & Env Department  DETROIT         Other   \n",
       "\n",
       "       violation_street_name state violation_code compliance  \n",
       "131030            LAKEPOINTE    MI     9-1-103(C)        0.0  \n",
       "29573                  Other    MI      9-1-36(a)        0.0  "
      ]
     },
     "execution_count": 19,
     "metadata": {},
     "output_type": "execute_result"
    }
   ],
   "source": [
    "droplist = []  # features to drop\n",
    "\n",
    "# For the model 'data' instead of 'df'\n",
    "data = df.copy()\n",
    "# del(df)\n",
    "data.drop(droplist, axis=\"columns\", inplace=True)\n",
    "data.head(2)"
   ]
  },
  {
   "cell_type": "markdown",
   "metadata": {},
   "source": [
    "### Scale numerical variables\n",
    "Shift and scale numerical variables to a standard normal distribution. The scaling factors are saved to be used for predictions."
   ]
  },
  {
   "cell_type": "code",
   "execution_count": 20,
   "metadata": {},
   "outputs": [],
   "source": [
    "data, scale_param = ds_boost.scale(data)"
   ]
  },
  {
   "cell_type": "markdown",
   "metadata": {},
   "source": [
    "### Create dummy features\n",
    "Replace categorical features (no target) with dummy features"
   ]
  },
  {
   "cell_type": "code",
   "execution_count": 21,
   "metadata": {},
   "outputs": [
    {
     "data": {
      "text/html": [
       "<div>\n",
       "<style scoped>\n",
       "    .dataframe tbody tr th:only-of-type {\n",
       "        vertical-align: middle;\n",
       "    }\n",
       "\n",
       "    .dataframe tbody tr th {\n",
       "        vertical-align: top;\n",
       "    }\n",
       "\n",
       "    .dataframe thead th {\n",
       "        text-align: right;\n",
       "    }\n",
       "</style>\n",
       "<table border=\"1\" class=\"dataframe\">\n",
       "  <thead>\n",
       "    <tr style=\"text-align: right;\">\n",
       "      <th></th>\n",
       "      <th>late_fee</th>\n",
       "      <th>discount_amount</th>\n",
       "      <th>judgment_amount</th>\n",
       "      <th>fine_amount</th>\n",
       "      <th>compliance</th>\n",
       "      <th>disposition_Responsible (Fine Waived) by Deter</th>\n",
       "      <th>disposition_Responsible by Admission</th>\n",
       "      <th>disposition_Responsible by Default</th>\n",
       "      <th>disposition_Responsible by Determination</th>\n",
       "      <th>disposition_Other</th>\n",
       "      <th>...</th>\n",
       "      <th>violation_code_9-1-105</th>\n",
       "      <th>violation_code_9-1-110(a)</th>\n",
       "      <th>violation_code_9-1-206</th>\n",
       "      <th>violation_code_9-1-209</th>\n",
       "      <th>violation_code_9-1-36(a)</th>\n",
       "      <th>violation_code_9-1-43(a) - (Dwellin</th>\n",
       "      <th>violation_code_9-1-43(a) - (Structu</th>\n",
       "      <th>violation_code_9-1-81(a)</th>\n",
       "      <th>violation_code_9-1-82(d) - (Dwellin</th>\n",
       "      <th>violation_code_Other</th>\n",
       "    </tr>\n",
       "  </thead>\n",
       "  <tbody>\n",
       "    <tr>\n",
       "      <th>131030</th>\n",
       "      <td>-0.422306</td>\n",
       "      <td>-0.049474</td>\n",
       "      <td>-0.451255</td>\n",
       "      <td>-0.453714</td>\n",
       "      <td>0.0</td>\n",
       "      <td>0</td>\n",
       "      <td>0</td>\n",
       "      <td>0</td>\n",
       "      <td>1</td>\n",
       "      <td>0</td>\n",
       "      <td>...</td>\n",
       "      <td>0</td>\n",
       "      <td>0</td>\n",
       "      <td>0</td>\n",
       "      <td>0</td>\n",
       "      <td>0</td>\n",
       "      <td>0</td>\n",
       "      <td>0</td>\n",
       "      <td>0</td>\n",
       "      <td>0</td>\n",
       "      <td>0</td>\n",
       "    </tr>\n",
       "    <tr>\n",
       "      <th>29573</th>\n",
       "      <td>-0.126339</td>\n",
       "      <td>-0.049474</td>\n",
       "      <td>-0.154289</td>\n",
       "      <td>-0.156975</td>\n",
       "      <td>0.0</td>\n",
       "      <td>0</td>\n",
       "      <td>0</td>\n",
       "      <td>1</td>\n",
       "      <td>0</td>\n",
       "      <td>0</td>\n",
       "      <td>...</td>\n",
       "      <td>0</td>\n",
       "      <td>0</td>\n",
       "      <td>0</td>\n",
       "      <td>0</td>\n",
       "      <td>1</td>\n",
       "      <td>0</td>\n",
       "      <td>0</td>\n",
       "      <td>0</td>\n",
       "      <td>0</td>\n",
       "      <td>0</td>\n",
       "    </tr>\n",
       "    <tr>\n",
       "      <th>2657</th>\n",
       "      <td>-0.126339</td>\n",
       "      <td>-0.049474</td>\n",
       "      <td>-0.154289</td>\n",
       "      <td>-0.156975</td>\n",
       "      <td>0.0</td>\n",
       "      <td>0</td>\n",
       "      <td>0</td>\n",
       "      <td>1</td>\n",
       "      <td>0</td>\n",
       "      <td>0</td>\n",
       "      <td>...</td>\n",
       "      <td>0</td>\n",
       "      <td>0</td>\n",
       "      <td>0</td>\n",
       "      <td>0</td>\n",
       "      <td>1</td>\n",
       "      <td>0</td>\n",
       "      <td>0</td>\n",
       "      <td>0</td>\n",
       "      <td>0</td>\n",
       "      <td>0</td>\n",
       "    </tr>\n",
       "  </tbody>\n",
       "</table>\n",
       "<p>3 rows × 446 columns</p>\n",
       "</div>"
      ],
      "text/plain": [
       "        late_fee  discount_amount  judgment_amount  fine_amount compliance  \\\n",
       "131030 -0.422306        -0.049474        -0.451255    -0.453714        0.0   \n",
       "29573  -0.126339        -0.049474        -0.154289    -0.156975        0.0   \n",
       "2657   -0.126339        -0.049474        -0.154289    -0.156975        0.0   \n",
       "\n",
       "       disposition_Responsible (Fine Waived) by Deter  \\\n",
       "131030                                              0   \n",
       "29573                                               0   \n",
       "2657                                                0   \n",
       "\n",
       "       disposition_Responsible by Admission  \\\n",
       "131030                                    0   \n",
       "29573                                     0   \n",
       "2657                                      0   \n",
       "\n",
       "       disposition_Responsible by Default  \\\n",
       "131030                                  0   \n",
       "29573                                   1   \n",
       "2657                                    1   \n",
       "\n",
       "       disposition_Responsible by Determination disposition_Other  ...  \\\n",
       "131030                                        1                 0  ...   \n",
       "29573                                         0                 0  ...   \n",
       "2657                                          0                 0  ...   \n",
       "\n",
       "       violation_code_9-1-105 violation_code_9-1-110(a)  \\\n",
       "131030                      0                         0   \n",
       "29573                       0                         0   \n",
       "2657                        0                         0   \n",
       "\n",
       "       violation_code_9-1-206 violation_code_9-1-209 violation_code_9-1-36(a)  \\\n",
       "131030                      0                      0                        0   \n",
       "29573                       0                      0                        1   \n",
       "2657                        0                      0                        1   \n",
       "\n",
       "       violation_code_9-1-43(a) - (Dwellin  \\\n",
       "131030                                   0   \n",
       "29573                                    0   \n",
       "2657                                     0   \n",
       "\n",
       "       violation_code_9-1-43(a) - (Structu violation_code_9-1-81(a)  \\\n",
       "131030                                   0                        0   \n",
       "29573                                    0                        0   \n",
       "2657                                     0                        0   \n",
       "\n",
       "       violation_code_9-1-82(d) - (Dwellin violation_code_Other  \n",
       "131030                                   0                    0  \n",
       "29573                                    0                    0  \n",
       "2657                                     0                    0  \n",
       "\n",
       "[3 rows x 446 columns]"
      ]
     },
     "execution_count": 21,
     "metadata": {},
     "output_type": "execute_result"
    }
   ],
   "source": [
    "data, dict_dummies = ds_boost.replace_by_dummies(data, target)\n",
    "\n",
    "model_features = [f for f in data if f not in target]  # sorted neural network inputs\n",
    "\n",
    "data.head(3)"
   ]
  },
  {
   "cell_type": "markdown",
   "metadata": {},
   "source": [
    "### Split the data into training and validation sets"
   ]
  },
  {
   "cell_type": "code",
   "execution_count": 22,
   "metadata": {},
   "outputs": [],
   "source": [
    "val_size = 0.2\n",
    "random_state = 0\n",
    "\n",
    "\n",
    "def validation_split(data, val_size=0.25):\n",
    "\n",
    "    train, test = train_test_split(data, test_size=val_size, random_state=random_state, stratify=data[target])\n",
    "\n",
    "    # Separate the data into features and target (x=features, y=target)\n",
    "    x_train, y_train = train.drop(target, axis=1).values, train[target].values\n",
    "    x_val, y_val = test.drop(target, axis=1).values, test[target].values\n",
    "    # _nc: non-categorical yet (needs one-hot encoding)\n",
    "\n",
    "    return x_train, y_train, x_val, y_val\n",
    "\n",
    "\n",
    "x_train, y_train, x_val, y_val = validation_split(data, val_size=val_size)\n",
    "\n",
    "# x_train = x_train.astype(np.float16)\n",
    "y_train = y_train.astype(np.float16)\n",
    "# X_val = x_val.astype(np.float16)\n",
    "y_val = y_val.astype(np.float16)"
   ]
  },
  {
   "cell_type": "markdown",
   "metadata": {},
   "source": [
    "### Encode the output"
   ]
  },
  {
   "cell_type": "code",
   "execution_count": 23,
   "metadata": {},
   "outputs": [],
   "source": [
    "def one_hot_output(y_train, y_val):\n",
    "    num_classes = len(np.unique(y_train))\n",
    "    y_train = keras.utils.to_categorical(y_train, num_classes)\n",
    "    y_val = keras.utils.to_categorical(y_val, num_classes)\n",
    "    return y_train, y_val\n",
    "\n",
    "\n",
    "y_train, y_val = one_hot_output(y_train, y_val)"
   ]
  },
  {
   "cell_type": "code",
   "execution_count": 24,
   "metadata": {},
   "outputs": [
    {
     "name": "stdout",
     "output_type": "stream",
     "text": [
      "train size \t X:(102323, 445) \t Y:(102323, 2)\n",
      "val size \t X:(25581, 445) \t Y:(25581, 2)\n"
     ]
    }
   ],
   "source": [
    "print(\"train size \\t X:{} \\t Y:{}\".format(x_train.shape, y_train.shape))\n",
    "print(\"val size \\t X:{} \\t Y:{}\".format(x_val.shape, y_val.shape))"
   ]
  },
  {
   "cell_type": "markdown",
   "metadata": {},
   "source": [
    "### Build a dummy classifier"
   ]
  },
  {
   "cell_type": "code",
   "execution_count": 25,
   "metadata": {},
   "outputs": [
    {
     "name": "stdout",
     "output_type": "stream",
     "text": [
      "23:19:12 - DEBUG \t Confusion matrix: \n",
      " [[23725     0]\n",
      " [ 1856     0]]\n"
     ]
    },
    {
     "data": {
      "text/html": [
       "<div>\n",
       "<style scoped>\n",
       "    .dataframe tbody tr th:only-of-type {\n",
       "        vertical-align: middle;\n",
       "    }\n",
       "\n",
       "    .dataframe tbody tr th {\n",
       "        vertical-align: top;\n",
       "    }\n",
       "\n",
       "    .dataframe thead th {\n",
       "        text-align: right;\n",
       "    }\n",
       "</style>\n",
       "<table border=\"1\" class=\"dataframe\">\n",
       "  <thead>\n",
       "    <tr style=\"text-align: right;\">\n",
       "      <th></th>\n",
       "      <th>Loss</th>\n",
       "      <th>Accuracy</th>\n",
       "      <th>Precision</th>\n",
       "      <th>Recall</th>\n",
       "      <th>ROC-AUC</th>\n",
       "      <th>F1-score</th>\n",
       "    </tr>\n",
       "  </thead>\n",
       "  <tbody>\n",
       "    <tr>\n",
       "      <th>Dummy</th>\n",
       "      <td>1.16</td>\n",
       "      <td>0.93</td>\n",
       "      <td>0.0</td>\n",
       "      <td>0</td>\n",
       "      <td>0</td>\n",
       "      <td>0</td>\n",
       "    </tr>\n",
       "  </tbody>\n",
       "</table>\n",
       "</div>"
      ],
      "text/plain": [
       "       Loss  Accuracy  Precision  Recall  ROC-AUC  F1-score\n",
       "Dummy  1.16      0.93        0.0       0        0         0"
      ]
     },
     "execution_count": 25,
     "metadata": {},
     "output_type": "execute_result"
    }
   ],
   "source": [
    "ds_boost.dummy_clf(x_train, y_train[:, 1], x_val, y_val[:, 1])"
   ]
  },
  {
   "cell_type": "markdown",
   "metadata": {},
   "source": [
    "### Build a random forest classifier (best of grid search)"
   ]
  },
  {
   "cell_type": "code",
   "execution_count": 26,
   "metadata": {},
   "outputs": [
    {
     "name": "stdout",
     "output_type": "stream",
     "text": [
      "CPU times: user 1min 59s, sys: 455 ms, total: 1min 59s\n",
      "Wall time: 18 s\n"
     ]
    }
   ],
   "source": [
    "from sklearn.ensemble import RandomForestClassifier\n",
    "\n",
    "\n",
    "%time clf_random_forest_opt = RandomForestClassifier(n_estimators = 30, max_features=150, \\\n",
    "                                max_depth=13, class_weight='balanced', n_jobs=-1, \\\n",
    "                                   random_state=0).fit(x_train, np.ravel(y_train[:,1]))"
   ]
  },
  {
   "cell_type": "code",
   "execution_count": 27,
   "metadata": {},
   "outputs": [
    {
     "name": "stdout",
     "output_type": "stream",
     "text": [
      "23:19:31 - DEBUG \t Confusion matrix: \n",
      " [[21173  2552]\n",
      " [  730  1126]]\n"
     ]
    }
   ],
   "source": [
    "y_pred = clf_random_forest_opt.predict(x_val).reshape([-1, 1])\n",
    "ds_boost.binary_classification_scores(y_val[:, 1], y_pred);"
   ]
  },
  {
   "cell_type": "markdown",
   "metadata": {},
   "source": [
    "### Build the Neural Network for Binary Classification"
   ]
  },
  {
   "cell_type": "code",
   "execution_count": 28,
   "metadata": {},
   "outputs": [
    {
     "name": "stdout",
     "output_type": "stream",
     "text": [
      "Model: \"sequential\"\n",
      "_________________________________________________________________\n",
      " Layer (type)                Output Shape              Param #   \n",
      "=================================================================\n",
      " dense (Dense)               (None, 55)                24530     \n",
      "                                                                 \n",
      " dense_1 (Dense)             (None, 2)                 112       \n",
      "                                                                 \n",
      "=================================================================\n",
      "Total params: 24,642\n",
      "Trainable params: 24,642\n",
      "Non-trainable params: 0\n",
      "_________________________________________________________________\n"
     ]
    }
   ],
   "source": [
    "cw = ds_boost.get_class_weight(y_train[:, 1])  # class weight (imbalanced target)\n",
    "\n",
    "import keras\n",
    "from keras.models import Sequential\n",
    "from keras.layers.core import Dense, Dropout\n",
    "\n",
    "\n",
    "def build_nn(input_size, output_size, summary=False):\n",
    "\n",
    "    input_nodes = input_size // 8\n",
    "\n",
    "    model = Sequential()\n",
    "    model.add(Dense(input_nodes, input_dim=input_size, activation=\"relu\"))\n",
    "\n",
    "    model.add(Dense(output_size, activation=\"softmax\"))\n",
    "\n",
    "    if summary:\n",
    "        model.summary()\n",
    "\n",
    "    model.compile(loss=\"binary_crossentropy\", optimizer=\"adam\", metrics=[\"accuracy\"])\n",
    "\n",
    "    return model\n",
    "\n",
    "\n",
    "model = build_nn(x_train.shape[1], y_train.shape[1], summary=True)"
   ]
  },
  {
   "cell_type": "markdown",
   "metadata": {},
   "source": [
    "### Train the Neural Network"
   ]
  },
  {
   "cell_type": "code",
   "execution_count": 29,
   "metadata": {},
   "outputs": [
    {
     "name": "stdout",
     "output_type": "stream",
     "text": [
      "Training ....\n",
      "Epoch 1/100\n",
      "35/35 [==============================] - 1s 17ms/step - loss: 0.6584 - accuracy: 0.7086 - val_loss: 0.6157 - val_accuracy: 0.7166\n",
      "Epoch 2/100\n",
      "35/35 [==============================] - 0s 10ms/step - loss: 0.5845 - accuracy: 0.7405 - val_loss: 0.5459 - val_accuracy: 0.7867\n",
      "Epoch 2: early stopping\n",
      "time: \t 2.0 s\n"
     ]
    },
    {
     "data": {
      "image/png": "[encoded data removed]",
      "text/plain": [
       "<Figure size 1400x400 with 2 Axes>"
      ]
     },
     "metadata": {},
     "output_type": "display_data"
    },
    {
     "name": "stdout",
     "output_type": "stream",
     "text": [
      "23:19:33 - DEBUG \t Training loss:  \t0.5845\n",
      "23:19:33 - DEBUG \t Validation loss: \t 0.5459\n",
      "23:19:33 - DEBUG \t Training accuracy: \t0.741\n",
      "23:19:33 - DEBUG \t Validation accuracy:\t0.787\n",
      "3198/3198 [==============================] - 4s 1ms/step\n",
      "\n",
      "\n",
      " ROC_AUC train:\t0.80 \n",
      "\n",
      "800/800 [==============================] - 1s 1ms/step\n",
      "\n",
      "\n",
      " ROC_AUC val:\t0.80\n"
     ]
    }
   ],
   "source": [
    "import os\n",
    "from time import time\n",
    "\n",
    "model_path = os.path.join(\"models\", \"detroit.h5\")\n",
    "\n",
    "\n",
    "def train_nn(model, x_train, y_train, validation_data=None, path=False, show=True):\n",
    "    \"\"\"\n",
    "    Train the neural network model. If no validation_data is provided, a split for validation\n",
    "    will be used\n",
    "    \"\"\"\n",
    "\n",
    "    if show:\n",
    "        print(\"Training ....\")\n",
    "\n",
    "    callbacks = [keras.callbacks.EarlyStopping(monitor=\"val_loss\", patience=0, verbose=1)]\n",
    "    t0 = time()\n",
    "\n",
    "    history = model.fit(\n",
    "        x_train,\n",
    "        y_train,\n",
    "        epochs=100,\n",
    "        batch_size=2048,\n",
    "        class_weight=cw,\n",
    "        verbose=1,\n",
    "        validation_split=0.3,\n",
    "        validation_data=validation_data,\n",
    "        callbacks=callbacks,\n",
    "    )\n",
    "\n",
    "    if show:\n",
    "        print(\"time: \\t {:.1f} s\".format(time() - t0))\n",
    "        ds_boost.show_training(history)\n",
    "\n",
    "    if path:\n",
    "        model.save(path)\n",
    "        print(\"\\nModel saved at\", path)\n",
    "\n",
    "    return history\n",
    "\n",
    "\n",
    "model = None\n",
    "model = build_nn(x_train.shape[1], y_train.shape[1], summary=False)\n",
    "train_nn(model, x_train, y_train, path=None)\n",
    "\n",
    "\n",
    "from sklearn.metrics import roc_auc_score\n",
    "\n",
    "y_pred_train = model.predict(x_train, verbose=1)\n",
    "print(\"\\n\\n ROC_AUC train:\\t{:.2f} \\n\".format(roc_auc_score(y_train, y_pred_train)))\n",
    "y_pred_val = model.predict(x_val, verbose=1)\n",
    "print(\"\\n\\n ROC_AUC val:\\t{:.2f}\".format(roc_auc_score(y_val, y_pred_val)))"
   ]
  },
  {
   "cell_type": "markdown",
   "metadata": {},
   "source": [
    "### Validate the model (validation set)"
   ]
  },
  {
   "cell_type": "code",
   "execution_count": 30,
   "metadata": {},
   "outputs": [
    {
     "name": "stdout",
     "output_type": "stream",
     "text": [
      "23:19:41 - DEBUG \t Confusion matrix: \n",
      " [[19058  4667]\n",
      " [  616  1240]]\n"
     ]
    },
    {
     "data": {
      "text/html": [
       "<div>\n",
       "<style scoped>\n",
       "    .dataframe tbody tr th:only-of-type {\n",
       "        vertical-align: middle;\n",
       "    }\n",
       "\n",
       "    .dataframe tbody tr th {\n",
       "        vertical-align: top;\n",
       "    }\n",
       "\n",
       "    .dataframe thead th {\n",
       "        text-align: right;\n",
       "    }\n",
       "</style>\n",
       "<table border=\"1\" class=\"dataframe\">\n",
       "  <thead>\n",
       "    <tr style=\"text-align: right;\">\n",
       "      <th></th>\n",
       "      <th>Loss</th>\n",
       "      <th>Accuracy</th>\n",
       "      <th>Precision</th>\n",
       "      <th>Recall</th>\n",
       "      <th>ROC-AUC</th>\n",
       "      <th>F1-score</th>\n",
       "    </tr>\n",
       "  </thead>\n",
       "  <tbody>\n",
       "    <tr>\n",
       "      <th></th>\n",
       "      <td>0.5</td>\n",
       "      <td>0.79</td>\n",
       "      <td>0.21</td>\n",
       "      <td>0.67</td>\n",
       "      <td>0.8</td>\n",
       "      <td>0.32</td>\n",
       "    </tr>\n",
       "  </tbody>\n",
       "</table>\n",
       "</div>"
      ],
      "text/plain": [
       "   Loss  Accuracy  Precision  Recall  ROC-AUC  F1-score\n",
       "    0.5      0.79       0.21    0.67      0.8      0.32"
      ]
     },
     "execution_count": 30,
     "metadata": {},
     "output_type": "execute_result"
    }
   ],
   "source": [
    "ds_boost.binary_classification_scores(y_val[:, 1], y_pred_val[:, 1], return_dataframe=True)"
   ]
  },
  {
   "cell_type": "markdown",
   "metadata": {},
   "source": [
    "### Evaluate the final model (test set)"
   ]
  },
  {
   "cell_type": "code",
   "execution_count": 31,
   "metadata": {},
   "outputs": [
    {
     "data": {
      "text/html": [
       "<div>\n",
       "<style scoped>\n",
       "    .dataframe tbody tr th:only-of-type {\n",
       "        vertical-align: middle;\n",
       "    }\n",
       "\n",
       "    .dataframe tbody tr th {\n",
       "        vertical-align: top;\n",
       "    }\n",
       "\n",
       "    .dataframe thead th {\n",
       "        text-align: right;\n",
       "    }\n",
       "</style>\n",
       "<table border=\"1\" class=\"dataframe\">\n",
       "  <thead>\n",
       "    <tr style=\"text-align: right;\">\n",
       "      <th></th>\n",
       "      <th>ticket_id</th>\n",
       "      <th>agency_name</th>\n",
       "      <th>inspector_name</th>\n",
       "      <th>violator_name</th>\n",
       "      <th>violation_street_number</th>\n",
       "      <th>violation_street_name</th>\n",
       "      <th>violation_zip_code</th>\n",
       "      <th>mailing_address_str_number</th>\n",
       "      <th>mailing_address_str_name</th>\n",
       "      <th>city</th>\n",
       "      <th>...</th>\n",
       "      <th>clean_up_cost</th>\n",
       "      <th>judgment_amount</th>\n",
       "      <th>payment_amount</th>\n",
       "      <th>balance_due</th>\n",
       "      <th>payment_date</th>\n",
       "      <th>payment_status</th>\n",
       "      <th>collection_status</th>\n",
       "      <th>grafitti_status</th>\n",
       "      <th>compliance_detail</th>\n",
       "      <th>compliance</th>\n",
       "    </tr>\n",
       "  </thead>\n",
       "  <tbody>\n",
       "    <tr>\n",
       "      <th>29156</th>\n",
       "      <td>48696</td>\n",
       "      <td>Department of Public Works</td>\n",
       "      <td>Funchess, Mitchell</td>\n",
       "      <td>CORP, CONTIMORTGAGE</td>\n",
       "      <td>8200.0</td>\n",
       "      <td>HEYDEN</td>\n",
       "      <td>None</td>\n",
       "      <td>3815</td>\n",
       "      <td>WEST TEMPLE</td>\n",
       "      <td>SALT LAKE CITY</td>\n",
       "      <td>...</td>\n",
       "      <td>0.0</td>\n",
       "      <td>140.0</td>\n",
       "      <td>0.0</td>\n",
       "      <td>140.0</td>\n",
       "      <td>None</td>\n",
       "      <td>NO PAYMENT APPLIED</td>\n",
       "      <td>IN COLLECTION</td>\n",
       "      <td>None</td>\n",
       "      <td>non-compliant by no payment</td>\n",
       "      <td>0.0</td>\n",
       "    </tr>\n",
       "    <tr>\n",
       "      <th>125262</th>\n",
       "      <td>152329</td>\n",
       "      <td>Buildings, Safety Engineering &amp; Env Department</td>\n",
       "      <td>Doetsch, James</td>\n",
       "      <td>JACKSON, THEO</td>\n",
       "      <td>13821.0</td>\n",
       "      <td>GLENWOOD</td>\n",
       "      <td>None</td>\n",
       "      <td>1464</td>\n",
       "      <td>PO BOX</td>\n",
       "      <td>DETROIT</td>\n",
       "      <td>...</td>\n",
       "      <td>0.0</td>\n",
       "      <td>305.0</td>\n",
       "      <td>0.0</td>\n",
       "      <td>305.0</td>\n",
       "      <td>None</td>\n",
       "      <td>NO PAYMENT APPLIED</td>\n",
       "      <td>None</td>\n",
       "      <td>None</td>\n",
       "      <td>non-compliant by no payment</td>\n",
       "      <td>0.0</td>\n",
       "    </tr>\n",
       "  </tbody>\n",
       "</table>\n",
       "<p>2 rows × 34 columns</p>\n",
       "</div>"
      ],
      "text/plain": [
       "       ticket_id                                     agency_name  \\\n",
       "29156      48696                      Department of Public Works   \n",
       "125262    152329  Buildings, Safety Engineering & Env Department   \n",
       "\n",
       "            inspector_name        violator_name violation_street_number  \\\n",
       "29156   Funchess, Mitchell  CORP, CONTIMORTGAGE                  8200.0   \n",
       "125262      Doetsch, James        JACKSON, THEO                 13821.0   \n",
       "\n",
       "       violation_street_name violation_zip_code mailing_address_str_number  \\\n",
       "29156                 HEYDEN               None                       3815   \n",
       "125262              GLENWOOD               None                       1464   \n",
       "\n",
       "       mailing_address_str_name            city  ... clean_up_cost  \\\n",
       "29156               WEST TEMPLE  SALT LAKE CITY  ...           0.0   \n",
       "125262                   PO BOX         DETROIT  ...           0.0   \n",
       "\n",
       "       judgment_amount payment_amount balance_due payment_date  \\\n",
       "29156            140.0            0.0       140.0         None   \n",
       "125262           305.0            0.0       305.0         None   \n",
       "\n",
       "            payment_status collection_status grafitti_status  \\\n",
       "29156   NO PAYMENT APPLIED     IN COLLECTION            None   \n",
       "125262  NO PAYMENT APPLIED              None            None   \n",
       "\n",
       "                  compliance_detail compliance  \n",
       "29156   non-compliant by no payment        0.0  \n",
       "125262  non-compliant by no payment        0.0  \n",
       "\n",
       "[2 rows x 34 columns]"
      ]
     },
     "execution_count": 31,
     "metadata": {},
     "output_type": "execute_result"
    }
   ],
   "source": [
    "df_test.head(2)"
   ]
  },
  {
   "cell_type": "markdown",
   "metadata": {},
   "source": [
    "#### Process test data with training set parameters (no data leakage)"
   ]
  },
  {
   "cell_type": "code",
   "execution_count": 32,
   "metadata": {},
   "outputs": [
    {
     "name": "stdout",
     "output_type": "stream",
     "text": [
      "23:19:41 - DEBUG \t 4 numerical features: \t ['late_fee', 'discount_amount', 'judgment_amount', 'fine_amount']\n",
      "23:19:41 - DEBUG \t 7 categorical features: \t ['disposition', 'agency_name', 'city', 'violator_name', 'violation_street_name', 'state', 'violation_code']\n",
      "23:19:41 - DEBUG \t Target: \t\tcompliance (object)\n",
      "23:19:41 - DEBUG \t Variables changed to 'category': {columns_to_convert}\n",
      "23:19:41 - DEBUG \t Missing categorical filled with label: \"Other\"\n"
     ]
    }
   ],
   "source": [
    "df_test = remove_features(df_test)\n",
    "df_test = ds_boost.sort_columns_by_type(df_test, target, numerical=num)\n",
    "df_test, _ = ds_boost.remove_categories(df_test, target=target, show=False, dict_categories=dict_categories)\n",
    "df_test = ds_boost.fill_simple(df_test, target, missing_categorical=\"Other\")\n",
    "df_test, _ = ds_boost.scale(df_test, scale_param)\n",
    "df_test, _ = ds_boost.replace_by_dummies(df_test, target, dict_dummies)\n",
    "df_test = df_test[model_features + target]  # sort columns to match training features order"
   ]
  },
  {
   "cell_type": "code",
   "execution_count": 33,
   "metadata": {},
   "outputs": [],
   "source": [
    "def separate_x_y(data):\n",
    "    \"\"\"Separate the data into features and target (x=features, y=target)\"\"\"\n",
    "\n",
    "    x, y = data.drop(target, axis=1).values, data[target].values\n",
    "    x = x.astype(np.float16)\n",
    "    y = y.astype(np.float16)\n",
    "\n",
    "    return x, y\n",
    "\n",
    "\n",
    "x_test, y_test = separate_x_y(df_test)\n",
    "\n",
    "y_test = keras.utils.to_categorical(y_test, 2)"
   ]
  },
  {
   "cell_type": "markdown",
   "metadata": {},
   "source": [
    "####  Random Forest model"
   ]
  },
  {
   "cell_type": "code",
   "execution_count": 34,
   "metadata": {},
   "outputs": [
    {
     "name": "stdout",
     "output_type": "stream",
     "text": [
      "23:19:43 - DEBUG \t Confusion matrix: \n",
      " [[26456  3201]\n",
      " [  955  1364]]\n"
     ]
    },
    {
     "data": {
      "text/html": [
       "<div>\n",
       "<style scoped>\n",
       "    .dataframe tbody tr th:only-of-type {\n",
       "        vertical-align: middle;\n",
       "    }\n",
       "\n",
       "    .dataframe tbody tr th {\n",
       "        vertical-align: top;\n",
       "    }\n",
       "\n",
       "    .dataframe thead th {\n",
       "        text-align: right;\n",
       "    }\n",
       "</style>\n",
       "<table border=\"1\" class=\"dataframe\">\n",
       "  <thead>\n",
       "    <tr style=\"text-align: right;\">\n",
       "      <th></th>\n",
       "      <th>Loss</th>\n",
       "      <th>Accuracy</th>\n",
       "      <th>Precision</th>\n",
       "      <th>Recall</th>\n",
       "      <th>ROC-AUC</th>\n",
       "      <th>F1-score</th>\n",
       "    </tr>\n",
       "  </thead>\n",
       "  <tbody>\n",
       "    <tr>\n",
       "      <th></th>\n",
       "      <td>0.46</td>\n",
       "      <td>0.87</td>\n",
       "      <td>0.3</td>\n",
       "      <td>0.59</td>\n",
       "      <td>0.81</td>\n",
       "      <td>0.4</td>\n",
       "    </tr>\n",
       "  </tbody>\n",
       "</table>\n",
       "</div>"
      ],
      "text/plain": [
       "   Loss  Accuracy  Precision  Recall  ROC-AUC  F1-score\n",
       "   0.46      0.87        0.3    0.59     0.81       0.4"
      ]
     },
     "execution_count": 34,
     "metadata": {},
     "output_type": "execute_result"
    }
   ],
   "source": [
    "y_pred = clf_random_forest_opt.predict_proba(x_test)\n",
    "ds_boost.binary_classification_scores(y_test[:, 1], y_pred[:, 1], return_dataframe=True)"
   ]
  },
  {
   "cell_type": "code",
   "execution_count": 35,
   "metadata": {},
   "outputs": [
    {
     "data": {
      "text/html": [
       "<div>\n",
       "<style scoped>\n",
       "    .dataframe tbody tr th:only-of-type {\n",
       "        vertical-align: middle;\n",
       "    }\n",
       "\n",
       "    .dataframe tbody tr th {\n",
       "        vertical-align: top;\n",
       "    }\n",
       "\n",
       "    .dataframe thead th {\n",
       "        text-align: right;\n",
       "    }\n",
       "</style>\n",
       "<table border=\"1\" class=\"dataframe\">\n",
       "  <thead>\n",
       "    <tr style=\"text-align: right;\">\n",
       "      <th></th>\n",
       "      <th>Importance</th>\n",
       "    </tr>\n",
       "  </thead>\n",
       "  <tbody>\n",
       "    <tr>\n",
       "      <th>late_fee</th>\n",
       "      <td>0.29</td>\n",
       "    </tr>\n",
       "    <tr>\n",
       "      <th>disposition_Responsible by Default</th>\n",
       "      <td>0.28</td>\n",
       "    </tr>\n",
       "    <tr>\n",
       "      <th>judgment_amount</th>\n",
       "      <td>0.09</td>\n",
       "    </tr>\n",
       "    <tr>\n",
       "      <th>disposition_Responsible by Admission</th>\n",
       "      <td>0.07</td>\n",
       "    </tr>\n",
       "    <tr>\n",
       "      <th>disposition_Responsible by Determination</th>\n",
       "      <td>0.05</td>\n",
       "    </tr>\n",
       "    <tr>\n",
       "      <th>fine_amount</th>\n",
       "      <td>0.02</td>\n",
       "    </tr>\n",
       "    <tr>\n",
       "      <th>discount_amount</th>\n",
       "      <td>0.02</td>\n",
       "    </tr>\n",
       "    <tr>\n",
       "      <th>violation_code_9-1-36(a)</th>\n",
       "      <td>0.01</td>\n",
       "    </tr>\n",
       "    <tr>\n",
       "      <th>city_DETROIT</th>\n",
       "      <td>0.01</td>\n",
       "    </tr>\n",
       "    <tr>\n",
       "      <th>violation_code_22-2-61</th>\n",
       "      <td>0.01</td>\n",
       "    </tr>\n",
       "  </tbody>\n",
       "</table>\n",
       "</div>"
      ],
      "text/plain": [
       "                                          Importance\n",
       "late_fee                                        0.29\n",
       "disposition_Responsible by Default              0.28\n",
       "judgment_amount                                 0.09\n",
       "disposition_Responsible by Admission            0.07\n",
       "disposition_Responsible by Determination        0.05\n",
       "fine_amount                                     0.02\n",
       "discount_amount                                 0.02\n",
       "violation_code_9-1-36(a)                        0.01\n",
       "city_DETROIT                                    0.01\n",
       "violation_code_22-2-61                          0.01"
      ]
     },
     "execution_count": 35,
     "metadata": {},
     "output_type": "execute_result"
    },
    {
     "data": {
      "image/png": "[encoded data removed]",
      "text/plain": [
       "<Figure size 800x600 with 1 Axes>"
      ]
     },
     "metadata": {},
     "output_type": "display_data"
    }
   ],
   "source": [
    "ds_boost.feature_importance(model_features, clf_random_forest_opt)"
   ]
  },
  {
   "cell_type": "markdown",
   "metadata": {},
   "source": [
    "#### Neural Network model"
   ]
  },
  {
   "cell_type": "code",
   "execution_count": 36,
   "metadata": {},
   "outputs": [
    {
     "name": "stdout",
     "output_type": "stream",
     "text": [
      "1000/1000 [==============================] - 1s 1ms/step\n",
      "23:19:45 - DEBUG \t Confusion matrix: \n",
      " [[23736  5921]\n",
      " [  786  1533]]\n"
     ]
    },
    {
     "data": {
      "text/html": [
       "<div>\n",
       "<style scoped>\n",
       "    .dataframe tbody tr th:only-of-type {\n",
       "        vertical-align: middle;\n",
       "    }\n",
       "\n",
       "    .dataframe tbody tr th {\n",
       "        vertical-align: top;\n",
       "    }\n",
       "\n",
       "    .dataframe thead th {\n",
       "        text-align: right;\n",
       "    }\n",
       "</style>\n",
       "<table border=\"1\" class=\"dataframe\">\n",
       "  <thead>\n",
       "    <tr style=\"text-align: right;\">\n",
       "      <th></th>\n",
       "      <th>Loss</th>\n",
       "      <th>Accuracy</th>\n",
       "      <th>Precision</th>\n",
       "      <th>Recall</th>\n",
       "      <th>ROC-AUC</th>\n",
       "      <th>F1-score</th>\n",
       "    </tr>\n",
       "  </thead>\n",
       "  <tbody>\n",
       "    <tr>\n",
       "      <th></th>\n",
       "      <td>0.5</td>\n",
       "      <td>0.79</td>\n",
       "      <td>0.21</td>\n",
       "      <td>0.66</td>\n",
       "      <td>0.79</td>\n",
       "      <td>0.31</td>\n",
       "    </tr>\n",
       "  </tbody>\n",
       "</table>\n",
       "</div>"
      ],
      "text/plain": [
       "   Loss  Accuracy  Precision  Recall  ROC-AUC  F1-score\n",
       "    0.5      0.79       0.21    0.66     0.79      0.31"
      ]
     },
     "execution_count": 36,
     "metadata": {},
     "output_type": "execute_result"
    }
   ],
   "source": [
    "y_pred = model.predict(x_test, verbose=1)[:, 1]\n",
    "ds_boost.binary_classification_scores(y_test[:, 1], y_pred, return_dataframe=True)"
   ]
  },
  {
   "cell_type": "markdown",
   "metadata": {},
   "source": [
    "### Compare with other non-neural ML models"
   ]
  },
  {
   "cell_type": "code",
   "execution_count": 37,
   "metadata": {},
   "outputs": [
    {
     "name": "stdout",
     "output_type": "stream",
     "text": [
      "23:19:45 - DEBUG \t Naive Bayes\n",
      "23:19:47 - DEBUG \t Random Forest\n",
      "23:19:55 - DEBUG \t Extremely Randomized Trees\n",
      "23:20:04 - DEBUG \t LGBM\n"
     ]
    },
    {
     "data": {
      "text/html": [
       "<div>\n",
       "<style scoped>\n",
       "    .dataframe tbody tr th:only-of-type {\n",
       "        vertical-align: middle;\n",
       "    }\n",
       "\n",
       "    .dataframe tbody tr th {\n",
       "        vertical-align: top;\n",
       "    }\n",
       "\n",
       "    .dataframe thead th {\n",
       "        text-align: right;\n",
       "    }\n",
       "</style>\n",
       "<table border=\"1\" class=\"dataframe\">\n",
       "  <thead>\n",
       "    <tr style=\"text-align: right;\">\n",
       "      <th></th>\n",
       "      <th>Time (s)</th>\n",
       "      <th>Loss</th>\n",
       "      <th>Accuracy</th>\n",
       "      <th>Precision</th>\n",
       "      <th>Recall</th>\n",
       "      <th>ROC-AUC</th>\n",
       "      <th>F1-score</th>\n",
       "    </tr>\n",
       "  </thead>\n",
       "  <tbody>\n",
       "    <tr>\n",
       "      <th>LGBM</th>\n",
       "      <td>1.12</td>\n",
       "      <td>0.19</td>\n",
       "      <td>0.94</td>\n",
       "      <td>0.90</td>\n",
       "      <td>0.24</td>\n",
       "      <td>0.81</td>\n",
       "      <td>0.38</td>\n",
       "    </tr>\n",
       "    <tr>\n",
       "      <th>Random Forest</th>\n",
       "      <td>7.29</td>\n",
       "      <td>0.20</td>\n",
       "      <td>0.94</td>\n",
       "      <td>0.93</td>\n",
       "      <td>0.22</td>\n",
       "      <td>0.81</td>\n",
       "      <td>0.35</td>\n",
       "    </tr>\n",
       "    <tr>\n",
       "      <th>Extremely Randomized Trees</th>\n",
       "      <td>8.87</td>\n",
       "      <td>0.21</td>\n",
       "      <td>0.93</td>\n",
       "      <td>0.99</td>\n",
       "      <td>0.03</td>\n",
       "      <td>0.81</td>\n",
       "      <td>0.06</td>\n",
       "    </tr>\n",
       "    <tr>\n",
       "      <th>Naive Bayes</th>\n",
       "      <td>1.25</td>\n",
       "      <td>21.65</td>\n",
       "      <td>0.36</td>\n",
       "      <td>0.09</td>\n",
       "      <td>0.83</td>\n",
       "      <td>0.59</td>\n",
       "      <td>0.16</td>\n",
       "    </tr>\n",
       "  </tbody>\n",
       "</table>\n",
       "</div>"
      ],
      "text/plain": [
       "                            Time (s)   Loss  Accuracy  Precision  Recall  \\\n",
       "LGBM                            1.12   0.19      0.94       0.90    0.24   \n",
       "Random Forest                   7.29   0.20      0.94       0.93    0.22   \n",
       "Extremely Randomized Trees      8.87   0.21      0.93       0.99    0.03   \n",
       "Naive Bayes                     1.25  21.65      0.36       0.09    0.83   \n",
       "\n",
       "                            ROC-AUC  F1-score  \n",
       "LGBM                           0.81      0.38  \n",
       "Random Forest                  0.81      0.35  \n",
       "Extremely Randomized Trees     0.81      0.06  \n",
       "Naive Bayes                    0.59      0.16  "
      ]
     },
     "execution_count": 37,
     "metadata": {},
     "output_type": "execute_result"
    }
   ],
   "source": [
    "ds_boost.ml_classification(x_train, y_train[:, 1], x_test, y_test[:, 1])"
   ]
  }
 ],
 "metadata": {
  "coursera": {
   "course_slug": "python-machine-learning",
   "graded_item_id": "nNS8l",
   "launcher_item_id": "yWWk7",
   "part_id": "w8BSS"
  },
  "kernelspec": {
   "display_name": "ds-keras",
   "language": "python",
   "name": "python3"
  },
  "language_info": {
   "codemirror_mode": {
    "name": "ipython",
    "version": 3
   },
   "file_extension": ".py",
   "mimetype": "text/x-python",
   "name": "python",
   "nbconvert_exporter": "python",
   "pygments_lexer": "ipython3",
   "version": "3.10.4"
  },
  "vscode": {
   "interpreter": {
    "hash": "366a4202e041eebdd8a4edd8a0024926c2e45e658d7ba92f3c9b74c9b0ce97a9"
   }
  }
 },
 "nbformat": 4,
 "nbformat_minor": 2
}
