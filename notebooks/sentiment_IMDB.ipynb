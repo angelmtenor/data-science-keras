{
 "cells": [
  {
   "cell_type": "markdown",
   "metadata": {},
   "source": [
    "# Sentiment Prediction from Movie Review (IMDB)\n",
    "\n",
    "**Predicting positive or negative sentiments from movie reviews**\n",
    "\n",
    "**Natural Language Processing. Supervised Learning. Classification**\n",
    "\n",
    "Dataset: [IMDB Movie reviews sentiment classification](https://keras.io/datasets/)"
   ]
  },
  {
   "cell_type": "code",
   "execution_count": 1,
   "metadata": {},
   "outputs": [
    {
     "name": "stdout",
     "output_type": "stream",
     "text": [
      "Path changed to /home/angel/DRIVE/data-science-keras\n",
      "\n",
      "HARDWARE:\n",
      "CPU:\tIntel(R) Core(TM) i7-9750H CPU @ 2.60GHz\n",
      "RAM:\t8 GB\n",
      "GPU:\tNVIDIA GeForce RTX 2070\n",
      "\n",
      "OS:\tLinux-5.10.16.3-microsoft-standard-WSL2-x86_64-with-glibc2.35\n",
      "\n",
      "ENV:\t/home/angel/miniconda3/envs/gpu\n",
      "\n",
      "PYTHON:\t3.10.4 (main, Mar 31 2022, 08:41:55) [GCC 7.5.0]\n",
      "tensorflow                    2.9.1\n",
      "pandas                        1.4.3\n",
      "numpy                        1.23.1\n",
      "\n",
      "EXECUTION PATH: /home/angel/DRIVE/data-science-keras\n",
      "EXECUTION DATE: Mon Aug 15 13:03:59 2022\n"
     ]
    }
   ],
   "source": [
    "%matplotlib inline\n",
    "\n",
    "import os, sys\n",
    "\n",
    "sys.path.append(\"../\")\n",
    "import helper_ds\n",
    "import tensorflow\n",
    "# import tensorflow as tf\n",
    "# from tensorflow import keras\n",
    "\n",
    "\n",
    "helper_ds.set_parent_execution_path()\n",
    "helper_ds.info_system()\n",
    "helper_ds.reproducible(seed=9)  # setup reproducible results from run to run using Keras"
   ]
  },
  {
   "cell_type": "markdown",
   "metadata": {},
   "source": [
    "## Load the data"
   ]
  },
  {
   "cell_type": "code",
   "execution_count": 2,
   "metadata": {},
   "outputs": [
    {
     "name": "stdout",
     "output_type": "stream",
     "text": [
      "Training reviews: 22882\n",
      "Testing reviews: 23065\n",
      "\n",
      "Review:\n",
      "['the', 'as', 'there', 'in', 'at', 'by', 'br', 'of', 'sure', 'many', 'br', 'of', 'proving', 'no', 'only', 'women', 'was', 'than', \"doesn't\", 'as', 'you', 'never', 'of', 'hat', 'night', 'that', 'with', 'ignored', 'they', 'bad', 'out', 'superman', 'plays', 'of', 'how', 'star', 'so', 'stories', 'film', 'comes', 'defense', 'date', 'of', 'wide', 'they', \"don't\", 'do', 'that', 'had', 'with', 'of', 'hollywood', 'br', 'of', 'my', 'seeing', 'fan', 'this', 'of', 'pop', 'out', 'body', 'shots', 'in', 'having', 'because', 'cause', \"it's\", 'stick', 'passing', 'first', 'were', 'enjoys', 'for', 'from', 'look', 'seven', 'sense', 'from', 'me', 'and', 'die', 'in', 'character', 'as', 'cuban', 'issues', 'but', 'is', 'you', 'that', \"isn't\", 'one', 'song', 'just', 'is', 'him', 'less', 'are', 'strongly', 'not', 'are', 'you', 'that', 'different', 'just', 'even', 'by', 'this', 'of', 'you', 'there', 'is', 'eight', 'when', 'it', 'part', 'are', \"film's\", 'love', \"film's\", \"80's\", 'was', 'big', 'also', 'light', \"don't\", 'and', 'as', 'it', 'in', 'character', 'looked', 'cinematography', 'so', 'stories', 'is', 'far', 'br', 'man', 'acting']\n",
      "\n",
      "Label: 0\n",
      "0: negative, 1:positive\n"
     ]
    }
   ],
   "source": [
    "from tensorflow.keras.datasets import imdb\n",
    "\n",
    "max_words = 20000  # most common words\n",
    "max_length = 500  # words per review limit\n",
    "\n",
    "(x_train, y_train), (x_test, y_test) = imdb.load_data(num_words=max_words, skip_top=0, maxlen=max_length)\n",
    "# dictionaries ids <-> words\n",
    "word2id = imdb.get_word_index()\n",
    "id2word = {i: word for word, i in word2id.items()}\n",
    "\n",
    "print(\"Training reviews: {}\".format(len(x_train)))\n",
    "print(\"Testing reviews: {}\".format(len(x_test)))\n",
    "\n",
    "print(\"\\nReview:\")\n",
    "print([id2word.get(i, \" \") for i in x_train[2]])\n",
    "print(\"\\nLabel: {}\".format(y_train[2]))\n",
    "print(\"0: negative, 1:positive\")"
   ]
  },
  {
   "cell_type": "code",
   "execution_count": 3,
   "metadata": {},
   "outputs": [
    {
     "name": "stdout",
     "output_type": "stream",
     "text": [
      "Positive review rate: 0.496\n"
     ]
    }
   ],
   "source": [
    "print(\"Positive review rate: {:.3f}\".format(y_train.mean()))"
   ]
  },
  {
   "cell_type": "markdown",
   "metadata": {},
   "source": [
    "**Balanced target**"
   ]
  },
  {
   "cell_type": "markdown",
   "metadata": {},
   "source": [
    "## Process the data"
   ]
  },
  {
   "cell_type": "code",
   "execution_count": 4,
   "metadata": {},
   "outputs": [
    {
     "name": "stdout",
     "output_type": "stream",
     "text": [
      "Training set:  x-shape=(22882, 500)  y-shape=(22882, 2)\n",
      "Testing  set:  x-shape=(23065, 500)  y-shape=(23065, 2)\n"
     ]
    }
   ],
   "source": [
    "from tensorflow.keras.preprocessing.sequence import pad_sequences\n",
    "\n",
    "# padding\n",
    "x_train = pad_sequences(x_train, max_length)\n",
    "x_test = pad_sequences(x_test, max_length)\n",
    "\n",
    "# one-hot encoding the target\n",
    "num_classes = 2\n",
    "y_train = tensorflow.keras.utils.to_categorical(y_train, num_classes)\n",
    "y_test = tensorflow.keras.utils.to_categorical(y_test, num_classes)\n",
    "\n",
    "print(\"Training set:  x-shape={}  y-shape={}\".format(x_train.shape, y_train.shape))\n",
    "print(\"Testing  set:  x-shape={}  y-shape={}\".format(x_test.shape, y_test.shape))"
   ]
  },
  {
   "cell_type": "markdown",
   "metadata": {},
   "source": [
    "## Neural Network model"
   ]
  },
  {
   "cell_type": "code",
   "execution_count": 5,
   "metadata": {},
   "outputs": [
    {
     "name": "stdout",
     "output_type": "stream",
     "text": [
      "Model: \"sequential\"\n",
      "_________________________________________________________________\n",
      " Layer (type)                Output Shape              Param #   \n",
      "=================================================================\n",
      " embedding (Embedding)       (None, 500, 10)           200000    \n",
      "                                                                 \n",
      " flatten (Flatten)           (None, 5000)              0         \n",
      "                                                                 \n",
      " dense (Dense)               (None, 8)                 40008     \n",
      "                                                                 \n",
      " dropout (Dropout)           (None, 8)                 0         \n",
      "                                                                 \n",
      " dense_1 (Dense)             (None, 2)                 18        \n",
      "                                                                 \n",
      "=================================================================\n",
      "Total params: 240,026\n",
      "Trainable params: 240,026\n",
      "Non-trainable params: 0\n",
      "_________________________________________________________________\n",
      "Training ....\n",
      "\n",
      "CPU times: user 3.85 s, sys: 1.49 s, total: 5.33 s\n",
      "Wall time: 3.52 s\n"
     ]
    },
    {
     "data": {
      "image/png": "[encoded data removed]",
      "text/plain": [
       "<Figure size 1008x288 with 2 Axes>"
      ]
     },
     "metadata": {},
     "output_type": "display_data"
    },
    {
     "name": "stdout",
     "output_type": "stream",
     "text": [
      "\n",
      "Training loss:  \t0.1801\n",
      "Validation loss: \t 0.2804\n",
      "\n",
      "Training accuracy: \t0.946\n",
      "Validation accuracy:\t0.887\n",
      "\n",
      "Model saved at models/sentiment_IMDB_model.h5\n"
     ]
    }
   ],
   "source": [
    "from tensorflow.keras.models import Sequential\n",
    "from tensorflow.keras.layers import Dense, Dropout, Flatten\n",
    "from tensorflow.keras.layers import Embedding\n",
    "\n",
    "model = Sequential()\n",
    "model.add(Embedding(max_words, 10, input_length=max_length))\n",
    "model.add(Flatten())\n",
    "model.add(Dense(8, activation='relu'))\n",
    "model.add(Dropout(0.3))\n",
    "model.add(Dense(num_classes, activation='softmax'))\n",
    "model.summary()\n",
    "\n",
    "model.compile(loss='binary_crossentropy',\n",
    "              optimizer='adam',\n",
    "              metrics=['accuracy'])\n",
    "\n",
    "print('Training ....\\n')\n",
    "callbacks = [tensorflow.keras.callbacks.EarlyStopping(monitor='val_loss', patience=1, verbose=1)]\n",
    "%time history = model.fit(x_train, y_train, batch_size=1024, epochs=10, verbose=0, \\\n",
    "                          validation_split = 0.3, callbacks=callbacks)\n",
    "helper_ds.show_training(history)\n",
    "\n",
    "model_path = os.path.join(\"models\", \"sentiment_IMDB_model.h5\")\n",
    "model.save(model_path)\n",
    "print(\"\\nModel saved at\",model_path)"
   ]
  },
  {
   "cell_type": "markdown",
   "metadata": {},
   "source": [
    "## Evaluate and Predict"
   ]
  },
  {
   "cell_type": "code",
   "execution_count": 6,
   "metadata": {},
   "outputs": [
    {
     "name": "stdout",
     "output_type": "stream",
     "text": [
      "Model loaded: models/sentiment_IMDB_model.h5\n",
      "\n",
      "Test Accuracy: 0.88\n",
      "\n"
     ]
    }
   ],
   "source": [
    "model = tensorflow.keras.models.load_model(model_path)\n",
    "print(\"Model loaded:\", model_path)\n",
    "\n",
    "score = model.evaluate(x_test, y_test, verbose=0)\n",
    "print(\"\\nTest Accuracy: {:.2f}\\n\".format(score[1]))"
   ]
  },
  {
   "cell_type": "code",
   "execution_count": 7,
   "metadata": {},
   "outputs": [],
   "source": [
    "import re\n",
    "import nltk\n",
    "\n",
    "\n",
    "def review_to_ids(review):\n",
    "    \"\"\"Convert a raw review string into a sequence of ids\"\"\"\n",
    "\n",
    "    review = re.sub(r\"[^a-zA-Z0-9]\", \" \", review)  # remove non-letters\n",
    "    review = review.lower()  # convert to lowercase\n",
    "    words = review.split()  # tokenize\n",
    "    ids = [word2id.get(i, 0) for i in words]\n",
    "    ids = pad_sequences([ids], max_length)\n",
    "\n",
    "    return ids\n",
    "\n",
    "\n",
    "def predict(review):\n",
    "    \"\"\"Show the probability of positive sentiment given a string review\"\"\"\n",
    "    my_ids = review_to_ids(review)\n",
    "    print(\"Positive Probability: {:.2f}\".format(model.predict(my_ids, verbose=0)[0][1]))"
   ]
  },
  {
   "cell_type": "code",
   "execution_count": 8,
   "metadata": {},
   "outputs": [
    {
     "name": "stdout",
     "output_type": "stream",
     "text": [
      "Positive Probability: 0.19\n"
     ]
    }
   ],
   "source": [
    "my_review = \"\"\"The writer and director did well on his first movie, but this one is an absolute \n",
    "nonsense. I like complicated, non-linear, and abstract movies, although nothing can be learn \n",
    "from this messy script. The only thing worth it is the photography \"\"\"\n",
    "predict(my_review)"
   ]
  },
  {
   "cell_type": "code",
   "execution_count": 9,
   "metadata": {},
   "outputs": [
    {
     "name": "stdout",
     "output_type": "stream",
     "text": [
      "Positive Probability: 0.84\n"
     ]
    }
   ],
   "source": [
    "# http://www.imdb.com/user/ur12188407/\n",
    "my_review = \"\"\" In short, this is one of the best sci-fi movies I have seen in a LONG time. \n",
    "Sam Rockwell plays it perfect, making the viewer feel his isolation and loneliness. For a low \n",
    "budget film, the few effect shots work seamlessly. I'm trying to remain spoiler free, so I won't\n",
    "bother to explain the plot. If you like older and more story/character driven sci-fi, such as \n",
    "2001: A Space Odyssey, than chances are you will love this movie. If you aren't a huge fan of \n",
    "sci-fi, take a chance with this one. You may find it a very rewarding experience. I loved this \n",
    "movie, and I can't stop thinking about it. In Moon, you may begin to think that everything is a \n",
    "big cliché, but than with all of the seemingly cliché plot points, Moon changes them into \n",
    "something entirely original and unexpected. It is an excellent piece of art and I have a strong \n",
    "feeling not enough people will see and appreciate it like I did.\"\"\"\n",
    "predict(my_review)"
   ]
  }
 ],
 "metadata": {
  "kernelspec": {
   "display_name": "Python 3.10.4 ('gpu')",
   "language": "python",
   "name": "python3"
  },
  "language_info": {
   "codemirror_mode": {
    "name": "ipython",
    "version": 3
   },
   "file_extension": ".py",
   "mimetype": "text/x-python",
   "name": "python",
   "nbconvert_exporter": "python",
   "pygments_lexer": "ipython3",
   "version": "3.10.4"
  },
  "vscode": {
   "interpreter": {
    "hash": "d2efdb989dc164e4378df2c802d4acdf5890bc9f1d40e64af3f699a110ebaaa8"
   }
  }
 },
 "nbformat": 4,
 "nbformat_minor": 2
}
