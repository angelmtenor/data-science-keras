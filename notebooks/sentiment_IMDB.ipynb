{
    "cells": [
        {
            "cell_type": "markdown",
            "metadata": {},
            "source": [
                "# Sentiment Prediction from Movie Review (IMDB)\n",
                "\n",
                "**Predicting positive or negative sentiments from movie reviews**\n",
                "\n",
                "**Natural Language Processing. Supervised Learning. Classification**\n",
                "\n",
                "Dataset: [IMDB Movie reviews sentiment classification](https://keras.io/datasets/)"
            ]
        },
        {
            "cell_type": "code",
            "execution_count": null,
            "metadata": {},
            "outputs": [],
            "source": [
                "%matplotlib inline\n",
                "\n",
                "import os, sys\n",
                "import keras\n",
                "\n",
                "sys.path.append('../')\n",
                "import helper_ds\n",
                "helper_ds.set_parent_execution_path()\n",
                "helper_ds.info_system()\n",
                "helper_ds.reproducible(seed=9)  # setup reproducible results from run to run using Keras"
            ]
        },
        {
            "cell_type": "markdown",
            "metadata": {},
            "source": [
                "## Load the data"
            ]
        },
        {
            "cell_type": "code",
            "execution_count": null,
            "metadata": {},
            "outputs": [],
            "source": [
                "from keras.datasets import imdb\n",
                "\n",
                "max_words = 20000  # most common words\n",
                "max_length = 500  # words per review limit\n",
                "\n",
                "(x_train, y_train), (x_test, y_test) = imdb.load_data(num_words=max_words, skip_top=0, maxlen=max_length)\n",
                "# dictionaries ids <-> words\n",
                "word2id = imdb.get_word_index()\n",
                "id2word = {i: word for word, i in word2id.items()}\n",
                "\n",
                "print(\"Training reviews: {}\".format(len(x_train)))\n",
                "print(\"Testing reviews: {}\".format(len(x_test)))\n",
                "\n",
                "print(\"\\nReview:\")\n",
                "print([id2word.get(i, \" \") for i in x_train[2]])\n",
                "print(\"\\nLabel: {}\".format(y_train[2]))\n",
                "print(\"0: negative, 1:positive\")"
            ]
        },
        {
            "cell_type": "code",
            "execution_count": null,
            "metadata": {},
            "outputs": [],
            "source": [
                "print(\"Positive review rate: {:.3f}\".format(y_train.mean()))"
            ]
        },
        {
            "cell_type": "markdown",
            "metadata": {},
            "source": [
                "**Balanced target**"
            ]
        },
        {
            "cell_type": "markdown",
            "metadata": {},
            "source": [
                "## Process the data"
            ]
        },
        {
            "cell_type": "code",
            "execution_count": null,
            "metadata": {},
            "outputs": [],
            "source": [
                "from keras.preprocessing.sequence import pad_sequences\n",
                "\n",
                "# padding\n",
                "x_train = pad_sequences(x_train, max_length)\n",
                "x_test = pad_sequences(x_test, max_length)\n",
                "\n",
                "# one-hot encoding the target\n",
                "num_classes = 2\n",
                "y_train = keras.utils.to_categorical(y_train, num_classes)\n",
                "y_test = keras.utils.to_categorical(y_test, num_classes)\n",
                "\n",
                "print(\"Training set:  x-shape={}  y-shape={}\".format(x_train.shape, y_train.shape))\n",
                "print(\"Testing  set:  x-shape={}  y-shape={}\".format(x_test.shape, y_test.shape))"
            ]
        },
        {
            "cell_type": "markdown",
            "metadata": {},
            "source": [
                "## Neural Network model"
            ]
        },
        {
            "cell_type": "code",
            "execution_count": null,
            "metadata": {},
            "outputs": [],
            "source": [
                "from keras.models import Sequential\n",
                "from keras.layers import Dense, Dropout, Flatten\n",
                "from keras.layers.embeddings import Embedding\n",
                "\n",
                "model = Sequential()\n",
                "model.add(Embedding(max_words, 10, input_length=max_length))\n",
                "model.add(Flatten())\n",
                "model.add(Dense(8, activation='relu'))\n",
                "model.add(Dropout(0.3))\n",
                "model.add(Dense(num_classes, activation='softmax'))\n",
                "model.summary()\n",
                "\n",
                "model.compile(loss='binary_crossentropy',\n",
                "              optimizer='adam',\n",
                "              metrics=['accuracy'])\n",
                "\n",
                "print('Training ....\\n')\n",
                "callbacks = [keras.callbacks.EarlyStopping(monitor='val_loss', patience=0, verbose=1)]\n",
                "%time history = model.fit(x_train, y_train, batch_size=1024, epochs=10, verbose=0, \\\n",
                "                          validation_split = 0.3, callbacks=callbacks)\n",
                "helper_ds.show_training(history)\n",
                "\n",
                "model_path = os.path.join(\"models\", \"sentiment_IMDB_model.h5\")\n",
                "model.save(model_path)\n",
                "print(\"\\nModel saved at\",model_path)"
            ]
        },
        {
            "cell_type": "markdown",
            "metadata": {},
            "source": [
                "## Evaluate and Predict"
            ]
        },
        {
            "cell_type": "code",
            "execution_count": null,
            "metadata": {},
            "outputs": [],
            "source": [
                "model = keras.models.load_model(model_path)\n",
                "print(\"Model loaded:\", model_path)\n",
                "\n",
                "score = model.evaluate(x_test, y_test, verbose=0)\n",
                "print(\"\\nTest Accuracy: {:.2f}\\n\".format(score[1]))"
            ]
        },
        {
            "cell_type": "code",
            "execution_count": null,
            "metadata": {},
            "outputs": [],
            "source": [
                "import re\n",
                "import nltk\n",
                "\n",
                "\n",
                "def review_to_ids(review):\n",
                "    \"\"\"Convert a raw review string into a sequence of ids\"\"\"\n",
                "\n",
                "    review = re.sub(r\"[^a-zA-Z0-9]\", \" \", review)  # remove non-letters\n",
                "    review = review.lower()  # convert to lowercase\n",
                "    words = review.split()  # tokenize\n",
                "    ids = [word2id.get(i, 0) for i in words]\n",
                "    ids = pad_sequences([ids], max_length)\n",
                "\n",
                "    return ids\n",
                "\n",
                "\n",
                "def predict(review):\n",
                "    \"\"\"Show the probability of positive sentiment given a string review\"\"\"\n",
                "    my_ids = review_to_ids(review)\n",
                "    print(\"Positive Probability: {:.2f}\".format(model.predict(my_ids, verbose=0)[0][1]))"
            ]
        },
        {
            "cell_type": "code",
            "execution_count": null,
            "metadata": {},
            "outputs": [],
            "source": [
                "my_review = \"\"\"The writer and director did well on his first movie, but this one is an absolute \n",
                "nonsense. I like complicated, non-linear, and abstract movies, although nothing can be learn \n",
                "from this messy script. The only thing worth it is the photography \"\"\"\n",
                "predict(my_review)"
            ]
        },
        {
            "cell_type": "code",
            "execution_count": null,
            "metadata": {},
            "outputs": [],
            "source": [
                "# http://www.imdb.com/user/ur12188407/\n",
                "my_review2 = \"\"\" In short, this is one of the best sci-fi movies I have seen in a LONG time. \n",
                "Sam Rockwell plays it perfect, making the viewer feel his isolation and lonelieness. For a low \n",
                "budget film, the few effect shots work seamlessly. I'm trying to remain spoiler free, so I won't\n",
                "bother to explain the plot. If you like older and more story/character driven sci-fi, such as \n",
                "2001: A Space Odyssey, than chances are you will love this movie. If you aren't a huge fan of \n",
                "sci-fi, take a chance with this one. You may find it a very rewarding experience. I loved this \n",
                "movie, and I can't stop thinking about it. In Moon, you may begin to think that everything is a \n",
                "big cliché, but than with all of the seemingly cliché plot points, Moon changes them into \n",
                "something entirely original and unexpected. It is an excellent piece of art and I have a strong \n",
                "feeling not enough people will see and appreciate it like I did.\"\"\"\n",
                "predict(my_review2)"
            ]
        }
    ],
    "metadata": {
        "kernelspec": {
            "display_name": "Python 3",
            "language": "python",
            "name": "python3"
        },
        "language_info": {
            "codemirror_mode": {
                "name": "ipython",
                "version": 3
            },
            "file_extension": ".py",
            "mimetype": "text/x-python",
            "name": "python",
            "nbconvert_exporter": "python",
            "pygments_lexer": "ipython3",
            "version": "3.6.3"
        }
    },
    "nbformat": 4,
    "nbformat_minor": 2
}
