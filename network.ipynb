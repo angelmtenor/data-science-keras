{
 "cells": [
  {
   "cell_type": "markdown",
   "metadata": {},
   "source": [
    "# Social Network Analysis. Predict salary and new connections \n",
    "\n",
    "**Predicting missing salaries and new email connections from a company's email network**\n",
    "\n",
    "**Network Analysis. Supervised Learning. Regression (Salary prediction) and Classification (New connections prediction)**\n",
    "\n",
    "\n",
    "Data from [Applied Social Network Analysis in Python | Coursera](https://www.coursera.org/learn/python-social-network-analysis/):\n",
    "\n",
    "`net_emails.txt`: network where each node corresponds to a person at the company, and each edge indicates that at least one email has been sent between two people. \n",
    "The network also contains the node attributes Department (*name*) and ManagementSalary (1 = Receiving a management salary)\n",
    "\n",
    "`net_future_connections.csv`: future conections of pair of nodes currently unconnected (1 = an edge between those two nodes will exist in the future)\n",
    "\n"
   ]
  },
  {
   "cell_type": "code",
   "execution_count": 1,
   "metadata": {
    "scrolled": true
   },
   "outputs": [],
   "source": [
    "%matplotlib inline\n",
    "%load_ext autoreload\n",
    "%autoreload 2\n",
    "\n",
    "import numpy as np\n",
    "import pandas as pd\n",
    "\n",
    "import networkx as nx\n",
    "import pickle\n",
    "\n",
    "import helper"
   ]
  },
  {
   "cell_type": "markdown",
   "metadata": {},
   "source": [
    "# A. Salary Prediction"
   ]
  },
  {
   "cell_type": "markdown",
   "metadata": {},
   "source": [
    "## A1. Data Processing"
   ]
  },
  {
   "cell_type": "markdown",
   "metadata": {},
   "source": [
    "#### Load graph "
   ]
  },
  {
   "cell_type": "code",
   "execution_count": 2,
   "metadata": {},
   "outputs": [
    {
     "name": "stdout",
     "output_type": "stream",
     "text": [
      "Name: \n",
      "Type: Graph\n",
      "Number of nodes: 1005\n",
      "Number of edges: 16706\n",
      "Average degree:  33.2458\n"
     ]
    }
   ],
   "source": [
    "graph = nx.read_gpickle('data/net_emails.txt')\n",
    "\n",
    "print(nx.info(graph))"
   ]
  },
  {
   "cell_type": "markdown",
   "metadata": {},
   "source": [
    "#### Extract node attributes and features to a dataframe"
   ]
  },
  {
   "cell_type": "code",
   "execution_count": 3,
   "metadata": {},
   "outputs": [
    {
     "data": {
      "text/plain": [
       "[(0, {'Department': 1, 'ManagementSalary': 0.0}),\n",
       " (1, {'Department': 1, 'ManagementSalary': nan}),\n",
       " (2, {'Department': 21, 'ManagementSalary': nan})]"
      ]
     },
     "execution_count": 3,
     "metadata": {},
     "output_type": "execute_result"
    }
   ],
   "source": [
    "graph.nodes(data=True)[:3]"
   ]
  },
  {
   "cell_type": "code",
   "execution_count": 4,
   "metadata": {},
   "outputs": [
    {
     "data": {
      "text/html": [
       "<div>\n",
       "<style scoped>\n",
       "    .dataframe tbody tr th:only-of-type {\n",
       "        vertical-align: middle;\n",
       "    }\n",
       "\n",
       "    .dataframe tbody tr th {\n",
       "        vertical-align: top;\n",
       "    }\n",
       "\n",
       "    .dataframe thead th {\n",
       "        text-align: right;\n",
       "    }\n",
       "</style>\n",
       "<table border=\"1\" class=\"dataframe\">\n",
       "  <thead>\n",
       "    <tr style=\"text-align: right;\">\n",
       "      <th></th>\n",
       "      <th>Department</th>\n",
       "      <th>ManagementSalary</th>\n",
       "      <th>clustering</th>\n",
       "      <th>degree</th>\n",
       "    </tr>\n",
       "  </thead>\n",
       "  <tbody>\n",
       "    <tr>\n",
       "      <th>0</th>\n",
       "      <td>1</td>\n",
       "      <td>0.0</td>\n",
       "      <td>0.276423</td>\n",
       "      <td>44</td>\n",
       "    </tr>\n",
       "    <tr>\n",
       "      <th>1</th>\n",
       "      <td>1</td>\n",
       "      <td>NaN</td>\n",
       "      <td>0.265306</td>\n",
       "      <td>52</td>\n",
       "    </tr>\n",
       "    <tr>\n",
       "      <th>2</th>\n",
       "      <td>21</td>\n",
       "      <td>NaN</td>\n",
       "      <td>0.297803</td>\n",
       "      <td>95</td>\n",
       "    </tr>\n",
       "    <tr>\n",
       "      <th>3</th>\n",
       "      <td>21</td>\n",
       "      <td>1.0</td>\n",
       "      <td>0.384910</td>\n",
       "      <td>71</td>\n",
       "    </tr>\n",
       "    <tr>\n",
       "      <th>4</th>\n",
       "      <td>21</td>\n",
       "      <td>1.0</td>\n",
       "      <td>0.318691</td>\n",
       "      <td>96</td>\n",
       "    </tr>\n",
       "  </tbody>\n",
       "</table>\n",
       "</div>"
      ],
      "text/plain": [
       "   Department  ManagementSalary  clustering  degree\n",
       "0           1               0.0    0.276423      44\n",
       "1           1               NaN    0.265306      52\n",
       "2          21               NaN    0.297803      95\n",
       "3          21               1.0    0.384910      71\n",
       "4          21               1.0    0.318691      96"
      ]
     },
     "execution_count": 4,
     "metadata": {},
     "output_type": "execute_result"
    }
   ],
   "source": [
    "# Dataframe with node attributes\n",
    "df = pd.DataFrame(index=graph.nodes())   # df: complete df\n",
    "attributes = [k for k in graph.nodes(data=True)[0][1]]\n",
    "for a in attributes:\n",
    "    df[a] = pd.Series(nx.get_node_attributes(graph, a))\n",
    "\n",
    "# node features\n",
    "df['clustering'] = pd.Series(nx.clustering(graph))\n",
    "df['degree'] = pd.Series(graph.degree())\n",
    "\n",
    "df.head()"
   ]
  },
  {
   "cell_type": "markdown",
   "metadata": {},
   "source": [
    "#### Explore the target and separate the prediction set"
   ]
  },
  {
   "cell_type": "code",
   "execution_count": 5,
   "metadata": {},
   "outputs": [
    {
     "name": "stdout",
     "output_type": "stream",
     "text": [
      " 0.0    634\n",
      "NaN     252\n",
      " 1.0    119\n",
      "Name: ManagementSalary, dtype: int64\n"
     ]
    }
   ],
   "source": [
    "target = ['ManagementSalary']\n",
    "features = [col for col in df if col not in target]\n",
    "\n",
    "print(df[target].squeeze().value_counts(dropna=False))"
   ]
  },
  {
   "cell_type": "code",
   "execution_count": 6,
   "metadata": {},
   "outputs": [],
   "source": [
    "n_rows_original = df.shape[0]\n",
    "\n",
    "df_pred = df[df['ManagementSalary'].isnull()]\n",
    "df = df[(df['ManagementSalary'] == 0) | (df['ManagementSalary'] == 1)]\n",
    "\n",
    "assert df.shape[0], df_pred.shape[0] == n_rows_original"
   ]
  },
  {
   "cell_type": "markdown",
   "metadata": {},
   "source": [
    "#### Split data into training and test set"
   ]
  },
  {
   "cell_type": "code",
   "execution_count": 7,
   "metadata": {},
   "outputs": [],
   "source": [
    "from sklearn.model_selection import train_test_split\n",
    "\n",
    "df_train, df_test = train_test_split(\n",
    "    df, test_size=0.2, stratify=df[target], random_state=0)\n",
    "\n",
    "del df"
   ]
  },
  {
   "cell_type": "markdown",
   "metadata": {},
   "source": [
    "`df_pred`: prediction set (no labels) <br>\n",
    "`df_train`: training_set  <br>\n",
    "`df_test`: test_set  <br>"
   ]
  },
  {
   "cell_type": "markdown",
   "metadata": {},
   "source": [
    "#### Classify features\n",
    "Change categorical variables as dtype 'categorical' and sort columns: numerical + categorical + target"
   ]
  },
  {
   "cell_type": "code",
   "execution_count": 8,
   "metadata": {
    "scrolled": true
   },
   "outputs": [
    {
     "name": "stdout",
     "output_type": "stream",
     "text": [
      "numerical features:   2\n",
      "categorical features: 1\n",
      "target 'ManagementSalary': category\n"
     ]
    },
    {
     "data": {
      "text/html": [
       "<div>\n",
       "<style scoped>\n",
       "    .dataframe tbody tr th:only-of-type {\n",
       "        vertical-align: middle;\n",
       "    }\n",
       "\n",
       "    .dataframe tbody tr th {\n",
       "        vertical-align: top;\n",
       "    }\n",
       "\n",
       "    .dataframe thead th {\n",
       "        text-align: right;\n",
       "    }\n",
       "</style>\n",
       "<table border=\"1\" class=\"dataframe\">\n",
       "  <thead>\n",
       "    <tr style=\"text-align: right;\">\n",
       "      <th></th>\n",
       "      <th>clustering</th>\n",
       "      <th>degree</th>\n",
       "      <th>Department</th>\n",
       "      <th>ManagementSalary</th>\n",
       "    </tr>\n",
       "  </thead>\n",
       "  <tbody>\n",
       "    <tr>\n",
       "      <th>Type</th>\n",
       "      <td>float32</td>\n",
       "      <td>float32</td>\n",
       "      <td>category</td>\n",
       "      <td>category</td>\n",
       "    </tr>\n",
       "  </tbody>\n",
       "</table>\n",
       "</div>"
      ],
      "text/plain": [
       "     clustering   degree Department ManagementSalary\n",
       "Type    float32  float32   category         category"
      ]
     },
     "execution_count": 8,
     "metadata": {},
     "output_type": "execute_result"
    }
   ],
   "source": [
    "import helper\n",
    "\n",
    "cat = ['Department', 'ManagementSalary']\n",
    "num = ['clustering', 'degree']\n",
    "\n",
    "df_train = helper.classify_data(df_train, target, categorical=cat)\n",
    "\n",
    "pd.DataFrame(dict(df_train.dtypes), index=[\"Type\"])[df_train.columns].head()"
   ]
  },
  {
   "cell_type": "code",
   "execution_count": 9,
   "metadata": {},
   "outputs": [],
   "source": [
    "# df_train, dict_categories = helper.remove_categories(df_train, target, ratio=0.01, show=True, \n",
    "#                                                      dict_categories=None)"
   ]
  },
  {
   "cell_type": "markdown",
   "metadata": {},
   "source": [
    "### Show training data"
   ]
  },
  {
   "cell_type": "markdown",
   "metadata": {},
   "source": [
    "#### Numerical Features"
   ]
  },
  {
   "cell_type": "code",
   "execution_count": 10,
   "metadata": {
    "scrolled": true
   },
   "outputs": [
    {
     "data": {
      "text/html": [
       "<div>\n",
       "<style scoped>\n",
       "    .dataframe tbody tr th:only-of-type {\n",
       "        vertical-align: middle;\n",
       "    }\n",
       "\n",
       "    .dataframe tbody tr th {\n",
       "        vertical-align: top;\n",
       "    }\n",
       "\n",
       "    .dataframe thead th {\n",
       "        text-align: right;\n",
       "    }\n",
       "</style>\n",
       "<table border=\"1\" class=\"dataframe\">\n",
       "  <thead>\n",
       "    <tr style=\"text-align: right;\">\n",
       "      <th></th>\n",
       "      <th>clustering</th>\n",
       "      <th>degree</th>\n",
       "    </tr>\n",
       "  </thead>\n",
       "  <tbody>\n",
       "    <tr>\n",
       "      <th>count</th>\n",
       "      <td>602.000000</td>\n",
       "      <td>602.000000</td>\n",
       "    </tr>\n",
       "    <tr>\n",
       "      <th>mean</th>\n",
       "      <td>0.399478</td>\n",
       "      <td>33.318935</td>\n",
       "    </tr>\n",
       "    <tr>\n",
       "      <th>std</th>\n",
       "      <td>0.256666</td>\n",
       "      <td>38.390644</td>\n",
       "    </tr>\n",
       "    <tr>\n",
       "      <th>min</th>\n",
       "      <td>0.000000</td>\n",
       "      <td>1.000000</td>\n",
       "    </tr>\n",
       "    <tr>\n",
       "      <th>50%</th>\n",
       "      <td>0.377350</td>\n",
       "      <td>22.000000</td>\n",
       "    </tr>\n",
       "    <tr>\n",
       "      <th>max</th>\n",
       "      <td>1.000000</td>\n",
       "      <td>347.000000</td>\n",
       "    </tr>\n",
       "  </tbody>\n",
       "</table>\n",
       "</div>"
      ],
      "text/plain": [
       "       clustering      degree\n",
       "count  602.000000  602.000000\n",
       "mean     0.399478   33.318935\n",
       "std      0.256666   38.390644\n",
       "min      0.000000    1.000000\n",
       "50%      0.377350   22.000000\n",
       "max      1.000000  347.000000"
      ]
     },
     "execution_count": 10,
     "metadata": {},
     "output_type": "execute_result"
    }
   ],
   "source": [
    "df_train[num].describe(percentiles=[0.5])"
   ]
  },
  {
   "cell_type": "code",
   "execution_count": 11,
   "metadata": {},
   "outputs": [
    {
     "data": {
      "image/png": "[encoded data removed]",
      "text/plain": [
       "<matplotlib.figure.Figure at 0x7f50b6f955c0>"
      ]
     },
     "metadata": {},
     "output_type": "display_data"
    }
   ],
   "source": [
    "helper.show_numerical(df_train[num], kde=True)"
   ]
  },
  {
   "cell_type": "code",
   "execution_count": 12,
   "metadata": {},
   "outputs": [
    {
     "data": {
      "image/png": "[encoded data removed]",
      "text/plain": [
       "<matplotlib.figure.Figure at 0x7f508340c518>"
      ]
     },
     "metadata": {},
     "output_type": "display_data"
    }
   ],
   "source": [
    "helper.show_target_vs_numerical(df_train, target, jitter=0.2, fit_reg=False, point_size=100)"
   ]
  },
  {
   "cell_type": "code",
   "execution_count": 13,
   "metadata": {},
   "outputs": [
    {
     "data": {
      "image/png": "[encoded data removed]",
      "text/plain": [
       "<matplotlib.figure.Figure at 0x7f50833b0828>"
      ]
     },
     "metadata": {},
     "output_type": "display_data"
    }
   ],
   "source": [
    "helper.show_correlation(df_train, target)"
   ]
  },
  {
   "cell_type": "markdown",
   "metadata": {},
   "source": [
    "#### Categorical Features"
   ]
  },
  {
   "cell_type": "code",
   "execution_count": 14,
   "metadata": {},
   "outputs": [
    {
     "data": {
      "text/html": [
       "<div>\n",
       "<style scoped>\n",
       "    .dataframe tbody tr th:only-of-type {\n",
       "        vertical-align: middle;\n",
       "    }\n",
       "\n",
       "    .dataframe tbody tr th {\n",
       "        vertical-align: top;\n",
       "    }\n",
       "\n",
       "    .dataframe thead th {\n",
       "        text-align: right;\n",
       "    }\n",
       "</style>\n",
       "<table border=\"1\" class=\"dataframe\">\n",
       "  <thead>\n",
       "    <tr style=\"text-align: right;\">\n",
       "      <th></th>\n",
       "      <th>Department</th>\n",
       "      <th>ManagementSalary</th>\n",
       "    </tr>\n",
       "  </thead>\n",
       "  <tbody>\n",
       "    <tr>\n",
       "      <th>count</th>\n",
       "      <td>602</td>\n",
       "      <td>602.0</td>\n",
       "    </tr>\n",
       "    <tr>\n",
       "      <th>unique</th>\n",
       "      <td>41</td>\n",
       "      <td>2.0</td>\n",
       "    </tr>\n",
       "    <tr>\n",
       "      <th>top</th>\n",
       "      <td>4</td>\n",
       "      <td>0.0</td>\n",
       "    </tr>\n",
       "    <tr>\n",
       "      <th>freq</th>\n",
       "      <td>70</td>\n",
       "      <td>507.0</td>\n",
       "    </tr>\n",
       "  </tbody>\n",
       "</table>\n",
       "</div>"
      ],
      "text/plain": [
       "        Department  ManagementSalary\n",
       "count          602             602.0\n",
       "unique          41               2.0\n",
       "top              4               0.0\n",
       "freq            70             507.0"
      ]
     },
     "execution_count": 14,
     "metadata": {},
     "output_type": "execute_result"
    }
   ],
   "source": [
    "df_train[cat].describe()"
   ]
  },
  {
   "cell_type": "code",
   "execution_count": 15,
   "metadata": {
    "scrolled": true
   },
   "outputs": [
    {
     "data": {
      "image/png": "[encoded data removed]",
      "text/plain": [
       "<matplotlib.figure.Figure at 0x7f50827ac8d0>"
      ]
     },
     "metadata": {},
     "output_type": "display_data"
    }
   ],
   "source": [
    "helper.show_categorical(df_train[cat], target, sharey=True)"
   ]
  },
  {
   "cell_type": "code",
   "execution_count": 16,
   "metadata": {},
   "outputs": [
    {
     "data": {
      "image/png": "[encoded data removed]",
      "text/plain": [
       "<matplotlib.figure.Figure at 0x7f50825f1f28>"
      ]
     },
     "metadata": {},
     "output_type": "display_data"
    }
   ],
   "source": [
    "helper.show_target_vs_categorical(df_train, target)"
   ]
  },
  {
   "cell_type": "markdown",
   "metadata": {},
   "source": [
    "#### Missing values"
   ]
  },
  {
   "cell_type": "code",
   "execution_count": 17,
   "metadata": {},
   "outputs": [
    {
     "name": "stdout",
     "output_type": "stream",
     "text": [
      "No missing values found\n"
     ]
    }
   ],
   "source": [
    "high_missing = helper.missing(df_train, limit=0.4)\n",
    "#helper.fill_simple(df_train, target, missing_categorical=999, inplace=True)"
   ]
  },
  {
   "cell_type": "code",
   "execution_count": 18,
   "metadata": {},
   "outputs": [],
   "source": [
    "copy_df = df_train.copy()  # checkpoint\n",
    "del(df_train)"
   ]
  },
  {
   "cell_type": "markdown",
   "metadata": {},
   "source": [
    "## A2. Neural Network"
   ]
  },
  {
   "cell_type": "code",
   "execution_count": 19,
   "metadata": {},
   "outputs": [],
   "source": [
    "df_train = copy_df.copy() # Restore checkpoint\n",
    "data = df_train.copy() \n",
    "# from now on use data instead of df"
   ]
  },
  {
   "cell_type": "markdown",
   "metadata": {},
   "source": [
    "### Prepare data for Neural Network"
   ]
  },
  {
   "cell_type": "markdown",
   "metadata": {},
   "source": [
    "#### Scale numerical variables"
   ]
  },
  {
   "cell_type": "code",
   "execution_count": 20,
   "metadata": {},
   "outputs": [],
   "source": [
    "data, scale_param = helper.scale(data)"
   ]
  },
  {
   "cell_type": "markdown",
   "metadata": {},
   "source": [
    "#### Create dummy features"
   ]
  },
  {
   "cell_type": "code",
   "execution_count": 21,
   "metadata": {},
   "outputs": [
    {
     "data": {
      "text/html": [
       "<div>\n",
       "<style scoped>\n",
       "    .dataframe tbody tr th:only-of-type {\n",
       "        vertical-align: middle;\n",
       "    }\n",
       "\n",
       "    .dataframe tbody tr th {\n",
       "        vertical-align: top;\n",
       "    }\n",
       "\n",
       "    .dataframe thead th {\n",
       "        text-align: right;\n",
       "    }\n",
       "</style>\n",
       "<table border=\"1\" class=\"dataframe\">\n",
       "  <thead>\n",
       "    <tr style=\"text-align: right;\">\n",
       "      <th></th>\n",
       "      <th>clustering</th>\n",
       "      <th>degree</th>\n",
       "      <th>ManagementSalary</th>\n",
       "      <th>Department_0</th>\n",
       "      <th>Department_1</th>\n",
       "      <th>Department_2</th>\n",
       "      <th>Department_3</th>\n",
       "      <th>Department_4</th>\n",
       "      <th>Department_5</th>\n",
       "      <th>Department_6</th>\n",
       "      <th>...</th>\n",
       "      <th>Department_31</th>\n",
       "      <th>Department_32</th>\n",
       "      <th>Department_34</th>\n",
       "      <th>Department_35</th>\n",
       "      <th>Department_36</th>\n",
       "      <th>Department_37</th>\n",
       "      <th>Department_38</th>\n",
       "      <th>Department_39</th>\n",
       "      <th>Department_40</th>\n",
       "      <th>Department_41</th>\n",
       "    </tr>\n",
       "  </thead>\n",
       "  <tbody>\n",
       "    <tr>\n",
       "      <th>620</th>\n",
       "      <td>2.339707</td>\n",
       "      <td>-0.763700</td>\n",
       "      <td>0.0</td>\n",
       "      <td>0</td>\n",
       "      <td>0</td>\n",
       "      <td>0</td>\n",
       "      <td>0</td>\n",
       "      <td>1</td>\n",
       "      <td>0</td>\n",
       "      <td>0</td>\n",
       "      <td>...</td>\n",
       "      <td>0</td>\n",
       "      <td>0</td>\n",
       "      <td>0</td>\n",
       "      <td>0</td>\n",
       "      <td>0</td>\n",
       "      <td>0</td>\n",
       "      <td>0</td>\n",
       "      <td>0</td>\n",
       "      <td>0</td>\n",
       "      <td>0</td>\n",
       "    </tr>\n",
       "    <tr>\n",
       "      <th>10</th>\n",
       "      <td>-0.327388</td>\n",
       "      <td>0.356365</td>\n",
       "      <td>0.0</td>\n",
       "      <td>0</td>\n",
       "      <td>0</td>\n",
       "      <td>0</td>\n",
       "      <td>0</td>\n",
       "      <td>0</td>\n",
       "      <td>0</td>\n",
       "      <td>0</td>\n",
       "      <td>...</td>\n",
       "      <td>0</td>\n",
       "      <td>0</td>\n",
       "      <td>0</td>\n",
       "      <td>0</td>\n",
       "      <td>0</td>\n",
       "      <td>0</td>\n",
       "      <td>0</td>\n",
       "      <td>0</td>\n",
       "      <td>0</td>\n",
       "      <td>0</td>\n",
       "    </tr>\n",
       "    <tr>\n",
       "      <th>688</th>\n",
       "      <td>-1.556415</td>\n",
       "      <td>-0.841844</td>\n",
       "      <td>0.0</td>\n",
       "      <td>0</td>\n",
       "      <td>0</td>\n",
       "      <td>0</td>\n",
       "      <td>0</td>\n",
       "      <td>1</td>\n",
       "      <td>0</td>\n",
       "      <td>0</td>\n",
       "      <td>...</td>\n",
       "      <td>0</td>\n",
       "      <td>0</td>\n",
       "      <td>0</td>\n",
       "      <td>0</td>\n",
       "      <td>0</td>\n",
       "      <td>0</td>\n",
       "      <td>0</td>\n",
       "      <td>0</td>\n",
       "      <td>0</td>\n",
       "      <td>0</td>\n",
       "    </tr>\n",
       "  </tbody>\n",
       "</table>\n",
       "<p>3 rows × 44 columns</p>\n",
       "</div>"
      ],
      "text/plain": [
       "     clustering    degree ManagementSalary Department_0 Department_1  \\\n",
       "620    2.339707 -0.763700              0.0            0            0   \n",
       "10    -0.327388  0.356365              0.0            0            0   \n",
       "688   -1.556415 -0.841844              0.0            0            0   \n",
       "\n",
       "    Department_2 Department_3 Department_4 Department_5 Department_6  \\\n",
       "620            0            0            1            0            0   \n",
       "10             0            0            0            0            0   \n",
       "688            0            0            1            0            0   \n",
       "\n",
       "         ...      Department_31 Department_32 Department_34 Department_35  \\\n",
       "620      ...                  0             0             0             0   \n",
       "10       ...                  0             0             0             0   \n",
       "688      ...                  0             0             0             0   \n",
       "\n",
       "    Department_36 Department_37 Department_38 Department_39 Department_40  \\\n",
       "620             0             0             0             0             0   \n",
       "10              0             0             0             0             0   \n",
       "688             0             0             0             0             0   \n",
       "\n",
       "    Department_41  \n",
       "620             0  \n",
       "10              0  \n",
       "688             0  \n",
       "\n",
       "[3 rows x 44 columns]"
      ]
     },
     "execution_count": 21,
     "metadata": {},
     "output_type": "execute_result"
    }
   ],
   "source": [
    "# features only; target encoded later\n",
    "data, dict_dummies = helper.replace_by_dummies(data, target)\n",
    "\n",
    "# save features order for tests and predictions\n",
    "model_features = [f for f in data if f not in target] \n",
    "\n",
    "data.head(3)"
   ]
  },
  {
   "cell_type": "markdown",
   "metadata": {},
   "source": [
    "#### Split the data into training and validation sets"
   ]
  },
  {
   "cell_type": "code",
   "execution_count": 22,
   "metadata": {},
   "outputs": [],
   "source": [
    "def validation_split(data, val_size=0.15):\n",
    "      \n",
    "    train, val = train_test_split(\n",
    "        data, test_size=val_size, random_state=0, shuffle=True, stratify=data[target])\n",
    "\n",
    "    # Separate the data into features and target (x=features, y=target)\n",
    "    x_train, y_train = train.drop(target, axis=1).values, train[target].values\n",
    "    x_val, y_val = val.drop(target, axis=1).values, val[target].values\n",
    "\n",
    "    return x_train, y_train, x_val, y_val\n",
    "\n",
    "\n",
    "x_train, y_train, x_val, y_val = validation_split(data, val_size=0.2)"
   ]
  },
  {
   "cell_type": "markdown",
   "metadata": {},
   "source": [
    "#### One-hot encode the output"
   ]
  },
  {
   "cell_type": "code",
   "execution_count": 23,
   "metadata": {},
   "outputs": [
    {
     "name": "stderr",
     "output_type": "stream",
     "text": [
      "Using TensorFlow backend.\n"
     ]
    }
   ],
   "source": [
    "import keras\n",
    "\n",
    "def one_hot_output(y_train, y_val):\n",
    "    num_classes = len(np.unique(y_train))\n",
    "    y_train = keras.utils.to_categorical(y_train, num_classes)\n",
    "    y_val = keras.utils.to_categorical(y_val, num_classes)\n",
    "    return y_train, y_val\n",
    "\n",
    "\n",
    "y_train, y_val = one_hot_output(y_train, y_val)"
   ]
  },
  {
   "cell_type": "code",
   "execution_count": 24,
   "metadata": {},
   "outputs": [
    {
     "name": "stdout",
     "output_type": "stream",
     "text": [
      "train size \t X:(481, 43) \t Y:(481, 2)\n",
      "val size \t X:(121, 43) \t Y:(121, 2)\n"
     ]
    }
   ],
   "source": [
    "print(\"train size \\t X:{} \\t Y:{}\".format(x_train.shape, y_train.shape))\n",
    "print(\"val size \\t X:{} \\t Y:{}\".format(x_val.shape, y_val.shape))"
   ]
  },
  {
   "cell_type": "markdown",
   "metadata": {},
   "source": [
    "### Build the Neural Network"
   ]
  },
  {
   "cell_type": "code",
   "execution_count": 25,
   "metadata": {},
   "outputs": [],
   "source": [
    "import keras\n",
    "from keras.models import Sequential\n",
    "from keras.layers.core import Dense, Dropout\n",
    "from keras import regularizers\n",
    "\n",
    "\n",
    "def build_nn_binary_classification(input_size, output_size, summary=False):\n",
    "\n",
    "    input_nodes = input_size // 8\n",
    "\n",
    "    model = Sequential()\n",
    "    model.add(\n",
    "        Dense(input_nodes, input_dim=input_size, kernel_regularizer=regularizers.l2(0.001)))\n",
    "\n",
    "    model.add(\n",
    "        Dense(output_size, activation='softmax', kernel_regularizer=regularizers.l2(0.001)))\n",
    "\n",
    "    model.compile(loss='binary_crossentropy', optimizer='adam', metrics=['accuracy'])\n",
    "\n",
    "    if summary:\n",
    "        model.summary()\n",
    "\n",
    "    return model\n",
    "\n",
    "\n",
    "build_nn = build_nn_binary_classification"
   ]
  },
  {
   "cell_type": "markdown",
   "metadata": {},
   "source": [
    "### Train the Neural Network"
   ]
  },
  {
   "cell_type": "code",
   "execution_count": 26,
   "metadata": {},
   "outputs": [
    {
     "name": "stdout",
     "output_type": "stream",
     "text": [
      "_________________________________________________________________\n",
      "Layer (type)                 Output Shape              Param #   \n",
      "=================================================================\n",
      "dense_1 (Dense)              (None, 5)                 220       \n",
      "_________________________________________________________________\n",
      "dense_2 (Dense)              (None, 2)                 12        \n",
      "=================================================================\n",
      "Total params: 232\n",
      "Trainable params: 232\n",
      "Non-trainable params: 0\n",
      "_________________________________________________________________\n",
      "Training ....\n",
      "time: \t 1.9 s\n"
     ]
    },
    {
     "data": {
      "image/png": "[encoded data removed]",
      "text/plain": [
       "<matplotlib.figure.Figure at 0x7f5041f71cc0>"
      ]
     },
     "metadata": {},
     "output_type": "display_data"
    },
    {
     "name": "stdout",
     "output_type": "stream",
     "text": [
      "\n",
      "Training loss:  \t0.2814\n",
      "Validation loss: \t0.2759\n",
      "\n",
      "Training accuracy: \t0.886\n",
      "Validation accuracy:\t0.909\n"
     ]
    }
   ],
   "source": [
    "import os\n",
    "from time import time\n",
    "\n",
    "\n",
    "def train_nn(model, x_train, y_train, validation_data=None, path=False, show=True):\n",
    "    \"\"\" \n",
    "    Train the neural network model. If no validation_datais provided, a split for validation\n",
    "    will be used\n",
    "    \"\"\"\n",
    "\n",
    "    if show:\n",
    "        print('Training ....')\n",
    "\n",
    "    callbacks = [keras.callbacks.EarlyStopping(monitor='val_loss', patience=0, verbose=0)]\n",
    "    t0 = time()\n",
    "\n",
    "    history = model.fit(\n",
    "        x_train,\n",
    "        y_train,\n",
    "        epochs=200,\n",
    "        batch_size=64,\n",
    "        verbose=0,\n",
    "        validation_data=validation_data,\n",
    "        # class_weight=cw, # worse results\n",
    "        callbacks=callbacks)\n",
    "\n",
    "    if show:\n",
    "        print(\"time: \\t {:.1f} s\".format(time() - t0))\n",
    "        helper.show_training(history)\n",
    "\n",
    "    if path:\n",
    "        model.save(path)\n",
    "        print(\"\\nModel saved at\", path)\n",
    "\n",
    "    return history\n",
    "\n",
    "\n",
    "model = None\n",
    "model = build_nn_binary_classification(x_train.shape[1], y_train.shape[1], summary=True)\n",
    "train_nn(model, x_train, y_train, validation_data=(x_val, y_val));"
   ]
  },
  {
   "cell_type": "markdown",
   "metadata": {},
   "source": [
    "### Evaluate the Model"
   ]
  },
  {
   "cell_type": "code",
   "execution_count": 27,
   "metadata": {},
   "outputs": [
    {
     "name": "stdout",
     "output_type": "stream",
     "text": [
      "numerical features:   2\n",
      "categorical features: 1\n",
      "target 'ManagementSalary': category\n"
     ]
    }
   ],
   "source": [
    "data_test = helper.classify_data(df_test, target, categorical=cat)\n",
    "data_test, _ = helper.scale(data_test, scale_param)\n",
    "data_test, _ = helper.replace_by_dummies(data_test, target, dict_dummies)\n",
    "data_test = data_test[model_features+target] # sort columns to match training features order\n",
    "x_test, y_test = data_test.drop(target, axis=1).values, data_test[target].values\n",
    "y_test = keras.utils.to_categorical(y_test, 2)"
   ]
  },
  {
   "cell_type": "code",
   "execution_count": 28,
   "metadata": {
    "scrolled": true
   },
   "outputs": [
    {
     "name": "stdout",
     "output_type": "stream",
     "text": [
      "\n",
      "Neural Network Accuracy: 0.868\n",
      "\n",
      "Neural Network ROC AUC:  0.811 \n",
      "\n"
     ]
    }
   ],
   "source": [
    "from sklearn.metrics import roc_auc_score\n",
    "\n",
    "score = model.evaluate(x_test, y_test, verbose=0)\n",
    "print(\"\\nNeural Network Accuracy: {:.3f}\\n\".format(score[1]))\n",
    "\n",
    "y_pred = model.predict(x_test)\n",
    "\n",
    "print('Neural Network ROC AUC:  {:.3f} \\n'.format(roc_auc_score(y_test, y_pred)))"
   ]
  },
  {
   "cell_type": "markdown",
   "metadata": {},
   "source": [
    "## A3. Compare with non-neural network models"
   ]
  },
  {
   "cell_type": "code",
   "execution_count": 29,
   "metadata": {},
   "outputs": [],
   "source": [
    "y_train = y_train[:,1]\n",
    "y_test = y_test[:,1]"
   ]
  },
  {
   "cell_type": "code",
   "execution_count": 30,
   "metadata": {},
   "outputs": [],
   "source": [
    "# from sklearn.utils import class_weight\n",
    "# y_plain = np.ravel(y_train)\n",
    "# cw = class_weight.compute_class_weight('balanced', np.unique(y_plain), y_plain)\n",
    "# cw = {idx : value for idx, value in enumerate(cw)}"
   ]
  },
  {
   "cell_type": "code",
   "execution_count": 31,
   "metadata": {},
   "outputs": [
    {
     "name": "stdout",
     "output_type": "stream",
     "text": [
      "\n",
      " Naive Bayes \n",
      " --------------------\n",
      "Test Accuracy:  \t 0.272\n",
      "ROC_AUC: \t\t 0.550\n",
      "Training Time:  \t 1.2 ms\n",
      "\n",
      " Decision Tree \n",
      " --------------------\n",
      "Test Accuracy:  \t 0.841\n",
      "ROC_AUC: \t\t 0.720\n",
      "Training Time:  \t 1.6 ms\n",
      "\n",
      " KNeighbors \n",
      " --------------------\n",
      "Test Accuracy:  \t 0.874\n",
      "ROC_AUC: \t\t 0.803\n",
      "Training Time:  \t 1.1 ms\n",
      "\n",
      " AdaBoost \n",
      " --------------------\n",
      "Test Accuracy:  \t 0.874\n",
      "ROC_AUC: \t\t 0.826\n",
      "Training Time:  \t 65.4 ms\n",
      "\n",
      " Random Forest \n",
      " --------------------\n",
      "Test Accuracy:  \t 0.874\n",
      "ROC_AUC: \t\t 0.802\n",
      "Training Time:  \t 116.5 ms\n"
     ]
    }
   ],
   "source": [
    "helper.ml_classification(x_train, y_train, x_test, y_test, cross_validation=False)"
   ]
  },
  {
   "cell_type": "markdown",
   "metadata": {},
   "source": [
    "# B. Future Connection Prediction"
   ]
  },
  {
   "cell_type": "markdown",
   "metadata": {},
   "source": [
    "## B1. Data Processing"
   ]
  },
  {
   "cell_type": "code",
   "execution_count": 32,
   "metadata": {},
   "outputs": [],
   "source": [
    "del df_train, df_test, df_pred"
   ]
  },
  {
   "cell_type": "code",
   "execution_count": 33,
   "metadata": {},
   "outputs": [
    {
     "data": {
      "text/html": [
       "<div>\n",
       "<style scoped>\n",
       "    .dataframe tbody tr th:only-of-type {\n",
       "        vertical-align: middle;\n",
       "    }\n",
       "\n",
       "    .dataframe tbody tr th {\n",
       "        vertical-align: top;\n",
       "    }\n",
       "\n",
       "    .dataframe thead th {\n",
       "        text-align: right;\n",
       "    }\n",
       "</style>\n",
       "<table border=\"1\" class=\"dataframe\">\n",
       "  <thead>\n",
       "    <tr style=\"text-align: right;\">\n",
       "      <th></th>\n",
       "      <th>Future Connection</th>\n",
       "    </tr>\n",
       "  </thead>\n",
       "  <tbody>\n",
       "    <tr>\n",
       "      <th>(6, 840)</th>\n",
       "      <td>0.0</td>\n",
       "    </tr>\n",
       "    <tr>\n",
       "      <th>(4, 197)</th>\n",
       "      <td>0.0</td>\n",
       "    </tr>\n",
       "    <tr>\n",
       "      <th>(620, 979)</th>\n",
       "      <td>0.0</td>\n",
       "    </tr>\n",
       "    <tr>\n",
       "      <th>(519, 872)</th>\n",
       "      <td>0.0</td>\n",
       "    </tr>\n",
       "    <tr>\n",
       "      <th>(382, 423)</th>\n",
       "      <td>0.0</td>\n",
       "    </tr>\n",
       "    <tr>\n",
       "      <th>(97, 226)</th>\n",
       "      <td>1.0</td>\n",
       "    </tr>\n",
       "  </tbody>\n",
       "</table>\n",
       "</div>"
      ],
      "text/plain": [
       "            Future Connection\n",
       "(6, 840)                  0.0\n",
       "(4, 197)                  0.0\n",
       "(620, 979)                0.0\n",
       "(519, 872)                0.0\n",
       "(382, 423)                0.0\n",
       "(97, 226)                 1.0"
      ]
     },
     "execution_count": 33,
     "metadata": {},
     "output_type": "execute_result"
    }
   ],
   "source": [
    "df = pd.read_csv('data/net_future_connections.csv', index_col=0, converters={0: eval})\n",
    "df.head(6)"
   ]
  },
  {
   "cell_type": "markdown",
   "metadata": {},
   "source": [
    "#### Extract edge-based attributes from the above graph"
   ]
  },
  {
   "cell_type": "code",
   "execution_count": 34,
   "metadata": {
    "scrolled": true
   },
   "outputs": [
    {
     "data": {
      "text/html": [
       "<div>\n",
       "<style scoped>\n",
       "    .dataframe tbody tr th:only-of-type {\n",
       "        vertical-align: middle;\n",
       "    }\n",
       "\n",
       "    .dataframe tbody tr th {\n",
       "        vertical-align: top;\n",
       "    }\n",
       "\n",
       "    .dataframe thead th {\n",
       "        text-align: right;\n",
       "    }\n",
       "</style>\n",
       "<table border=\"1\" class=\"dataframe\">\n",
       "  <thead>\n",
       "    <tr style=\"text-align: right;\">\n",
       "      <th></th>\n",
       "      <th>Future Connection</th>\n",
       "      <th>Common Neighbors</th>\n",
       "      <th>Jaccard Coefficient</th>\n",
       "      <th>ResourceWarningurce Allocation</th>\n",
       "      <th>Adamic-Adar Index</th>\n",
       "      <th>Preferential Attachment</th>\n",
       "    </tr>\n",
       "  </thead>\n",
       "  <tbody>\n",
       "    <tr>\n",
       "      <th>(6, 840)</th>\n",
       "      <td>0.0</td>\n",
       "      <td>9</td>\n",
       "      <td>0.073770</td>\n",
       "      <td>0.136721</td>\n",
       "      <td>2.110314</td>\n",
       "      <td>2070</td>\n",
       "    </tr>\n",
       "    <tr>\n",
       "      <th>(4, 197)</th>\n",
       "      <td>0.0</td>\n",
       "      <td>2</td>\n",
       "      <td>0.015504</td>\n",
       "      <td>0.008437</td>\n",
       "      <td>0.363528</td>\n",
       "      <td>3552</td>\n",
       "    </tr>\n",
       "    <tr>\n",
       "      <th>(620, 979)</th>\n",
       "      <td>0.0</td>\n",
       "      <td>0</td>\n",
       "      <td>0.000000</td>\n",
       "      <td>0.000000</td>\n",
       "      <td>0.000000</td>\n",
       "      <td>28</td>\n",
       "    </tr>\n",
       "    <tr>\n",
       "      <th>(519, 872)</th>\n",
       "      <td>0.0</td>\n",
       "      <td>2</td>\n",
       "      <td>0.060606</td>\n",
       "      <td>0.039726</td>\n",
       "      <td>0.507553</td>\n",
       "      <td>299</td>\n",
       "    </tr>\n",
       "    <tr>\n",
       "      <th>(382, 423)</th>\n",
       "      <td>0.0</td>\n",
       "      <td>0</td>\n",
       "      <td>0.000000</td>\n",
       "      <td>0.000000</td>\n",
       "      <td>0.000000</td>\n",
       "      <td>205</td>\n",
       "    </tr>\n",
       "  </tbody>\n",
       "</table>\n",
       "</div>"
      ],
      "text/plain": [
       "            Future Connection  Common Neighbors  Jaccard Coefficient  \\\n",
       "(6, 840)                  0.0                 9             0.073770   \n",
       "(4, 197)                  0.0                 2             0.015504   \n",
       "(620, 979)                0.0                 0             0.000000   \n",
       "(519, 872)                0.0                 2             0.060606   \n",
       "(382, 423)                0.0                 0             0.000000   \n",
       "\n",
       "            ResourceWarningurce Allocation  Adamic-Adar Index  \\\n",
       "(6, 840)                          0.136721           2.110314   \n",
       "(4, 197)                          0.008437           0.363528   \n",
       "(620, 979)                        0.000000           0.000000   \n",
       "(519, 872)                        0.039726           0.507553   \n",
       "(382, 423)                        0.000000           0.000000   \n",
       "\n",
       "            Preferential Attachment  \n",
       "(6, 840)                       2070  \n",
       "(4, 197)                       3552  \n",
       "(620, 979)                       28  \n",
       "(519, 872)                      299  \n",
       "(382, 423)                      205  "
      ]
     },
     "execution_count": 34,
     "metadata": {},
     "output_type": "execute_result"
    }
   ],
   "source": [
    "df['Common Neighbors'] = df.index.map(lambda city: len(list(nx.common_neighbors(graph, city[0], city[1]))))\n",
    "df['Jaccard Coefficient'] = [i[2] for i in nx.jaccard_coefficient(graph, df.index)]\n",
    "df['ResourceWarningurce Allocation'] = [i[2] for i in nx.resource_allocation_index(graph, df.index)]\n",
    "df['Adamic-Adar Index'] = [i[2] for i in nx.adamic_adar_index(graph, df.index)]\n",
    "df['Preferential Attachment'] = [i[2] for i in nx.preferential_attachment(graph, df.index)]\n",
    "df.head()"
   ]
  },
  {
   "cell_type": "markdown",
   "metadata": {},
   "source": [
    "#### Explore the target and separate the prediction set"
   ]
  },
  {
   "cell_type": "code",
   "execution_count": 35,
   "metadata": {},
   "outputs": [
    {
     "data": {
      "text/plain": [
       " 0.0    337002\n",
       "NaN     122112\n",
       " 1.0     29332\n",
       "Name: Future Connection, dtype: int64"
      ]
     },
     "execution_count": 35,
     "metadata": {},
     "output_type": "execute_result"
    }
   ],
   "source": [
    "target = ['Future Connection']\n",
    "features = [col for col in df if col not in target]\n",
    "\n",
    "df['Future Connection'].value_counts(dropna=False)"
   ]
  },
  {
   "cell_type": "code",
   "execution_count": 36,
   "metadata": {},
   "outputs": [],
   "source": [
    "n_rows_original = df.shape[0]\n",
    "\n",
    "df_pred = df[df['Future Connection'].isnull()]\n",
    "df = df[(df['Future Connection']==0) | (df['Future Connection']==1)]\n",
    "\n",
    "assert df.shape[0], df_pred.shape[0] == n_rows_original"
   ]
  },
  {
   "cell_type": "markdown",
   "metadata": {},
   "source": [
    "#### Split data into training and test set"
   ]
  },
  {
   "cell_type": "code",
   "execution_count": 37,
   "metadata": {},
   "outputs": [],
   "source": [
    "from sklearn.model_selection import train_test_split\n",
    "\n",
    "df_train, df_test = train_test_split(\n",
    "    df, test_size=0.2, stratify=df[target], random_state=0)\n",
    "\n",
    "del df"
   ]
  },
  {
   "cell_type": "markdown",
   "metadata": {},
   "source": [
    "`df_pred`: prediction set (no labels) <br>\n",
    "`df_train`: training_set  <br>\n",
    "`df_test`: test_set  <br>"
   ]
  },
  {
   "cell_type": "markdown",
   "metadata": {},
   "source": [
    "#### Classify features\n",
    "Change categorical variables as dtype 'categorical' and sort columns: numerical + categorical + target"
   ]
  },
  {
   "cell_type": "code",
   "execution_count": 38,
   "metadata": {
    "scrolled": true
   },
   "outputs": [
    {
     "name": "stdout",
     "output_type": "stream",
     "text": [
      "numerical features:   5\n",
      "categorical features: 0\n",
      "target 'Future Connection': category\n"
     ]
    },
    {
     "data": {
      "text/html": [
       "<div>\n",
       "<style scoped>\n",
       "    .dataframe tbody tr th:only-of-type {\n",
       "        vertical-align: middle;\n",
       "    }\n",
       "\n",
       "    .dataframe tbody tr th {\n",
       "        vertical-align: top;\n",
       "    }\n",
       "\n",
       "    .dataframe thead th {\n",
       "        text-align: right;\n",
       "    }\n",
       "</style>\n",
       "<table border=\"1\" class=\"dataframe\">\n",
       "  <thead>\n",
       "    <tr style=\"text-align: right;\">\n",
       "      <th></th>\n",
       "      <th>Common Neighbors</th>\n",
       "      <th>Jaccard Coefficient</th>\n",
       "      <th>ResourceWarningurce Allocation</th>\n",
       "      <th>Adamic-Adar Index</th>\n",
       "      <th>Preferential Attachment</th>\n",
       "      <th>Future Connection</th>\n",
       "    </tr>\n",
       "  </thead>\n",
       "  <tbody>\n",
       "    <tr>\n",
       "      <th>Type</th>\n",
       "      <td>float32</td>\n",
       "      <td>float32</td>\n",
       "      <td>float32</td>\n",
       "      <td>float32</td>\n",
       "      <td>float32</td>\n",
       "      <td>category</td>\n",
       "    </tr>\n",
       "  </tbody>\n",
       "</table>\n",
       "</div>"
      ],
      "text/plain": [
       "     Common Neighbors Jaccard Coefficient ResourceWarningurce Allocation  \\\n",
       "Type          float32             float32                        float32   \n",
       "\n",
       "     Adamic-Adar Index Preferential Attachment Future Connection  \n",
       "Type           float32                 float32          category  "
      ]
     },
     "execution_count": 38,
     "metadata": {},
     "output_type": "execute_result"
    }
   ],
   "source": [
    "import helper\n",
    "\n",
    "cat = ['Future Connection']\n",
    "num = features # all the features are numerical here\n",
    "\n",
    "df_train = helper.classify_data(df_train, target, categorical=cat)\n",
    "\n",
    "pd.DataFrame(dict(df_train.dtypes), index=[\"Type\"])[df_train.columns].head()"
   ]
  },
  {
   "cell_type": "markdown",
   "metadata": {},
   "source": [
    "### Show training data"
   ]
  },
  {
   "cell_type": "markdown",
   "metadata": {},
   "source": [
    "#### Numerical Features"
   ]
  },
  {
   "cell_type": "code",
   "execution_count": 39,
   "metadata": {
    "scrolled": true
   },
   "outputs": [
    {
     "data": {
      "text/html": [
       "<div>\n",
       "<style scoped>\n",
       "    .dataframe tbody tr th:only-of-type {\n",
       "        vertical-align: middle;\n",
       "    }\n",
       "\n",
       "    .dataframe tbody tr th {\n",
       "        vertical-align: top;\n",
       "    }\n",
       "\n",
       "    .dataframe thead th {\n",
       "        text-align: right;\n",
       "    }\n",
       "</style>\n",
       "<table border=\"1\" class=\"dataframe\">\n",
       "  <thead>\n",
       "    <tr style=\"text-align: right;\">\n",
       "      <th></th>\n",
       "      <th>Common Neighbors</th>\n",
       "      <th>Jaccard Coefficient</th>\n",
       "      <th>ResourceWarningurce Allocation</th>\n",
       "      <th>Adamic-Adar Index</th>\n",
       "      <th>Preferential Attachment</th>\n",
       "    </tr>\n",
       "  </thead>\n",
       "  <tbody>\n",
       "    <tr>\n",
       "      <th>count</th>\n",
       "      <td>293067.000000</td>\n",
       "      <td>293067.000000</td>\n",
       "      <td>293067.000000</td>\n",
       "      <td>293067.000000</td>\n",
       "      <td>293067.000000</td>\n",
       "    </tr>\n",
       "    <tr>\n",
       "      <th>mean</th>\n",
       "      <td>1.769438</td>\n",
       "      <td>0.019903</td>\n",
       "      <td>0.020300</td>\n",
       "      <td>0.384772</td>\n",
       "      <td>948.750488</td>\n",
       "    </tr>\n",
       "    <tr>\n",
       "      <th>std</th>\n",
       "      <td>4.009771</td>\n",
       "      <td>0.037289</td>\n",
       "      <td>0.053481</td>\n",
       "      <td>0.890036</td>\n",
       "      <td>1735.908569</td>\n",
       "    </tr>\n",
       "    <tr>\n",
       "      <th>min</th>\n",
       "      <td>0.000000</td>\n",
       "      <td>0.000000</td>\n",
       "      <td>0.000000</td>\n",
       "      <td>0.000000</td>\n",
       "      <td>1.000000</td>\n",
       "    </tr>\n",
       "    <tr>\n",
       "      <th>50%</th>\n",
       "      <td>0.000000</td>\n",
       "      <td>0.000000</td>\n",
       "      <td>0.000000</td>\n",
       "      <td>0.000000</td>\n",
       "      <td>304.000000</td>\n",
       "    </tr>\n",
       "    <tr>\n",
       "      <th>max</th>\n",
       "      <td>161.000000</td>\n",
       "      <td>1.000000</td>\n",
       "      <td>3.354600</td>\n",
       "      <td>40.304028</td>\n",
       "      <td>75646.000000</td>\n",
       "    </tr>\n",
       "  </tbody>\n",
       "</table>\n",
       "</div>"
      ],
      "text/plain": [
       "       Common Neighbors  Jaccard Coefficient  ResourceWarningurce Allocation  \\\n",
       "count     293067.000000        293067.000000                   293067.000000   \n",
       "mean           1.769438             0.019903                        0.020300   \n",
       "std            4.009771             0.037289                        0.053481   \n",
       "min            0.000000             0.000000                        0.000000   \n",
       "50%            0.000000             0.000000                        0.000000   \n",
       "max          161.000000             1.000000                        3.354600   \n",
       "\n",
       "       Adamic-Adar Index  Preferential Attachment  \n",
       "count      293067.000000            293067.000000  \n",
       "mean            0.384772               948.750488  \n",
       "std             0.890036              1735.908569  \n",
       "min             0.000000                 1.000000  \n",
       "50%             0.000000               304.000000  \n",
       "max            40.304028             75646.000000  "
      ]
     },
     "execution_count": 39,
     "metadata": {},
     "output_type": "execute_result"
    }
   ],
   "source": [
    "df_train[num].describe(percentiles=[0.5])"
   ]
  },
  {
   "cell_type": "code",
   "execution_count": 40,
   "metadata": {},
   "outputs": [
    {
     "data": {
      "image/png": "[encoded data removed]",
      "text/plain": [
       "<matplotlib.figure.Figure at 0x7f504234bba8>"
      ]
     },
     "metadata": {},
     "output_type": "display_data"
    }
   ],
   "source": [
    "helper.show_numerical(df_train, kde=True)"
   ]
  },
  {
   "cell_type": "code",
   "execution_count": 41,
   "metadata": {},
   "outputs": [
    {
     "data": {
      "image/png": "[encoded data removed]",
      "text/plain": [
       "<matplotlib.figure.Figure at 0x7f4fe3f72710>"
      ]
     },
     "metadata": {},
     "output_type": "display_data"
    }
   ],
   "source": [
    "helper.show_target_vs_numerical(df_train, target, jitter=0.2, fit_reg=False, point_size=10)"
   ]
  },
  {
   "cell_type": "code",
   "execution_count": 42,
   "metadata": {},
   "outputs": [
    {
     "data": {
      "image/png": "[encoded data removed]",
      "text/plain": [
       "<matplotlib.figure.Figure at 0x7f4fe3915080>"
      ]
     },
     "metadata": {},
     "output_type": "display_data"
    }
   ],
   "source": [
    "helper.show_correlation(df_train, target)"
   ]
  },
  {
   "cell_type": "markdown",
   "metadata": {},
   "source": [
    "#### Missing values"
   ]
  },
  {
   "cell_type": "code",
   "execution_count": 43,
   "metadata": {},
   "outputs": [
    {
     "name": "stdout",
     "output_type": "stream",
     "text": [
      "No missing values found\n"
     ]
    }
   ],
   "source": [
    "high_missing = helper.missing(df_train, limit=0.4)"
   ]
  },
  {
   "cell_type": "code",
   "execution_count": 44,
   "metadata": {},
   "outputs": [],
   "source": [
    "copy_df = df_train.copy()  # checkpoint\n",
    "del(df_train)"
   ]
  },
  {
   "cell_type": "markdown",
   "metadata": {},
   "source": [
    "## B2. Neural Network"
   ]
  },
  {
   "cell_type": "code",
   "execution_count": 45,
   "metadata": {},
   "outputs": [],
   "source": [
    "df_train = copy_df.copy() # Restore checkpoint\n",
    "data = df_train.copy() \n",
    "# from now on use data instead of df"
   ]
  },
  {
   "cell_type": "markdown",
   "metadata": {},
   "source": [
    "### Prepare data for Neural Network"
   ]
  },
  {
   "cell_type": "markdown",
   "metadata": {},
   "source": [
    "#### Scale numerical variables"
   ]
  },
  {
   "cell_type": "code",
   "execution_count": 46,
   "metadata": {},
   "outputs": [],
   "source": [
    "data, scale_param = helper.scale(data)\n",
    "\n",
    "model_features = [f for f in data if f not in target] "
   ]
  },
  {
   "cell_type": "markdown",
   "metadata": {},
   "source": [
    "#### Split the data into training and validation sets"
   ]
  },
  {
   "cell_type": "code",
   "execution_count": 47,
   "metadata": {},
   "outputs": [],
   "source": [
    "def validation_split(data, val_size=0.15):\n",
    "      \n",
    "    train, val = train_test_split(\n",
    "        data, test_size=val_size, random_state=0, shuffle=True, stratify=data[target])\n",
    "\n",
    "    # Separate the data into features and target (x=features, y=target)\n",
    "    x_train, y_train = train.drop(target, axis=1).values, train[target].values\n",
    "    x_val, y_val = val.drop(target, axis=1).values, val[target].values\n",
    "\n",
    "    return x_train, y_train, x_val, y_val\n",
    "\n",
    "\n",
    "x_train, y_train, x_val, y_val = validation_split(data, val_size=0.2)"
   ]
  },
  {
   "cell_type": "markdown",
   "metadata": {},
   "source": [
    "#### One-hot encode the output"
   ]
  },
  {
   "cell_type": "code",
   "execution_count": 48,
   "metadata": {},
   "outputs": [],
   "source": [
    "import keras\n",
    "\n",
    "def one_hot_output(y_train, y_val):\n",
    "    num_classes = len(np.unique(y_train))\n",
    "    y_train = keras.utils.to_categorical(y_train, num_classes)\n",
    "    y_val = keras.utils.to_categorical(y_val, num_classes)\n",
    "    return y_train, y_val\n",
    "\n",
    "\n",
    "y_train, y_val = one_hot_output(y_train, y_val)"
   ]
  },
  {
   "cell_type": "code",
   "execution_count": 49,
   "metadata": {},
   "outputs": [
    {
     "name": "stdout",
     "output_type": "stream",
     "text": [
      "train size \t X:(234453, 5) \t Y:(234453, 2)\n",
      "val size \t X:(58614, 5) \t Y:(58614, 2)\n"
     ]
    }
   ],
   "source": [
    "print(\"train size \\t X:{} \\t Y:{}\".format(x_train.shape, y_train.shape))\n",
    "print(\"val size \\t X:{} \\t Y:{}\".format(x_val.shape, y_val.shape))"
   ]
  },
  {
   "cell_type": "markdown",
   "metadata": {},
   "source": [
    "### Build the Neural Network"
   ]
  },
  {
   "cell_type": "code",
   "execution_count": 50,
   "metadata": {},
   "outputs": [],
   "source": [
    "def build_nn_binary_classification(input_size, output_size, summary=False):\n",
    "\n",
    "    input_nodes = input_size\n",
    "\n",
    "    model = Sequential()\n",
    "    \n",
    "    model.add(\n",
    "        Dense(input_nodes, input_dim=input_size, kernel_regularizer=regularizers.l2(0.0001)))\n",
    "    \n",
    "    model.add(\n",
    "        Dense(output_size, activation='softmax', kernel_regularizer=regularizers.l2(0.0001)))\n",
    "\n",
    "    model.compile(loss='binary_crossentropy', optimizer='adam', metrics=['accuracy'])\n",
    "\n",
    "    if summary:\n",
    "        model.summary()\n",
    "\n",
    "    return model\n",
    "\n",
    "\n",
    "build_nn = build_nn_binary_classification"
   ]
  },
  {
   "cell_type": "markdown",
   "metadata": {},
   "source": [
    "### Train the Neural Network"
   ]
  },
  {
   "cell_type": "code",
   "execution_count": 51,
   "metadata": {},
   "outputs": [
    {
     "name": "stdout",
     "output_type": "stream",
     "text": [
      "_________________________________________________________________\n",
      "Layer (type)                 Output Shape              Param #   \n",
      "=================================================================\n",
      "dense_3 (Dense)              (None, 5)                 30        \n",
      "_________________________________________________________________\n",
      "dense_4 (Dense)              (None, 2)                 12        \n",
      "=================================================================\n",
      "Total params: 42\n",
      "Trainable params: 42\n",
      "Non-trainable params: 0\n",
      "_________________________________________________________________\n",
      "Training ....\n",
      "time: \t 6.0 s\n"
     ]
    },
    {
     "data": {
      "image/png": "[encoded data removed]",
      "text/plain": [
       "<matplotlib.figure.Figure at 0x7f4fe3c96940>"
      ]
     },
     "metadata": {},
     "output_type": "display_data"
    },
    {
     "name": "stdout",
     "output_type": "stream",
     "text": [
      "\n",
      "Training loss:  \t0.1351\n",
      "Validation loss: \t0.1344\n",
      "\n",
      "Training accuracy: \t0.958\n",
      "Validation accuracy:\t0.959\n"
     ]
    }
   ],
   "source": [
    "def train_nn(model, x_train, y_train, validation_data=None, path=False, show=True):\n",
    "    \"\"\" \n",
    "    Train the neural network model. If no validation_data is provided, a split for validation\n",
    "    will be used\n",
    "    \"\"\"\n",
    "    \n",
    "    if show:\n",
    "        print('Training ....')\n",
    "    \n",
    "    callbacks = [keras.callbacks.EarlyStopping(monitor='val_loss', patience=0, verbose=0)]\n",
    "    t0 = time()\n",
    "\n",
    "    history = model.fit(\n",
    "        x_train,\n",
    "        y_train,\n",
    "        epochs=20,\n",
    "        batch_size=1024,\n",
    "        verbose=0,\n",
    "        validation_data = validation_data,\n",
    "        callbacks=callbacks)\n",
    "\n",
    "    if show:\n",
    "        print(\"time: \\t {:.1f} s\".format(time() - t0))\n",
    "        helper.show_training(history)\n",
    "\n",
    "    if path:\n",
    "        model.save(path)\n",
    "        print(\"\\nModel saved at\", path)\n",
    "    \n",
    "    return history\n",
    "        \n",
    "\n",
    "model = None\n",
    "model = build_nn_binary_classification(x_train.shape[1], y_train.shape[1], summary=True)\n",
    "train_nn(model, x_train, y_train, validation_data=(x_val, y_val));"
   ]
  },
  {
   "cell_type": "markdown",
   "metadata": {},
   "source": [
    "### Evaluate the Model"
   ]
  },
  {
   "cell_type": "code",
   "execution_count": 52,
   "metadata": {},
   "outputs": [
    {
     "name": "stdout",
     "output_type": "stream",
     "text": [
      "numerical features:   5\n",
      "categorical features: 0\n",
      "target 'Future Connection': category\n"
     ]
    }
   ],
   "source": [
    "data_test = helper.classify_data(df_test, target, categorical=cat)\n",
    "data_test, _ = helper.scale(data_test, scale_param)\n",
    "data_test = data_test[model_features+target] # sort columns to match training features order\n",
    "x_test, y_test = data_test.drop(target, axis=1).values, data_test[target].values\n",
    "y_test = keras.utils.to_categorical(y_test, 2)"
   ]
  },
  {
   "cell_type": "code",
   "execution_count": 53,
   "metadata": {
    "scrolled": true
   },
   "outputs": [
    {
     "name": "stdout",
     "output_type": "stream",
     "text": [
      "\n",
      "Neural Network Accuracy: 0.958\n",
      "\n",
      "Neural Network ROC AUC:  0.909 \n",
      "\n"
     ]
    }
   ],
   "source": [
    "from sklearn.metrics import roc_auc_score\n",
    "\n",
    "score = model.evaluate(x_test, y_test, verbose=0)\n",
    "print(\"\\nNeural Network Accuracy: {:.3f}\\n\".format(score[1]))\n",
    "\n",
    "y_pred = model.predict(x_test)\n",
    "\n",
    "print('Neural Network ROC AUC:  {:.3f} \\n'.format(roc_auc_score(y_test, y_pred)))"
   ]
  },
  {
   "cell_type": "markdown",
   "metadata": {},
   "source": [
    "## B3. Compare with non-neural network models"
   ]
  },
  {
   "cell_type": "code",
   "execution_count": 54,
   "metadata": {},
   "outputs": [],
   "source": [
    "y_train = y_train[:,1]\n",
    "y_test = y_test[:,1]"
   ]
  },
  {
   "cell_type": "code",
   "execution_count": 55,
   "metadata": {
    "scrolled": true
   },
   "outputs": [],
   "source": [
    "# from sklearn.ensemble import RandomForestClassifier\n",
    "# clf=None\n",
    "# clf = RandomForestClassifier()\n",
    "# clf.fit(x_train, np.ravel(y_train))\n",
    "# print(\"\\nRandom Forest Accuracy: {:.3f}\\n\".format(clf.score(x_train, y_train)))\n",
    "# y_pred = clf.predict_proba(x_test)\n",
    "# print('Random Forest ROC_AUC: {:.3f}'.format(roc_auc_score(y_test, y_pred[:,1])))"
   ]
  },
  {
   "cell_type": "code",
   "execution_count": 56,
   "metadata": {},
   "outputs": [
    {
     "name": "stdout",
     "output_type": "stream",
     "text": [
      "\n",
      " Naive Bayes \n",
      " --------------------\n",
      "Test Accuracy:  \t 0.931\n",
      "ROC_AUC: \t\t 0.906\n",
      "Training Time:  \t 30.9 ms\n",
      "\n",
      " Decision Tree \n",
      " --------------------\n",
      "Test Accuracy:  \t 0.942\n",
      "ROC_AUC: \t\t 0.717\n",
      "Training Time:  \t 890.9 ms\n",
      "\n",
      " KNeighbors \n",
      " --------------------\n",
      "Test Accuracy:  \t 0.959\n",
      "ROC_AUC: \t\t 0.881\n",
      "Training Time:  \t 30358.5 ms\n",
      "\n",
      " AdaBoost \n",
      " --------------------\n",
      "Test Accuracy:  \t 0.959\n",
      "ROC_AUC: \t\t 0.907\n",
      "Training Time:  \t 4761.4 ms\n",
      "\n",
      " Random Forest \n",
      " --------------------\n",
      "Test Accuracy:  \t 0.958\n",
      "ROC_AUC: \t\t 0.892\n",
      "Training Time:  \t 29576.7 ms\n"
     ]
    }
   ],
   "source": [
    "helper.ml_classification(x_train, y_train, x_test, y_test, cross_validation=False)"
   ]
  }
 ],
 "metadata": {
  "kernelspec": {
   "display_name": "Python [default]",
   "language": "python",
   "name": "python3"
  },
  "language_info": {
   "codemirror_mode": {
    "name": "ipython",
    "version": 3
   },
   "file_extension": ".py",
   "mimetype": "text/x-python",
   "name": "python",
   "nbconvert_exporter": "python",
   "pygments_lexer": "ipython3",
   "version": "3.6.3"
  }
 },
 "nbformat": 4,
 "nbformat_minor": 2
}
